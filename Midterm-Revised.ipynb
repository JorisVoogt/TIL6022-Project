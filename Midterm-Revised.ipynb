{
 "cells": [
  {
   "cell_type": "markdown",
   "id": "6ee42edf",
   "metadata": {},
   "source": [
    "# TIL6022 - Final Assignment\n",
    "Members: Joris Voogt, Xiaoyu Mao, Yuwen Peng  \n",
    "Student numbers: 4295978, 5947642, 5914507"
   ]
  },
  {
   "cell_type": "markdown",
   "id": "4f099438",
   "metadata": {},
   "source": [
    "# Research Objective\n",
    "\n",
    "*Requires data modeling and quantitative research in Transport, Infrastructure & Logistics*\n",
    "\n",
    "- RQ: GDP is used to represent the economic development of countries, on the basis of which the changes in the scale of road and rail passenger transport in European countries in recent years and its impact on road traffic safety are analysed.\n",
    "\n",
    "This research will focus on passenger transport trends and safety issues in Europe. We will analyse the relationship between transport mode choice and the economy in different countries.\n",
    "The GDP is used to represent the economic development of the country, on the basis of which we will analyse the changes in the scale of road and rail passenger transport in European countries in recent years. By analyzing the volume of rail passenger and road passenger transport ,we can find the proportion of both in the overall volume of transport. \n",
    "Then we can discuss whether there are countries who are highly dependent on road transport, and then we select the countries who have a large proportion of road transport to analyze the relationship between GDP and traffic safety.\n",
    "\n",
    "Time scale: Data is a bit limited for passenger transport, so most likely in the range of 2016-2021.\n",
    "Geographical boundary: Countries in Europe. Not all of them have data available in the datasets, so countries with most data available will be analysed.\n",
    " \n",
    "A short list of how we plan to do this analysis:\n",
    "\n",
    "1. The volume of passenger transport relative to GDP can give the relative scale of passenger transport in the national economy. Visualise it by creating an interactive map of Europe with different colors for each country based on the data, representing levels of the volume of passenger transport relative to GDP for different transport modes.\n",
    "\n",
    "2.  Analyse the changes in the scale of road and rail passenger transport in European countries in recent years. By analysing the volume of rail passenger transport and road passenger transport in each country and drawing a scale diagram, we can find out the proportion of the two in the overall volume of transport; and drawing a line graph can show the changes in recent years.\n",
    "\n",
    "3.  Further explore the impact of transport investment on transport safety. Discuss whether there are countries in 2 that are highly dependent on road transport, and then select countries with a large share of road transport to analyse the relationship between GDP and traffic safety.\n",
    "\n",
    "\n",
    "4. Look for other possible factors that could be related to traffic mortality rate. Such as proportions of motorways, GDP per capita, alcohol consumption. This data is likely leading to new relationships and possibly correlates. Therefore, a correlation matrix is used, measuring strength and quickly giving an overview of all the numerical correlations.\n",
    "\n",
    "5. To more scientifically evaluate the relationship between traffic mortality rate and other factors, it would be better to establish a regression model. The result obtained will tell us whether there is a positive or negative relationship between them. (if we have enough time) \n",
    "\n",
    "6. Summarize and propose ideas about transport patterns in the future and strategize about road safety."
   ]
  },
  {
   "cell_type": "code",
   "execution_count": 1,
   "id": "ca6d7256",
   "metadata": {
    "ExecuteTime": {
     "end_time": "2023-11-09T15:35:58.084613Z",
     "start_time": "2023-11-09T15:35:57.399612300Z"
    }
   },
   "outputs": [],
   "source": [
    "# import libraries\n",
    "import pandas as pd\n",
    "import numpy as np\n",
    "import math\n",
    "import matplotlib.pyplot as plt\n",
    "import plotly.express as px\n",
    "import seaborn as sns"
   ]
  },
  {
   "cell_type": "markdown",
   "id": "3a0ff46c",
   "metadata": {},
   "source": [
    "# Part I - Data Import\n",
    "First, we are going to create new data frame, clean the useless columns and rows from the original data, then rename the data columns and rows to be more clearly for the following data:\n",
    " - Volume of passenger transport relative to GDP\n",
    " - Rail transport of passengers\n",
    " - Road transport of passengers\n",
    " - Road Infrustructure Maintenance Spending\n",
    " - Road injury crashes, fatalities and injuries\n",
    " - Road fatalities per one hundrend thousand inhabitants\n",
    " - GDP per capita\n",
    "\n",
    "I'm starting off with the volume of passenger transport relative to GDP.\n",
    "\n",
    "The indicator about this data is defined as the ratio between the wolume of inland passenger transport measured in passenger-kilometers and GDP.It includes transport on national territory by passenger car, bus, coach and train."
   ]
  },
  {
   "cell_type": "code",
   "execution_count": 2,
   "id": "fbf9bc8e",
   "metadata": {
    "ExecuteTime": {
     "end_time": "2023-11-09T15:36:04.156497100Z",
     "start_time": "2023-11-09T15:36:04.094123800Z"
    }
   },
   "outputs": [
    {
     "data": {
      "text/plain": "                                            2010   2011   2012   2013   2014  \\\nGEO                                                                            \nEuropean Union - 27 countries (from 2020)  103.7  102.2  100.9  100.8  100.1   \nBelgium                                    114.1  110.5    114  111.5  103.7   \nBulgaria                                    91.5   91.2   91.9   94.4   99.1   \nCzechia                                    101.2    100   99.6  100.7  103.1   \nDenmark                                     98.7   99.5   98.7   97.7   98.1   \n\n                                          2015   2016  2017   2018   2019  \\\nGEO                                                                         \nEuropean Union - 27 countries (from 2020)  100    100  98.3   96.6   95.4   \nBelgium                                    100   97.4  96.6   95.5   93.8   \nBulgaria                                   100   95.9  93.9   89.7   88.7   \nCzechia                                    100  100.7  99.2  100.9  101.5   \nDenmark                                    100   99.8  98.6   97.2   98.2   \n\n                                           2020  2021  \nGEO                                                    \nEuropean Union - 27 countries (from 2020)  79.2  80.2  \nBelgium                                    80.9  79.9  \nBulgaria                                   75.4  72.3  \nCzechia                                    83.8  99.2  \nDenmark                                    88.4  85.9  ",
      "text/html": "<div>\n<style scoped>\n    .dataframe tbody tr th:only-of-type {\n        vertical-align: middle;\n    }\n\n    .dataframe tbody tr th {\n        vertical-align: top;\n    }\n\n    .dataframe thead th {\n        text-align: right;\n    }\n</style>\n<table border=\"1\" class=\"dataframe\">\n  <thead>\n    <tr style=\"text-align: right;\">\n      <th></th>\n      <th>2010</th>\n      <th>2011</th>\n      <th>2012</th>\n      <th>2013</th>\n      <th>2014</th>\n      <th>2015</th>\n      <th>2016</th>\n      <th>2017</th>\n      <th>2018</th>\n      <th>2019</th>\n      <th>2020</th>\n      <th>2021</th>\n    </tr>\n    <tr>\n      <th>GEO</th>\n      <th></th>\n      <th></th>\n      <th></th>\n      <th></th>\n      <th></th>\n      <th></th>\n      <th></th>\n      <th></th>\n      <th></th>\n      <th></th>\n      <th></th>\n      <th></th>\n    </tr>\n  </thead>\n  <tbody>\n    <tr>\n      <th>European Union - 27 countries (from 2020)</th>\n      <td>103.7</td>\n      <td>102.2</td>\n      <td>100.9</td>\n      <td>100.8</td>\n      <td>100.1</td>\n      <td>100</td>\n      <td>100</td>\n      <td>98.3</td>\n      <td>96.6</td>\n      <td>95.4</td>\n      <td>79.2</td>\n      <td>80.2</td>\n    </tr>\n    <tr>\n      <th>Belgium</th>\n      <td>114.1</td>\n      <td>110.5</td>\n      <td>114</td>\n      <td>111.5</td>\n      <td>103.7</td>\n      <td>100</td>\n      <td>97.4</td>\n      <td>96.6</td>\n      <td>95.5</td>\n      <td>93.8</td>\n      <td>80.9</td>\n      <td>79.9</td>\n    </tr>\n    <tr>\n      <th>Bulgaria</th>\n      <td>91.5</td>\n      <td>91.2</td>\n      <td>91.9</td>\n      <td>94.4</td>\n      <td>99.1</td>\n      <td>100</td>\n      <td>95.9</td>\n      <td>93.9</td>\n      <td>89.7</td>\n      <td>88.7</td>\n      <td>75.4</td>\n      <td>72.3</td>\n    </tr>\n    <tr>\n      <th>Czechia</th>\n      <td>101.2</td>\n      <td>100</td>\n      <td>99.6</td>\n      <td>100.7</td>\n      <td>103.1</td>\n      <td>100</td>\n      <td>100.7</td>\n      <td>99.2</td>\n      <td>100.9</td>\n      <td>101.5</td>\n      <td>83.8</td>\n      <td>99.2</td>\n    </tr>\n    <tr>\n      <th>Denmark</th>\n      <td>98.7</td>\n      <td>99.5</td>\n      <td>98.7</td>\n      <td>97.7</td>\n      <td>98.1</td>\n      <td>100</td>\n      <td>99.8</td>\n      <td>98.6</td>\n      <td>97.2</td>\n      <td>98.2</td>\n      <td>88.4</td>\n      <td>85.9</td>\n    </tr>\n  </tbody>\n</table>\n</div>"
     },
     "execution_count": 2,
     "metadata": {},
     "output_type": "execute_result"
    }
   ],
   "source": [
    "# Import Volume of passenger transport relative to GDP: Read the csv file as a dataframe\n",
    "file_path_pg_GDP = 'data/pg_GDP.csv'\n",
    "df_pg_GDP = pd.read_csv(file_path_pg_GDP)\n",
    "\n",
    "# Rename columns and rows\n",
    "df_pg_GDP.columns = df_pg_GDP.iloc[6].tolist()\n",
    "df_pg_GDP = df_pg_GDP.rename(columns={df_pg_GDP.columns[0]: 'GEO'})\n",
    "\n",
    "# Clean the data by dropping columns of the dataframe that will not be used\n",
    "# These rows are used to indicate the data, and columns are used to explain the accuracy of the data\n",
    "df_pg_GDP = df_pg_GDP.iloc[8:48]\n",
    "columns_to_remove = [2,4,6,8,10,12,14,16,18,20,22,24]\n",
    "df_pg_GDP = df_pg_GDP.drop(df_pg_GDP.columns[columns_to_remove], axis=1 )\n",
    "columns_to_remove = [7]\n",
    "df_pg_GDP = df_pg_GDP.drop(df_pg_GDP.columns[columns_to_remove], axis=1 )\n",
    "\n",
    "# Delete the rows without data and use Euro area or country as the row name\n",
    "df_pg_GDP = df_pg_GDP.set_index('GEO')\n",
    "df_pg_GDP = df_pg_GDP[~(df_pg_GDP == ':').all(axis=1)]\n",
    "\n",
    "df_pg_GDP.head() # disaplay the first 5 rows of dataframe"
   ]
  },
  {
   "cell_type": "code",
   "execution_count": 22,
   "id": "b7c30838",
   "metadata": {
    "ExecuteTime": {
     "end_time": "2023-11-09T16:00:31.081935500Z",
     "start_time": "2023-11-09T16:00:31.033782100Z"
    }
   },
   "outputs": [
    {
     "data": {
      "text/plain": "                                         GEO    2011   2012   2013   2014  \\\n0  European Union - 27 countries (from 2020)       :      :      :      :   \n1       Euro area – 20 countries (from 2023)       :      :      :      :   \n2      Euro area - 19 countries  (2015-2022)       :      :      :      :   \n3                                    Belgium  10,498      :      :      :   \n4                                   Bulgaria   2,059  1,870  1,821  1,698   \n\n      2015     2016     2017     2018     2019     2020     2021   2022  \n0  375,713  384,335  394,142  400,427  413,923  223,668  260,715      :  \n1        :        :        :        :        :        :        :      :  \n2        :        :        :        :        :        :        :      :  \n3        :        :        :        :        :        :        :      :  \n4    1,549    1,455    1,434    1,476    1,520    1,118    1,203  1,600  ",
      "text/html": "<div>\n<style scoped>\n    .dataframe tbody tr th:only-of-type {\n        vertical-align: middle;\n    }\n\n    .dataframe tbody tr th {\n        vertical-align: top;\n    }\n\n    .dataframe thead th {\n        text-align: right;\n    }\n</style>\n<table border=\"1\" class=\"dataframe\">\n  <thead>\n    <tr style=\"text-align: right;\">\n      <th></th>\n      <th>GEO</th>\n      <th>2011</th>\n      <th>2012</th>\n      <th>2013</th>\n      <th>2014</th>\n      <th>2015</th>\n      <th>2016</th>\n      <th>2017</th>\n      <th>2018</th>\n      <th>2019</th>\n      <th>2020</th>\n      <th>2021</th>\n      <th>2022</th>\n    </tr>\n  </thead>\n  <tbody>\n    <tr>\n      <th>0</th>\n      <td>European Union - 27 countries (from 2020)</td>\n      <td>:</td>\n      <td>:</td>\n      <td>:</td>\n      <td>:</td>\n      <td>375,713</td>\n      <td>384,335</td>\n      <td>394,142</td>\n      <td>400,427</td>\n      <td>413,923</td>\n      <td>223,668</td>\n      <td>260,715</td>\n      <td>:</td>\n    </tr>\n    <tr>\n      <th>1</th>\n      <td>Euro area – 20 countries (from 2023)</td>\n      <td>:</td>\n      <td>:</td>\n      <td>:</td>\n      <td>:</td>\n      <td>:</td>\n      <td>:</td>\n      <td>:</td>\n      <td>:</td>\n      <td>:</td>\n      <td>:</td>\n      <td>:</td>\n      <td>:</td>\n    </tr>\n    <tr>\n      <th>2</th>\n      <td>Euro area - 19 countries  (2015-2022)</td>\n      <td>:</td>\n      <td>:</td>\n      <td>:</td>\n      <td>:</td>\n      <td>:</td>\n      <td>:</td>\n      <td>:</td>\n      <td>:</td>\n      <td>:</td>\n      <td>:</td>\n      <td>:</td>\n      <td>:</td>\n    </tr>\n    <tr>\n      <th>3</th>\n      <td>Belgium</td>\n      <td>10,498</td>\n      <td>:</td>\n      <td>:</td>\n      <td>:</td>\n      <td>:</td>\n      <td>:</td>\n      <td>:</td>\n      <td>:</td>\n      <td>:</td>\n      <td>:</td>\n      <td>:</td>\n      <td>:</td>\n    </tr>\n    <tr>\n      <th>4</th>\n      <td>Bulgaria</td>\n      <td>2,059</td>\n      <td>1,870</td>\n      <td>1,821</td>\n      <td>1,698</td>\n      <td>1,549</td>\n      <td>1,455</td>\n      <td>1,434</td>\n      <td>1,476</td>\n      <td>1,520</td>\n      <td>1,118</td>\n      <td>1,203</td>\n      <td>1,600</td>\n    </tr>\n  </tbody>\n</table>\n</div>"
     },
     "execution_count": 22,
     "metadata": {},
     "output_type": "execute_result"
    }
   ],
   "source": [
    "# Import Rail transport of passengers: Read the csv file as a dataframe\n",
    "file_path_rail_pg = 'data/rail_pg.csv'\n",
    "df_rail_pg = pd.read_csv(file_path_rail_pg)\n",
    "\n",
    "# Rename columns and rows\n",
    "df_rail_pg.columns = df_rail_pg.iloc[7].tolist()\n",
    "df_rail_pg = df_rail_pg.rename(columns={df_rail_pg.columns[0]: 'GEO'})\n",
    "\n",
    "# Clean the data by dropping columns of the dataframe that will not be used\n",
    "df_rail_pg = df_rail_pg.iloc[9:49]\n",
    "columns_to_remove = [2,4,6,8,10,12,14,16,18,20,22,24]\n",
    "df_rail_pg = df_rail_pg.drop( df_rail_pg.columns[columns_to_remove], axis=1 )\n",
    "\n",
    "# Delete the rows without data and reset the index\n",
    "df_rail_pg = df_rail_pg[~(df_rail_pg == ':').all(axis=1)]\n",
    "df_rail_pg = df_rail_pg.reset_index(drop = True)\n",
    "\n",
    "df_rail_pg.head()"
   ]
  },
  {
   "cell_type": "code",
   "execution_count": 25,
   "id": "2bf151c4",
   "metadata": {
    "ExecuteTime": {
     "end_time": "2023-11-09T16:03:49.376208700Z",
     "start_time": "2023-11-09T16:03:49.340033400Z"
    }
   },
   "outputs": [
    {
     "data": {
      "text/plain": "        GEO        2013        2014        2015        2016    2017  \\\n0   Belgium      15,452      15,215      14,201      13,306       :   \n1  Bulgaria  10,316.800  11,447.100  12,257.100  12,210.200  10,553   \n2   Czechia      14,703  15,750.800  15,406.910  15,841.300  16,846   \n3   Denmark           :           :           :           :       :   \n4   Germany      60,479      62,227      65,075      64,073  62,481   \n\n        2018        2019       2020       2021  \n0          :           :          :          :  \n1  9,886.500  10,835.700  5,037.600  4,949.700  \n2     17,265      17,056  8,593.400  8,351.400  \n3          :           :          :          :  \n4     62,520      61,186     34,025     34,259  ",
      "text/html": "<div>\n<style scoped>\n    .dataframe tbody tr th:only-of-type {\n        vertical-align: middle;\n    }\n\n    .dataframe tbody tr th {\n        vertical-align: top;\n    }\n\n    .dataframe thead th {\n        text-align: right;\n    }\n</style>\n<table border=\"1\" class=\"dataframe\">\n  <thead>\n    <tr style=\"text-align: right;\">\n      <th></th>\n      <th>GEO</th>\n      <th>2013</th>\n      <th>2014</th>\n      <th>2015</th>\n      <th>2016</th>\n      <th>2017</th>\n      <th>2018</th>\n      <th>2019</th>\n      <th>2020</th>\n      <th>2021</th>\n    </tr>\n  </thead>\n  <tbody>\n    <tr>\n      <th>0</th>\n      <td>Belgium</td>\n      <td>15,452</td>\n      <td>15,215</td>\n      <td>14,201</td>\n      <td>13,306</td>\n      <td>:</td>\n      <td>:</td>\n      <td>:</td>\n      <td>:</td>\n      <td>:</td>\n    </tr>\n    <tr>\n      <th>1</th>\n      <td>Bulgaria</td>\n      <td>10,316.800</td>\n      <td>11,447.100</td>\n      <td>12,257.100</td>\n      <td>12,210.200</td>\n      <td>10,553</td>\n      <td>9,886.500</td>\n      <td>10,835.700</td>\n      <td>5,037.600</td>\n      <td>4,949.700</td>\n    </tr>\n    <tr>\n      <th>2</th>\n      <td>Czechia</td>\n      <td>14,703</td>\n      <td>15,750.800</td>\n      <td>15,406.910</td>\n      <td>15,841.300</td>\n      <td>16,846</td>\n      <td>17,265</td>\n      <td>17,056</td>\n      <td>8,593.400</td>\n      <td>8,351.400</td>\n    </tr>\n    <tr>\n      <th>3</th>\n      <td>Denmark</td>\n      <td>:</td>\n      <td>:</td>\n      <td>:</td>\n      <td>:</td>\n      <td>:</td>\n      <td>:</td>\n      <td>:</td>\n      <td>:</td>\n      <td>:</td>\n    </tr>\n    <tr>\n      <th>4</th>\n      <td>Germany</td>\n      <td>60,479</td>\n      <td>62,227</td>\n      <td>65,075</td>\n      <td>64,073</td>\n      <td>62,481</td>\n      <td>62,520</td>\n      <td>61,186</td>\n      <td>34,025</td>\n      <td>34,259</td>\n    </tr>\n  </tbody>\n</table>\n</div>"
     },
     "execution_count": 25,
     "metadata": {},
     "output_type": "execute_result"
    }
   ],
   "source": [
    "# Import Road transport of passengers: Read the csv file as a dataframe\n",
    "file_path_road_pg = 'data/road_pg.csv'\n",
    "df_road_pg = pd.read_csv(file_path_road_pg)\n",
    "\n",
    "# Rename columns and rows\n",
    "df_road_pg.columns = df_road_pg.iloc[7].tolist()\n",
    "df_road_pg = df_road_pg.rename(columns={df_road_pg.columns[0]: 'GEO'})\n",
    "\n",
    "# Clean the data by dropping columns of the dataframe that will not be used\n",
    "# After observation, it was found that they are all sequence numbers with double digits\n",
    "# Remove double numbered columns starting from the fourth column with index 3\n",
    "df_road_pg = df_road_pg.iloc[9:37]\n",
    "columns_to_keep = df_road_pg.columns[:1].to_list()\n",
    "columns_to_remove = df_road_pg.columns[1::2]\n",
    "df_road_pg = df_road_pg[columns_to_keep + columns_to_remove.to_list()]\n",
    "\n",
    "# Delete the rows without data and reset the index\n",
    "df_road_pg = df_road_pg[~(df_road_pg == ':').all(axis=1)]\n",
    "df_road_pg = df_road_pg.reset_index(drop = True)\n",
    "\n",
    "df_road_pg.head()"
   ]
  },
  {
   "cell_type": "code",
   "execution_count": 5,
   "id": "3663a685",
   "metadata": {
    "ExecuteTime": {
     "end_time": "2023-11-09T15:36:25.246864100Z",
     "start_time": "2023-11-09T15:36:25.180909600Z"
    }
   },
   "outputs": [
    {
     "data": {
      "text/plain": "          GEO           2000           2001           2002           2003  \\\n0     Albania    108,347,272    107,567,894     64,458,009     60,782,802   \n1     Armenia             ..      1,371,881        830,439        418,066   \n2   Australia  3,985,384,644  3,232,914,774  3,174,141,910  3,809,467,524   \n3     Austria    475,000,000    640,000,000    532,000,000    650,000,000   \n4  Azerbaijan     30,255,355     47,961,631     46,789,989     34,212,659   \n\n            2004           2005           2006           2007           2008  \\\n0     91,078,262     68,193,896    175,223,508    253,261,449    499,989,410   \n1      3,923,281     19,854,465     23,142,419     29,057,065     50,248,397   \n2  4,673,112,063  6,047,684,590  6,696,458,225  7,813,640,359  7,904,953,310   \n3    720,000,000    687,000,000    802,000,000    870,000,000    875,000,000   \n4     48,289,409     82,349,945    260,388,800    374,213,302  1,328,480,437   \n\n   ...            2012            2013            2014            2015  \\\n0  ...     180,820,940     234,163,844     192,718,553     179,236,201   \n1  ...      26,502,499      23,186,815      66,773,299      77,721,547   \n2  ...  15,649,722,083  13,990,189,647  10,988,504,646  10,310,609,857   \n3  ...     327,000,000     363,000,000     453,000,000     455,000,000   \n4  ...   1,479,179,001   1,913,627,639   1,411,301,928     873,204,688   \n\n             2016            2017            2018            2019  \\\n0      89,140,344     159,032,880     169,252,490     175,879,111   \n1      90,425,117              ..              ..              ..   \n2  10,841,616,558  12,673,185,564  14,363,912,675  13,317,666,734   \n3     444,000,000     515,000,000     463,000,000     562,000,000   \n4     498,158,118     557,071,513     695,011,451     844,323,018   \n\n             2020            2021  \n0     223,292,017     265,726,260  \n1              ..              ..  \n2  12,671,465,384  13,286,823,655  \n3     548,000,000     480,000,000  \n4     757,138,439   1,208,250,497  \n\n[5 rows x 23 columns]",
      "text/html": "<div>\n<style scoped>\n    .dataframe tbody tr th:only-of-type {\n        vertical-align: middle;\n    }\n\n    .dataframe tbody tr th {\n        vertical-align: top;\n    }\n\n    .dataframe thead th {\n        text-align: right;\n    }\n</style>\n<table border=\"1\" class=\"dataframe\">\n  <thead>\n    <tr style=\"text-align: right;\">\n      <th></th>\n      <th>GEO</th>\n      <th>2000</th>\n      <th>2001</th>\n      <th>2002</th>\n      <th>2003</th>\n      <th>2004</th>\n      <th>2005</th>\n      <th>2006</th>\n      <th>2007</th>\n      <th>2008</th>\n      <th>...</th>\n      <th>2012</th>\n      <th>2013</th>\n      <th>2014</th>\n      <th>2015</th>\n      <th>2016</th>\n      <th>2017</th>\n      <th>2018</th>\n      <th>2019</th>\n      <th>2020</th>\n      <th>2021</th>\n    </tr>\n  </thead>\n  <tbody>\n    <tr>\n      <th>0</th>\n      <td>Albania</td>\n      <td>108,347,272</td>\n      <td>107,567,894</td>\n      <td>64,458,009</td>\n      <td>60,782,802</td>\n      <td>91,078,262</td>\n      <td>68,193,896</td>\n      <td>175,223,508</td>\n      <td>253,261,449</td>\n      <td>499,989,410</td>\n      <td>...</td>\n      <td>180,820,940</td>\n      <td>234,163,844</td>\n      <td>192,718,553</td>\n      <td>179,236,201</td>\n      <td>89,140,344</td>\n      <td>159,032,880</td>\n      <td>169,252,490</td>\n      <td>175,879,111</td>\n      <td>223,292,017</td>\n      <td>265,726,260</td>\n    </tr>\n    <tr>\n      <th>1</th>\n      <td>Armenia</td>\n      <td>..</td>\n      <td>1,371,881</td>\n      <td>830,439</td>\n      <td>418,066</td>\n      <td>3,923,281</td>\n      <td>19,854,465</td>\n      <td>23,142,419</td>\n      <td>29,057,065</td>\n      <td>50,248,397</td>\n      <td>...</td>\n      <td>26,502,499</td>\n      <td>23,186,815</td>\n      <td>66,773,299</td>\n      <td>77,721,547</td>\n      <td>90,425,117</td>\n      <td>..</td>\n      <td>..</td>\n      <td>..</td>\n      <td>..</td>\n      <td>..</td>\n    </tr>\n    <tr>\n      <th>2</th>\n      <td>Australia</td>\n      <td>3,985,384,644</td>\n      <td>3,232,914,774</td>\n      <td>3,174,141,910</td>\n      <td>3,809,467,524</td>\n      <td>4,673,112,063</td>\n      <td>6,047,684,590</td>\n      <td>6,696,458,225</td>\n      <td>7,813,640,359</td>\n      <td>7,904,953,310</td>\n      <td>...</td>\n      <td>15,649,722,083</td>\n      <td>13,990,189,647</td>\n      <td>10,988,504,646</td>\n      <td>10,310,609,857</td>\n      <td>10,841,616,558</td>\n      <td>12,673,185,564</td>\n      <td>14,363,912,675</td>\n      <td>13,317,666,734</td>\n      <td>12,671,465,384</td>\n      <td>13,286,823,655</td>\n    </tr>\n    <tr>\n      <th>3</th>\n      <td>Austria</td>\n      <td>475,000,000</td>\n      <td>640,000,000</td>\n      <td>532,000,000</td>\n      <td>650,000,000</td>\n      <td>720,000,000</td>\n      <td>687,000,000</td>\n      <td>802,000,000</td>\n      <td>870,000,000</td>\n      <td>875,000,000</td>\n      <td>...</td>\n      <td>327,000,000</td>\n      <td>363,000,000</td>\n      <td>453,000,000</td>\n      <td>455,000,000</td>\n      <td>444,000,000</td>\n      <td>515,000,000</td>\n      <td>463,000,000</td>\n      <td>562,000,000</td>\n      <td>548,000,000</td>\n      <td>480,000,000</td>\n    </tr>\n    <tr>\n      <th>4</th>\n      <td>Azerbaijan</td>\n      <td>30,255,355</td>\n      <td>47,961,631</td>\n      <td>46,789,989</td>\n      <td>34,212,659</td>\n      <td>48,289,409</td>\n      <td>82,349,945</td>\n      <td>260,388,800</td>\n      <td>374,213,302</td>\n      <td>1,328,480,437</td>\n      <td>...</td>\n      <td>1,479,179,001</td>\n      <td>1,913,627,639</td>\n      <td>1,411,301,928</td>\n      <td>873,204,688</td>\n      <td>498,158,118</td>\n      <td>557,071,513</td>\n      <td>695,011,451</td>\n      <td>844,323,018</td>\n      <td>757,138,439</td>\n      <td>1,208,250,497</td>\n    </tr>\n  </tbody>\n</table>\n<p>5 rows × 23 columns</p>\n</div>"
     },
     "execution_count": 5,
     "metadata": {},
     "output_type": "execute_result"
    }
   ],
   "source": [
    "# Import Road Infrastructure Investment Spending: Read the csv file as a dataframe\n",
    "file_path_road_inv = 'data/road_inv.csv'\n",
    "df_road_inv = pd.read_csv(file_path_road_inv)\n",
    "\n",
    "# First clean the data by dropping columns of the dataframe that will not be used\n",
    "df_road_inv = df_road_inv.iloc[4:56]\n",
    "# Remove double numbered columns starting from the fourth column with index 3\n",
    "columns_to_keep = df_road_inv.columns[:1].to_list()\n",
    "columns_to_remove = df_road_inv.columns[3::2]\n",
    "df_road_inv = df_road_inv[columns_to_keep + columns_to_remove.to_list()]\n",
    "\n",
    "# Rename columns and rows\n",
    "new_column_names = [str(year) for year in range(1999, 2022)]\n",
    "df_road_inv.columns = new_column_names\n",
    "df_road_inv = df_road_inv.rename(columns={df_road_inv.columns[0]: 'GEO'})\n",
    "\n",
    "# Delete the rows without data and reset the index\n",
    "df_road_inv = df_road_inv[~(df_road_inv == '..').all(axis=1)]\n",
    "df_road_inv = df_road_inv.reset_index(drop = True)\n",
    "\n",
    "df_road_inv.head()"
   ]
  },
  {
   "cell_type": "code",
   "execution_count": 6,
   "id": "353936c9",
   "metadata": {
    "ExecuteTime": {
     "end_time": "2023-11-09T15:36:47.686328600Z",
     "start_time": "2023-11-09T15:36:47.272858600Z"
    }
   },
   "outputs": [
    {
     "data": {
      "text/plain": "          GEO         2000         2001         2002         2003  \\\n0     Albania    3,838,572    5,705,714    6,824,432    5,767,021   \n1     Armenia           ..           ..           ..           ..   \n2     Austria  508,000,000  520,000,000  294,000,000  388,000,000   \n3  Azerbaijan           ..   15,587,530   15,233,950   17,106,329   \n4     Belgium   59,000,000   62,000,000   68,000,000   73,000,000   \n\n          2004         2005         2006         2007         2008  ...  \\\n0    6,829,499    7,110,073    5,670,979    6,046,008    8,056,200  ...   \n1           ..    8,770,105    9,588,976   10,683,530   11,111,985  ...   \n2  458,000,000  443,000,000  495,000,000  486,000,000  467,000,000  ...   \n3   34,375,512   33,109,772   54,396,290   31,467,937   34,742,328  ...   \n4   77,000,000   80,000,000  104,000,000   94,000,000  102,000,000  ...   \n\n          2012         2013         2014         2015         2016  \\\n0    6,652,853    8,745,595   15,262,572    8,374,520   13,004,791   \n1   10,706,482   10,085,012   10,050,491   11,236,616   11,586,347   \n2  517,000,000  559,000,000  667,000,000  692,000,000  697,000,000   \n3   34,537,201   31,669,866   31,660,750   22,909,507   18,702,182   \n4  145,000,000  147,000,000  206,000,000  457,000,000  528,000,000   \n\n          2017         2018         2019         2020         2021  \n0   13,593,700   13,444,559   13,050,669    9,058,683   21,515,139  \n1           ..           ..           ..           ..           ..  \n2  687,000,000  726,000,000  752,000,000  791,000,000  899,000,000  \n3   27,802,090   25,390,819   32,049,598   52,056,489   46,719,682  \n4  396,797,000  216,000,000  213,000,000  155,000,000  498,000,000  \n\n[5 rows x 23 columns]",
      "text/html": "<div>\n<style scoped>\n    .dataframe tbody tr th:only-of-type {\n        vertical-align: middle;\n    }\n\n    .dataframe tbody tr th {\n        vertical-align: top;\n    }\n\n    .dataframe thead th {\n        text-align: right;\n    }\n</style>\n<table border=\"1\" class=\"dataframe\">\n  <thead>\n    <tr style=\"text-align: right;\">\n      <th></th>\n      <th>GEO</th>\n      <th>2000</th>\n      <th>2001</th>\n      <th>2002</th>\n      <th>2003</th>\n      <th>2004</th>\n      <th>2005</th>\n      <th>2006</th>\n      <th>2007</th>\n      <th>2008</th>\n      <th>...</th>\n      <th>2012</th>\n      <th>2013</th>\n      <th>2014</th>\n      <th>2015</th>\n      <th>2016</th>\n      <th>2017</th>\n      <th>2018</th>\n      <th>2019</th>\n      <th>2020</th>\n      <th>2021</th>\n    </tr>\n  </thead>\n  <tbody>\n    <tr>\n      <th>0</th>\n      <td>Albania</td>\n      <td>3,838,572</td>\n      <td>5,705,714</td>\n      <td>6,824,432</td>\n      <td>5,767,021</td>\n      <td>6,829,499</td>\n      <td>7,110,073</td>\n      <td>5,670,979</td>\n      <td>6,046,008</td>\n      <td>8,056,200</td>\n      <td>...</td>\n      <td>6,652,853</td>\n      <td>8,745,595</td>\n      <td>15,262,572</td>\n      <td>8,374,520</td>\n      <td>13,004,791</td>\n      <td>13,593,700</td>\n      <td>13,444,559</td>\n      <td>13,050,669</td>\n      <td>9,058,683</td>\n      <td>21,515,139</td>\n    </tr>\n    <tr>\n      <th>1</th>\n      <td>Armenia</td>\n      <td>..</td>\n      <td>..</td>\n      <td>..</td>\n      <td>..</td>\n      <td>..</td>\n      <td>8,770,105</td>\n      <td>9,588,976</td>\n      <td>10,683,530</td>\n      <td>11,111,985</td>\n      <td>...</td>\n      <td>10,706,482</td>\n      <td>10,085,012</td>\n      <td>10,050,491</td>\n      <td>11,236,616</td>\n      <td>11,586,347</td>\n      <td>..</td>\n      <td>..</td>\n      <td>..</td>\n      <td>..</td>\n      <td>..</td>\n    </tr>\n    <tr>\n      <th>2</th>\n      <td>Austria</td>\n      <td>508,000,000</td>\n      <td>520,000,000</td>\n      <td>294,000,000</td>\n      <td>388,000,000</td>\n      <td>458,000,000</td>\n      <td>443,000,000</td>\n      <td>495,000,000</td>\n      <td>486,000,000</td>\n      <td>467,000,000</td>\n      <td>...</td>\n      <td>517,000,000</td>\n      <td>559,000,000</td>\n      <td>667,000,000</td>\n      <td>692,000,000</td>\n      <td>697,000,000</td>\n      <td>687,000,000</td>\n      <td>726,000,000</td>\n      <td>752,000,000</td>\n      <td>791,000,000</td>\n      <td>899,000,000</td>\n    </tr>\n    <tr>\n      <th>3</th>\n      <td>Azerbaijan</td>\n      <td>..</td>\n      <td>15,587,530</td>\n      <td>15,233,950</td>\n      <td>17,106,329</td>\n      <td>34,375,512</td>\n      <td>33,109,772</td>\n      <td>54,396,290</td>\n      <td>31,467,937</td>\n      <td>34,742,328</td>\n      <td>...</td>\n      <td>34,537,201</td>\n      <td>31,669,866</td>\n      <td>31,660,750</td>\n      <td>22,909,507</td>\n      <td>18,702,182</td>\n      <td>27,802,090</td>\n      <td>25,390,819</td>\n      <td>32,049,598</td>\n      <td>52,056,489</td>\n      <td>46,719,682</td>\n    </tr>\n    <tr>\n      <th>4</th>\n      <td>Belgium</td>\n      <td>59,000,000</td>\n      <td>62,000,000</td>\n      <td>68,000,000</td>\n      <td>73,000,000</td>\n      <td>77,000,000</td>\n      <td>80,000,000</td>\n      <td>104,000,000</td>\n      <td>94,000,000</td>\n      <td>102,000,000</td>\n      <td>...</td>\n      <td>145,000,000</td>\n      <td>147,000,000</td>\n      <td>206,000,000</td>\n      <td>457,000,000</td>\n      <td>528,000,000</td>\n      <td>396,797,000</td>\n      <td>216,000,000</td>\n      <td>213,000,000</td>\n      <td>155,000,000</td>\n      <td>498,000,000</td>\n    </tr>\n  </tbody>\n</table>\n<p>5 rows × 23 columns</p>\n</div>"
     },
     "execution_count": 6,
     "metadata": {},
     "output_type": "execute_result"
    }
   ],
   "source": [
    "# Import Road Infrastructure Maintenance Spending: Read the csv file as a dataframe\n",
    "file_path_road_maint = 'data/road_maint.csv'\n",
    "df_road_maint = pd.read_csv(file_path_road_maint)\n",
    "\n",
    "# Rename columns and rows\n",
    "df_road_maint.columns = df_road_maint.iloc[2].tolist()\n",
    "df_road_maint = df_road_maint.rename(columns={df_road_maint.columns[0]: 'GEO'})\n",
    "\n",
    "# Clean the data by dropping columns of the unit that is meaningless when the selected country are all from Europe\n",
    "# Then remove the rows from original data for explaination\n",
    "df_road_maint = df_road_maint.iloc[4:46]\n",
    "columns_remove = [1]\n",
    "df_road_maint = df_road_maint.drop( df_road_maint.columns[columns_remove], axis=1 )\n",
    "\n",
    "# Delete the rows without data and reset the index\n",
    "df_road_maint = df_road_maint[~(df_road_maint == '..').all(axis=1)]\n",
    "df_road_maint = df_road_maint.reset_index(drop = True)\n",
    "\n",
    "df_road_maint.head()"
   ]
  },
  {
   "cell_type": "code",
   "execution_count": 9,
   "id": "a698195c",
   "metadata": {
    "ExecuteTime": {
     "end_time": "2023-11-09T15:38:23.982754800Z",
     "start_time": "2023-11-09T15:38:23.559957500Z"
    }
   },
   "outputs": [
    {
     "data": {
      "text/plain": "         GEO    2000    2001    2002    2003    2004    2005    2006    2007  \\\n0    Albania     620     547     478     510   1,110   1,180   1,342   1,728   \n1  Argentina      ..      ..      ..      ..      ..      ..      ..      ..   \n2    Armenia   1,377   1,495   1,448   1,546   1,751   2,084   2,421   3,091   \n3  Australia  28,591  29,066  29,483  29,891  30,330  32,069  33,740  34,005   \n4    Austria  55,905  57,223  57,640  57,812  56,735  54,002  52,660  53,902   \n\n     2008  ...     2012     2013    2014    2015    2016     2017    2018  \\\n0   1,554  ...    2,569    2,798   2,617   2,692   2,779    2,611   2,291   \n1      ..  ...  122,062  118,925  85,984      ..      ..  118,593      ..   \n2   3,532  ...    4,050    4,310   4,776   5,084   4,718    5,458      ..   \n3  34,839  ...   35,367   36,322  36,703  38,286  40,237   40,553  40,732   \n4  51,200  ...   51,426   48,499  48,100  47,845  48,825   47,672  46,934   \n\n     2019    2020    2021  \n0   2,044   1,598   1,860  \n1      ..      ..      ..  \n2      ..      ..      ..  \n3      ..      ..      ..  \n4  45,556  38,074  41,251  \n\n[5 rows x 23 columns]",
      "text/html": "<div>\n<style scoped>\n    .dataframe tbody tr th:only-of-type {\n        vertical-align: middle;\n    }\n\n    .dataframe tbody tr th {\n        vertical-align: top;\n    }\n\n    .dataframe thead th {\n        text-align: right;\n    }\n</style>\n<table border=\"1\" class=\"dataframe\">\n  <thead>\n    <tr style=\"text-align: right;\">\n      <th></th>\n      <th>GEO</th>\n      <th>2000</th>\n      <th>2001</th>\n      <th>2002</th>\n      <th>2003</th>\n      <th>2004</th>\n      <th>2005</th>\n      <th>2006</th>\n      <th>2007</th>\n      <th>2008</th>\n      <th>...</th>\n      <th>2012</th>\n      <th>2013</th>\n      <th>2014</th>\n      <th>2015</th>\n      <th>2016</th>\n      <th>2017</th>\n      <th>2018</th>\n      <th>2019</th>\n      <th>2020</th>\n      <th>2021</th>\n    </tr>\n  </thead>\n  <tbody>\n    <tr>\n      <th>0</th>\n      <td>Albania</td>\n      <td>620</td>\n      <td>547</td>\n      <td>478</td>\n      <td>510</td>\n      <td>1,110</td>\n      <td>1,180</td>\n      <td>1,342</td>\n      <td>1,728</td>\n      <td>1,554</td>\n      <td>...</td>\n      <td>2,569</td>\n      <td>2,798</td>\n      <td>2,617</td>\n      <td>2,692</td>\n      <td>2,779</td>\n      <td>2,611</td>\n      <td>2,291</td>\n      <td>2,044</td>\n      <td>1,598</td>\n      <td>1,860</td>\n    </tr>\n    <tr>\n      <th>1</th>\n      <td>Argentina</td>\n      <td>..</td>\n      <td>..</td>\n      <td>..</td>\n      <td>..</td>\n      <td>..</td>\n      <td>..</td>\n      <td>..</td>\n      <td>..</td>\n      <td>..</td>\n      <td>...</td>\n      <td>122,062</td>\n      <td>118,925</td>\n      <td>85,984</td>\n      <td>..</td>\n      <td>..</td>\n      <td>118,593</td>\n      <td>..</td>\n      <td>..</td>\n      <td>..</td>\n      <td>..</td>\n    </tr>\n    <tr>\n      <th>2</th>\n      <td>Armenia</td>\n      <td>1,377</td>\n      <td>1,495</td>\n      <td>1,448</td>\n      <td>1,546</td>\n      <td>1,751</td>\n      <td>2,084</td>\n      <td>2,421</td>\n      <td>3,091</td>\n      <td>3,532</td>\n      <td>...</td>\n      <td>4,050</td>\n      <td>4,310</td>\n      <td>4,776</td>\n      <td>5,084</td>\n      <td>4,718</td>\n      <td>5,458</td>\n      <td>..</td>\n      <td>..</td>\n      <td>..</td>\n      <td>..</td>\n    </tr>\n    <tr>\n      <th>3</th>\n      <td>Australia</td>\n      <td>28,591</td>\n      <td>29,066</td>\n      <td>29,483</td>\n      <td>29,891</td>\n      <td>30,330</td>\n      <td>32,069</td>\n      <td>33,740</td>\n      <td>34,005</td>\n      <td>34,839</td>\n      <td>...</td>\n      <td>35,367</td>\n      <td>36,322</td>\n      <td>36,703</td>\n      <td>38,286</td>\n      <td>40,237</td>\n      <td>40,553</td>\n      <td>40,732</td>\n      <td>..</td>\n      <td>..</td>\n      <td>..</td>\n    </tr>\n    <tr>\n      <th>4</th>\n      <td>Austria</td>\n      <td>55,905</td>\n      <td>57,223</td>\n      <td>57,640</td>\n      <td>57,812</td>\n      <td>56,735</td>\n      <td>54,002</td>\n      <td>52,660</td>\n      <td>53,902</td>\n      <td>51,200</td>\n      <td>...</td>\n      <td>51,426</td>\n      <td>48,499</td>\n      <td>48,100</td>\n      <td>47,845</td>\n      <td>48,825</td>\n      <td>47,672</td>\n      <td>46,934</td>\n      <td>45,556</td>\n      <td>38,074</td>\n      <td>41,251</td>\n    </tr>\n  </tbody>\n</table>\n<p>5 rows × 23 columns</p>\n</div>"
     },
     "execution_count": 9,
     "metadata": {},
     "output_type": "execute_result"
    }
   ],
   "source": [
    "# Import Road injury crashes, fatalities and injuries: Read the csv file as a dataframe\n",
    "df_inj_kill = pd.read_csv('data/road_fat.csv')\n",
    "\n",
    "# First clean the data by dropping columns of the dataframe that will not be used\n",
    "df_inj_kill = df_inj_kill.iloc[4:60]\n",
    "# Remove double numbered columns starting from the fourth column with index 3\n",
    "columns_to_keep = df_inj_kill.columns[:1].to_list()\n",
    "columns_to_remove = df_inj_kill.columns[3::2]\n",
    "df_inj_kill = df_inj_kill[columns_to_keep + columns_to_remove.to_list()]\n",
    "\n",
    "# Rename columns and rows\n",
    "new_column_names = [str(year) for year in range(1999, 2022)]\n",
    "df_inj_kill.columns = new_column_names\n",
    "df_inj_kill = df_inj_kill.rename(columns={df_inj_kill.columns[0]: 'GEO'})\n",
    "\n",
    "df_inj_kill = df_inj_kill.reset_index(drop = True)\n",
    "\n",
    "df_inj_kill.head()"
   ]
  },
  {
   "cell_type": "code",
   "execution_count": 10,
   "id": "9a85dae6",
   "metadata": {
    "ExecuteTime": {
     "end_time": "2023-11-09T15:38:37.872312900Z",
     "start_time": "2023-11-09T15:38:37.309942200Z"
    }
   },
   "outputs": [
    {
     "data": {
      "text/plain": "         GEO  2000  2001  2002  2003  2004  2005 2006  2007  2008  ...  2012  \\\n0    Albania   9.1   9.7   8.2   8.6  10.4  10.2  9.3  12.9  10.3  ...  11.5   \n1  Argentina    ..    ..    ..    ..    ..    ..   ..    ..  14.3  ...  12.2   \n2    Armenia   6.8   7.6   7.6   8.2   8.4  10.2   11  12.3  13.6  ...  10.7   \n3  Australia   8.6   8.2   7.8   7.3   7.2   7.3  7.1     7   6.2  ...   5.6   \n4    Austria  12.2  11.9  11.8  11.5  10.7   9.3  8.8   8.3   8.2  ...   6.3   \n\n   2013  2014 2015  2016  2017 2018  2019 2020 2021  \n0  10.2   9.1  9.4   9.4   7.7  7.4     8  6.4    7  \n1  12.3  12.4   ..  12.8  12.3   ..    ..   ..   ..  \n2  10.9  10.3   12   9.3   9.8   ..    ..   ..   ..  \n3   5.5   4.9  5.1   5.3     5  4.5   4.7  4.3  4.3  \n4   5.4     5  5.5   4.9   4.7  4.6   4.7  3.9    4  \n\n[5 rows x 23 columns]",
      "text/html": "<div>\n<style scoped>\n    .dataframe tbody tr th:only-of-type {\n        vertical-align: middle;\n    }\n\n    .dataframe tbody tr th {\n        vertical-align: top;\n    }\n\n    .dataframe thead th {\n        text-align: right;\n    }\n</style>\n<table border=\"1\" class=\"dataframe\">\n  <thead>\n    <tr style=\"text-align: right;\">\n      <th></th>\n      <th>GEO</th>\n      <th>2000</th>\n      <th>2001</th>\n      <th>2002</th>\n      <th>2003</th>\n      <th>2004</th>\n      <th>2005</th>\n      <th>2006</th>\n      <th>2007</th>\n      <th>2008</th>\n      <th>...</th>\n      <th>2012</th>\n      <th>2013</th>\n      <th>2014</th>\n      <th>2015</th>\n      <th>2016</th>\n      <th>2017</th>\n      <th>2018</th>\n      <th>2019</th>\n      <th>2020</th>\n      <th>2021</th>\n    </tr>\n  </thead>\n  <tbody>\n    <tr>\n      <th>0</th>\n      <td>Albania</td>\n      <td>9.1</td>\n      <td>9.7</td>\n      <td>8.2</td>\n      <td>8.6</td>\n      <td>10.4</td>\n      <td>10.2</td>\n      <td>9.3</td>\n      <td>12.9</td>\n      <td>10.3</td>\n      <td>...</td>\n      <td>11.5</td>\n      <td>10.2</td>\n      <td>9.1</td>\n      <td>9.4</td>\n      <td>9.4</td>\n      <td>7.7</td>\n      <td>7.4</td>\n      <td>8</td>\n      <td>6.4</td>\n      <td>7</td>\n    </tr>\n    <tr>\n      <th>1</th>\n      <td>Argentina</td>\n      <td>..</td>\n      <td>..</td>\n      <td>..</td>\n      <td>..</td>\n      <td>..</td>\n      <td>..</td>\n      <td>..</td>\n      <td>..</td>\n      <td>14.3</td>\n      <td>...</td>\n      <td>12.2</td>\n      <td>12.3</td>\n      <td>12.4</td>\n      <td>..</td>\n      <td>12.8</td>\n      <td>12.3</td>\n      <td>..</td>\n      <td>..</td>\n      <td>..</td>\n      <td>..</td>\n    </tr>\n    <tr>\n      <th>2</th>\n      <td>Armenia</td>\n      <td>6.8</td>\n      <td>7.6</td>\n      <td>7.6</td>\n      <td>8.2</td>\n      <td>8.4</td>\n      <td>10.2</td>\n      <td>11</td>\n      <td>12.3</td>\n      <td>13.6</td>\n      <td>...</td>\n      <td>10.7</td>\n      <td>10.9</td>\n      <td>10.3</td>\n      <td>12</td>\n      <td>9.3</td>\n      <td>9.8</td>\n      <td>..</td>\n      <td>..</td>\n      <td>..</td>\n      <td>..</td>\n    </tr>\n    <tr>\n      <th>3</th>\n      <td>Australia</td>\n      <td>8.6</td>\n      <td>8.2</td>\n      <td>7.8</td>\n      <td>7.3</td>\n      <td>7.2</td>\n      <td>7.3</td>\n      <td>7.1</td>\n      <td>7</td>\n      <td>6.2</td>\n      <td>...</td>\n      <td>5.6</td>\n      <td>5.5</td>\n      <td>4.9</td>\n      <td>5.1</td>\n      <td>5.3</td>\n      <td>5</td>\n      <td>4.5</td>\n      <td>4.7</td>\n      <td>4.3</td>\n      <td>4.3</td>\n    </tr>\n    <tr>\n      <th>4</th>\n      <td>Austria</td>\n      <td>12.2</td>\n      <td>11.9</td>\n      <td>11.8</td>\n      <td>11.5</td>\n      <td>10.7</td>\n      <td>9.3</td>\n      <td>8.8</td>\n      <td>8.3</td>\n      <td>8.2</td>\n      <td>...</td>\n      <td>6.3</td>\n      <td>5.4</td>\n      <td>5</td>\n      <td>5.5</td>\n      <td>4.9</td>\n      <td>4.7</td>\n      <td>4.6</td>\n      <td>4.7</td>\n      <td>3.9</td>\n      <td>4</td>\n    </tr>\n  </tbody>\n</table>\n<p>5 rows × 23 columns</p>\n</div>"
     },
     "execution_count": 10,
     "metadata": {},
     "output_type": "execute_result"
    }
   ],
   "source": [
    "# Import Road fatalities per one hundred thousand inhabitants: Read the csv file as a dataframe\n",
    "file_path_fat_inh = 'data/fat_inh.csv'\n",
    "df_fat_inh = pd.read_csv(file_path_fat_inh)\n",
    "\n",
    "# First clean the data by dropping columns of the dataframe that will not be used\n",
    "# These rows are used to indicate the data, and columns are used to explain the accuracy of the data\n",
    "df_fat_inh = df_fat_inh.iloc[3:62]\n",
    "\n",
    "# Remove double numbered columns starting from the fourth column with index 3\n",
    "columns_to_keep = df_fat_inh.columns[:1].to_list()\n",
    "columns_to_remove = df_fat_inh.columns[2::2]\n",
    "df_fat_inh = df_fat_inh[columns_to_keep + columns_to_remove.to_list()]\n",
    "\n",
    "# Rename columns and rows\n",
    "new_column_names = [str(year) for year in range(1999, 2022)]\n",
    "df_fat_inh.columns = new_column_names\n",
    "df_fat_inh = df_fat_inh.rename(columns={df_fat_inh.columns[0]: 'GEO'})\n",
    "# Reset the index\n",
    "df_fat_inh = df_fat_inh.reset_index(drop = True)\n",
    "\n",
    "df_fat_inh.head()"
   ]
  },
  {
   "cell_type": "markdown",
   "id": "90900fcf",
   "metadata": {},
   "source": [
    "- Add more data to analyse the factors that possibly related to safety\n",
    "Alcohol consumption from WHO only collected from 2010 to 2019, so the other data also need to be capture to this period."
   ]
  },
  {
   "cell_type": "code",
   "execution_count": 104,
   "id": "d8c08dfe",
   "metadata": {},
   "outputs": [
    {
     "data": {
      "text/html": [
       "<div>\n",
       "<style scoped>\n",
       "    .dataframe tbody tr th:only-of-type {\n",
       "        vertical-align: middle;\n",
       "    }\n",
       "\n",
       "    .dataframe tbody tr th {\n",
       "        vertical-align: top;\n",
       "    }\n",
       "\n",
       "    .dataframe thead th {\n",
       "        text-align: right;\n",
       "    }\n",
       "</style>\n",
       "<table border=\"1\" class=\"dataframe\">\n",
       "  <thead>\n",
       "    <tr style=\"text-align: right;\">\n",
       "      <th></th>\n",
       "      <th>GEO</th>\n",
       "      <th>2010</th>\n",
       "      <th>2011</th>\n",
       "      <th>2012</th>\n",
       "      <th>2013</th>\n",
       "      <th>2014</th>\n",
       "      <th>2015</th>\n",
       "      <th>2016</th>\n",
       "      <th>2017</th>\n",
       "      <th>2018</th>\n",
       "      <th>2019</th>\n",
       "    </tr>\n",
       "  </thead>\n",
       "  <tbody>\n",
       "    <tr>\n",
       "      <th>0</th>\n",
       "      <td>Albania</td>\n",
       "      <td>4.88</td>\n",
       "      <td>5.03</td>\n",
       "      <td>4.43</td>\n",
       "      <td>4.28</td>\n",
       "      <td>4.40</td>\n",
       "      <td>4.33</td>\n",
       "      <td>4.38</td>\n",
       "      <td>4.39</td>\n",
       "      <td>4.44</td>\n",
       "      <td>4.40</td>\n",
       "    </tr>\n",
       "    <tr>\n",
       "      <th>1</th>\n",
       "      <td>Andorra</td>\n",
       "      <td>10.53</td>\n",
       "      <td>10.46</td>\n",
       "      <td>10.33</td>\n",
       "      <td>10.06</td>\n",
       "      <td>9.88</td>\n",
       "      <td>11.02</td>\n",
       "      <td>11.18</td>\n",
       "      <td>11.18</td>\n",
       "      <td>10.72</td>\n",
       "      <td>10.99</td>\n",
       "    </tr>\n",
       "    <tr>\n",
       "      <th>2</th>\n",
       "      <td>Armenia</td>\n",
       "      <td>4.23</td>\n",
       "      <td>4.07</td>\n",
       "      <td>3.89</td>\n",
       "      <td>3.92</td>\n",
       "      <td>4.22</td>\n",
       "      <td>4.04</td>\n",
       "      <td>3.83</td>\n",
       "      <td>3.83</td>\n",
       "      <td>3.69</td>\n",
       "      <td>3.77</td>\n",
       "    </tr>\n",
       "    <tr>\n",
       "      <th>3</th>\n",
       "      <td>Austria</td>\n",
       "      <td>12.10</td>\n",
       "      <td>11.90</td>\n",
       "      <td>12.10</td>\n",
       "      <td>12.10</td>\n",
       "      <td>12.40</td>\n",
       "      <td>11.60</td>\n",
       "      <td>11.70</td>\n",
       "      <td>11.60</td>\n",
       "      <td>11.60</td>\n",
       "      <td>11.90</td>\n",
       "    </tr>\n",
       "    <tr>\n",
       "      <th>4</th>\n",
       "      <td>Azerbaijan</td>\n",
       "      <td>0.99</td>\n",
       "      <td>0.60</td>\n",
       "      <td>0.52</td>\n",
       "      <td>0.52</td>\n",
       "      <td>0.36</td>\n",
       "      <td>0.51</td>\n",
       "      <td>0.39</td>\n",
       "      <td>0.44</td>\n",
       "      <td>0.88</td>\n",
       "      <td>1.38</td>\n",
       "    </tr>\n",
       "    <tr>\n",
       "      <th>5</th>\n",
       "      <td>Belarus</td>\n",
       "      <td>14.43</td>\n",
       "      <td>14.50</td>\n",
       "      <td>13.56</td>\n",
       "      <td>12.58</td>\n",
       "      <td>11.29</td>\n",
       "      <td>9.79</td>\n",
       "      <td>9.74</td>\n",
       "      <td>9.76</td>\n",
       "      <td>10.08</td>\n",
       "      <td>10.57</td>\n",
       "    </tr>\n",
       "    <tr>\n",
       "      <th>6</th>\n",
       "      <td>Belgium</td>\n",
       "      <td>10.27</td>\n",
       "      <td>10.14</td>\n",
       "      <td>10.09</td>\n",
       "      <td>10.33</td>\n",
       "      <td>10.57</td>\n",
       "      <td>10.36</td>\n",
       "      <td>9.42</td>\n",
       "      <td>9.30</td>\n",
       "      <td>9.22</td>\n",
       "      <td>9.15</td>\n",
       "    </tr>\n",
       "    <tr>\n",
       "      <th>7</th>\n",
       "      <td>Bosnia and Herzegovina</td>\n",
       "      <td>4.57</td>\n",
       "      <td>4.71</td>\n",
       "      <td>4.83</td>\n",
       "      <td>4.69</td>\n",
       "      <td>4.69</td>\n",
       "      <td>4.90</td>\n",
       "      <td>5.04</td>\n",
       "      <td>5.25</td>\n",
       "      <td>5.44</td>\n",
       "      <td>5.46</td>\n",
       "    </tr>\n",
       "    <tr>\n",
       "      <th>8</th>\n",
       "      <td>Bulgaria</td>\n",
       "      <td>9.82</td>\n",
       "      <td>9.88</td>\n",
       "      <td>10.88</td>\n",
       "      <td>10.32</td>\n",
       "      <td>10.30</td>\n",
       "      <td>10.89</td>\n",
       "      <td>11.13</td>\n",
       "      <td>10.93</td>\n",
       "      <td>11.53</td>\n",
       "      <td>11.18</td>\n",
       "    </tr>\n",
       "    <tr>\n",
       "      <th>9</th>\n",
       "      <td>Croatia</td>\n",
       "      <td>10.71</td>\n",
       "      <td>11.01</td>\n",
       "      <td>10.58</td>\n",
       "      <td>10.39</td>\n",
       "      <td>9.50</td>\n",
       "      <td>9.64</td>\n",
       "      <td>10.00</td>\n",
       "      <td>9.70</td>\n",
       "      <td>9.63</td>\n",
       "      <td>9.64</td>\n",
       "    </tr>\n",
       "    <tr>\n",
       "      <th>10</th>\n",
       "      <td>Cyprus</td>\n",
       "      <td>11.33</td>\n",
       "      <td>10.71</td>\n",
       "      <td>10.58</td>\n",
       "      <td>9.07</td>\n",
       "      <td>9.63</td>\n",
       "      <td>9.59</td>\n",
       "      <td>9.59</td>\n",
       "      <td>9.59</td>\n",
       "      <td>9.59</td>\n",
       "      <td>9.59</td>\n",
       "    </tr>\n",
       "    <tr>\n",
       "      <th>11</th>\n",
       "      <td>Czechia</td>\n",
       "      <td>12.68</td>\n",
       "      <td>12.56</td>\n",
       "      <td>12.83</td>\n",
       "      <td>12.54</td>\n",
       "      <td>12.75</td>\n",
       "      <td>12.76</td>\n",
       "      <td>12.92</td>\n",
       "      <td>12.73</td>\n",
       "      <td>12.73</td>\n",
       "      <td>12.73</td>\n",
       "    </tr>\n",
       "    <tr>\n",
       "      <th>12</th>\n",
       "      <td>Denmark</td>\n",
       "      <td>10.27</td>\n",
       "      <td>10.45</td>\n",
       "      <td>9.23</td>\n",
       "      <td>9.44</td>\n",
       "      <td>9.55</td>\n",
       "      <td>9.42</td>\n",
       "      <td>9.51</td>\n",
       "      <td>9.30</td>\n",
       "      <td>9.32</td>\n",
       "      <td>9.16</td>\n",
       "    </tr>\n",
       "    <tr>\n",
       "      <th>13</th>\n",
       "      <td>Estonia</td>\n",
       "      <td>14.97</td>\n",
       "      <td>16.27</td>\n",
       "      <td>16.96</td>\n",
       "      <td>17.75</td>\n",
       "      <td>17.29</td>\n",
       "      <td>16.72</td>\n",
       "      <td>15.61</td>\n",
       "      <td>13.08</td>\n",
       "      <td>10.81</td>\n",
       "      <td>11.65</td>\n",
       "    </tr>\n",
       "    <tr>\n",
       "      <th>14</th>\n",
       "      <td>Finland</td>\n",
       "      <td>9.72</td>\n",
       "      <td>9.81</td>\n",
       "      <td>9.27</td>\n",
       "      <td>9.08</td>\n",
       "      <td>8.76</td>\n",
       "      <td>8.52</td>\n",
       "      <td>8.44</td>\n",
       "      <td>8.37</td>\n",
       "      <td>8.37</td>\n",
       "      <td>8.23</td>\n",
       "    </tr>\n",
       "    <tr>\n",
       "      <th>15</th>\n",
       "      <td>France</td>\n",
       "      <td>12.30</td>\n",
       "      <td>12.35</td>\n",
       "      <td>12.22</td>\n",
       "      <td>11.73</td>\n",
       "      <td>12.07</td>\n",
       "      <td>11.87</td>\n",
       "      <td>11.74</td>\n",
       "      <td>11.69</td>\n",
       "      <td>11.24</td>\n",
       "      <td>11.44</td>\n",
       "    </tr>\n",
       "    <tr>\n",
       "      <th>16</th>\n",
       "      <td>Georgia</td>\n",
       "      <td>7.72</td>\n",
       "      <td>8.29</td>\n",
       "      <td>7.23</td>\n",
       "      <td>6.76</td>\n",
       "      <td>6.49</td>\n",
       "      <td>6.95</td>\n",
       "      <td>6.85</td>\n",
       "      <td>6.88</td>\n",
       "      <td>7.25</td>\n",
       "      <td>7.45</td>\n",
       "    </tr>\n",
       "    <tr>\n",
       "      <th>17</th>\n",
       "      <td>Germany</td>\n",
       "      <td>11.58</td>\n",
       "      <td>11.33</td>\n",
       "      <td>11.32</td>\n",
       "      <td>11.08</td>\n",
       "      <td>11.07</td>\n",
       "      <td>11.06</td>\n",
       "      <td>10.96</td>\n",
       "      <td>10.86</td>\n",
       "      <td>10.88</td>\n",
       "      <td>10.56</td>\n",
       "    </tr>\n",
       "    <tr>\n",
       "      <th>18</th>\n",
       "      <td>Greece</td>\n",
       "      <td>8.33</td>\n",
       "      <td>7.48</td>\n",
       "      <td>7.62</td>\n",
       "      <td>7.55</td>\n",
       "      <td>7.06</td>\n",
       "      <td>6.68</td>\n",
       "      <td>6.68</td>\n",
       "      <td>6.67</td>\n",
       "      <td>6.45</td>\n",
       "      <td>6.33</td>\n",
       "    </tr>\n",
       "    <tr>\n",
       "      <th>19</th>\n",
       "      <td>Hungary</td>\n",
       "      <td>10.70</td>\n",
       "      <td>11.37</td>\n",
       "      <td>11.13</td>\n",
       "      <td>10.73</td>\n",
       "      <td>10.92</td>\n",
       "      <td>10.95</td>\n",
       "      <td>11.28</td>\n",
       "      <td>10.79</td>\n",
       "      <td>10.79</td>\n",
       "      <td>10.79</td>\n",
       "    </tr>\n",
       "    <tr>\n",
       "      <th>20</th>\n",
       "      <td>Iceland</td>\n",
       "      <td>6.79</td>\n",
       "      <td>6.84</td>\n",
       "      <td>6.82</td>\n",
       "      <td>6.80</td>\n",
       "      <td>7.01</td>\n",
       "      <td>7.66</td>\n",
       "      <td>7.49</td>\n",
       "      <td>7.75</td>\n",
       "      <td>7.72</td>\n",
       "      <td>7.72</td>\n",
       "    </tr>\n",
       "    <tr>\n",
       "      <th>21</th>\n",
       "      <td>Ireland</td>\n",
       "      <td>11.57</td>\n",
       "      <td>11.49</td>\n",
       "      <td>11.38</td>\n",
       "      <td>10.51</td>\n",
       "      <td>10.88</td>\n",
       "      <td>10.81</td>\n",
       "      <td>11.30</td>\n",
       "      <td>11.13</td>\n",
       "      <td>11.15</td>\n",
       "      <td>10.91</td>\n",
       "    </tr>\n",
       "    <tr>\n",
       "      <th>22</th>\n",
       "      <td>Israel</td>\n",
       "      <td>2.78</td>\n",
       "      <td>2.81</td>\n",
       "      <td>2.89</td>\n",
       "      <td>2.90</td>\n",
       "      <td>2.71</td>\n",
       "      <td>2.74</td>\n",
       "      <td>2.72</td>\n",
       "      <td>2.91</td>\n",
       "      <td>3.04</td>\n",
       "      <td>3.07</td>\n",
       "    </tr>\n",
       "    <tr>\n",
       "      <th>23</th>\n",
       "      <td>Italy</td>\n",
       "      <td>6.95</td>\n",
       "      <td>6.98</td>\n",
       "      <td>7.48</td>\n",
       "      <td>7.35</td>\n",
       "      <td>7.56</td>\n",
       "      <td>7.14</td>\n",
       "      <td>7.10</td>\n",
       "      <td>7.37</td>\n",
       "      <td>7.81</td>\n",
       "      <td>7.65</td>\n",
       "    </tr>\n",
       "    <tr>\n",
       "      <th>24</th>\n",
       "      <td>Kazakhstan</td>\n",
       "      <td>3.94</td>\n",
       "      <td>3.41</td>\n",
       "      <td>3.73</td>\n",
       "      <td>3.80</td>\n",
       "      <td>3.64</td>\n",
       "      <td>3.33</td>\n",
       "      <td>3.58</td>\n",
       "      <td>3.68</td>\n",
       "      <td>4.16</td>\n",
       "      <td>3.73</td>\n",
       "    </tr>\n",
       "    <tr>\n",
       "      <th>25</th>\n",
       "      <td>Kyrgyzstan</td>\n",
       "      <td>6.02</td>\n",
       "      <td>5.95</td>\n",
       "      <td>5.98</td>\n",
       "      <td>6.03</td>\n",
       "      <td>6.18</td>\n",
       "      <td>5.37</td>\n",
       "      <td>5.32</td>\n",
       "      <td>4.87</td>\n",
       "      <td>4.42</td>\n",
       "      <td>4.02</td>\n",
       "    </tr>\n",
       "    <tr>\n",
       "      <th>26</th>\n",
       "      <td>Latvia</td>\n",
       "      <td>9.83</td>\n",
       "      <td>10.11</td>\n",
       "      <td>10.20</td>\n",
       "      <td>10.43</td>\n",
       "      <td>10.60</td>\n",
       "      <td>10.80</td>\n",
       "      <td>11.30</td>\n",
       "      <td>12.60</td>\n",
       "      <td>13.20</td>\n",
       "      <td>12.90</td>\n",
       "    </tr>\n",
       "    <tr>\n",
       "      <th>27</th>\n",
       "      <td>Lithuania</td>\n",
       "      <td>13.22</td>\n",
       "      <td>14.76</td>\n",
       "      <td>14.97</td>\n",
       "      <td>14.92</td>\n",
       "      <td>14.90</td>\n",
       "      <td>14.20</td>\n",
       "      <td>13.47</td>\n",
       "      <td>12.14</td>\n",
       "      <td>11.77</td>\n",
       "      <td>11.93</td>\n",
       "    </tr>\n",
       "    <tr>\n",
       "      <th>28</th>\n",
       "      <td>Luxembourg</td>\n",
       "      <td>11.84</td>\n",
       "      <td>11.74</td>\n",
       "      <td>11.67</td>\n",
       "      <td>11.25</td>\n",
       "      <td>11.42</td>\n",
       "      <td>11.37</td>\n",
       "      <td>11.25</td>\n",
       "      <td>11.18</td>\n",
       "      <td>10.98</td>\n",
       "      <td>11.00</td>\n",
       "    </tr>\n",
       "    <tr>\n",
       "      <th>29</th>\n",
       "      <td>Montenegro</td>\n",
       "      <td>9.94</td>\n",
       "      <td>9.02</td>\n",
       "      <td>9.37</td>\n",
       "      <td>9.62</td>\n",
       "      <td>8.55</td>\n",
       "      <td>8.49</td>\n",
       "      <td>9.13</td>\n",
       "      <td>9.56</td>\n",
       "      <td>9.87</td>\n",
       "      <td>9.91</td>\n",
       "    </tr>\n",
       "    <tr>\n",
       "      <th>30</th>\n",
       "      <td>Netherlands</td>\n",
       "      <td>9.34</td>\n",
       "      <td>8.95</td>\n",
       "      <td>9.00</td>\n",
       "      <td>8.59</td>\n",
       "      <td>8.38</td>\n",
       "      <td>8.30</td>\n",
       "      <td>8.29</td>\n",
       "      <td>8.31</td>\n",
       "      <td>8.33</td>\n",
       "      <td>8.23</td>\n",
       "    </tr>\n",
       "    <tr>\n",
       "      <th>31</th>\n",
       "      <td>Norway</td>\n",
       "      <td>6.59</td>\n",
       "      <td>6.44</td>\n",
       "      <td>6.21</td>\n",
       "      <td>6.21</td>\n",
       "      <td>6.06</td>\n",
       "      <td>5.97</td>\n",
       "      <td>6.03</td>\n",
       "      <td>6.00</td>\n",
       "      <td>6.02</td>\n",
       "      <td>6.05</td>\n",
       "    </tr>\n",
       "    <tr>\n",
       "      <th>32</th>\n",
       "      <td>Poland</td>\n",
       "      <td>10.07</td>\n",
       "      <td>10.24</td>\n",
       "      <td>10.21</td>\n",
       "      <td>10.80</td>\n",
       "      <td>10.45</td>\n",
       "      <td>10.47</td>\n",
       "      <td>10.43</td>\n",
       "      <td>10.53</td>\n",
       "      <td>10.62</td>\n",
       "      <td>10.96</td>\n",
       "    </tr>\n",
       "    <tr>\n",
       "      <th>33</th>\n",
       "      <td>Portugal</td>\n",
       "      <td>11.26</td>\n",
       "      <td>10.86</td>\n",
       "      <td>9.76</td>\n",
       "      <td>9.52</td>\n",
       "      <td>10.20</td>\n",
       "      <td>10.34</td>\n",
       "      <td>10.37</td>\n",
       "      <td>10.37</td>\n",
       "      <td>10.37</td>\n",
       "      <td>10.37</td>\n",
       "    </tr>\n",
       "    <tr>\n",
       "      <th>34</th>\n",
       "      <td>Romania</td>\n",
       "      <td>10.01</td>\n",
       "      <td>9.58</td>\n",
       "      <td>9.66</td>\n",
       "      <td>9.65</td>\n",
       "      <td>9.48</td>\n",
       "      <td>9.45</td>\n",
       "      <td>9.57</td>\n",
       "      <td>10.14</td>\n",
       "      <td>10.96</td>\n",
       "      <td>10.96</td>\n",
       "    </tr>\n",
       "    <tr>\n",
       "      <th>35</th>\n",
       "      <td>Russian Federation</td>\n",
       "      <td>10.82</td>\n",
       "      <td>10.75</td>\n",
       "      <td>10.56</td>\n",
       "      <td>9.77</td>\n",
       "      <td>8.86</td>\n",
       "      <td>8.06</td>\n",
       "      <td>7.73</td>\n",
       "      <td>7.15</td>\n",
       "      <td>7.28</td>\n",
       "      <td>7.29</td>\n",
       "    </tr>\n",
       "    <tr>\n",
       "      <th>36</th>\n",
       "      <td>Serbia</td>\n",
       "      <td>8.87</td>\n",
       "      <td>8.55</td>\n",
       "      <td>8.78</td>\n",
       "      <td>7.94</td>\n",
       "      <td>7.19</td>\n",
       "      <td>7.20</td>\n",
       "      <td>7.31</td>\n",
       "      <td>7.40</td>\n",
       "      <td>7.62</td>\n",
       "      <td>7.45</td>\n",
       "    </tr>\n",
       "    <tr>\n",
       "      <th>37</th>\n",
       "      <td>Slovakia</td>\n",
       "      <td>10.16</td>\n",
       "      <td>10.27</td>\n",
       "      <td>10.14</td>\n",
       "      <td>9.90</td>\n",
       "      <td>10.26</td>\n",
       "      <td>10.27</td>\n",
       "      <td>9.91</td>\n",
       "      <td>9.69</td>\n",
       "      <td>10.05</td>\n",
       "      <td>10.30</td>\n",
       "    </tr>\n",
       "    <tr>\n",
       "      <th>38</th>\n",
       "      <td>Slovenia</td>\n",
       "      <td>10.33</td>\n",
       "      <td>10.61</td>\n",
       "      <td>10.95</td>\n",
       "      <td>9.53</td>\n",
       "      <td>10.92</td>\n",
       "      <td>11.49</td>\n",
       "      <td>10.51</td>\n",
       "      <td>10.12</td>\n",
       "      <td>9.99</td>\n",
       "      <td>11.05</td>\n",
       "    </tr>\n",
       "    <tr>\n",
       "      <th>39</th>\n",
       "      <td>Spain</td>\n",
       "      <td>8.94</td>\n",
       "      <td>8.74</td>\n",
       "      <td>8.60</td>\n",
       "      <td>8.55</td>\n",
       "      <td>7.85</td>\n",
       "      <td>10.35</td>\n",
       "      <td>10.81</td>\n",
       "      <td>10.85</td>\n",
       "      <td>10.39</td>\n",
       "      <td>10.73</td>\n",
       "    </tr>\n",
       "    <tr>\n",
       "      <th>40</th>\n",
       "      <td>Sweden</td>\n",
       "      <td>7.38</td>\n",
       "      <td>7.31</td>\n",
       "      <td>7.23</td>\n",
       "      <td>7.32</td>\n",
       "      <td>7.20</td>\n",
       "      <td>7.13</td>\n",
       "      <td>7.15</td>\n",
       "      <td>7.04</td>\n",
       "      <td>7.20</td>\n",
       "      <td>7.10</td>\n",
       "    </tr>\n",
       "    <tr>\n",
       "      <th>41</th>\n",
       "      <td>Switzerland</td>\n",
       "      <td>10.01</td>\n",
       "      <td>9.99</td>\n",
       "      <td>9.87</td>\n",
       "      <td>9.74</td>\n",
       "      <td>9.62</td>\n",
       "      <td>9.62</td>\n",
       "      <td>9.28</td>\n",
       "      <td>9.16</td>\n",
       "      <td>9.17</td>\n",
       "      <td>9.41</td>\n",
       "    </tr>\n",
       "    <tr>\n",
       "      <th>42</th>\n",
       "      <td>Türkiye</td>\n",
       "      <td>1.42</td>\n",
       "      <td>1.47</td>\n",
       "      <td>1.47</td>\n",
       "      <td>1.33</td>\n",
       "      <td>1.39</td>\n",
       "      <td>1.32</td>\n",
       "      <td>1.22</td>\n",
       "      <td>1.29</td>\n",
       "      <td>1.18</td>\n",
       "      <td>1.18</td>\n",
       "    </tr>\n",
       "    <tr>\n",
       "      <th>43</th>\n",
       "      <td>Tajikistan</td>\n",
       "      <td>0.68</td>\n",
       "      <td>0.71</td>\n",
       "      <td>0.77</td>\n",
       "      <td>0.80</td>\n",
       "      <td>0.83</td>\n",
       "      <td>0.92</td>\n",
       "      <td>0.88</td>\n",
       "      <td>0.89</td>\n",
       "      <td>0.86</td>\n",
       "      <td>0.85</td>\n",
       "    </tr>\n",
       "    <tr>\n",
       "      <th>44</th>\n",
       "      <td>Turkmenistan</td>\n",
       "      <td>2.90</td>\n",
       "      <td>2.88</td>\n",
       "      <td>3.00</td>\n",
       "      <td>3.18</td>\n",
       "      <td>3.24</td>\n",
       "      <td>3.36</td>\n",
       "      <td>3.32</td>\n",
       "      <td>3.17</td>\n",
       "      <td>2.95</td>\n",
       "      <td>2.88</td>\n",
       "    </tr>\n",
       "    <tr>\n",
       "      <th>45</th>\n",
       "      <td>Ukraine</td>\n",
       "      <td>7.77</td>\n",
       "      <td>8.74</td>\n",
       "      <td>8.54</td>\n",
       "      <td>8.73</td>\n",
       "      <td>7.58</td>\n",
       "      <td>6.04</td>\n",
       "      <td>5.72</td>\n",
       "      <td>5.13</td>\n",
       "      <td>5.44</td>\n",
       "      <td>5.69</td>\n",
       "    </tr>\n",
       "    <tr>\n",
       "      <th>46</th>\n",
       "      <td>United Kingdom of Great Britain and Northern I...</td>\n",
       "      <td>10.01</td>\n",
       "      <td>9.80</td>\n",
       "      <td>9.53</td>\n",
       "      <td>9.42</td>\n",
       "      <td>9.45</td>\n",
       "      <td>9.59</td>\n",
       "      <td>9.69</td>\n",
       "      <td>9.88</td>\n",
       "      <td>10.01</td>\n",
       "      <td>9.80</td>\n",
       "    </tr>\n",
       "    <tr>\n",
       "      <th>47</th>\n",
       "      <td>Uzbekistan</td>\n",
       "      <td>1.74</td>\n",
       "      <td>1.73</td>\n",
       "      <td>1.95</td>\n",
       "      <td>1.95</td>\n",
       "      <td>2.50</td>\n",
       "      <td>2.59</td>\n",
       "      <td>2.40</td>\n",
       "      <td>2.79</td>\n",
       "      <td>2.44</td>\n",
       "      <td>2.45</td>\n",
       "    </tr>\n",
       "  </tbody>\n",
       "</table>\n",
       "</div>"
      ],
      "text/plain": [
       "                                                  GEO   2010   2011   2012  \\\n",
       "0                                             Albania   4.88   5.03   4.43   \n",
       "1                                             Andorra  10.53  10.46  10.33   \n",
       "2                                             Armenia   4.23   4.07   3.89   \n",
       "3                                             Austria  12.10  11.90  12.10   \n",
       "4                                          Azerbaijan   0.99   0.60   0.52   \n",
       "5                                             Belarus  14.43  14.50  13.56   \n",
       "6                                             Belgium  10.27  10.14  10.09   \n",
       "7                              Bosnia and Herzegovina   4.57   4.71   4.83   \n",
       "8                                            Bulgaria   9.82   9.88  10.88   \n",
       "9                                             Croatia  10.71  11.01  10.58   \n",
       "10                                             Cyprus  11.33  10.71  10.58   \n",
       "11                                            Czechia  12.68  12.56  12.83   \n",
       "12                                            Denmark  10.27  10.45   9.23   \n",
       "13                                            Estonia  14.97  16.27  16.96   \n",
       "14                                            Finland   9.72   9.81   9.27   \n",
       "15                                             France  12.30  12.35  12.22   \n",
       "16                                            Georgia   7.72   8.29   7.23   \n",
       "17                                            Germany  11.58  11.33  11.32   \n",
       "18                                             Greece   8.33   7.48   7.62   \n",
       "19                                            Hungary  10.70  11.37  11.13   \n",
       "20                                            Iceland   6.79   6.84   6.82   \n",
       "21                                            Ireland  11.57  11.49  11.38   \n",
       "22                                             Israel   2.78   2.81   2.89   \n",
       "23                                              Italy   6.95   6.98   7.48   \n",
       "24                                         Kazakhstan   3.94   3.41   3.73   \n",
       "25                                         Kyrgyzstan   6.02   5.95   5.98   \n",
       "26                                             Latvia   9.83  10.11  10.20   \n",
       "27                                          Lithuania  13.22  14.76  14.97   \n",
       "28                                         Luxembourg  11.84  11.74  11.67   \n",
       "29                                         Montenegro   9.94   9.02   9.37   \n",
       "30                                        Netherlands   9.34   8.95   9.00   \n",
       "31                                             Norway   6.59   6.44   6.21   \n",
       "32                                             Poland  10.07  10.24  10.21   \n",
       "33                                           Portugal  11.26  10.86   9.76   \n",
       "34                                            Romania  10.01   9.58   9.66   \n",
       "35                                 Russian Federation  10.82  10.75  10.56   \n",
       "36                                             Serbia   8.87   8.55   8.78   \n",
       "37                                           Slovakia  10.16  10.27  10.14   \n",
       "38                                           Slovenia  10.33  10.61  10.95   \n",
       "39                                              Spain   8.94   8.74   8.60   \n",
       "40                                             Sweden   7.38   7.31   7.23   \n",
       "41                                        Switzerland  10.01   9.99   9.87   \n",
       "42                                            Türkiye   1.42   1.47   1.47   \n",
       "43                                         Tajikistan   0.68   0.71   0.77   \n",
       "44                                       Turkmenistan   2.90   2.88   3.00   \n",
       "45                                            Ukraine   7.77   8.74   8.54   \n",
       "46  United Kingdom of Great Britain and Northern I...  10.01   9.80   9.53   \n",
       "47                                         Uzbekistan   1.74   1.73   1.95   \n",
       "\n",
       "     2013   2014   2015   2016   2017   2018   2019  \n",
       "0    4.28   4.40   4.33   4.38   4.39   4.44   4.40  \n",
       "1   10.06   9.88  11.02  11.18  11.18  10.72  10.99  \n",
       "2    3.92   4.22   4.04   3.83   3.83   3.69   3.77  \n",
       "3   12.10  12.40  11.60  11.70  11.60  11.60  11.90  \n",
       "4    0.52   0.36   0.51   0.39   0.44   0.88   1.38  \n",
       "5   12.58  11.29   9.79   9.74   9.76  10.08  10.57  \n",
       "6   10.33  10.57  10.36   9.42   9.30   9.22   9.15  \n",
       "7    4.69   4.69   4.90   5.04   5.25   5.44   5.46  \n",
       "8   10.32  10.30  10.89  11.13  10.93  11.53  11.18  \n",
       "9   10.39   9.50   9.64  10.00   9.70   9.63   9.64  \n",
       "10   9.07   9.63   9.59   9.59   9.59   9.59   9.59  \n",
       "11  12.54  12.75  12.76  12.92  12.73  12.73  12.73  \n",
       "12   9.44   9.55   9.42   9.51   9.30   9.32   9.16  \n",
       "13  17.75  17.29  16.72  15.61  13.08  10.81  11.65  \n",
       "14   9.08   8.76   8.52   8.44   8.37   8.37   8.23  \n",
       "15  11.73  12.07  11.87  11.74  11.69  11.24  11.44  \n",
       "16   6.76   6.49   6.95   6.85   6.88   7.25   7.45  \n",
       "17  11.08  11.07  11.06  10.96  10.86  10.88  10.56  \n",
       "18   7.55   7.06   6.68   6.68   6.67   6.45   6.33  \n",
       "19  10.73  10.92  10.95  11.28  10.79  10.79  10.79  \n",
       "20   6.80   7.01   7.66   7.49   7.75   7.72   7.72  \n",
       "21  10.51  10.88  10.81  11.30  11.13  11.15  10.91  \n",
       "22   2.90   2.71   2.74   2.72   2.91   3.04   3.07  \n",
       "23   7.35   7.56   7.14   7.10   7.37   7.81   7.65  \n",
       "24   3.80   3.64   3.33   3.58   3.68   4.16   3.73  \n",
       "25   6.03   6.18   5.37   5.32   4.87   4.42   4.02  \n",
       "26  10.43  10.60  10.80  11.30  12.60  13.20  12.90  \n",
       "27  14.92  14.90  14.20  13.47  12.14  11.77  11.93  \n",
       "28  11.25  11.42  11.37  11.25  11.18  10.98  11.00  \n",
       "29   9.62   8.55   8.49   9.13   9.56   9.87   9.91  \n",
       "30   8.59   8.38   8.30   8.29   8.31   8.33   8.23  \n",
       "31   6.21   6.06   5.97   6.03   6.00   6.02   6.05  \n",
       "32  10.80  10.45  10.47  10.43  10.53  10.62  10.96  \n",
       "33   9.52  10.20  10.34  10.37  10.37  10.37  10.37  \n",
       "34   9.65   9.48   9.45   9.57  10.14  10.96  10.96  \n",
       "35   9.77   8.86   8.06   7.73   7.15   7.28   7.29  \n",
       "36   7.94   7.19   7.20   7.31   7.40   7.62   7.45  \n",
       "37   9.90  10.26  10.27   9.91   9.69  10.05  10.30  \n",
       "38   9.53  10.92  11.49  10.51  10.12   9.99  11.05  \n",
       "39   8.55   7.85  10.35  10.81  10.85  10.39  10.73  \n",
       "40   7.32   7.20   7.13   7.15   7.04   7.20   7.10  \n",
       "41   9.74   9.62   9.62   9.28   9.16   9.17   9.41  \n",
       "42   1.33   1.39   1.32   1.22   1.29   1.18   1.18  \n",
       "43   0.80   0.83   0.92   0.88   0.89   0.86   0.85  \n",
       "44   3.18   3.24   3.36   3.32   3.17   2.95   2.88  \n",
       "45   8.73   7.58   6.04   5.72   5.13   5.44   5.69  \n",
       "46   9.42   9.45   9.59   9.69   9.88  10.01   9.80  \n",
       "47   1.95   2.50   2.59   2.40   2.79   2.44   2.45  "
      ]
     },
     "execution_count": 104,
     "metadata": {},
     "output_type": "execute_result"
    }
   ],
   "source": [
    "# Import Proportion of motorways over the total road network(%),2010-2021\n",
    "df_mot_rate = pd.read_csv('data/mot_rate.csv')\n",
    "df_mot_rate = df_mot_rate.iloc[:,:11]\n",
    "df_mot_rate\n",
    "\n",
    "# Import Motorization index(in cars per 1000 inhabitants),2000-2021\n",
    "df_mot_index = pd.read_csv('data/mot_index.csv')\n",
    "df_mot_index = df_mot_index.iloc[:,0:1].join(df_mot_index.iloc[:,11:21],how='outer')\n",
    "df_mot_index\n",
    "\n",
    "# Import Unemployment rate(%),2010-2022\n",
    "df_unempl_rate = pd.read_csv('data/unempl_rate.csv')\n",
    "df_unempl_rate = df_unempl_rate.iloc[:,:11]\n",
    "df_unempl_rate\n",
    "\n",
    "# Import alcohol consumption(%),2010-2021\n",
    "df_alcohol = pd.read_csv('data/alcohol.csv')\n",
    "df_alcohol = df_alcohol.iloc[:,0:1].join(df_alcohol.iloc[:,11:],how='outer')\n",
    "df_alcohol"
   ]
  },
  {
   "cell_type": "code",
   "execution_count": 11,
   "id": "cbef9453",
   "metadata": {
    "ExecuteTime": {
     "end_time": "2023-11-09T15:39:00.824063400Z",
     "start_time": "2023-11-09T15:39:00.768496Z"
    }
   },
   "outputs": [
    {
     "data": {
      "text/plain": "          GEO       2000       2001       2002       2003       2004  \\\n0     Albania   1,126.70   1,281.70   1,425.10   1,846.10   2,373.60   \n1     Andorra  21,620.50  22,809.10  24,785.00  31,954.20  37,630.80   \n2     Armenia      603.3      676.2      765.3      910.2   1,166.60   \n3     Austria  24,625.60  24,558.80  26,527.60  32,294.00  36,889.20   \n4  Azerbaijan      655.1      703.7      763.1      883.7   1,045.00   \n\n        2005       2006       2007       2008  ...       2013       2014  \\\n0   2,673.80   2,972.70   3,595.00   4,370.50  ...   4,413.10   4,578.60   \n1  39,583.90  43,084.30  50,562.90  53,721.40  ...  44,747.80  45,680.50   \n2   1,608.20   2,109.50   3,064.30   3,908.90  ...   3,833.20   4,017.20   \n3  38,417.50  40,669.30  46,915.30  51,920.00  ...  50,731.10  51,786.40   \n4   1,578.40   2,473.00   3,851.30   5,574.50  ...   7,875.30   7,890.80   \n\n        2015       2016       2017       2018       2019       2020  \\\n0   3,952.80   4,124.10   4,531.00   5,287.70   5,396.20   5,343.00   \n1  38,885.50  39,931.20  40,632.20  42,904.80  41,328.60  37,207.20   \n2   3,666.10   3,680.00   4,042.00   4,391.90   4,828.50   4,505.90   \n3  44,195.80  45,307.60  47,429.20  51,466.60  50,070.40  48,809.20   \n4   5,500.50   3,880.70   4,147.20   4,739.80   4,805.80   4,229.90   \n\n        2021       2022  \n0   6,377.20   6,802.80  \n1  42,072.30  41,992.80  \n2   4,966.50   7,014.20  \n3  53,637.70  52,131.40  \n4   5,408.00   7,736.70  \n\n[5 rows x 24 columns]",
      "text/html": "<div>\n<style scoped>\n    .dataframe tbody tr th:only-of-type {\n        vertical-align: middle;\n    }\n\n    .dataframe tbody tr th {\n        vertical-align: top;\n    }\n\n    .dataframe thead th {\n        text-align: right;\n    }\n</style>\n<table border=\"1\" class=\"dataframe\">\n  <thead>\n    <tr style=\"text-align: right;\">\n      <th></th>\n      <th>GEO</th>\n      <th>2000</th>\n      <th>2001</th>\n      <th>2002</th>\n      <th>2003</th>\n      <th>2004</th>\n      <th>2005</th>\n      <th>2006</th>\n      <th>2007</th>\n      <th>2008</th>\n      <th>...</th>\n      <th>2013</th>\n      <th>2014</th>\n      <th>2015</th>\n      <th>2016</th>\n      <th>2017</th>\n      <th>2018</th>\n      <th>2019</th>\n      <th>2020</th>\n      <th>2021</th>\n      <th>2022</th>\n    </tr>\n  </thead>\n  <tbody>\n    <tr>\n      <th>0</th>\n      <td>Albania</td>\n      <td>1,126.70</td>\n      <td>1,281.70</td>\n      <td>1,425.10</td>\n      <td>1,846.10</td>\n      <td>2,373.60</td>\n      <td>2,673.80</td>\n      <td>2,972.70</td>\n      <td>3,595.00</td>\n      <td>4,370.50</td>\n      <td>...</td>\n      <td>4,413.10</td>\n      <td>4,578.60</td>\n      <td>3,952.80</td>\n      <td>4,124.10</td>\n      <td>4,531.00</td>\n      <td>5,287.70</td>\n      <td>5,396.20</td>\n      <td>5,343.00</td>\n      <td>6,377.20</td>\n      <td>6,802.80</td>\n    </tr>\n    <tr>\n      <th>1</th>\n      <td>Andorra</td>\n      <td>21,620.50</td>\n      <td>22,809.10</td>\n      <td>24,785.00</td>\n      <td>31,954.20</td>\n      <td>37,630.80</td>\n      <td>39,583.90</td>\n      <td>43,084.30</td>\n      <td>50,562.90</td>\n      <td>53,721.40</td>\n      <td>...</td>\n      <td>44,747.80</td>\n      <td>45,680.50</td>\n      <td>38,885.50</td>\n      <td>39,931.20</td>\n      <td>40,632.20</td>\n      <td>42,904.80</td>\n      <td>41,328.60</td>\n      <td>37,207.20</td>\n      <td>42,072.30</td>\n      <td>41,992.80</td>\n    </tr>\n    <tr>\n      <th>2</th>\n      <td>Armenia</td>\n      <td>603.3</td>\n      <td>676.2</td>\n      <td>765.3</td>\n      <td>910.2</td>\n      <td>1,166.60</td>\n      <td>1,608.20</td>\n      <td>2,109.50</td>\n      <td>3,064.30</td>\n      <td>3,908.90</td>\n      <td>...</td>\n      <td>3,833.20</td>\n      <td>4,017.20</td>\n      <td>3,666.10</td>\n      <td>3,680.00</td>\n      <td>4,042.00</td>\n      <td>4,391.90</td>\n      <td>4,828.50</td>\n      <td>4,505.90</td>\n      <td>4,966.50</td>\n      <td>7,014.20</td>\n    </tr>\n    <tr>\n      <th>3</th>\n      <td>Austria</td>\n      <td>24,625.60</td>\n      <td>24,558.80</td>\n      <td>26,527.60</td>\n      <td>32,294.00</td>\n      <td>36,889.20</td>\n      <td>38,417.50</td>\n      <td>40,669.30</td>\n      <td>46,915.30</td>\n      <td>51,920.00</td>\n      <td>...</td>\n      <td>50,731.10</td>\n      <td>51,786.40</td>\n      <td>44,195.80</td>\n      <td>45,307.60</td>\n      <td>47,429.20</td>\n      <td>51,466.60</td>\n      <td>50,070.40</td>\n      <td>48,809.20</td>\n      <td>53,637.70</td>\n      <td>52,131.40</td>\n    </tr>\n    <tr>\n      <th>4</th>\n      <td>Azerbaijan</td>\n      <td>655.1</td>\n      <td>703.7</td>\n      <td>763.1</td>\n      <td>883.7</td>\n      <td>1,045.00</td>\n      <td>1,578.40</td>\n      <td>2,473.00</td>\n      <td>3,851.30</td>\n      <td>5,574.50</td>\n      <td>...</td>\n      <td>7,875.30</td>\n      <td>7,890.80</td>\n      <td>5,500.50</td>\n      <td>3,880.70</td>\n      <td>4,147.20</td>\n      <td>4,739.80</td>\n      <td>4,805.80</td>\n      <td>4,229.90</td>\n      <td>5,408.00</td>\n      <td>7,736.70</td>\n    </tr>\n  </tbody>\n</table>\n<p>5 rows × 24 columns</p>\n</div>"
     },
     "execution_count": 11,
     "metadata": {},
     "output_type": "execute_result"
    }
   ],
   "source": [
    "# Import GDP per capita: Read the csv file as a dataframe\n",
    "file_path_GDP = 'data/GDP.csv'\n",
    "df_GDP = pd.read_csv(file_path_GDP)\n",
    "\n",
    "# Remove the last row and use European region or country as the row name\n",
    "df_GDP = df_GDP.iloc[:58]\n",
    "df_GDP = df_GDP.rename(columns={df_GDP.columns[0]: 'GEO'})\n",
    "#df_GDP = df_GDP.set_index('GEO')\n",
    "\n",
    "df_GDP.head()"
   ]
  },
  {
   "cell_type": "markdown",
   "id": "fbc0ac4f",
   "metadata": {},
   "source": [
    "# Part II - Data processing"
   ]
  },
  {
   "cell_type": "markdown",
   "id": "8024d18e",
   "metadata": {},
   "source": [
    "- This part is preparation for the subsequent quantitative analysis and data visualization.\n",
    "\n",
    "Divide countries based upon GDP:"
   ]
  },
  {
   "cell_type": "code",
   "execution_count": 12,
   "id": "873c11d2",
   "metadata": {
    "ExecuteTime": {
     "end_time": "2023-11-09T15:39:13.015036700Z",
     "start_time": "2023-11-09T15:39:12.980251800Z"
    }
   },
   "outputs": [
    {
     "name": "stdout",
     "output_type": "stream",
     "text": [
      "The average GDP of all the countries in last five years is 36946.38868421052\n",
      "\u001B[1mHigh Income countries includes:\u001B[0m\n",
      "Andorra,Austria,Belgium,Channel Islands,Denmark,Faroe Islands,Finland,France,Germany,Greenland,Iceland,Ireland,Isle of Man,Liechtenstein,Luxembourg,Monaco,Netherlands,Norway,San Marino,Sweden,Switzerland,United Kingdom,\n",
      "\u001B[1mLow Income countries includes:\u001B[0m\n",
      "Albania,Armenia,Azerbaijan,Belarus,Bosnia and Herzegovina,Bulgaria,Croatia,Cyprus,Czechia,Estonia,Georgia,Greece,Hungary,Italy,Kazakhstan,Kosovo,Kyrgyz Republic,Latvia,Lithuania,Moldova,Montenegro,North Macedonia,Poland,Portugal,Romania,Russian Federation,Serbia,Slovak Republic,Slovenia,Spain,Tajikistan,Turkiye,Turkmenistan,Ukraine,Uzbekistan,"
     ]
    }
   ],
   "source": [
    "# Divided the countries into two groups: low-income and high-income countries, basing on GDP per capita\n",
    "# Select the last five years as evaluation criteria\n",
    "selected_years = ['2018','2019','2020','2021','2022']\n",
    "data_selected_years = df_GDP[selected_years]\n",
    "\n",
    "# Replace invalid values in the dataframe with NAN\n",
    "data_selected_years = data_selected_years.replace('..', np.nan)\n",
    "# Convert numerical values to floats\n",
    "data_selected_years = data_selected_years.replace(',', '', regex=True).astype(float)\n",
    "\n",
    "# Calculate the average GDP of each country\n",
    "data_average_GDP = data_selected_years.mean(axis=1)\n",
    "df_GDP['average GDP'] = data_average_GDP\n",
    "\n",
    "# Calculate the average GDP of all countries\n",
    "average_GDP = df_GDP['average GDP'].mean()\n",
    "print(f'The average GDP of all the countries in last five years is {average_GDP}')\n",
    "# Add a new column to mark their level of income: high or low\n",
    "df_GDP['Income Group'] = ''\n",
    "df_GDP.loc[df_GDP['average GDP'] > average_GDP,'Income Group'] = 'High Income'\n",
    "df_GDP.loc[df_GDP['average GDP'] < average_GDP,'Income Group'] = 'Low Income'\n",
    "\n",
    "# Create lists to devide the two groups of countries\n",
    "High_inc = df_GDP[df_GDP['Income Group'] == 'High Income']['GEO'].to_list()\n",
    "Low_inc = df_GDP[df_GDP['Income Group'] == 'Low Income']['GEO'].to_list()\n",
    "\n",
    "# Print two lists of countries one by one\n",
    "if True:\n",
    "    print('\\033[1mHigh Income countries includes:\\033[0m')\n",
    "    for country in High_inc:\n",
    "        print(country, end = ',')\n",
    "    print('\\n\\033[1mLow Income countries includes:\\033[0m')\n",
    "    for country in Low_inc:\n",
    "        print(country, end = ',')"
   ]
  },
  {
   "cell_type": "markdown",
   "source": [
    "Create dataframe which contains the percentages of passenger kilometres for both road (buses and coaches) and rail."
   ],
   "metadata": {
    "collapsed": false
   },
   "id": "46a17bb24c298058"
  },
  {
   "cell_type": "code",
   "execution_count": 91,
   "outputs": [
    {
     "data": {
      "text/plain": "    Year   Country  Rail_psk  Road_psk  Total_psk  Percentage road  \\\n0   2013  Bulgaria    1821.0   10316.8    12137.8        84.997281   \n1   2014  Bulgaria    1698.0   11447.1    13145.1        87.082639   \n2   2015  Bulgaria    1549.0   12257.1    13806.1        88.780322   \n3   2016  Bulgaria    1455.0   12210.2    13665.2        89.352516   \n4   2017  Bulgaria    1434.0   10553.0    11987.0        88.037040   \n..   ...       ...       ...       ...        ...              ...   \n94  2017   Finland    3754.0       NaN        NaN              NaN   \n95  2018   Finland    3792.0       NaN        NaN              NaN   \n96  2019   Finland    3957.0       NaN        NaN              NaN   \n97  2020   Finland    2133.0    2589.0     4722.0        54.828463   \n98  2021   Finland    1969.0       NaN        NaN              NaN   \n\n    Percentage rail  \n0         15.002719  \n1         12.917361  \n2         11.219678  \n3         10.647484  \n4         11.962960  \n..              ...  \n94              NaN  \n95              NaN  \n96              NaN  \n97        45.171537  \n98              NaN  \n\n[99 rows x 7 columns]",
      "text/html": "<div>\n<style scoped>\n    .dataframe tbody tr th:only-of-type {\n        vertical-align: middle;\n    }\n\n    .dataframe tbody tr th {\n        vertical-align: top;\n    }\n\n    .dataframe thead th {\n        text-align: right;\n    }\n</style>\n<table border=\"1\" class=\"dataframe\">\n  <thead>\n    <tr style=\"text-align: right;\">\n      <th></th>\n      <th>Year</th>\n      <th>Country</th>\n      <th>Rail_psk</th>\n      <th>Road_psk</th>\n      <th>Total_psk</th>\n      <th>Percentage road</th>\n      <th>Percentage rail</th>\n    </tr>\n  </thead>\n  <tbody>\n    <tr>\n      <th>0</th>\n      <td>2013</td>\n      <td>Bulgaria</td>\n      <td>1821.0</td>\n      <td>10316.8</td>\n      <td>12137.8</td>\n      <td>84.997281</td>\n      <td>15.002719</td>\n    </tr>\n    <tr>\n      <th>1</th>\n      <td>2014</td>\n      <td>Bulgaria</td>\n      <td>1698.0</td>\n      <td>11447.1</td>\n      <td>13145.1</td>\n      <td>87.082639</td>\n      <td>12.917361</td>\n    </tr>\n    <tr>\n      <th>2</th>\n      <td>2015</td>\n      <td>Bulgaria</td>\n      <td>1549.0</td>\n      <td>12257.1</td>\n      <td>13806.1</td>\n      <td>88.780322</td>\n      <td>11.219678</td>\n    </tr>\n    <tr>\n      <th>3</th>\n      <td>2016</td>\n      <td>Bulgaria</td>\n      <td>1455.0</td>\n      <td>12210.2</td>\n      <td>13665.2</td>\n      <td>89.352516</td>\n      <td>10.647484</td>\n    </tr>\n    <tr>\n      <th>4</th>\n      <td>2017</td>\n      <td>Bulgaria</td>\n      <td>1434.0</td>\n      <td>10553.0</td>\n      <td>11987.0</td>\n      <td>88.037040</td>\n      <td>11.962960</td>\n    </tr>\n    <tr>\n      <th>...</th>\n      <td>...</td>\n      <td>...</td>\n      <td>...</td>\n      <td>...</td>\n      <td>...</td>\n      <td>...</td>\n      <td>...</td>\n    </tr>\n    <tr>\n      <th>94</th>\n      <td>2017</td>\n      <td>Finland</td>\n      <td>3754.0</td>\n      <td>NaN</td>\n      <td>NaN</td>\n      <td>NaN</td>\n      <td>NaN</td>\n    </tr>\n    <tr>\n      <th>95</th>\n      <td>2018</td>\n      <td>Finland</td>\n      <td>3792.0</td>\n      <td>NaN</td>\n      <td>NaN</td>\n      <td>NaN</td>\n      <td>NaN</td>\n    </tr>\n    <tr>\n      <th>96</th>\n      <td>2019</td>\n      <td>Finland</td>\n      <td>3957.0</td>\n      <td>NaN</td>\n      <td>NaN</td>\n      <td>NaN</td>\n      <td>NaN</td>\n    </tr>\n    <tr>\n      <th>97</th>\n      <td>2020</td>\n      <td>Finland</td>\n      <td>2133.0</td>\n      <td>2589.0</td>\n      <td>4722.0</td>\n      <td>54.828463</td>\n      <td>45.171537</td>\n    </tr>\n    <tr>\n      <th>98</th>\n      <td>2021</td>\n      <td>Finland</td>\n      <td>1969.0</td>\n      <td>NaN</td>\n      <td>NaN</td>\n      <td>NaN</td>\n      <td>NaN</td>\n    </tr>\n  </tbody>\n</table>\n<p>99 rows × 7 columns</p>\n</div>"
     },
     "execution_count": 91,
     "metadata": {},
     "output_type": "execute_result"
    }
   ],
   "source": [
    "# The years we choose to analyze (based upon availability)\n",
    "chosen_years = [str(i) for i in range(2013, 2022)]\n",
    "# Keep the country column\n",
    "chosen_years.insert(0, 'GEO')\n",
    "\n",
    "# The countries we choose to analyze (based upon availability)\n",
    "chosen_countries = ('Bulgaria', 'Czechia', 'Denmark', 'Germany', 'France', 'Croatia', 'Italy', 'Lithuania', 'Austria', 'Poland', 'Slovakia', 'Finland')\n",
    "\n",
    "# Keep only the chosen years and countries in the road and rail passenger km data sets\n",
    "df_road = df_road_pg[df_road_pg['GEO'].isin(chosen_countries)][chosen_years]\n",
    "df_road.reset_index(drop=True, inplace=True)\n",
    "df_rail = df_rail_pg[df_rail_pg['GEO'].isin(chosen_countries)][chosen_years]\n",
    "df_rail.reset_index(drop=True, inplace=True)\n",
    "\n",
    "# Combine road and rail data\n",
    "df_psk = pd.DataFrame(columns=['Year', 'Country', 'Rail_psk', 'Road_psk', 'Total_psk', 'Percentage road', 'Percentage rail'])\n",
    "\n",
    "for row in range(0, len(df_road.index)):  \n",
    "    for col in range(1, len(df_road.columns)):\n",
    "        \n",
    "        # Remove commas and change : to NaN\n",
    "        rail_val = float(df_rail.iloc[row, col].replace(',', '').replace(':', 'NaN'))\n",
    "        road_val = float(df_road.iloc[row, col].replace(',', '').replace(':', 'NaN'))\n",
    "        \n",
    "        df_psk.loc[len(df_psk)] = [df_road.columns[col], \n",
    "                                   df_road.iloc[row, 0],\n",
    "                                   rail_val,\n",
    "                                   road_val,\n",
    "                                   rail_val+road_val,\n",
    "                                   road_val/(rail_val+road_val)*100,\n",
    "                                   rail_val/(rail_val+road_val)*100\n",
    "                                   ]\n",
    "\n",
    "# Show dataframe\n",
    "df_psk"
   ],
   "metadata": {
    "collapsed": false,
    "ExecuteTime": {
     "end_time": "2023-11-09T18:30:09.277033100Z",
     "start_time": "2023-11-09T18:30:09.149954400Z"
    }
   },
   "id": "cbc1c9fca7918e75"
  },
  {
   "cell_type": "markdown",
   "id": "d69012eb",
   "metadata": {},
   "source": [
    "# Part III - Data Visualization"
   ]
  },
  {
   "cell_type": "markdown",
   "id": "3af0c0dad131c1d2",
   "metadata": {},
   "source": [
    "# Eurostat to Map data\n",
    "- This next block of code transforms the volume of passengers relative to GDP data to a dataframe which can be used in a choropleth map. The color variations representing different levels of the data. \n",
    "- A gradient color spectrum can be used so that countries with high ratios are shown in darker colors and countries with low ratios are shown in lighter colors.\n",
    "- Add a timeline at the bottom or side of the map to represent the time range. Users can drag the timeline or click on different years to see the Volume of passenger transport relative to GDP for each country at different points in time.\n",
    "- Parts of this can be reused for other eurostat data sets."
   ]
  },
  {
   "cell_type": "markdown",
   "id": "da06e26328b62e89",
   "metadata": {},
   "source": [
    "# Choropleth Map using Plotly\n",
    "This next block of code creates a map of Europe using plotly's choropleth.\n",
    "In this particular instance, it plots transport volumes relative to GDP.\n",
    "Most of this code can be reused for plotting other data sets using choropleth."
   ]
  },
  {
   "cell_type": "code",
   "execution_count": 85,
   "id": "2129b14f",
   "metadata": {
    "ExecuteTime": {
     "end_time": "2023-11-09T18:26:17.319966400Z",
     "start_time": "2023-11-09T18:26:17.152783400Z"
    }
   },
   "outputs": [
    {
     "data": {
      "application/vnd.plotly.v1+json": {
       "data": [
        {
         "coloraxis": "coloraxis",
         "geo": "geo",
         "hovertemplate": [
          "<b>Country: </b>%{customdata}<br><br><b>Index value: </b>%{z}",
          "<b>Country: </b>%{customdata}<br><br><b>Index value: </b>%{z}",
          "<b>Country: </b>%{customdata}<br><br><b>Index value: </b>%{z}",
          "<b>Country: </b>%{customdata}<br><br><b>Index value: </b>%{z}",
          "<b>Country: </b>%{customdata}<br><br><b>Index value: </b>%{z}",
          "<b>Country: </b>%{customdata}<br><br><b>Index value: </b>%{z}",
          "<b>Country: </b>%{customdata}<br><br><b>Index value: </b>%{z}",
          "<b>Country: </b>%{customdata}<br><br><b>Index value: </b>%{z}",
          "<b>Country: </b>%{customdata}<br><br><b>Index value: </b>%{z}",
          "<b>Country: </b>%{customdata}<br><br><b>Index value: </b>%{z}",
          "<b>Country: </b>%{customdata}<br><br><b>Index value: </b>%{z}",
          "<b>Country: </b>%{customdata}<br><br><b>Index value: </b>%{z}",
          "<b>Country: </b>%{customdata}<br><br><b>Index value: </b>%{z}",
          "<b>Country: </b>%{customdata}<br><br><b>Index value: </b>%{z}",
          "<b>Country: </b>%{customdata}<br><br><b>Index value: </b>%{z}",
          "<b>Country: </b>%{customdata}<br><br><b>Index value: </b>%{z}",
          "<b>Country: </b>%{customdata}<br><br><b>Index value: </b>%{z}",
          "<b>Country: </b>%{customdata}<br><br><b>Index value: </b>%{z}",
          "<b>Country: </b>%{customdata}<br><br><b>Index value: </b>%{z}",
          "<b>Country: </b>%{customdata}<br><br><b>Index value: </b>%{z}",
          "<b>Country: </b>%{customdata}<br><br><b>Index value: </b>%{z}",
          "<b>Country: </b>%{customdata}<br><br><b>Index value: </b>%{z}",
          "<b>Country: </b>%{customdata}<br><br><b>Index value: </b>%{z}",
          "<b>Country: </b>%{customdata}<br><br><b>Index value: </b>%{z}",
          "<b>Country: </b>%{customdata}<br><br><b>Index value: </b>%{z}",
          "<b>Country: </b>%{customdata}<br><br><b>Index value: </b>%{z}",
          "<b>Country: </b>%{customdata}<br><br><b>Index value: </b>%{z}",
          "<b>Country: </b>%{customdata}<br><br><b>Index value: </b>%{z}",
          "<b>Country: </b>%{customdata}<br><br><b>Index value: </b>%{z}",
          "<b>Country: </b> %{customdata}<br><br>No data available",
          "<b>Country: </b>%{customdata}<br><br><b>Index value: </b>%{z}",
          "<b>Country: </b>%{customdata}<br><br><b>Index value: </b>%{z}",
          "<b>Country: </b>%{customdata}<br><br><b>Index value: </b>%{z}",
          "<b>Country: </b>%{customdata}<br><br><b>Index value: </b>%{z}",
          "<b>Country: </b>%{customdata}<br><br><b>Index value: </b>%{z}",
          "<b>Country: </b> %{customdata}<br><br>No data available",
          "<b>Country: </b>%{customdata}<br><br><b>Index value: </b>%{z}",
          "<b>Country: </b>%{customdata}<br><br><b>Index value: </b>%{z}",
          "<b>Country: </b>%{customdata}<br><br><b>Index value: </b>%{z}",
          "<b>Country: </b>%{customdata}<br><br><b>Index value: </b>%{z}",
          "<b>Country: </b>%{customdata}<br><br><b>Index value: </b>%{z}",
          "<b>Country: </b>%{customdata}<br><br><b>Index value: </b>%{z}",
          "<b>Country: </b>%{customdata}<br><br><b>Index value: </b>%{z}",
          "<b>Country: </b>%{customdata}<br><br><b>Index value: </b>%{z}",
          "<b>Country: </b>%{customdata}<br><br><b>Index value: </b>%{z}",
          "<b>Country: </b>%{customdata}<br><br><b>Index value: </b>%{z}",
          "<b>Country: </b>%{customdata}<br><br><b>Index value: </b>%{z}",
          "<b>Country: </b>%{customdata}<br><br><b>Index value: </b>%{z}",
          "<b>Country: </b>%{customdata}<br><br><b>Index value: </b>%{z}",
          "<b>Country: </b>%{customdata}<br><br><b>Index value: </b>%{z}",
          "<b>Country: </b>%{customdata}<br><br><b>Index value: </b>%{z}",
          "<b>Country: </b>%{customdata}<br><br><b>Index value: </b>%{z}",
          "<b>Country: </b>%{customdata}<br><br><b>Index value: </b>%{z}",
          "<b>Country: </b>%{customdata}<br><br><b>Index value: </b>%{z}",
          "<b>Country: </b>%{customdata}<br><br><b>Index value: </b>%{z}",
          "<b>Country: </b>%{customdata}<br><br><b>Index value: </b>%{z}",
          "<b>Country: </b>%{customdata}<br><br><b>Index value: </b>%{z}",
          "<b>Country: </b>%{customdata}<br><br><b>Index value: </b>%{z}",
          "<b>Country: </b>%{customdata}<br><br><b>Index value: </b>%{z}",
          "<b>Country: </b>%{customdata}<br><br><b>Index value: </b>%{z}",
          "<b>Country: </b>%{customdata}<br><br><b>Index value: </b>%{z}",
          "<b>Country: </b>%{customdata}<br><br><b>Index value: </b>%{z}",
          "<b>Country: </b>%{customdata}<br><br><b>Index value: </b>%{z}",
          "<b>Country: </b>%{customdata}<br><br><b>Index value: </b>%{z}",
          "<b>Country: </b>%{customdata}<br><br><b>Index value: </b>%{z}",
          "<b>Country: </b>%{customdata}<br><br><b>Index value: </b>%{z}",
          "<b>Country: </b>%{customdata}<br><br><b>Index value: </b>%{z}",
          "<b>Country: </b> %{customdata}<br><br>No data available",
          "<b>Country: </b>%{customdata}<br><br><b>Index value: </b>%{z}",
          "<b>Country: </b>%{customdata}<br><br><b>Index value: </b>%{z}",
          "<b>Country: </b>%{customdata}<br><br><b>Index value: </b>%{z}",
          "<b>Country: </b>%{customdata}<br><br><b>Index value: </b>%{z}",
          "<b>Country: </b>%{customdata}<br><br><b>Index value: </b>%{z}",
          "<b>Country: </b> %{customdata}<br><br>No data available",
          "<b>Country: </b>%{customdata}<br><br><b>Index value: </b>%{z}",
          "<b>Country: </b>%{customdata}<br><br><b>Index value: </b>%{z}",
          "<b>Country: </b>%{customdata}<br><br><b>Index value: </b>%{z}",
          "<b>Country: </b>%{customdata}<br><br><b>Index value: </b>%{z}",
          "<b>Country: </b>%{customdata}<br><br><b>Index value: </b>%{z}",
          "<b>Country: </b>%{customdata}<br><br><b>Index value: </b>%{z}",
          "<b>Country: </b>%{customdata}<br><br><b>Index value: </b>%{z}",
          "<b>Country: </b>%{customdata}<br><br><b>Index value: </b>%{z}",
          "<b>Country: </b>%{customdata}<br><br><b>Index value: </b>%{z}",
          "<b>Country: </b>%{customdata}<br><br><b>Index value: </b>%{z}",
          "<b>Country: </b>%{customdata}<br><br><b>Index value: </b>%{z}",
          "<b>Country: </b>%{customdata}<br><br><b>Index value: </b>%{z}",
          "<b>Country: </b>%{customdata}<br><br><b>Index value: </b>%{z}",
          "<b>Country: </b>%{customdata}<br><br><b>Index value: </b>%{z}",
          "<b>Country: </b>%{customdata}<br><br><b>Index value: </b>%{z}",
          "<b>Country: </b>%{customdata}<br><br><b>Index value: </b>%{z}",
          "<b>Country: </b>%{customdata}<br><br><b>Index value: </b>%{z}",
          "<b>Country: </b>%{customdata}<br><br><b>Index value: </b>%{z}",
          "<b>Country: </b>%{customdata}<br><br><b>Index value: </b>%{z}",
          "<b>Country: </b>%{customdata}<br><br><b>Index value: </b>%{z}",
          "<b>Country: </b>%{customdata}<br><br><b>Index value: </b>%{z}",
          "<b>Country: </b>%{customdata}<br><br><b>Index value: </b>%{z}",
          "<b>Country: </b>%{customdata}<br><br><b>Index value: </b>%{z}",
          "<b>Country: </b>%{customdata}<br><br><b>Index value: </b>%{z}",
          "<b>Country: </b>%{customdata}<br><br><b>Index value: </b>%{z}",
          "<b>Country: </b>%{customdata}<br><br><b>Index value: </b>%{z}",
          "<b>Country: </b>%{customdata}<br><br><b>Index value: </b>%{z}",
          "<b>Country: </b>%{customdata}<br><br><b>Index value: </b>%{z}",
          "<b>Country: </b>%{customdata}<br><br><b>Index value: </b>%{z}",
          "<b>Country: </b>%{customdata}<br><br><b>Index value: </b>%{z}",
          "<b>Country: </b>%{customdata}<br><br><b>Index value: </b>%{z}",
          "<b>Country: </b> %{customdata}<br><br>No data available",
          "<b>Country: </b>%{customdata}<br><br><b>Index value: </b>%{z}",
          "<b>Country: </b>%{customdata}<br><br><b>Index value: </b>%{z}",
          "<b>Country: </b>%{customdata}<br><br><b>Index value: </b>%{z}",
          "<b>Country: </b>%{customdata}<br><br><b>Index value: </b>%{z}",
          "<b>Country: </b>%{customdata}<br><br><b>Index value: </b>%{z}",
          "<b>Country: </b> %{customdata}<br><br>No data available",
          "<b>Country: </b>%{customdata}<br><br><b>Index value: </b>%{z}",
          "<b>Country: </b>%{customdata}<br><br><b>Index value: </b>%{z}",
          "<b>Country: </b>%{customdata}<br><br><b>Index value: </b>%{z}",
          "<b>Country: </b>%{customdata}<br><br><b>Index value: </b>%{z}",
          "<b>Country: </b>%{customdata}<br><br><b>Index value: </b>%{z}",
          "<b>Country: </b>%{customdata}<br><br><b>Index value: </b>%{z}",
          "<b>Country: </b>%{customdata}<br><br><b>Index value: </b>%{z}",
          "<b>Country: </b>%{customdata}<br><br><b>Index value: </b>%{z}",
          "<b>Country: </b>%{customdata}<br><br><b>Index value: </b>%{z}",
          "<b>Country: </b>%{customdata}<br><br><b>Index value: </b>%{z}",
          "<b>Country: </b>%{customdata}<br><br><b>Index value: </b>%{z}",
          "<b>Country: </b>%{customdata}<br><br><b>Index value: </b>%{z}",
          "<b>Country: </b>%{customdata}<br><br><b>Index value: </b>%{z}",
          "<b>Country: </b>%{customdata}<br><br><b>Index value: </b>%{z}",
          "<b>Country: </b>%{customdata}<br><br><b>Index value: </b>%{z}",
          "<b>Country: </b>%{customdata}<br><br><b>Index value: </b>%{z}",
          "<b>Country: </b>%{customdata}<br><br><b>Index value: </b>%{z}",
          "<b>Country: </b>%{customdata}<br><br><b>Index value: </b>%{z}",
          "<b>Country: </b>%{customdata}<br><br><b>Index value: </b>%{z}",
          "<b>Country: </b>%{customdata}<br><br><b>Index value: </b>%{z}",
          "<b>Country: </b>%{customdata}<br><br><b>Index value: </b>%{z}",
          "<b>Country: </b>%{customdata}<br><br><b>Index value: </b>%{z}",
          "<b>Country: </b>%{customdata}<br><br><b>Index value: </b>%{z}",
          "<b>Country: </b>%{customdata}<br><br><b>Index value: </b>%{z}",
          "<b>Country: </b>%{customdata}<br><br><b>Index value: </b>%{z}",
          "<b>Country: </b>%{customdata}<br><br><b>Index value: </b>%{z}",
          "<b>Country: </b>%{customdata}<br><br><b>Index value: </b>%{z}",
          "<b>Country: </b>%{customdata}<br><br><b>Index value: </b>%{z}",
          "<b>Country: </b>%{customdata}<br><br><b>Index value: </b>%{z}",
          "<b>Country: </b>%{customdata}<br><br><b>Index value: </b>%{z}",
          "<b>Country: </b>%{customdata}<br><br><b>Index value: </b>%{z}",
          "<b>Country: </b> %{customdata}<br><br>No data available",
          "<b>Country: </b>%{customdata}<br><br><b>Index value: </b>%{z}",
          "<b>Country: </b>%{customdata}<br><br><b>Index value: </b>%{z}",
          "<b>Country: </b>%{customdata}<br><br><b>Index value: </b>%{z}",
          "<b>Country: </b>%{customdata}<br><br><b>Index value: </b>%{z}",
          "<b>Country: </b>%{customdata}<br><br><b>Index value: </b>%{z}",
          "<b>Country: </b> %{customdata}<br><br>No data available",
          "<b>Country: </b>%{customdata}<br><br><b>Index value: </b>%{z}",
          "<b>Country: </b>%{customdata}<br><br><b>Index value: </b>%{z}",
          "<b>Country: </b>%{customdata}<br><br><b>Index value: </b>%{z}",
          "<b>Country: </b>%{customdata}<br><br><b>Index value: </b>%{z}",
          "<b>Country: </b>%{customdata}<br><br><b>Index value: </b>%{z}",
          "<b>Country: </b>%{customdata}<br><br><b>Index value: </b>%{z}",
          "<b>Country: </b>%{customdata}<br><br><b>Index value: </b>%{z}",
          "<b>Country: </b>%{customdata}<br><br><b>Index value: </b>%{z}",
          "<b>Country: </b>%{customdata}<br><br><b>Index value: </b>%{z}",
          "<b>Country: </b>%{customdata}<br><br><b>Index value: </b>%{z}",
          "<b>Country: </b>%{customdata}<br><br><b>Index value: </b>%{z}",
          "<b>Country: </b>%{customdata}<br><br><b>Index value: </b>%{z}",
          "<b>Country: </b>%{customdata}<br><br><b>Index value: </b>%{z}",
          "<b>Country: </b>%{customdata}<br><br><b>Index value: </b>%{z}",
          "<b>Country: </b>%{customdata}<br><br><b>Index value: </b>%{z}",
          "<b>Country: </b>%{customdata}<br><br><b>Index value: </b>%{z}",
          "<b>Country: </b>%{customdata}<br><br><b>Index value: </b>%{z}",
          "<b>Country: </b>%{customdata}<br><br><b>Index value: </b>%{z}",
          "<b>Country: </b>%{customdata}<br><br><b>Index value: </b>%{z}",
          "<b>Country: </b>%{customdata}<br><br><b>Index value: </b>%{z}",
          "<b>Country: </b>%{customdata}<br><br><b>Index value: </b>%{z}",
          "<b>Country: </b>%{customdata}<br><br><b>Index value: </b>%{z}",
          "<b>Country: </b>%{customdata}<br><br><b>Index value: </b>%{z}",
          "<b>Country: </b>%{customdata}<br><br><b>Index value: </b>%{z}",
          "<b>Country: </b>%{customdata}<br><br><b>Index value: </b>%{z}",
          "<b>Country: </b>%{customdata}<br><br><b>Index value: </b>%{z}",
          "<b>Country: </b>%{customdata}<br><br><b>Index value: </b>%{z}",
          "<b>Country: </b>%{customdata}<br><br><b>Index value: </b>%{z}",
          "<b>Country: </b>%{customdata}<br><br><b>Index value: </b>%{z}",
          "<b>Country: </b>%{customdata}<br><br><b>Index value: </b>%{z}",
          "<b>Country: </b>%{customdata}<br><br><b>Index value: </b>%{z}",
          "<b>Country: </b> %{customdata}<br><br>No data available",
          "<b>Country: </b>%{customdata}<br><br><b>Index value: </b>%{z}",
          "<b>Country: </b>%{customdata}<br><br><b>Index value: </b>%{z}",
          "<b>Country: </b>%{customdata}<br><br><b>Index value: </b>%{z}",
          "<b>Country: </b>%{customdata}<br><br><b>Index value: </b>%{z}",
          "<b>Country: </b>%{customdata}<br><br><b>Index value: </b>%{z}",
          "<b>Country: </b> %{customdata}<br><br>No data available",
          "<b>Country: </b>%{customdata}<br><br><b>Index value: </b>%{z}",
          "<b>Country: </b>%{customdata}<br><br><b>Index value: </b>%{z}",
          "<b>Country: </b>%{customdata}<br><br><b>Index value: </b>%{z}",
          "<b>Country: </b>%{customdata}<br><br><b>Index value: </b>%{z}",
          "<b>Country: </b>%{customdata}<br><br><b>Index value: </b>%{z}",
          "<b>Country: </b>%{customdata}<br><br><b>Index value: </b>%{z}",
          "<b>Country: </b>%{customdata}<br><br><b>Index value: </b>%{z}",
          "<b>Country: </b>%{customdata}<br><br><b>Index value: </b>%{z}",
          "<b>Country: </b>%{customdata}<br><br><b>Index value: </b>%{z}",
          "<b>Country: </b>%{customdata}<br><br><b>Index value: </b>%{z}",
          "<b>Country: </b>%{customdata}<br><br><b>Index value: </b>%{z}",
          "<b>Country: </b>%{customdata}<br><br><b>Index value: </b>%{z}",
          "<b>Country: </b>%{customdata}<br><br><b>Index value: </b>%{z}",
          "<b>Country: </b>%{customdata}<br><br><b>Index value: </b>%{z}",
          "<b>Country: </b>%{customdata}<br><br><b>Index value: </b>%{z}",
          "<b>Country: </b>%{customdata}<br><br><b>Index value: </b>%{z}",
          "<b>Country: </b>%{customdata}<br><br><b>Index value: </b>%{z}",
          "<b>Country: </b>%{customdata}<br><br><b>Index value: </b>%{z}",
          "<b>Country: </b>%{customdata}<br><br><b>Index value: </b>%{z}",
          "<b>Country: </b>%{customdata}<br><br><b>Index value: </b>%{z}",
          "<b>Country: </b>%{customdata}<br><br><b>Index value: </b>%{z}",
          "<b>Country: </b>%{customdata}<br><br><b>Index value: </b>%{z}",
          "<b>Country: </b>%{customdata}<br><br><b>Index value: </b>%{z}",
          "<b>Country: </b>%{customdata}<br><br><b>Index value: </b>%{z}",
          "<b>Country: </b>%{customdata}<br><br><b>Index value: </b>%{z}",
          "<b>Country: </b>%{customdata}<br><br><b>Index value: </b>%{z}",
          "<b>Country: </b>%{customdata}<br><br><b>Index value: </b>%{z}",
          "<b>Country: </b>%{customdata}<br><br><b>Index value: </b>%{z}",
          "<b>Country: </b>%{customdata}<br><br><b>Index value: </b>%{z}",
          "<b>Country: </b>%{customdata}<br><br><b>Index value: </b>%{z}",
          "<b>Country: </b>%{customdata}<br><br><b>Index value: </b>%{z}",
          "<b>Country: </b> %{customdata}<br><br>No data available",
          "<b>Country: </b>%{customdata}<br><br><b>Index value: </b>%{z}",
          "<b>Country: </b>%{customdata}<br><br><b>Index value: </b>%{z}",
          "<b>Country: </b>%{customdata}<br><br><b>Index value: </b>%{z}",
          "<b>Country: </b>%{customdata}<br><br><b>Index value: </b>%{z}",
          "<b>Country: </b>%{customdata}<br><br><b>Index value: </b>%{z}",
          "<b>Country: </b> %{customdata}<br><br>No data available",
          "<b>Country: </b>%{customdata}<br><br><b>Index value: </b>%{z}",
          "<b>Country: </b>%{customdata}<br><br><b>Index value: </b>%{z}",
          "<b>Country: </b>%{customdata}<br><br><b>Index value: </b>%{z}",
          "<b>Country: </b>%{customdata}<br><br><b>Index value: </b>%{z}",
          "<b>Country: </b>%{customdata}<br><br><b>Index value: </b>%{z}",
          "<b>Country: </b>%{customdata}<br><br><b>Index value: </b>%{z}",
          "<b>Country: </b>%{customdata}<br><br><b>Index value: </b>%{z}",
          "<b>Country: </b>%{customdata}<br><br><b>Index value: </b>%{z}",
          "<b>Country: </b>%{customdata}<br><br><b>Index value: </b>%{z}",
          "<b>Country: </b>%{customdata}<br><br><b>Index value: </b>%{z}",
          "<b>Country: </b>%{customdata}<br><br><b>Index value: </b>%{z}",
          "<b>Country: </b>%{customdata}<br><br><b>Index value: </b>%{z}",
          "<b>Country: </b>%{customdata}<br><br><b>Index value: </b>%{z}",
          "<b>Country: </b>%{customdata}<br><br><b>Index value: </b>%{z}",
          "<b>Country: </b>%{customdata}<br><br><b>Index value: </b>%{z}",
          "<b>Country: </b>%{customdata}<br><br><b>Index value: </b>%{z}",
          "<b>Country: </b>%{customdata}<br><br><b>Index value: </b>%{z}",
          "<b>Country: </b>%{customdata}<br><br><b>Index value: </b>%{z}",
          "<b>Country: </b>%{customdata}<br><br><b>Index value: </b>%{z}",
          "<b>Country: </b>%{customdata}<br><br><b>Index value: </b>%{z}",
          "<b>Country: </b>%{customdata}<br><br><b>Index value: </b>%{z}",
          "<b>Country: </b>%{customdata}<br><br><b>Index value: </b>%{z}",
          "<b>Country: </b>%{customdata}<br><br><b>Index value: </b>%{z}",
          "<b>Country: </b>%{customdata}<br><br><b>Index value: </b>%{z}",
          "<b>Country: </b>%{customdata}<br><br><b>Index value: </b>%{z}",
          "<b>Country: </b>%{customdata}<br><br><b>Index value: </b>%{z}",
          "<b>Country: </b>%{customdata}<br><br><b>Index value: </b>%{z}",
          "<b>Country: </b>%{customdata}<br><br><b>Index value: </b>%{z}",
          "<b>Country: </b>%{customdata}<br><br><b>Index value: </b>%{z}",
          "<b>Country: </b>%{customdata}<br><br><b>Index value: </b>%{z}",
          "<b>Country: </b>%{customdata}<br><br><b>Index value: </b>%{z}",
          "<b>Country: </b> %{customdata}<br><br>No data available",
          "<b>Country: </b>%{customdata}<br><br><b>Index value: </b>%{z}",
          "<b>Country: </b>%{customdata}<br><br><b>Index value: </b>%{z}",
          "<b>Country: </b>%{customdata}<br><br><b>Index value: </b>%{z}",
          "<b>Country: </b>%{customdata}<br><br><b>Index value: </b>%{z}",
          "<b>Country: </b>%{customdata}<br><br><b>Index value: </b>%{z}",
          "<b>Country: </b> %{customdata}<br><br>No data available",
          "<b>Country: </b>%{customdata}<br><br><b>Index value: </b>%{z}",
          "<b>Country: </b>%{customdata}<br><br><b>Index value: </b>%{z}",
          "<b>Country: </b>%{customdata}<br><br><b>Index value: </b>%{z}",
          "<b>Country: </b>%{customdata}<br><br><b>Index value: </b>%{z}",
          "<b>Country: </b>%{customdata}<br><br><b>Index value: </b>%{z}",
          "<b>Country: </b>%{customdata}<br><br><b>Index value: </b>%{z}",
          "<b>Country: </b>%{customdata}<br><br><b>Index value: </b>%{z}",
          "<b>Country: </b>%{customdata}<br><br><b>Index value: </b>%{z}",
          "<b>Country: </b>%{customdata}<br><br><b>Index value: </b>%{z}",
          "<b>Country: </b>%{customdata}<br><br><b>Index value: </b>%{z}",
          "<b>Country: </b>%{customdata}<br><br><b>Index value: </b>%{z}",
          "<b>Country: </b>%{customdata}<br><br><b>Index value: </b>%{z}",
          "<b>Country: </b>%{customdata}<br><br><b>Index value: </b>%{z}",
          "<b>Country: </b>%{customdata}<br><br><b>Index value: </b>%{z}",
          "<b>Country: </b>%{customdata}<br><br><b>Index value: </b>%{z}",
          "<b>Country: </b>%{customdata}<br><br><b>Index value: </b>%{z}",
          "<b>Country: </b>%{customdata}<br><br><b>Index value: </b>%{z}",
          "<b>Country: </b>%{customdata}<br><br><b>Index value: </b>%{z}",
          "<b>Country: </b>%{customdata}<br><br><b>Index value: </b>%{z}",
          "<b>Country: </b>%{customdata}<br><br><b>Index value: </b>%{z}",
          "<b>Country: </b>%{customdata}<br><br><b>Index value: </b>%{z}",
          "<b>Country: </b>%{customdata}<br><br><b>Index value: </b>%{z}",
          "<b>Country: </b>%{customdata}<br><br><b>Index value: </b>%{z}",
          "<b>Country: </b>%{customdata}<br><br><b>Index value: </b>%{z}",
          "<b>Country: </b>%{customdata}<br><br><b>Index value: </b>%{z}",
          "<b>Country: </b>%{customdata}<br><br><b>Index value: </b>%{z}",
          "<b>Country: </b>%{customdata}<br><br><b>Index value: </b>%{z}",
          "<b>Country: </b>%{customdata}<br><br><b>Index value: </b>%{z}",
          "<b>Country: </b>%{customdata}<br><br><b>Index value: </b>%{z}",
          "<b>Country: </b>%{customdata}<br><br><b>Index value: </b>%{z}",
          "<b>Country: </b>%{customdata}<br><br><b>Index value: </b>%{z}",
          "<b>Country: </b> %{customdata}<br><br>No data available",
          "<b>Country: </b>%{customdata}<br><br><b>Index value: </b>%{z}",
          "<b>Country: </b>%{customdata}<br><br><b>Index value: </b>%{z}",
          "<b>Country: </b>%{customdata}<br><br><b>Index value: </b>%{z}",
          "<b>Country: </b>%{customdata}<br><br><b>Index value: </b>%{z}",
          "<b>Country: </b>%{customdata}<br><br><b>Index value: </b>%{z}",
          "<b>Country: </b> %{customdata}<br><br>No data available",
          "<b>Country: </b>%{customdata}<br><br><b>Index value: </b>%{z}",
          "<b>Country: </b>%{customdata}<br><br><b>Index value: </b>%{z}",
          "<b>Country: </b>%{customdata}<br><br><b>Index value: </b>%{z}",
          "<b>Country: </b>%{customdata}<br><br><b>Index value: </b>%{z}",
          "<b>Country: </b>%{customdata}<br><br><b>Index value: </b>%{z}",
          "<b>Country: </b>%{customdata}<br><br><b>Index value: </b>%{z}",
          "<b>Country: </b>%{customdata}<br><br><b>Index value: </b>%{z}",
          "<b>Country: </b>%{customdata}<br><br><b>Index value: </b>%{z}",
          "<b>Country: </b>%{customdata}<br><br><b>Index value: </b>%{z}",
          "<b>Country: </b>%{customdata}<br><br><b>Index value: </b>%{z}",
          "<b>Country: </b>%{customdata}<br><br><b>Index value: </b>%{z}",
          "<b>Country: </b>%{customdata}<br><br><b>Index value: </b>%{z}",
          "<b>Country: </b>%{customdata}<br><br><b>Index value: </b>%{z}",
          "<b>Country: </b>%{customdata}<br><br><b>Index value: </b>%{z}",
          "<b>Country: </b>%{customdata}<br><br><b>Index value: </b>%{z}",
          "<b>Country: </b>%{customdata}<br><br><b>Index value: </b>%{z}",
          "<b>Country: </b>%{customdata}<br><br><b>Index value: </b>%{z}",
          "<b>Country: </b>%{customdata}<br><br><b>Index value: </b>%{z}",
          "<b>Country: </b>%{customdata}<br><br><b>Index value: </b>%{z}",
          "<b>Country: </b>%{customdata}<br><br><b>Index value: </b>%{z}",
          "<b>Country: </b>%{customdata}<br><br><b>Index value: </b>%{z}",
          "<b>Country: </b>%{customdata}<br><br><b>Index value: </b>%{z}",
          "<b>Country: </b>%{customdata}<br><br><b>Index value: </b>%{z}",
          "<b>Country: </b>%{customdata}<br><br><b>Index value: </b>%{z}",
          "<b>Country: </b>%{customdata}<br><br><b>Index value: </b>%{z}",
          "<b>Country: </b>%{customdata}<br><br><b>Index value: </b>%{z}",
          "<b>Country: </b>%{customdata}<br><br><b>Index value: </b>%{z}",
          "<b>Country: </b>%{customdata}<br><br><b>Index value: </b>%{z}",
          "<b>Country: </b>%{customdata}<br><br><b>Index value: </b>%{z}",
          "<b>Country: </b>%{customdata}<br><br><b>Index value: </b>%{z}",
          "<b>Country: </b>%{customdata}<br><br><b>Index value: </b>%{z}",
          "<b>Country: </b> %{customdata}<br><br>No data available",
          "<b>Country: </b>%{customdata}<br><br><b>Index value: </b>%{z}",
          "<b>Country: </b>%{customdata}<br><br><b>Index value: </b>%{z}",
          "<b>Country: </b>%{customdata}<br><br><b>Index value: </b>%{z}",
          "<b>Country: </b>%{customdata}<br><br><b>Index value: </b>%{z}",
          "<b>Country: </b>%{customdata}<br><br><b>Index value: </b>%{z}",
          "<b>Country: </b> %{customdata}<br><br>No data available",
          "<b>Country: </b>%{customdata}<br><br><b>Index value: </b>%{z}",
          "<b>Country: </b>%{customdata}<br><br><b>Index value: </b>%{z}",
          "<b>Country: </b>%{customdata}<br><br><b>Index value: </b>%{z}",
          "<b>Country: </b>%{customdata}<br><br><b>Index value: </b>%{z}",
          "<b>Country: </b>%{customdata}<br><br><b>Index value: </b>%{z}",
          "<b>Country: </b>%{customdata}<br><br><b>Index value: </b>%{z}",
          "<b>Country: </b>%{customdata}<br><br><b>Index value: </b>%{z}",
          "<b>Country: </b>%{customdata}<br><br><b>Index value: </b>%{z}",
          "<b>Country: </b>%{customdata}<br><br><b>Index value: </b>%{z}",
          "<b>Country: </b>%{customdata}<br><br><b>Index value: </b>%{z}",
          "<b>Country: </b>%{customdata}<br><br><b>Index value: </b>%{z}",
          "<b>Country: </b>%{customdata}<br><br><b>Index value: </b>%{z}",
          "<b>Country: </b>%{customdata}<br><br><b>Index value: </b>%{z}",
          "<b>Country: </b>%{customdata}<br><br><b>Index value: </b>%{z}",
          "<b>Country: </b>%{customdata}<br><br><b>Index value: </b>%{z}",
          "<b>Country: </b>%{customdata}<br><br><b>Index value: </b>%{z}",
          "<b>Country: </b>%{customdata}<br><br><b>Index value: </b>%{z}",
          "<b>Country: </b>%{customdata}<br><br><b>Index value: </b>%{z}",
          "<b>Country: </b>%{customdata}<br><br><b>Index value: </b>%{z}",
          "<b>Country: </b>%{customdata}<br><br><b>Index value: </b>%{z}",
          "<b>Country: </b>%{customdata}<br><br><b>Index value: </b>%{z}",
          "<b>Country: </b>%{customdata}<br><br><b>Index value: </b>%{z}",
          "<b>Country: </b>%{customdata}<br><br><b>Index value: </b>%{z}",
          "<b>Country: </b>%{customdata}<br><br><b>Index value: </b>%{z}",
          "<b>Country: </b>%{customdata}<br><br><b>Index value: </b>%{z}",
          "<b>Country: </b>%{customdata}<br><br><b>Index value: </b>%{z}",
          "<b>Country: </b>%{customdata}<br><br><b>Index value: </b>%{z}",
          "<b>Country: </b>%{customdata}<br><br><b>Index value: </b>%{z}",
          "<b>Country: </b>%{customdata}<br><br><b>Index value: </b>%{z}",
          "<b>Country: </b>%{customdata}<br><br><b>Index value: </b>%{z}",
          "<b>Country: </b>%{customdata}<br><br><b>Index value: </b>%{z}",
          "<b>Country: </b> %{customdata}<br><br>No data available",
          "<b>Country: </b>%{customdata}<br><br><b>Index value: </b>%{z}",
          "<b>Country: </b>%{customdata}<br><br><b>Index value: </b>%{z}",
          "<b>Country: </b>%{customdata}<br><br><b>Index value: </b>%{z}",
          "<b>Country: </b>%{customdata}<br><br><b>Index value: </b>%{z}",
          "<b>Country: </b>%{customdata}<br><br><b>Index value: </b>%{z}",
          "<b>Country: </b> %{customdata}<br><br>No data available",
          "<b>Country: </b>%{customdata}<br><br><b>Index value: </b>%{z}",
          "<b>Country: </b>%{customdata}<br><br><b>Index value: </b>%{z}",
          "<b>Country: </b>%{customdata}<br><br><b>Index value: </b>%{z}",
          "<b>Country: </b>%{customdata}<br><br><b>Index value: </b>%{z}",
          "<b>Country: </b>%{customdata}<br><br><b>Index value: </b>%{z}",
          "<b>Country: </b>%{customdata}<br><br><b>Index value: </b>%{z}",
          "<b>Country: </b>%{customdata}<br><br><b>Index value: </b>%{z}",
          "<b>Country: </b>%{customdata}<br><br><b>Index value: </b>%{z}",
          "<b>Country: </b>%{customdata}<br><br><b>Index value: </b>%{z}",
          "<b>Country: </b>%{customdata}<br><br><b>Index value: </b>%{z}",
          "<b>Country: </b>%{customdata}<br><br><b>Index value: </b>%{z}",
          "<b>Country: </b>%{customdata}<br><br><b>Index value: </b>%{z}",
          "<b>Country: </b>%{customdata}<br><br><b>Index value: </b>%{z}",
          "<b>Country: </b>%{customdata}<br><br><b>Index value: </b>%{z}",
          "<b>Country: </b>%{customdata}<br><br><b>Index value: </b>%{z}",
          "<b>Country: </b>%{customdata}<br><br><b>Index value: </b>%{z}",
          "<b>Country: </b>%{customdata}<br><br><b>Index value: </b>%{z}",
          "<b>Country: </b>%{customdata}<br><br><b>Index value: </b>%{z}",
          "<b>Country: </b>%{customdata}<br><br><b>Index value: </b>%{z}",
          "<b>Country: </b>%{customdata}<br><br><b>Index value: </b>%{z}",
          "<b>Country: </b>%{customdata}<br><br><b>Index value: </b>%{z}",
          "<b>Country: </b>%{customdata}<br><br><b>Index value: </b>%{z}",
          "<b>Country: </b>%{customdata}<br><br><b>Index value: </b>%{z}",
          "<b>Country: </b>%{customdata}<br><br><b>Index value: </b>%{z}",
          "<b>Country: </b>%{customdata}<br><br><b>Index value: </b>%{z}",
          "<b>Country: </b>%{customdata}<br><br><b>Index value: </b>%{z}",
          "<b>Country: </b>%{customdata}<br><br><b>Index value: </b>%{z}",
          "<b>Country: </b>%{customdata}<br><br><b>Index value: </b>%{z}",
          "<b>Country: </b>%{customdata}<br><br><b>Index value: </b>%{z}",
          "<b>Country: </b>%{customdata}<br><br><b>Index value: </b>%{z}",
          "<b>Country: </b>%{customdata}<br><br><b>Index value: </b>%{z}",
          "<b>Country: </b> %{customdata}<br><br>No data available",
          "<b>Country: </b>%{customdata}<br><br><b>Index value: </b>%{z}",
          "<b>Country: </b>%{customdata}<br><br><b>Index value: </b>%{z}",
          "<b>Country: </b> %{customdata}<br><br>No data available",
          "<b>Country: </b>%{customdata}<br><br><b>Index value: </b>%{z}",
          "<b>Country: </b>%{customdata}<br><br><b>Index value: </b>%{z}",
          "<b>Country: </b> %{customdata}<br><br>No data available",
          "<b>Country: </b>%{customdata}<br><br><b>Index value: </b>%{z}",
          "<b>Country: </b>%{customdata}<br><br><b>Index value: </b>%{z}",
          "<b>Country: </b>%{customdata}<br><br><b>Index value: </b>%{z}",
          "<b>Country: </b>%{customdata}<br><br><b>Index value: </b>%{z}",
          "<b>Country: </b>%{customdata}<br><br><b>Index value: </b>%{z}",
          "<b>Country: </b>%{customdata}<br><br><b>Index value: </b>%{z}",
          "<b>Country: </b>%{customdata}<br><br><b>Index value: </b>%{z}",
          "<b>Country: </b>%{customdata}<br><br><b>Index value: </b>%{z}",
          "<b>Country: </b>%{customdata}<br><br><b>Index value: </b>%{z}",
          "<b>Country: </b>%{customdata}<br><br><b>Index value: </b>%{z}",
          "<b>Country: </b>%{customdata}<br><br><b>Index value: </b>%{z}",
          "<b>Country: </b>%{customdata}<br><br><b>Index value: </b>%{z}",
          "<b>Country: </b>%{customdata}<br><br><b>Index value: </b>%{z}",
          "<b>Country: </b>%{customdata}<br><br><b>Index value: </b>%{z}",
          "<b>Country: </b>%{customdata}<br><br><b>Index value: </b>%{z}",
          "<b>Country: </b>%{customdata}<br><br><b>Index value: </b>%{z}",
          "<b>Country: </b>%{customdata}<br><br><b>Index value: </b>%{z}",
          "<b>Country: </b>%{customdata}<br><br><b>Index value: </b>%{z}",
          "<b>Country: </b>%{customdata}<br><br><b>Index value: </b>%{z}",
          "<b>Country: </b>%{customdata}<br><br><b>Index value: </b>%{z}",
          "<b>Country: </b>%{customdata}<br><br><b>Index value: </b>%{z}",
          "<b>Country: </b>%{customdata}<br><br><b>Index value: </b>%{z}",
          "<b>Country: </b>%{customdata}<br><br><b>Index value: </b>%{z}",
          "<b>Country: </b>%{customdata}<br><br><b>Index value: </b>%{z}",
          "<b>Country: </b>%{customdata}<br><br><b>Index value: </b>%{z}",
          "<b>Country: </b>%{customdata}<br><br><b>Index value: </b>%{z}",
          "<b>Country: </b>%{customdata}<br><br><b>Index value: </b>%{z}",
          "<b>Country: </b>%{customdata}<br><br><b>Index value: </b>%{z}",
          "<b>Country: </b>%{customdata}<br><br><b>Index value: </b>%{z}",
          "<b>Country: </b>%{customdata}<br><br><b>Index value: </b>%{z}",
          "<b>Country: </b>%{customdata}<br><br><b>Index value: </b>%{z}",
          "<b>Country: </b> %{customdata}<br><br>No data available",
          "<b>Country: </b>%{customdata}<br><br><b>Index value: </b>%{z}",
          "<b>Country: </b>%{customdata}<br><br><b>Index value: </b>%{z}",
          "<b>Country: </b> %{customdata}<br><br>No data available",
          "<b>Country: </b>%{customdata}<br><br><b>Index value: </b>%{z}",
          "<b>Country: </b>%{customdata}<br><br><b>Index value: </b>%{z}",
          "<b>Country: </b> %{customdata}<br><br>No data available",
          "<b>Country: </b>%{customdata}<br><br><b>Index value: </b>%{z}",
          "<b>Country: </b>%{customdata}<br><br><b>Index value: </b>%{z}"
         ],
         "hovertext": [
          "EU",
          "Belgium",
          "Bulgaria",
          "Czech Republic",
          "Denmark",
          "Germany",
          "Estonia",
          "Ireland",
          "Greece",
          "Spain",
          "France",
          "Croatia",
          "Italy",
          "Cyprus",
          "Latvia",
          "Lithuania",
          "Luxembourg",
          "Hungary",
          "Malta",
          "Netherlands",
          "Austria",
          "Poland",
          "Portugal",
          "Romania",
          "Slovenia",
          "Slovakia",
          "Finland",
          "Sweden",
          "Iceland",
          "Liechtenstein",
          "Norway",
          "Switzerland",
          "United Kingdom",
          "Montenegro",
          "North Macedonia",
          "Albania",
          "Serbia",
          "Turkey"
         ],
         "ids": [
          "EU",
          "Belgium",
          "Bulgaria",
          "Czech Republic",
          "Denmark",
          "Germany",
          "Estonia",
          "Ireland",
          "Greece",
          "Spain",
          "France",
          "Croatia",
          "Italy",
          "Cyprus",
          "Latvia",
          "Lithuania",
          "Luxembourg",
          "Hungary",
          "Malta",
          "Netherlands",
          "Austria",
          "Poland",
          "Portugal",
          "Romania",
          "Slovenia",
          "Slovakia",
          "Finland",
          "Sweden",
          "Iceland",
          "Liechtenstein",
          "Norway",
          "Switzerland",
          "United Kingdom",
          "Montenegro",
          "North Macedonia",
          "Albania",
          "Serbia",
          "Turkey"
         ],
         "locations": [
          null,
          "BEL",
          "BGR",
          "CZE",
          "DNK",
          "DEU",
          "EST",
          "IRL",
          "GRC",
          "ESP",
          "FRA",
          "HRV",
          "ITA",
          "CYP",
          "LVA",
          "LTU",
          "LUX",
          "HUN",
          "MLT",
          "NLD",
          "AUT",
          "POL",
          "PRT",
          "ROU",
          "SVN",
          "SVK",
          "FIN",
          "SWE",
          "ISL",
          "LIE",
          "NOR",
          "CHE",
          "GBR",
          "MNE",
          "MKD",
          "ALB",
          "SRB",
          "TUR"
         ],
         "name": "",
         "z": [
          103.7,
          114.1,
          91.5,
          101.2,
          98.7,
          101.4,
          95.1,
          128.7,
          82.6,
          106.3,
          108.7,
          99.2,
          99.4,
          86.9,
          111.3,
          153.4,
          98.1,
          108.1,
          115.5,
          106.9,
          97.0,
          112.5,
          95.9,
          96.3,
          99.9,
          107.6,
          98.2,
          98.5,
          101.5,
          0.0,
          100.4,
          115.3,
          108.4,
          108.8,
          75.1,
          0.0,
          110.8,
          110.7
         ],
         "type": "choropleth",
         "customdata": [
          "EU",
          "Belgium",
          "Bulgaria",
          "Czech Republic",
          "Denmark",
          "Germany",
          "Estonia",
          "Ireland",
          "Greece",
          "Spain",
          "France",
          "Croatia",
          "Italy",
          "Cyprus",
          "Latvia",
          "Lithuania",
          "Luxembourg",
          "Hungary",
          "Malta",
          "Netherlands",
          "Austria",
          "Poland",
          "Portugal",
          "Romania",
          "Slovenia",
          "Slovakia",
          "Finland",
          "Sweden",
          "Iceland",
          "Liechtenstein",
          "Norway",
          "Switzerland",
          "United Kingdom",
          "Montenegro",
          "North Macedonia",
          "Albania",
          "Serbia",
          "Turkey",
          "EU",
          "Belgium",
          "Bulgaria",
          "Czech Republic",
          "Denmark",
          "Germany",
          "Estonia",
          "Ireland",
          "Greece",
          "Spain",
          "France",
          "Croatia",
          "Italy",
          "Cyprus",
          "Latvia",
          "Lithuania",
          "Luxembourg",
          "Hungary",
          "Malta",
          "Netherlands",
          "Austria",
          "Poland",
          "Portugal",
          "Romania",
          "Slovenia",
          "Slovakia",
          "Finland",
          "Sweden",
          "Iceland",
          "Liechtenstein",
          "Norway",
          "Switzerland",
          "United Kingdom",
          "Montenegro",
          "North Macedonia",
          "Albania",
          "Serbia",
          "Turkey",
          "EU",
          "Belgium",
          "Bulgaria",
          "Czech Republic",
          "Denmark",
          "Germany",
          "Estonia",
          "Ireland",
          "Greece",
          "Spain",
          "France",
          "Croatia",
          "Italy",
          "Cyprus",
          "Latvia",
          "Lithuania",
          "Luxembourg",
          "Hungary",
          "Malta",
          "Netherlands",
          "Austria",
          "Poland",
          "Portugal",
          "Romania",
          "Slovenia",
          "Slovakia",
          "Finland",
          "Sweden",
          "Iceland",
          "Liechtenstein",
          "Norway",
          "Switzerland",
          "United Kingdom",
          "Montenegro",
          "North Macedonia",
          "Albania",
          "Serbia",
          "Turkey",
          "EU",
          "Belgium",
          "Bulgaria",
          "Czech Republic",
          "Denmark",
          "Germany",
          "Estonia",
          "Ireland",
          "Greece",
          "Spain",
          "France",
          "Croatia",
          "Italy",
          "Cyprus",
          "Latvia",
          "Lithuania",
          "Luxembourg",
          "Hungary",
          "Malta",
          "Netherlands",
          "Austria",
          "Poland",
          "Portugal",
          "Romania",
          "Slovenia",
          "Slovakia",
          "Finland",
          "Sweden",
          "Iceland",
          "Liechtenstein",
          "Norway",
          "Switzerland",
          "United Kingdom",
          "Montenegro",
          "North Macedonia",
          "Albania",
          "Serbia",
          "Turkey",
          "EU",
          "Belgium",
          "Bulgaria",
          "Czech Republic",
          "Denmark",
          "Germany",
          "Estonia",
          "Ireland",
          "Greece",
          "Spain",
          "France",
          "Croatia",
          "Italy",
          "Cyprus",
          "Latvia",
          "Lithuania",
          "Luxembourg",
          "Hungary",
          "Malta",
          "Netherlands",
          "Austria",
          "Poland",
          "Portugal",
          "Romania",
          "Slovenia",
          "Slovakia",
          "Finland",
          "Sweden",
          "Iceland",
          "Liechtenstein",
          "Norway",
          "Switzerland",
          "United Kingdom",
          "Montenegro",
          "North Macedonia",
          "Albania",
          "Serbia",
          "Turkey",
          "EU",
          "Belgium",
          "Bulgaria",
          "Czech Republic",
          "Denmark",
          "Germany",
          "Estonia",
          "Ireland",
          "Greece",
          "Spain",
          "France",
          "Croatia",
          "Italy",
          "Cyprus",
          "Latvia",
          "Lithuania",
          "Luxembourg",
          "Hungary",
          "Malta",
          "Netherlands",
          "Austria",
          "Poland",
          "Portugal",
          "Romania",
          "Slovenia",
          "Slovakia",
          "Finland",
          "Sweden",
          "Iceland",
          "Liechtenstein",
          "Norway",
          "Switzerland",
          "United Kingdom",
          "Montenegro",
          "North Macedonia",
          "Albania",
          "Serbia",
          "Turkey",
          "EU",
          "Belgium",
          "Bulgaria",
          "Czech Republic",
          "Denmark",
          "Germany",
          "Estonia",
          "Ireland",
          "Greece",
          "Spain",
          "France",
          "Croatia",
          "Italy",
          "Cyprus",
          "Latvia",
          "Lithuania",
          "Luxembourg",
          "Hungary",
          "Malta",
          "Netherlands",
          "Austria",
          "Poland",
          "Portugal",
          "Romania",
          "Slovenia",
          "Slovakia",
          "Finland",
          "Sweden",
          "Iceland",
          "Liechtenstein",
          "Norway",
          "Switzerland",
          "United Kingdom",
          "Montenegro",
          "North Macedonia",
          "Albania",
          "Serbia",
          "Turkey",
          "EU",
          "Belgium",
          "Bulgaria",
          "Czech Republic",
          "Denmark",
          "Germany",
          "Estonia",
          "Ireland",
          "Greece",
          "Spain",
          "France",
          "Croatia",
          "Italy",
          "Cyprus",
          "Latvia",
          "Lithuania",
          "Luxembourg",
          "Hungary",
          "Malta",
          "Netherlands",
          "Austria",
          "Poland",
          "Portugal",
          "Romania",
          "Slovenia",
          "Slovakia",
          "Finland",
          "Sweden",
          "Iceland",
          "Liechtenstein",
          "Norway",
          "Switzerland",
          "United Kingdom",
          "Montenegro",
          "North Macedonia",
          "Albania",
          "Serbia",
          "Turkey",
          "EU",
          "Belgium",
          "Bulgaria",
          "Czech Republic",
          "Denmark",
          "Germany",
          "Estonia",
          "Ireland",
          "Greece",
          "Spain",
          "France",
          "Croatia",
          "Italy",
          "Cyprus",
          "Latvia",
          "Lithuania",
          "Luxembourg",
          "Hungary",
          "Malta",
          "Netherlands",
          "Austria",
          "Poland",
          "Portugal",
          "Romania",
          "Slovenia",
          "Slovakia",
          "Finland",
          "Sweden",
          "Iceland",
          "Liechtenstein",
          "Norway",
          "Switzerland",
          "United Kingdom",
          "Montenegro",
          "North Macedonia",
          "Albania",
          "Serbia",
          "Turkey",
          "EU",
          "Belgium",
          "Bulgaria",
          "Czech Republic",
          "Denmark",
          "Germany",
          "Estonia",
          "Ireland",
          "Greece",
          "Spain",
          "France",
          "Croatia",
          "Italy",
          "Cyprus",
          "Latvia",
          "Lithuania",
          "Luxembourg",
          "Hungary",
          "Malta",
          "Netherlands",
          "Austria",
          "Poland",
          "Portugal",
          "Romania",
          "Slovenia",
          "Slovakia",
          "Finland",
          "Sweden",
          "Iceland",
          "Liechtenstein",
          "Norway",
          "Switzerland",
          "United Kingdom",
          "Montenegro",
          "North Macedonia",
          "Albania",
          "Serbia",
          "Turkey",
          "EU",
          "Belgium",
          "Bulgaria",
          "Czech Republic",
          "Denmark",
          "Germany",
          "Estonia",
          "Ireland",
          "Greece",
          "Spain",
          "France",
          "Croatia",
          "Italy",
          "Cyprus",
          "Latvia",
          "Lithuania",
          "Luxembourg",
          "Hungary",
          "Malta",
          "Netherlands",
          "Austria",
          "Poland",
          "Portugal",
          "Romania",
          "Slovenia",
          "Slovakia",
          "Finland",
          "Sweden",
          "Iceland",
          "Liechtenstein",
          "Norway",
          "Switzerland",
          "United Kingdom",
          "Montenegro",
          "North Macedonia",
          "Albania",
          "Serbia",
          "Turkey",
          "EU",
          "Belgium",
          "Bulgaria",
          "Czech Republic",
          "Denmark",
          "Germany",
          "Estonia",
          "Ireland",
          "Greece",
          "Spain",
          "France",
          "Croatia",
          "Italy",
          "Cyprus",
          "Latvia",
          "Lithuania",
          "Luxembourg",
          "Hungary",
          "Malta",
          "Netherlands",
          "Austria",
          "Poland",
          "Portugal",
          "Romania",
          "Slovenia",
          "Slovakia",
          "Finland",
          "Sweden",
          "Iceland",
          "Liechtenstein",
          "Norway",
          "Switzerland",
          "United Kingdom",
          "Montenegro",
          "North Macedonia",
          "Albania",
          "Serbia",
          "Turkey"
         ]
        }
       ],
       "layout": {
        "template": {
         "data": {
          "histogram2dcontour": [
           {
            "type": "histogram2dcontour",
            "colorbar": {
             "outlinewidth": 0,
             "ticks": ""
            },
            "colorscale": [
             [
              0.0,
              "#0d0887"
             ],
             [
              0.1111111111111111,
              "#46039f"
             ],
             [
              0.2222222222222222,
              "#7201a8"
             ],
             [
              0.3333333333333333,
              "#9c179e"
             ],
             [
              0.4444444444444444,
              "#bd3786"
             ],
             [
              0.5555555555555556,
              "#d8576b"
             ],
             [
              0.6666666666666666,
              "#ed7953"
             ],
             [
              0.7777777777777778,
              "#fb9f3a"
             ],
             [
              0.8888888888888888,
              "#fdca26"
             ],
             [
              1.0,
              "#f0f921"
             ]
            ]
           }
          ],
          "choropleth": [
           {
            "type": "choropleth",
            "colorbar": {
             "outlinewidth": 0,
             "ticks": ""
            }
           }
          ],
          "histogram2d": [
           {
            "type": "histogram2d",
            "colorbar": {
             "outlinewidth": 0,
             "ticks": ""
            },
            "colorscale": [
             [
              0.0,
              "#0d0887"
             ],
             [
              0.1111111111111111,
              "#46039f"
             ],
             [
              0.2222222222222222,
              "#7201a8"
             ],
             [
              0.3333333333333333,
              "#9c179e"
             ],
             [
              0.4444444444444444,
              "#bd3786"
             ],
             [
              0.5555555555555556,
              "#d8576b"
             ],
             [
              0.6666666666666666,
              "#ed7953"
             ],
             [
              0.7777777777777778,
              "#fb9f3a"
             ],
             [
              0.8888888888888888,
              "#fdca26"
             ],
             [
              1.0,
              "#f0f921"
             ]
            ]
           }
          ],
          "heatmap": [
           {
            "type": "heatmap",
            "colorbar": {
             "outlinewidth": 0,
             "ticks": ""
            },
            "colorscale": [
             [
              0.0,
              "#0d0887"
             ],
             [
              0.1111111111111111,
              "#46039f"
             ],
             [
              0.2222222222222222,
              "#7201a8"
             ],
             [
              0.3333333333333333,
              "#9c179e"
             ],
             [
              0.4444444444444444,
              "#bd3786"
             ],
             [
              0.5555555555555556,
              "#d8576b"
             ],
             [
              0.6666666666666666,
              "#ed7953"
             ],
             [
              0.7777777777777778,
              "#fb9f3a"
             ],
             [
              0.8888888888888888,
              "#fdca26"
             ],
             [
              1.0,
              "#f0f921"
             ]
            ]
           }
          ],
          "heatmapgl": [
           {
            "type": "heatmapgl",
            "colorbar": {
             "outlinewidth": 0,
             "ticks": ""
            },
            "colorscale": [
             [
              0.0,
              "#0d0887"
             ],
             [
              0.1111111111111111,
              "#46039f"
             ],
             [
              0.2222222222222222,
              "#7201a8"
             ],
             [
              0.3333333333333333,
              "#9c179e"
             ],
             [
              0.4444444444444444,
              "#bd3786"
             ],
             [
              0.5555555555555556,
              "#d8576b"
             ],
             [
              0.6666666666666666,
              "#ed7953"
             ],
             [
              0.7777777777777778,
              "#fb9f3a"
             ],
             [
              0.8888888888888888,
              "#fdca26"
             ],
             [
              1.0,
              "#f0f921"
             ]
            ]
           }
          ],
          "contourcarpet": [
           {
            "type": "contourcarpet",
            "colorbar": {
             "outlinewidth": 0,
             "ticks": ""
            }
           }
          ],
          "contour": [
           {
            "type": "contour",
            "colorbar": {
             "outlinewidth": 0,
             "ticks": ""
            },
            "colorscale": [
             [
              0.0,
              "#0d0887"
             ],
             [
              0.1111111111111111,
              "#46039f"
             ],
             [
              0.2222222222222222,
              "#7201a8"
             ],
             [
              0.3333333333333333,
              "#9c179e"
             ],
             [
              0.4444444444444444,
              "#bd3786"
             ],
             [
              0.5555555555555556,
              "#d8576b"
             ],
             [
              0.6666666666666666,
              "#ed7953"
             ],
             [
              0.7777777777777778,
              "#fb9f3a"
             ],
             [
              0.8888888888888888,
              "#fdca26"
             ],
             [
              1.0,
              "#f0f921"
             ]
            ]
           }
          ],
          "surface": [
           {
            "type": "surface",
            "colorbar": {
             "outlinewidth": 0,
             "ticks": ""
            },
            "colorscale": [
             [
              0.0,
              "#0d0887"
             ],
             [
              0.1111111111111111,
              "#46039f"
             ],
             [
              0.2222222222222222,
              "#7201a8"
             ],
             [
              0.3333333333333333,
              "#9c179e"
             ],
             [
              0.4444444444444444,
              "#bd3786"
             ],
             [
              0.5555555555555556,
              "#d8576b"
             ],
             [
              0.6666666666666666,
              "#ed7953"
             ],
             [
              0.7777777777777778,
              "#fb9f3a"
             ],
             [
              0.8888888888888888,
              "#fdca26"
             ],
             [
              1.0,
              "#f0f921"
             ]
            ]
           }
          ],
          "mesh3d": [
           {
            "type": "mesh3d",
            "colorbar": {
             "outlinewidth": 0,
             "ticks": ""
            }
           }
          ],
          "scatter": [
           {
            "marker": {
             "line": {
              "color": "#283442"
             }
            },
            "type": "scatter"
           }
          ],
          "parcoords": [
           {
            "type": "parcoords",
            "line": {
             "colorbar": {
              "outlinewidth": 0,
              "ticks": ""
             }
            }
           }
          ],
          "scatterpolargl": [
           {
            "type": "scatterpolargl",
            "marker": {
             "colorbar": {
              "outlinewidth": 0,
              "ticks": ""
             }
            }
           }
          ],
          "bar": [
           {
            "error_x": {
             "color": "#f2f5fa"
            },
            "error_y": {
             "color": "#f2f5fa"
            },
            "marker": {
             "line": {
              "color": "rgb(17,17,17)",
              "width": 0.5
             },
             "pattern": {
              "fillmode": "overlay",
              "size": 10,
              "solidity": 0.2
             }
            },
            "type": "bar"
           }
          ],
          "scattergeo": [
           {
            "type": "scattergeo",
            "marker": {
             "colorbar": {
              "outlinewidth": 0,
              "ticks": ""
             }
            }
           }
          ],
          "scatterpolar": [
           {
            "type": "scatterpolar",
            "marker": {
             "colorbar": {
              "outlinewidth": 0,
              "ticks": ""
             }
            }
           }
          ],
          "histogram": [
           {
            "marker": {
             "pattern": {
              "fillmode": "overlay",
              "size": 10,
              "solidity": 0.2
             }
            },
            "type": "histogram"
           }
          ],
          "scattergl": [
           {
            "marker": {
             "line": {
              "color": "#283442"
             }
            },
            "type": "scattergl"
           }
          ],
          "scatter3d": [
           {
            "type": "scatter3d",
            "line": {
             "colorbar": {
              "outlinewidth": 0,
              "ticks": ""
             }
            },
            "marker": {
             "colorbar": {
              "outlinewidth": 0,
              "ticks": ""
             }
            }
           }
          ],
          "scattermapbox": [
           {
            "type": "scattermapbox",
            "marker": {
             "colorbar": {
              "outlinewidth": 0,
              "ticks": ""
             }
            }
           }
          ],
          "scatterternary": [
           {
            "type": "scatterternary",
            "marker": {
             "colorbar": {
              "outlinewidth": 0,
              "ticks": ""
             }
            }
           }
          ],
          "scattercarpet": [
           {
            "type": "scattercarpet",
            "marker": {
             "colorbar": {
              "outlinewidth": 0,
              "ticks": ""
             }
            }
           }
          ],
          "carpet": [
           {
            "aaxis": {
             "endlinecolor": "#A2B1C6",
             "gridcolor": "#506784",
             "linecolor": "#506784",
             "minorgridcolor": "#506784",
             "startlinecolor": "#A2B1C6"
            },
            "baxis": {
             "endlinecolor": "#A2B1C6",
             "gridcolor": "#506784",
             "linecolor": "#506784",
             "minorgridcolor": "#506784",
             "startlinecolor": "#A2B1C6"
            },
            "type": "carpet"
           }
          ],
          "table": [
           {
            "cells": {
             "fill": {
              "color": "#506784"
             },
             "line": {
              "color": "rgb(17,17,17)"
             }
            },
            "header": {
             "fill": {
              "color": "#2a3f5f"
             },
             "line": {
              "color": "rgb(17,17,17)"
             }
            },
            "type": "table"
           }
          ],
          "barpolar": [
           {
            "marker": {
             "line": {
              "color": "rgb(17,17,17)",
              "width": 0.5
             },
             "pattern": {
              "fillmode": "overlay",
              "size": 10,
              "solidity": 0.2
             }
            },
            "type": "barpolar"
           }
          ],
          "pie": [
           {
            "automargin": true,
            "type": "pie"
           }
          ]
         },
         "layout": {
          "autotypenumbers": "strict",
          "colorway": [
           "#636efa",
           "#EF553B",
           "#00cc96",
           "#ab63fa",
           "#FFA15A",
           "#19d3f3",
           "#FF6692",
           "#B6E880",
           "#FF97FF",
           "#FECB52"
          ],
          "font": {
           "color": "#f2f5fa"
          },
          "hovermode": "closest",
          "hoverlabel": {
           "align": "left"
          },
          "paper_bgcolor": "rgb(17,17,17)",
          "plot_bgcolor": "rgb(17,17,17)",
          "polar": {
           "bgcolor": "rgb(17,17,17)",
           "angularaxis": {
            "gridcolor": "#506784",
            "linecolor": "#506784",
            "ticks": ""
           },
           "radialaxis": {
            "gridcolor": "#506784",
            "linecolor": "#506784",
            "ticks": ""
           }
          },
          "ternary": {
           "bgcolor": "rgb(17,17,17)",
           "aaxis": {
            "gridcolor": "#506784",
            "linecolor": "#506784",
            "ticks": ""
           },
           "baxis": {
            "gridcolor": "#506784",
            "linecolor": "#506784",
            "ticks": ""
           },
           "caxis": {
            "gridcolor": "#506784",
            "linecolor": "#506784",
            "ticks": ""
           }
          },
          "coloraxis": {
           "colorbar": {
            "outlinewidth": 0,
            "ticks": ""
           }
          },
          "colorscale": {
           "sequential": [
            [
             0.0,
             "#0d0887"
            ],
            [
             0.1111111111111111,
             "#46039f"
            ],
            [
             0.2222222222222222,
             "#7201a8"
            ],
            [
             0.3333333333333333,
             "#9c179e"
            ],
            [
             0.4444444444444444,
             "#bd3786"
            ],
            [
             0.5555555555555556,
             "#d8576b"
            ],
            [
             0.6666666666666666,
             "#ed7953"
            ],
            [
             0.7777777777777778,
             "#fb9f3a"
            ],
            [
             0.8888888888888888,
             "#fdca26"
            ],
            [
             1.0,
             "#f0f921"
            ]
           ],
           "sequentialminus": [
            [
             0.0,
             "#0d0887"
            ],
            [
             0.1111111111111111,
             "#46039f"
            ],
            [
             0.2222222222222222,
             "#7201a8"
            ],
            [
             0.3333333333333333,
             "#9c179e"
            ],
            [
             0.4444444444444444,
             "#bd3786"
            ],
            [
             0.5555555555555556,
             "#d8576b"
            ],
            [
             0.6666666666666666,
             "#ed7953"
            ],
            [
             0.7777777777777778,
             "#fb9f3a"
            ],
            [
             0.8888888888888888,
             "#fdca26"
            ],
            [
             1.0,
             "#f0f921"
            ]
           ],
           "diverging": [
            [
             0,
             "#8e0152"
            ],
            [
             0.1,
             "#c51b7d"
            ],
            [
             0.2,
             "#de77ae"
            ],
            [
             0.3,
             "#f1b6da"
            ],
            [
             0.4,
             "#fde0ef"
            ],
            [
             0.5,
             "#f7f7f7"
            ],
            [
             0.6,
             "#e6f5d0"
            ],
            [
             0.7,
             "#b8e186"
            ],
            [
             0.8,
             "#7fbc41"
            ],
            [
             0.9,
             "#4d9221"
            ],
            [
             1,
             "#276419"
            ]
           ]
          },
          "xaxis": {
           "gridcolor": "#283442",
           "linecolor": "#506784",
           "ticks": "",
           "title": {
            "standoff": 15
           },
           "zerolinecolor": "#283442",
           "automargin": true,
           "zerolinewidth": 2
          },
          "yaxis": {
           "gridcolor": "#283442",
           "linecolor": "#506784",
           "ticks": "",
           "title": {
            "standoff": 15
           },
           "zerolinecolor": "#283442",
           "automargin": true,
           "zerolinewidth": 2
          },
          "scene": {
           "xaxis": {
            "backgroundcolor": "rgb(17,17,17)",
            "gridcolor": "#506784",
            "linecolor": "#506784",
            "showbackground": true,
            "ticks": "",
            "zerolinecolor": "#C8D4E3",
            "gridwidth": 2
           },
           "yaxis": {
            "backgroundcolor": "rgb(17,17,17)",
            "gridcolor": "#506784",
            "linecolor": "#506784",
            "showbackground": true,
            "ticks": "",
            "zerolinecolor": "#C8D4E3",
            "gridwidth": 2
           },
           "zaxis": {
            "backgroundcolor": "rgb(17,17,17)",
            "gridcolor": "#506784",
            "linecolor": "#506784",
            "showbackground": true,
            "ticks": "",
            "zerolinecolor": "#C8D4E3",
            "gridwidth": 2
           }
          },
          "shapedefaults": {
           "line": {
            "color": "#f2f5fa"
           }
          },
          "annotationdefaults": {
           "arrowcolor": "#f2f5fa",
           "arrowhead": 0,
           "arrowwidth": 1
          },
          "geo": {
           "bgcolor": "rgb(17,17,17)",
           "landcolor": "rgb(17,17,17)",
           "subunitcolor": "#506784",
           "showland": true,
           "showlakes": true,
           "lakecolor": "rgb(17,17,17)"
          },
          "title": {
           "x": 0.05
          },
          "updatemenudefaults": {
           "bgcolor": "#506784",
           "borderwidth": 0
          },
          "sliderdefaults": {
           "bgcolor": "#C8D4E3",
           "borderwidth": 1,
           "bordercolor": "rgb(17,17,17)",
           "tickwidth": 0
          },
          "mapbox": {
           "style": "dark"
          }
         }
        },
        "geo": {
         "domain": {
          "x": [
           0.0,
           1.0
          ],
          "y": [
           0.0,
           1.0
          ]
         },
         "projection": {
          "type": "miller"
         },
         "center": {},
         "scope": "europe"
        },
        "coloraxis": {
         "colorbar": {
          "title": {
           "text": "index"
          },
          "x": 0,
          "y": 0.5
         },
         "colorscale": [
          [
           0,
           "gray"
          ],
          [
           0.01,
           "gray"
          ],
          [
           0.01,
           "blue"
          ],
          [
           1,
           "red"
          ]
         ],
         "cmin": 0,
         "cmax": 153.4
        },
        "legend": {
         "tracegroupgap": 0
        },
        "margin": {
         "t": 60
        },
        "updatemenus": [
         {
          "buttons": [
           {
            "args": [
             null,
             {
              "frame": {
               "duration": 500,
               "redraw": true
              },
              "mode": "immediate",
              "fromcurrent": true,
              "transition": {
               "duration": 500,
               "easing": "linear"
              }
             }
            ],
            "label": "&#9654;",
            "method": "animate"
           },
           {
            "args": [
             [
              null
             ],
             {
              "frame": {
               "duration": 0,
               "redraw": true
              },
              "mode": "immediate",
              "fromcurrent": true,
              "transition": {
               "duration": 0,
               "easing": "linear"
              }
             }
            ],
            "label": "&#9724;",
            "method": "animate"
           }
          ],
          "direction": "left",
          "pad": {
           "r": 10,
           "t": 70
          },
          "showactive": false,
          "type": "buttons",
          "x": 0.1,
          "xanchor": "right",
          "y": 0,
          "yanchor": "top"
         }
        ],
        "sliders": [
         {
          "active": 0,
          "currentvalue": {
           "prefix": "year="
          },
          "len": 0.9,
          "pad": {
           "b": 10,
           "t": 60
          },
          "steps": [
           {
            "args": [
             [
              "2010"
             ],
             {
              "frame": {
               "duration": 0,
               "redraw": true
              },
              "mode": "immediate",
              "fromcurrent": true,
              "transition": {
               "duration": 0,
               "easing": "linear"
              }
             }
            ],
            "label": "2010",
            "method": "animate"
           },
           {
            "args": [
             [
              "2011"
             ],
             {
              "frame": {
               "duration": 0,
               "redraw": true
              },
              "mode": "immediate",
              "fromcurrent": true,
              "transition": {
               "duration": 0,
               "easing": "linear"
              }
             }
            ],
            "label": "2011",
            "method": "animate"
           },
           {
            "args": [
             [
              "2012"
             ],
             {
              "frame": {
               "duration": 0,
               "redraw": true
              },
              "mode": "immediate",
              "fromcurrent": true,
              "transition": {
               "duration": 0,
               "easing": "linear"
              }
             }
            ],
            "label": "2012",
            "method": "animate"
           },
           {
            "args": [
             [
              "2013"
             ],
             {
              "frame": {
               "duration": 0,
               "redraw": true
              },
              "mode": "immediate",
              "fromcurrent": true,
              "transition": {
               "duration": 0,
               "easing": "linear"
              }
             }
            ],
            "label": "2013",
            "method": "animate"
           },
           {
            "args": [
             [
              "2014"
             ],
             {
              "frame": {
               "duration": 0,
               "redraw": true
              },
              "mode": "immediate",
              "fromcurrent": true,
              "transition": {
               "duration": 0,
               "easing": "linear"
              }
             }
            ],
            "label": "2014",
            "method": "animate"
           },
           {
            "args": [
             [
              "2015"
             ],
             {
              "frame": {
               "duration": 0,
               "redraw": true
              },
              "mode": "immediate",
              "fromcurrent": true,
              "transition": {
               "duration": 0,
               "easing": "linear"
              }
             }
            ],
            "label": "2015",
            "method": "animate"
           },
           {
            "args": [
             [
              "2016"
             ],
             {
              "frame": {
               "duration": 0,
               "redraw": true
              },
              "mode": "immediate",
              "fromcurrent": true,
              "transition": {
               "duration": 0,
               "easing": "linear"
              }
             }
            ],
            "label": "2016",
            "method": "animate"
           },
           {
            "args": [
             [
              "2017"
             ],
             {
              "frame": {
               "duration": 0,
               "redraw": true
              },
              "mode": "immediate",
              "fromcurrent": true,
              "transition": {
               "duration": 0,
               "easing": "linear"
              }
             }
            ],
            "label": "2017",
            "method": "animate"
           },
           {
            "args": [
             [
              "2018"
             ],
             {
              "frame": {
               "duration": 0,
               "redraw": true
              },
              "mode": "immediate",
              "fromcurrent": true,
              "transition": {
               "duration": 0,
               "easing": "linear"
              }
             }
            ],
            "label": "2018",
            "method": "animate"
           },
           {
            "args": [
             [
              "2019"
             ],
             {
              "frame": {
               "duration": 0,
               "redraw": true
              },
              "mode": "immediate",
              "fromcurrent": true,
              "transition": {
               "duration": 0,
               "easing": "linear"
              }
             }
            ],
            "label": "2019",
            "method": "animate"
           },
           {
            "args": [
             [
              "2020"
             ],
             {
              "frame": {
               "duration": 0,
               "redraw": true
              },
              "mode": "immediate",
              "fromcurrent": true,
              "transition": {
               "duration": 0,
               "easing": "linear"
              }
             }
            ],
            "label": "2020",
            "method": "animate"
           },
           {
            "args": [
             [
              "2021"
             ],
             {
              "frame": {
               "duration": 0,
               "redraw": true
              },
              "mode": "immediate",
              "fromcurrent": true,
              "transition": {
               "duration": 0,
               "easing": "linear"
              }
             }
            ],
            "label": "2021",
            "method": "animate"
           }
          ],
          "x": 0.1,
          "xanchor": "left",
          "y": 0,
          "yanchor": "top"
         }
        ],
        "title": {
         "text": "<b>Volume of passengers relative to GDP</b><br>EU index: 103.7"
        },
        "width": 1000,
        "height": 600
       },
       "frames": [
        {
         "data": [
          {
           "coloraxis": "coloraxis",
           "geo": "geo",
           "hovertemplate": "<b>%{hovertext}</b><br><br>year=2010<br>iso_alpha=%{location}<br>index=%{z}<extra></extra>",
           "hovertext": [
            "EU",
            "Belgium",
            "Bulgaria",
            "Czech Republic",
            "Denmark",
            "Germany",
            "Estonia",
            "Ireland",
            "Greece",
            "Spain",
            "France",
            "Croatia",
            "Italy",
            "Cyprus",
            "Latvia",
            "Lithuania",
            "Luxembourg",
            "Hungary",
            "Malta",
            "Netherlands",
            "Austria",
            "Poland",
            "Portugal",
            "Romania",
            "Slovenia",
            "Slovakia",
            "Finland",
            "Sweden",
            "Iceland",
            "Liechtenstein",
            "Norway",
            "Switzerland",
            "United Kingdom",
            "Montenegro",
            "North Macedonia",
            "Albania",
            "Serbia",
            "Turkey"
           ],
           "ids": [
            "EU",
            "Belgium",
            "Bulgaria",
            "Czech Republic",
            "Denmark",
            "Germany",
            "Estonia",
            "Ireland",
            "Greece",
            "Spain",
            "France",
            "Croatia",
            "Italy",
            "Cyprus",
            "Latvia",
            "Lithuania",
            "Luxembourg",
            "Hungary",
            "Malta",
            "Netherlands",
            "Austria",
            "Poland",
            "Portugal",
            "Romania",
            "Slovenia",
            "Slovakia",
            "Finland",
            "Sweden",
            "Iceland",
            "Liechtenstein",
            "Norway",
            "Switzerland",
            "United Kingdom",
            "Montenegro",
            "North Macedonia",
            "Albania",
            "Serbia",
            "Turkey"
           ],
           "locations": [
            null,
            "BEL",
            "BGR",
            "CZE",
            "DNK",
            "DEU",
            "EST",
            "IRL",
            "GRC",
            "ESP",
            "FRA",
            "HRV",
            "ITA",
            "CYP",
            "LVA",
            "LTU",
            "LUX",
            "HUN",
            "MLT",
            "NLD",
            "AUT",
            "POL",
            "PRT",
            "ROU",
            "SVN",
            "SVK",
            "FIN",
            "SWE",
            "ISL",
            "LIE",
            "NOR",
            "CHE",
            "GBR",
            "MNE",
            "MKD",
            "ALB",
            "SRB",
            "TUR"
           ],
           "name": "",
           "z": [
            103.7,
            114.1,
            91.5,
            101.2,
            98.7,
            101.4,
            95.1,
            128.7,
            82.6,
            106.3,
            108.7,
            99.2,
            99.4,
            86.9,
            111.3,
            153.4,
            98.1,
            108.1,
            115.5,
            106.9,
            97.0,
            112.5,
            95.9,
            96.3,
            99.9,
            107.6,
            98.2,
            98.5,
            101.5,
            0.0,
            100.4,
            115.3,
            108.4,
            108.8,
            75.1,
            0.0,
            110.8,
            110.7
           ],
           "type": "choropleth"
          }
         ],
         "name": "2010"
        },
        {
         "data": [
          {
           "coloraxis": "coloraxis",
           "geo": "geo",
           "hovertemplate": "<b>%{hovertext}</b><br><br>year=2011<br>iso_alpha=%{location}<br>index=%{z}<extra></extra>",
           "hovertext": [
            "EU",
            "Belgium",
            "Bulgaria",
            "Czech Republic",
            "Denmark",
            "Germany",
            "Estonia",
            "Ireland",
            "Greece",
            "Spain",
            "France",
            "Croatia",
            "Italy",
            "Cyprus",
            "Latvia",
            "Lithuania",
            "Luxembourg",
            "Hungary",
            "Malta",
            "Netherlands",
            "Austria",
            "Poland",
            "Portugal",
            "Romania",
            "Slovenia",
            "Slovakia",
            "Finland",
            "Sweden",
            "Iceland",
            "Liechtenstein",
            "Norway",
            "Switzerland",
            "United Kingdom",
            "Montenegro",
            "North Macedonia",
            "Albania",
            "Serbia",
            "Turkey"
           ],
           "ids": [
            "EU",
            "Belgium",
            "Bulgaria",
            "Czech Republic",
            "Denmark",
            "Germany",
            "Estonia",
            "Ireland",
            "Greece",
            "Spain",
            "France",
            "Croatia",
            "Italy",
            "Cyprus",
            "Latvia",
            "Lithuania",
            "Luxembourg",
            "Hungary",
            "Malta",
            "Netherlands",
            "Austria",
            "Poland",
            "Portugal",
            "Romania",
            "Slovenia",
            "Slovakia",
            "Finland",
            "Sweden",
            "Iceland",
            "Liechtenstein",
            "Norway",
            "Switzerland",
            "United Kingdom",
            "Montenegro",
            "North Macedonia",
            "Albania",
            "Serbia",
            "Turkey"
           ],
           "locations": [
            null,
            "BEL",
            "BGR",
            "CZE",
            "DNK",
            "DEU",
            "EST",
            "IRL",
            "GRC",
            "ESP",
            "FRA",
            "HRV",
            "ITA",
            "CYP",
            "LVA",
            "LTU",
            "LUX",
            "HUN",
            "MLT",
            "NLD",
            "AUT",
            "POL",
            "PRT",
            "ROU",
            "SVN",
            "SVK",
            "FIN",
            "SWE",
            "ISL",
            "LIE",
            "NOR",
            "CHE",
            "GBR",
            "MNE",
            "MKD",
            "ALB",
            "SRB",
            "TUR"
           ],
           "name": "",
           "z": [
            102.2,
            110.5,
            91.2,
            100.0,
            99.5,
            101.0,
            90.6,
            126.0,
            90.6,
            106.6,
            107.1,
            96.5,
            94.7,
            87.2,
            102.7,
            134.2,
            98.8,
            105.7,
            115.2,
            105.9,
            96.0,
            110.4,
            95.7,
            91.0,
            98.6,
            105.3,
            96.6,
            104.4,
            96.0,
            0.0,
            100.9,
            103.6,
            107.1,
            101.0,
            83.0,
            0.0,
            94.9,
            106.3
           ],
           "type": "choropleth"
          }
         ],
         "name": "2011"
        },
        {
         "data": [
          {
           "coloraxis": "coloraxis",
           "geo": "geo",
           "hovertemplate": "<b>%{hovertext}</b><br><br>year=2012<br>iso_alpha=%{location}<br>index=%{z}<extra></extra>",
           "hovertext": [
            "EU",
            "Belgium",
            "Bulgaria",
            "Czech Republic",
            "Denmark",
            "Germany",
            "Estonia",
            "Ireland",
            "Greece",
            "Spain",
            "France",
            "Croatia",
            "Italy",
            "Cyprus",
            "Latvia",
            "Lithuania",
            "Luxembourg",
            "Hungary",
            "Malta",
            "Netherlands",
            "Austria",
            "Poland",
            "Portugal",
            "Romania",
            "Slovenia",
            "Slovakia",
            "Finland",
            "Sweden",
            "Iceland",
            "Liechtenstein",
            "Norway",
            "Switzerland",
            "United Kingdom",
            "Montenegro",
            "North Macedonia",
            "Albania",
            "Serbia",
            "Turkey"
           ],
           "ids": [
            "EU",
            "Belgium",
            "Bulgaria",
            "Czech Republic",
            "Denmark",
            "Germany",
            "Estonia",
            "Ireland",
            "Greece",
            "Spain",
            "France",
            "Croatia",
            "Italy",
            "Cyprus",
            "Latvia",
            "Lithuania",
            "Luxembourg",
            "Hungary",
            "Malta",
            "Netherlands",
            "Austria",
            "Poland",
            "Portugal",
            "Romania",
            "Slovenia",
            "Slovakia",
            "Finland",
            "Sweden",
            "Iceland",
            "Liechtenstein",
            "Norway",
            "Switzerland",
            "United Kingdom",
            "Montenegro",
            "North Macedonia",
            "Albania",
            "Serbia",
            "Turkey"
           ],
           "locations": [
            null,
            "BEL",
            "BGR",
            "CZE",
            "DNK",
            "DEU",
            "EST",
            "IRL",
            "GRC",
            "ESP",
            "FRA",
            "HRV",
            "ITA",
            "CYP",
            "LVA",
            "LTU",
            "LUX",
            "HUN",
            "MLT",
            "NLD",
            "AUT",
            "POL",
            "PRT",
            "ROU",
            "SVN",
            "SVK",
            "FIN",
            "SWE",
            "ISL",
            "LIE",
            "NOR",
            "CHE",
            "GBR",
            "MNE",
            "MKD",
            "ALB",
            "SRB",
            "TUR"
           ],
           "name": "",
           "z": [
            100.9,
            114.0,
            91.9,
            99.6,
            98.7,
            101.1,
            91.9,
            123.4,
            96.3,
            105.9,
            106.6,
            100.9,
            87.3,
            91.1,
            96.5,
            146.0,
            99.4,
            107.3,
            111.0,
            106.8,
            96.1,
            104.9,
            98.3,
            92.0,
            100.5,
            103.6,
            97.9,
            104.7,
            96.1,
            0.0,
            98.1,
            102.9,
            106.1,
            105.8,
            77.7,
            0.0,
            96.8,
            107.7
           ],
           "type": "choropleth"
          }
         ],
         "name": "2012"
        },
        {
         "data": [
          {
           "coloraxis": "coloraxis",
           "geo": "geo",
           "hovertemplate": "<b>%{hovertext}</b><br><br>year=2013<br>iso_alpha=%{location}<br>index=%{z}<extra></extra>",
           "hovertext": [
            "EU",
            "Belgium",
            "Bulgaria",
            "Czech Republic",
            "Denmark",
            "Germany",
            "Estonia",
            "Ireland",
            "Greece",
            "Spain",
            "France",
            "Croatia",
            "Italy",
            "Cyprus",
            "Latvia",
            "Lithuania",
            "Luxembourg",
            "Hungary",
            "Malta",
            "Netherlands",
            "Austria",
            "Poland",
            "Portugal",
            "Romania",
            "Slovenia",
            "Slovakia",
            "Finland",
            "Sweden",
            "Iceland",
            "Liechtenstein",
            "Norway",
            "Switzerland",
            "United Kingdom",
            "Montenegro",
            "North Macedonia",
            "Albania",
            "Serbia",
            "Turkey"
           ],
           "ids": [
            "EU",
            "Belgium",
            "Bulgaria",
            "Czech Republic",
            "Denmark",
            "Germany",
            "Estonia",
            "Ireland",
            "Greece",
            "Spain",
            "France",
            "Croatia",
            "Italy",
            "Cyprus",
            "Latvia",
            "Lithuania",
            "Luxembourg",
            "Hungary",
            "Malta",
            "Netherlands",
            "Austria",
            "Poland",
            "Portugal",
            "Romania",
            "Slovenia",
            "Slovakia",
            "Finland",
            "Sweden",
            "Iceland",
            "Liechtenstein",
            "Norway",
            "Switzerland",
            "United Kingdom",
            "Montenegro",
            "North Macedonia",
            "Albania",
            "Serbia",
            "Turkey"
           ],
           "locations": [
            null,
            "BEL",
            "BGR",
            "CZE",
            "DNK",
            "DEU",
            "EST",
            "IRL",
            "GRC",
            "ESP",
            "FRA",
            "HRV",
            "ITA",
            "CYP",
            "LVA",
            "LTU",
            "LUX",
            "HUN",
            "MLT",
            "NLD",
            "AUT",
            "POL",
            "PRT",
            "ROU",
            "SVN",
            "SVK",
            "FIN",
            "SWE",
            "ISL",
            "LIE",
            "NOR",
            "CHE",
            "GBR",
            "MNE",
            "MKD",
            "ALB",
            "SRB",
            "TUR"
           ],
           "name": "",
           "z": [
            100.8,
            111.5,
            94.4,
            100.7,
            97.7,
            100.9,
            93.9,
            125.2,
            98.0,
            105.8,
            99.6,
            101.7,
            94.4,
            96.8,
            95.8,
            138.1,
            98.3,
            104.3,
            106.9,
            108.0,
            97.4,
            104.5,
            98.7,
            94.8,
            101.5,
            103.4,
            98.6,
            103.5,
            94.6,
            0.0,
            98.4,
            101.9,
            102.9,
            104.7,
            96.3,
            0.0,
            96.0,
            102.4
           ],
           "type": "choropleth"
          }
         ],
         "name": "2013"
        },
        {
         "data": [
          {
           "coloraxis": "coloraxis",
           "geo": "geo",
           "hovertemplate": "<b>%{hovertext}</b><br><br>year=2014<br>iso_alpha=%{location}<br>index=%{z}<extra></extra>",
           "hovertext": [
            "EU",
            "Belgium",
            "Bulgaria",
            "Czech Republic",
            "Denmark",
            "Germany",
            "Estonia",
            "Ireland",
            "Greece",
            "Spain",
            "France",
            "Croatia",
            "Italy",
            "Cyprus",
            "Latvia",
            "Lithuania",
            "Luxembourg",
            "Hungary",
            "Malta",
            "Netherlands",
            "Austria",
            "Poland",
            "Portugal",
            "Romania",
            "Slovenia",
            "Slovakia",
            "Finland",
            "Sweden",
            "Iceland",
            "Liechtenstein",
            "Norway",
            "Switzerland",
            "United Kingdom",
            "Montenegro",
            "North Macedonia",
            "Albania",
            "Serbia",
            "Turkey"
           ],
           "ids": [
            "EU",
            "Belgium",
            "Bulgaria",
            "Czech Republic",
            "Denmark",
            "Germany",
            "Estonia",
            "Ireland",
            "Greece",
            "Spain",
            "France",
            "Croatia",
            "Italy",
            "Cyprus",
            "Latvia",
            "Lithuania",
            "Luxembourg",
            "Hungary",
            "Malta",
            "Netherlands",
            "Austria",
            "Poland",
            "Portugal",
            "Romania",
            "Slovenia",
            "Slovakia",
            "Finland",
            "Sweden",
            "Iceland",
            "Liechtenstein",
            "Norway",
            "Switzerland",
            "United Kingdom",
            "Montenegro",
            "North Macedonia",
            "Albania",
            "Serbia",
            "Turkey"
           ],
           "locations": [
            null,
            "BEL",
            "BGR",
            "CZE",
            "DNK",
            "DEU",
            "EST",
            "IRL",
            "GRC",
            "ESP",
            "FRA",
            "HRV",
            "ITA",
            "CYP",
            "LVA",
            "LTU",
            "LUX",
            "HUN",
            "MLT",
            "NLD",
            "AUT",
            "POL",
            "PRT",
            "ROU",
            "SVN",
            "SVK",
            "FIN",
            "SWE",
            "ISL",
            "LIE",
            "NOR",
            "CHE",
            "GBR",
            "MNE",
            "MKD",
            "ALB",
            "SRB",
            "TUR"
           ],
           "name": "",
           "z": [
            100.1,
            103.7,
            99.1,
            103.1,
            98.1,
            100.2,
            95.9,
            114.3,
            98.4,
            99.4,
            99.8,
            102.2,
            96.5,
            100.4,
            99.0,
            101.1,
            98.8,
            101.3,
            104.6,
            106.8,
            99.0,
            102.4,
            99.3,
            97.1,
            100.5,
            101.8,
            99.2,
            102.7,
            97.8,
            0.0,
            99.5,
            100.7,
            102.0,
            101.8,
            102.6,
            0.0,
            98.4,
            100.7
           ],
           "type": "choropleth"
          }
         ],
         "name": "2014"
        },
        {
         "data": [
          {
           "coloraxis": "coloraxis",
           "geo": "geo",
           "hovertemplate": "<b>%{hovertext}</b><br><br>year=2015<br>iso_alpha=%{location}<br>index=%{z}<extra></extra>",
           "hovertext": [
            "EU",
            "Belgium",
            "Bulgaria",
            "Czech Republic",
            "Denmark",
            "Germany",
            "Estonia",
            "Ireland",
            "Greece",
            "Spain",
            "France",
            "Croatia",
            "Italy",
            "Cyprus",
            "Latvia",
            "Lithuania",
            "Luxembourg",
            "Hungary",
            "Malta",
            "Netherlands",
            "Austria",
            "Poland",
            "Portugal",
            "Romania",
            "Slovenia",
            "Slovakia",
            "Finland",
            "Sweden",
            "Iceland",
            "Liechtenstein",
            "Norway",
            "Switzerland",
            "United Kingdom",
            "Montenegro",
            "North Macedonia",
            "Albania",
            "Serbia",
            "Turkey"
           ],
           "ids": [
            "EU",
            "Belgium",
            "Bulgaria",
            "Czech Republic",
            "Denmark",
            "Germany",
            "Estonia",
            "Ireland",
            "Greece",
            "Spain",
            "France",
            "Croatia",
            "Italy",
            "Cyprus",
            "Latvia",
            "Lithuania",
            "Luxembourg",
            "Hungary",
            "Malta",
            "Netherlands",
            "Austria",
            "Poland",
            "Portugal",
            "Romania",
            "Slovenia",
            "Slovakia",
            "Finland",
            "Sweden",
            "Iceland",
            "Liechtenstein",
            "Norway",
            "Switzerland",
            "United Kingdom",
            "Montenegro",
            "North Macedonia",
            "Albania",
            "Serbia",
            "Turkey"
           ],
           "locations": [
            null,
            "BEL",
            "BGR",
            "CZE",
            "DNK",
            "DEU",
            "EST",
            "IRL",
            "GRC",
            "ESP",
            "FRA",
            "HRV",
            "ITA",
            "CYP",
            "LVA",
            "LTU",
            "LUX",
            "HUN",
            "MLT",
            "NLD",
            "AUT",
            "POL",
            "PRT",
            "ROU",
            "SVN",
            "SVK",
            "FIN",
            "SWE",
            "ISL",
            "LIE",
            "NOR",
            "CHE",
            "GBR",
            "MNE",
            "MKD",
            "ALB",
            "SRB",
            "TUR"
           ],
           "name": "",
           "z": [
            100.0,
            100.0,
            100.0,
            100.0,
            100.0,
            100.0,
            100.0,
            100.0,
            100.0,
            100.0,
            100.0,
            100.0,
            100.0,
            100.0,
            100.0,
            100.0,
            100.0,
            100.0,
            100.0,
            100.0,
            100.0,
            100.0,
            100.0,
            100.0,
            100.0,
            100.0,
            100.0,
            100.0,
            100.0,
            0.0,
            100.0,
            100.0,
            100.0,
            100.0,
            100.0,
            0.0,
            100.0,
            100.0
           ],
           "type": "choropleth"
          }
         ],
         "name": "2015"
        },
        {
         "data": [
          {
           "coloraxis": "coloraxis",
           "geo": "geo",
           "hovertemplate": "<b>%{hovertext}</b><br><br>year=2016<br>iso_alpha=%{location}<br>index=%{z}<extra></extra>",
           "hovertext": [
            "EU",
            "Belgium",
            "Bulgaria",
            "Czech Republic",
            "Denmark",
            "Germany",
            "Estonia",
            "Ireland",
            "Greece",
            "Spain",
            "France",
            "Croatia",
            "Italy",
            "Cyprus",
            "Latvia",
            "Lithuania",
            "Luxembourg",
            "Hungary",
            "Malta",
            "Netherlands",
            "Austria",
            "Poland",
            "Portugal",
            "Romania",
            "Slovenia",
            "Slovakia",
            "Finland",
            "Sweden",
            "Iceland",
            "Liechtenstein",
            "Norway",
            "Switzerland",
            "United Kingdom",
            "Montenegro",
            "North Macedonia",
            "Albania",
            "Serbia",
            "Turkey"
           ],
           "ids": [
            "EU",
            "Belgium",
            "Bulgaria",
            "Czech Republic",
            "Denmark",
            "Germany",
            "Estonia",
            "Ireland",
            "Greece",
            "Spain",
            "France",
            "Croatia",
            "Italy",
            "Cyprus",
            "Latvia",
            "Lithuania",
            "Luxembourg",
            "Hungary",
            "Malta",
            "Netherlands",
            "Austria",
            "Poland",
            "Portugal",
            "Romania",
            "Slovenia",
            "Slovakia",
            "Finland",
            "Sweden",
            "Iceland",
            "Liechtenstein",
            "Norway",
            "Switzerland",
            "United Kingdom",
            "Montenegro",
            "North Macedonia",
            "Albania",
            "Serbia",
            "Turkey"
           ],
           "locations": [
            null,
            "BEL",
            "BGR",
            "CZE",
            "DNK",
            "DEU",
            "EST",
            "IRL",
            "GRC",
            "ESP",
            "FRA",
            "HRV",
            "ITA",
            "CYP",
            "LVA",
            "LTU",
            "LUX",
            "HUN",
            "MLT",
            "NLD",
            "AUT",
            "POL",
            "PRT",
            "ROU",
            "SVN",
            "SVK",
            "FIN",
            "SWE",
            "ISL",
            "LIE",
            "NOR",
            "CHE",
            "GBR",
            "MNE",
            "MKD",
            "ALB",
            "SRB",
            "TUR"
           ],
           "name": "",
           "z": [
            100.0,
            97.4,
            95.9,
            100.7,
            99.8,
            100.0,
            104.2,
            103.8,
            101.6,
            100.6,
            100.2,
            96.9,
            102.0,
            97.9,
            99.3,
            100.7,
            97.6,
            103.1,
            99.8,
            99.0,
            100.8,
            101.8,
            104.4,
            102.9,
            98.5,
            100.5,
            86.3,
            84.8,
            109.0,
            0.0,
            99.6,
            99.8,
            99.4,
            106.7,
            96.2,
            0.0,
            98.2,
            99.9
           ],
           "type": "choropleth"
          }
         ],
         "name": "2016"
        },
        {
         "data": [
          {
           "coloraxis": "coloraxis",
           "geo": "geo",
           "hovertemplate": "<b>%{hovertext}</b><br><br>year=2017<br>iso_alpha=%{location}<br>index=%{z}<extra></extra>",
           "hovertext": [
            "EU",
            "Belgium",
            "Bulgaria",
            "Czech Republic",
            "Denmark",
            "Germany",
            "Estonia",
            "Ireland",
            "Greece",
            "Spain",
            "France",
            "Croatia",
            "Italy",
            "Cyprus",
            "Latvia",
            "Lithuania",
            "Luxembourg",
            "Hungary",
            "Malta",
            "Netherlands",
            "Austria",
            "Poland",
            "Portugal",
            "Romania",
            "Slovenia",
            "Slovakia",
            "Finland",
            "Sweden",
            "Iceland",
            "Liechtenstein",
            "Norway",
            "Switzerland",
            "United Kingdom",
            "Montenegro",
            "North Macedonia",
            "Albania",
            "Serbia",
            "Turkey"
           ],
           "ids": [
            "EU",
            "Belgium",
            "Bulgaria",
            "Czech Republic",
            "Denmark",
            "Germany",
            "Estonia",
            "Ireland",
            "Greece",
            "Spain",
            "France",
            "Croatia",
            "Italy",
            "Cyprus",
            "Latvia",
            "Lithuania",
            "Luxembourg",
            "Hungary",
            "Malta",
            "Netherlands",
            "Austria",
            "Poland",
            "Portugal",
            "Romania",
            "Slovenia",
            "Slovakia",
            "Finland",
            "Sweden",
            "Iceland",
            "Liechtenstein",
            "Norway",
            "Switzerland",
            "United Kingdom",
            "Montenegro",
            "North Macedonia",
            "Albania",
            "Serbia",
            "Turkey"
           ],
           "locations": [
            null,
            "BEL",
            "BGR",
            "CZE",
            "DNK",
            "DEU",
            "EST",
            "IRL",
            "GRC",
            "ESP",
            "FRA",
            "HRV",
            "ITA",
            "CYP",
            "LVA",
            "LTU",
            "LUX",
            "HUN",
            "MLT",
            "NLD",
            "AUT",
            "POL",
            "PRT",
            "ROU",
            "SVN",
            "SVK",
            "FIN",
            "SWE",
            "ISL",
            "LIE",
            "NOR",
            "CHE",
            "GBR",
            "MNE",
            "MKD",
            "ALB",
            "SRB",
            "TUR"
           ],
           "name": "",
           "z": [
            98.3,
            96.6,
            93.9,
            99.2,
            98.6,
            94.6,
            99.8,
            98.8,
            101.7,
            94.4,
            99.0,
            94.5,
            105.3,
            94.2,
            102.0,
            115.5,
            98.5,
            103.5,
            91.0,
            95.0,
            100.2,
            99.9,
            103.8,
            97.5,
            96.1,
            99.2,
            95.7,
            84.3,
            114.6,
            0.0,
            98.8,
            99.6,
            103.6,
            103.7,
            95.0,
            0.0,
            97.3,
            94.4
           ],
           "type": "choropleth"
          }
         ],
         "name": "2017"
        },
        {
         "data": [
          {
           "coloraxis": "coloraxis",
           "geo": "geo",
           "hovertemplate": "<b>%{hovertext}</b><br><br>year=2018<br>iso_alpha=%{location}<br>index=%{z}<extra></extra>",
           "hovertext": [
            "EU",
            "Belgium",
            "Bulgaria",
            "Czech Republic",
            "Denmark",
            "Germany",
            "Estonia",
            "Ireland",
            "Greece",
            "Spain",
            "France",
            "Croatia",
            "Italy",
            "Cyprus",
            "Latvia",
            "Lithuania",
            "Luxembourg",
            "Hungary",
            "Malta",
            "Netherlands",
            "Austria",
            "Poland",
            "Portugal",
            "Romania",
            "Slovenia",
            "Slovakia",
            "Finland",
            "Sweden",
            "Iceland",
            "Liechtenstein",
            "Norway",
            "Switzerland",
            "United Kingdom",
            "Montenegro",
            "North Macedonia",
            "Albania",
            "Serbia",
            "Turkey"
           ],
           "ids": [
            "EU",
            "Belgium",
            "Bulgaria",
            "Czech Republic",
            "Denmark",
            "Germany",
            "Estonia",
            "Ireland",
            "Greece",
            "Spain",
            "France",
            "Croatia",
            "Italy",
            "Cyprus",
            "Latvia",
            "Lithuania",
            "Luxembourg",
            "Hungary",
            "Malta",
            "Netherlands",
            "Austria",
            "Poland",
            "Portugal",
            "Romania",
            "Slovenia",
            "Slovakia",
            "Finland",
            "Sweden",
            "Iceland",
            "Liechtenstein",
            "Norway",
            "Switzerland",
            "United Kingdom",
            "Montenegro",
            "North Macedonia",
            "Albania",
            "Serbia",
            "Turkey"
           ],
           "locations": [
            null,
            "BEL",
            "BGR",
            "CZE",
            "DNK",
            "DEU",
            "EST",
            "IRL",
            "GRC",
            "ESP",
            "FRA",
            "HRV",
            "ITA",
            "CYP",
            "LVA",
            "LTU",
            "LUX",
            "HUN",
            "MLT",
            "NLD",
            "AUT",
            "POL",
            "PRT",
            "ROU",
            "SVN",
            "SVK",
            "FIN",
            "SWE",
            "ISL",
            "LIE",
            "NOR",
            "CHE",
            "GBR",
            "MNE",
            "MKD",
            "ALB",
            "SRB",
            "TUR"
           ],
           "name": "",
           "z": [
            96.6,
            95.5,
            89.7,
            100.9,
            97.2,
            93.8,
            97.8,
            93.0,
            101.3,
            94.8,
            96.7,
            89.3,
            102.0,
            92.4,
            99.9,
            107.5,
            99.4,
            100.7,
            87.3,
            97.0,
            90.7,
            96.1,
            104.7,
            96.8,
            93.3,
            97.1,
            94.9,
            83.5,
            113.2,
            0.0,
            99.0,
            97.1,
            103.8,
            104.5,
            96.9,
            0.0,
            95.5,
            99.1
           ],
           "type": "choropleth"
          }
         ],
         "name": "2018"
        },
        {
         "data": [
          {
           "coloraxis": "coloraxis",
           "geo": "geo",
           "hovertemplate": "<b>%{hovertext}</b><br><br>year=2019<br>iso_alpha=%{location}<br>index=%{z}<extra></extra>",
           "hovertext": [
            "EU",
            "Belgium",
            "Bulgaria",
            "Czech Republic",
            "Denmark",
            "Germany",
            "Estonia",
            "Ireland",
            "Greece",
            "Spain",
            "France",
            "Croatia",
            "Italy",
            "Cyprus",
            "Latvia",
            "Lithuania",
            "Luxembourg",
            "Hungary",
            "Malta",
            "Netherlands",
            "Austria",
            "Poland",
            "Portugal",
            "Romania",
            "Slovenia",
            "Slovakia",
            "Finland",
            "Sweden",
            "Iceland",
            "Liechtenstein",
            "Norway",
            "Switzerland",
            "United Kingdom",
            "Montenegro",
            "North Macedonia",
            "Albania",
            "Serbia",
            "Turkey"
           ],
           "ids": [
            "EU",
            "Belgium",
            "Bulgaria",
            "Czech Republic",
            "Denmark",
            "Germany",
            "Estonia",
            "Ireland",
            "Greece",
            "Spain",
            "France",
            "Croatia",
            "Italy",
            "Cyprus",
            "Latvia",
            "Lithuania",
            "Luxembourg",
            "Hungary",
            "Malta",
            "Netherlands",
            "Austria",
            "Poland",
            "Portugal",
            "Romania",
            "Slovenia",
            "Slovakia",
            "Finland",
            "Sweden",
            "Iceland",
            "Liechtenstein",
            "Norway",
            "Switzerland",
            "United Kingdom",
            "Montenegro",
            "North Macedonia",
            "Albania",
            "Serbia",
            "Turkey"
           ],
           "locations": [
            null,
            "BEL",
            "BGR",
            "CZE",
            "DNK",
            "DEU",
            "EST",
            "IRL",
            "GRC",
            "ESP",
            "FRA",
            "HRV",
            "ITA",
            "CYP",
            "LVA",
            "LTU",
            "LUX",
            "HUN",
            "MLT",
            "NLD",
            "AUT",
            "POL",
            "PRT",
            "ROU",
            "SVN",
            "SVK",
            "FIN",
            "SWE",
            "ISL",
            "LIE",
            "NOR",
            "CHE",
            "GBR",
            "MNE",
            "MKD",
            "ALB",
            "SRB",
            "TUR"
           ],
           "name": "",
           "z": [
            95.4,
            93.8,
            88.7,
            101.5,
            98.2,
            91.1,
            100.2,
            90.5,
            100.9,
            93.6,
            94.6,
            86.1,
            102.9,
            90.1,
            98.9,
            106.9,
            99.6,
            99.3,
            83.8,
            97.0,
            87.5,
            94.4,
            104.8,
            99.1,
            91.4,
            95.4,
            94.0,
            82.2,
            109.2,
            0.0,
            98.7,
            97.5,
            104.3,
            105.2,
            93.0,
            0.0,
            93.5,
            102.9
           ],
           "type": "choropleth"
          }
         ],
         "name": "2019"
        },
        {
         "data": [
          {
           "coloraxis": "coloraxis",
           "geo": "geo",
           "hovertemplate": "<b>%{hovertext}</b><br><br>year=2020<br>iso_alpha=%{location}<br>index=%{z}<extra></extra>",
           "hovertext": [
            "EU",
            "Belgium",
            "Bulgaria",
            "Czech Republic",
            "Denmark",
            "Germany",
            "Estonia",
            "Ireland",
            "Greece",
            "Spain",
            "France",
            "Croatia",
            "Italy",
            "Cyprus",
            "Latvia",
            "Lithuania",
            "Luxembourg",
            "Hungary",
            "Malta",
            "Netherlands",
            "Austria",
            "Poland",
            "Portugal",
            "Romania",
            "Slovenia",
            "Slovakia",
            "Finland",
            "Sweden",
            "Iceland",
            "Liechtenstein",
            "Norway",
            "Switzerland",
            "United Kingdom",
            "Montenegro",
            "North Macedonia",
            "Albania",
            "Serbia",
            "Turkey"
           ],
           "ids": [
            "EU",
            "Belgium",
            "Bulgaria",
            "Czech Republic",
            "Denmark",
            "Germany",
            "Estonia",
            "Ireland",
            "Greece",
            "Spain",
            "France",
            "Croatia",
            "Italy",
            "Cyprus",
            "Latvia",
            "Lithuania",
            "Luxembourg",
            "Hungary",
            "Malta",
            "Netherlands",
            "Austria",
            "Poland",
            "Portugal",
            "Romania",
            "Slovenia",
            "Slovakia",
            "Finland",
            "Sweden",
            "Iceland",
            "Liechtenstein",
            "Norway",
            "Switzerland",
            "United Kingdom",
            "Montenegro",
            "North Macedonia",
            "Albania",
            "Serbia",
            "Turkey"
           ],
           "locations": [
            null,
            "BEL",
            "BGR",
            "CZE",
            "DNK",
            "DEU",
            "EST",
            "IRL",
            "GRC",
            "ESP",
            "FRA",
            "HRV",
            "ITA",
            "CYP",
            "LVA",
            "LTU",
            "LUX",
            "HUN",
            "MLT",
            "NLD",
            "AUT",
            "POL",
            "PRT",
            "ROU",
            "SVN",
            "SVK",
            "FIN",
            "SWE",
            "ISL",
            "LIE",
            "NOR",
            "CHE",
            "GBR",
            "MNE",
            "MKD",
            "ALB",
            "SRB",
            "TUR"
           ],
           "name": "",
           "z": [
            79.2,
            80.9,
            75.4,
            83.8,
            88.4,
            79.9,
            79.1,
            70.1,
            91.6,
            77.5,
            79.2,
            71.1,
            71.9,
            75.5,
            91.1,
            93.5,
            84.6,
            91.9,
            76.1,
            68.4,
            78.6,
            84.9,
            95.3,
            88.2,
            77.5,
            78.2,
            89.2,
            74.9,
            101.1,
            0.0,
            89.3,
            86.0,
            0.0,
            99.9,
            103.8,
            0.0,
            80.5,
            85.0
           ],
           "type": "choropleth"
          }
         ],
         "name": "2020"
        },
        {
         "data": [
          {
           "coloraxis": "coloraxis",
           "geo": "geo",
           "hovertemplate": "<b>%{hovertext}</b><br><br>year=2021<br>iso_alpha=%{location}<br>index=%{z}<extra></extra>",
           "hovertext": [
            "EU",
            "Belgium",
            "Bulgaria",
            "Czech Republic",
            "Denmark",
            "Germany",
            "Estonia",
            "Ireland",
            "Greece",
            "Spain",
            "France",
            "Croatia",
            "Italy",
            "Cyprus",
            "Latvia",
            "Lithuania",
            "Luxembourg",
            "Hungary",
            "Malta",
            "Netherlands",
            "Austria",
            "Poland",
            "Portugal",
            "Romania",
            "Slovenia",
            "Slovakia",
            "Finland",
            "Sweden",
            "Iceland",
            "Liechtenstein",
            "Norway",
            "Switzerland",
            "United Kingdom",
            "Montenegro",
            "North Macedonia",
            "Albania",
            "Serbia",
            "Turkey"
           ],
           "ids": [
            "EU",
            "Belgium",
            "Bulgaria",
            "Czech Republic",
            "Denmark",
            "Germany",
            "Estonia",
            "Ireland",
            "Greece",
            "Spain",
            "France",
            "Croatia",
            "Italy",
            "Cyprus",
            "Latvia",
            "Lithuania",
            "Luxembourg",
            "Hungary",
            "Malta",
            "Netherlands",
            "Austria",
            "Poland",
            "Portugal",
            "Romania",
            "Slovenia",
            "Slovakia",
            "Finland",
            "Sweden",
            "Iceland",
            "Liechtenstein",
            "Norway",
            "Switzerland",
            "United Kingdom",
            "Montenegro",
            "North Macedonia",
            "Albania",
            "Serbia",
            "Turkey"
           ],
           "locations": [
            null,
            "BEL",
            "BGR",
            "CZE",
            "DNK",
            "DEU",
            "EST",
            "IRL",
            "GRC",
            "ESP",
            "FRA",
            "HRV",
            "ITA",
            "CYP",
            "LVA",
            "LTU",
            "LUX",
            "HUN",
            "MLT",
            "NLD",
            "AUT",
            "POL",
            "PRT",
            "ROU",
            "SVN",
            "SVK",
            "FIN",
            "SWE",
            "ISL",
            "LIE",
            "NOR",
            "CHE",
            "GBR",
            "MNE",
            "MKD",
            "ALB",
            "SRB",
            "TUR"
           ],
           "name": "",
           "z": [
            80.2,
            79.9,
            72.3,
            99.2,
            85.9,
            76.1,
            77.7,
            65.7,
            90.3,
            79.7,
            85.8,
            72.1,
            74.1,
            76.3,
            78.7,
            94.9,
            86.3,
            89.8,
            72.9,
            72.4,
            80.0,
            83.3,
            97.9,
            91.2,
            77.5,
            77.3,
            85.0,
            70.0,
            109.6,
            0.0,
            89.3,
            86.7,
            0.0,
            97.9,
            110.3,
            0.0,
            81.8,
            82.8
           ],
           "type": "choropleth"
          }
         ],
         "name": "2021"
        }
       ],
       "config": {
        "plotlyServerURL": "https://plot.ly"
       }
      },
      "text/html": "<div>                            <div id=\"273cae38-2264-4ff5-a374-6e4819e617fa\" class=\"plotly-graph-div\" style=\"height:600px; width:1000px;\"></div>            <script type=\"text/javascript\">                require([\"plotly\"], function(Plotly) {                    window.PLOTLYENV=window.PLOTLYENV || {};                                    if (document.getElementById(\"273cae38-2264-4ff5-a374-6e4819e617fa\")) {                    Plotly.newPlot(                        \"273cae38-2264-4ff5-a374-6e4819e617fa\",                        [{\"coloraxis\":\"coloraxis\",\"geo\":\"geo\",\"hovertemplate\":[\"<b>Country: </b>%{customdata}<br><br><b>Index value: </b>%{z}\",\"<b>Country: </b>%{customdata}<br><br><b>Index value: </b>%{z}\",\"<b>Country: </b>%{customdata}<br><br><b>Index value: </b>%{z}\",\"<b>Country: </b>%{customdata}<br><br><b>Index value: </b>%{z}\",\"<b>Country: </b>%{customdata}<br><br><b>Index value: </b>%{z}\",\"<b>Country: </b>%{customdata}<br><br><b>Index value: </b>%{z}\",\"<b>Country: </b>%{customdata}<br><br><b>Index value: </b>%{z}\",\"<b>Country: </b>%{customdata}<br><br><b>Index value: </b>%{z}\",\"<b>Country: </b>%{customdata}<br><br><b>Index value: </b>%{z}\",\"<b>Country: </b>%{customdata}<br><br><b>Index value: </b>%{z}\",\"<b>Country: </b>%{customdata}<br><br><b>Index value: </b>%{z}\",\"<b>Country: </b>%{customdata}<br><br><b>Index value: </b>%{z}\",\"<b>Country: </b>%{customdata}<br><br><b>Index value: </b>%{z}\",\"<b>Country: </b>%{customdata}<br><br><b>Index value: </b>%{z}\",\"<b>Country: </b>%{customdata}<br><br><b>Index value: </b>%{z}\",\"<b>Country: </b>%{customdata}<br><br><b>Index value: </b>%{z}\",\"<b>Country: </b>%{customdata}<br><br><b>Index value: </b>%{z}\",\"<b>Country: </b>%{customdata}<br><br><b>Index value: </b>%{z}\",\"<b>Country: </b>%{customdata}<br><br><b>Index value: </b>%{z}\",\"<b>Country: </b>%{customdata}<br><br><b>Index value: </b>%{z}\",\"<b>Country: </b>%{customdata}<br><br><b>Index value: </b>%{z}\",\"<b>Country: </b>%{customdata}<br><br><b>Index value: </b>%{z}\",\"<b>Country: </b>%{customdata}<br><br><b>Index value: </b>%{z}\",\"<b>Country: </b>%{customdata}<br><br><b>Index value: </b>%{z}\",\"<b>Country: </b>%{customdata}<br><br><b>Index value: </b>%{z}\",\"<b>Country: </b>%{customdata}<br><br><b>Index value: </b>%{z}\",\"<b>Country: </b>%{customdata}<br><br><b>Index value: </b>%{z}\",\"<b>Country: </b>%{customdata}<br><br><b>Index value: </b>%{z}\",\"<b>Country: </b>%{customdata}<br><br><b>Index value: </b>%{z}\",\"<b>Country: </b> %{customdata}<br><br>No data available\",\"<b>Country: </b>%{customdata}<br><br><b>Index value: </b>%{z}\",\"<b>Country: </b>%{customdata}<br><br><b>Index value: </b>%{z}\",\"<b>Country: </b>%{customdata}<br><br><b>Index value: </b>%{z}\",\"<b>Country: </b>%{customdata}<br><br><b>Index value: </b>%{z}\",\"<b>Country: </b>%{customdata}<br><br><b>Index value: </b>%{z}\",\"<b>Country: </b> %{customdata}<br><br>No data available\",\"<b>Country: </b>%{customdata}<br><br><b>Index value: </b>%{z}\",\"<b>Country: </b>%{customdata}<br><br><b>Index value: </b>%{z}\",\"<b>Country: </b>%{customdata}<br><br><b>Index value: </b>%{z}\",\"<b>Country: </b>%{customdata}<br><br><b>Index value: </b>%{z}\",\"<b>Country: </b>%{customdata}<br><br><b>Index value: </b>%{z}\",\"<b>Country: </b>%{customdata}<br><br><b>Index value: </b>%{z}\",\"<b>Country: </b>%{customdata}<br><br><b>Index value: </b>%{z}\",\"<b>Country: </b>%{customdata}<br><br><b>Index value: </b>%{z}\",\"<b>Country: </b>%{customdata}<br><br><b>Index value: </b>%{z}\",\"<b>Country: </b>%{customdata}<br><br><b>Index value: </b>%{z}\",\"<b>Country: </b>%{customdata}<br><br><b>Index value: </b>%{z}\",\"<b>Country: </b>%{customdata}<br><br><b>Index value: </b>%{z}\",\"<b>Country: </b>%{customdata}<br><br><b>Index value: </b>%{z}\",\"<b>Country: </b>%{customdata}<br><br><b>Index value: </b>%{z}\",\"<b>Country: </b>%{customdata}<br><br><b>Index value: </b>%{z}\",\"<b>Country: </b>%{customdata}<br><br><b>Index value: </b>%{z}\",\"<b>Country: </b>%{customdata}<br><br><b>Index value: </b>%{z}\",\"<b>Country: </b>%{customdata}<br><br><b>Index value: </b>%{z}\",\"<b>Country: </b>%{customdata}<br><br><b>Index value: </b>%{z}\",\"<b>Country: </b>%{customdata}<br><br><b>Index value: </b>%{z}\",\"<b>Country: </b>%{customdata}<br><br><b>Index value: </b>%{z}\",\"<b>Country: </b>%{customdata}<br><br><b>Index value: </b>%{z}\",\"<b>Country: </b>%{customdata}<br><br><b>Index value: </b>%{z}\",\"<b>Country: </b>%{customdata}<br><br><b>Index value: </b>%{z}\",\"<b>Country: </b>%{customdata}<br><br><b>Index value: </b>%{z}\",\"<b>Country: </b>%{customdata}<br><br><b>Index value: </b>%{z}\",\"<b>Country: </b>%{customdata}<br><br><b>Index value: </b>%{z}\",\"<b>Country: </b>%{customdata}<br><br><b>Index value: </b>%{z}\",\"<b>Country: </b>%{customdata}<br><br><b>Index value: </b>%{z}\",\"<b>Country: </b>%{customdata}<br><br><b>Index value: </b>%{z}\",\"<b>Country: </b>%{customdata}<br><br><b>Index value: </b>%{z}\",\"<b>Country: </b> %{customdata}<br><br>No data available\",\"<b>Country: </b>%{customdata}<br><br><b>Index value: </b>%{z}\",\"<b>Country: </b>%{customdata}<br><br><b>Index value: </b>%{z}\",\"<b>Country: </b>%{customdata}<br><br><b>Index value: </b>%{z}\",\"<b>Country: </b>%{customdata}<br><br><b>Index value: </b>%{z}\",\"<b>Country: </b>%{customdata}<br><br><b>Index value: </b>%{z}\",\"<b>Country: </b> %{customdata}<br><br>No data available\",\"<b>Country: </b>%{customdata}<br><br><b>Index value: </b>%{z}\",\"<b>Country: </b>%{customdata}<br><br><b>Index value: </b>%{z}\",\"<b>Country: </b>%{customdata}<br><br><b>Index value: </b>%{z}\",\"<b>Country: </b>%{customdata}<br><br><b>Index value: </b>%{z}\",\"<b>Country: </b>%{customdata}<br><br><b>Index value: </b>%{z}\",\"<b>Country: </b>%{customdata}<br><br><b>Index value: </b>%{z}\",\"<b>Country: </b>%{customdata}<br><br><b>Index value: </b>%{z}\",\"<b>Country: </b>%{customdata}<br><br><b>Index value: </b>%{z}\",\"<b>Country: </b>%{customdata}<br><br><b>Index value: </b>%{z}\",\"<b>Country: </b>%{customdata}<br><br><b>Index value: </b>%{z}\",\"<b>Country: </b>%{customdata}<br><br><b>Index value: </b>%{z}\",\"<b>Country: </b>%{customdata}<br><br><b>Index value: </b>%{z}\",\"<b>Country: </b>%{customdata}<br><br><b>Index value: </b>%{z}\",\"<b>Country: </b>%{customdata}<br><br><b>Index value: </b>%{z}\",\"<b>Country: </b>%{customdata}<br><br><b>Index value: </b>%{z}\",\"<b>Country: </b>%{customdata}<br><br><b>Index value: </b>%{z}\",\"<b>Country: </b>%{customdata}<br><br><b>Index value: </b>%{z}\",\"<b>Country: </b>%{customdata}<br><br><b>Index value: </b>%{z}\",\"<b>Country: </b>%{customdata}<br><br><b>Index value: </b>%{z}\",\"<b>Country: </b>%{customdata}<br><br><b>Index value: </b>%{z}\",\"<b>Country: </b>%{customdata}<br><br><b>Index value: </b>%{z}\",\"<b>Country: </b>%{customdata}<br><br><b>Index value: </b>%{z}\",\"<b>Country: </b>%{customdata}<br><br><b>Index value: </b>%{z}\",\"<b>Country: </b>%{customdata}<br><br><b>Index value: </b>%{z}\",\"<b>Country: </b>%{customdata}<br><br><b>Index value: </b>%{z}\",\"<b>Country: </b>%{customdata}<br><br><b>Index value: </b>%{z}\",\"<b>Country: </b>%{customdata}<br><br><b>Index value: </b>%{z}\",\"<b>Country: </b>%{customdata}<br><br><b>Index value: </b>%{z}\",\"<b>Country: </b>%{customdata}<br><br><b>Index value: </b>%{z}\",\"<b>Country: </b>%{customdata}<br><br><b>Index value: </b>%{z}\",\"<b>Country: </b>%{customdata}<br><br><b>Index value: </b>%{z}\",\"<b>Country: </b> %{customdata}<br><br>No data available\",\"<b>Country: </b>%{customdata}<br><br><b>Index value: </b>%{z}\",\"<b>Country: </b>%{customdata}<br><br><b>Index value: </b>%{z}\",\"<b>Country: </b>%{customdata}<br><br><b>Index value: </b>%{z}\",\"<b>Country: </b>%{customdata}<br><br><b>Index value: </b>%{z}\",\"<b>Country: </b>%{customdata}<br><br><b>Index value: </b>%{z}\",\"<b>Country: </b> %{customdata}<br><br>No data available\",\"<b>Country: </b>%{customdata}<br><br><b>Index value: </b>%{z}\",\"<b>Country: </b>%{customdata}<br><br><b>Index value: </b>%{z}\",\"<b>Country: </b>%{customdata}<br><br><b>Index value: </b>%{z}\",\"<b>Country: </b>%{customdata}<br><br><b>Index value: </b>%{z}\",\"<b>Country: </b>%{customdata}<br><br><b>Index value: </b>%{z}\",\"<b>Country: </b>%{customdata}<br><br><b>Index value: </b>%{z}\",\"<b>Country: </b>%{customdata}<br><br><b>Index value: </b>%{z}\",\"<b>Country: </b>%{customdata}<br><br><b>Index value: </b>%{z}\",\"<b>Country: </b>%{customdata}<br><br><b>Index value: </b>%{z}\",\"<b>Country: </b>%{customdata}<br><br><b>Index value: </b>%{z}\",\"<b>Country: </b>%{customdata}<br><br><b>Index value: </b>%{z}\",\"<b>Country: </b>%{customdata}<br><br><b>Index value: </b>%{z}\",\"<b>Country: </b>%{customdata}<br><br><b>Index value: </b>%{z}\",\"<b>Country: </b>%{customdata}<br><br><b>Index value: </b>%{z}\",\"<b>Country: </b>%{customdata}<br><br><b>Index value: </b>%{z}\",\"<b>Country: </b>%{customdata}<br><br><b>Index value: </b>%{z}\",\"<b>Country: </b>%{customdata}<br><br><b>Index value: </b>%{z}\",\"<b>Country: </b>%{customdata}<br><br><b>Index value: </b>%{z}\",\"<b>Country: </b>%{customdata}<br><br><b>Index value: </b>%{z}\",\"<b>Country: </b>%{customdata}<br><br><b>Index value: </b>%{z}\",\"<b>Country: </b>%{customdata}<br><br><b>Index value: </b>%{z}\",\"<b>Country: </b>%{customdata}<br><br><b>Index value: </b>%{z}\",\"<b>Country: </b>%{customdata}<br><br><b>Index value: </b>%{z}\",\"<b>Country: </b>%{customdata}<br><br><b>Index value: </b>%{z}\",\"<b>Country: </b>%{customdata}<br><br><b>Index value: </b>%{z}\",\"<b>Country: </b>%{customdata}<br><br><b>Index value: </b>%{z}\",\"<b>Country: </b>%{customdata}<br><br><b>Index value: </b>%{z}\",\"<b>Country: </b>%{customdata}<br><br><b>Index value: </b>%{z}\",\"<b>Country: </b>%{customdata}<br><br><b>Index value: </b>%{z}\",\"<b>Country: </b>%{customdata}<br><br><b>Index value: </b>%{z}\",\"<b>Country: </b>%{customdata}<br><br><b>Index value: </b>%{z}\",\"<b>Country: </b> %{customdata}<br><br>No data available\",\"<b>Country: </b>%{customdata}<br><br><b>Index value: </b>%{z}\",\"<b>Country: </b>%{customdata}<br><br><b>Index value: </b>%{z}\",\"<b>Country: </b>%{customdata}<br><br><b>Index value: </b>%{z}\",\"<b>Country: </b>%{customdata}<br><br><b>Index value: </b>%{z}\",\"<b>Country: </b>%{customdata}<br><br><b>Index value: </b>%{z}\",\"<b>Country: </b> %{customdata}<br><br>No data available\",\"<b>Country: </b>%{customdata}<br><br><b>Index value: </b>%{z}\",\"<b>Country: </b>%{customdata}<br><br><b>Index value: </b>%{z}\",\"<b>Country: </b>%{customdata}<br><br><b>Index value: </b>%{z}\",\"<b>Country: </b>%{customdata}<br><br><b>Index value: </b>%{z}\",\"<b>Country: </b>%{customdata}<br><br><b>Index value: </b>%{z}\",\"<b>Country: </b>%{customdata}<br><br><b>Index value: </b>%{z}\",\"<b>Country: </b>%{customdata}<br><br><b>Index value: </b>%{z}\",\"<b>Country: </b>%{customdata}<br><br><b>Index value: </b>%{z}\",\"<b>Country: </b>%{customdata}<br><br><b>Index value: </b>%{z}\",\"<b>Country: </b>%{customdata}<br><br><b>Index value: </b>%{z}\",\"<b>Country: </b>%{customdata}<br><br><b>Index value: </b>%{z}\",\"<b>Country: </b>%{customdata}<br><br><b>Index value: </b>%{z}\",\"<b>Country: </b>%{customdata}<br><br><b>Index value: </b>%{z}\",\"<b>Country: </b>%{customdata}<br><br><b>Index value: </b>%{z}\",\"<b>Country: </b>%{customdata}<br><br><b>Index value: </b>%{z}\",\"<b>Country: </b>%{customdata}<br><br><b>Index value: </b>%{z}\",\"<b>Country: </b>%{customdata}<br><br><b>Index value: </b>%{z}\",\"<b>Country: </b>%{customdata}<br><br><b>Index value: </b>%{z}\",\"<b>Country: </b>%{customdata}<br><br><b>Index value: </b>%{z}\",\"<b>Country: </b>%{customdata}<br><br><b>Index value: </b>%{z}\",\"<b>Country: </b>%{customdata}<br><br><b>Index value: </b>%{z}\",\"<b>Country: </b>%{customdata}<br><br><b>Index value: </b>%{z}\",\"<b>Country: </b>%{customdata}<br><br><b>Index value: </b>%{z}\",\"<b>Country: </b>%{customdata}<br><br><b>Index value: </b>%{z}\",\"<b>Country: </b>%{customdata}<br><br><b>Index value: </b>%{z}\",\"<b>Country: </b>%{customdata}<br><br><b>Index value: </b>%{z}\",\"<b>Country: </b>%{customdata}<br><br><b>Index value: </b>%{z}\",\"<b>Country: </b>%{customdata}<br><br><b>Index value: </b>%{z}\",\"<b>Country: </b>%{customdata}<br><br><b>Index value: </b>%{z}\",\"<b>Country: </b>%{customdata}<br><br><b>Index value: </b>%{z}\",\"<b>Country: </b>%{customdata}<br><br><b>Index value: </b>%{z}\",\"<b>Country: </b> %{customdata}<br><br>No data available\",\"<b>Country: </b>%{customdata}<br><br><b>Index value: </b>%{z}\",\"<b>Country: </b>%{customdata}<br><br><b>Index value: </b>%{z}\",\"<b>Country: </b>%{customdata}<br><br><b>Index value: </b>%{z}\",\"<b>Country: </b>%{customdata}<br><br><b>Index value: </b>%{z}\",\"<b>Country: </b>%{customdata}<br><br><b>Index value: </b>%{z}\",\"<b>Country: </b> %{customdata}<br><br>No data available\",\"<b>Country: </b>%{customdata}<br><br><b>Index value: </b>%{z}\",\"<b>Country: </b>%{customdata}<br><br><b>Index value: </b>%{z}\",\"<b>Country: </b>%{customdata}<br><br><b>Index value: </b>%{z}\",\"<b>Country: </b>%{customdata}<br><br><b>Index value: </b>%{z}\",\"<b>Country: </b>%{customdata}<br><br><b>Index value: </b>%{z}\",\"<b>Country: </b>%{customdata}<br><br><b>Index value: </b>%{z}\",\"<b>Country: </b>%{customdata}<br><br><b>Index value: </b>%{z}\",\"<b>Country: </b>%{customdata}<br><br><b>Index value: </b>%{z}\",\"<b>Country: </b>%{customdata}<br><br><b>Index value: </b>%{z}\",\"<b>Country: </b>%{customdata}<br><br><b>Index value: </b>%{z}\",\"<b>Country: </b>%{customdata}<br><br><b>Index value: </b>%{z}\",\"<b>Country: </b>%{customdata}<br><br><b>Index value: </b>%{z}\",\"<b>Country: </b>%{customdata}<br><br><b>Index value: </b>%{z}\",\"<b>Country: </b>%{customdata}<br><br><b>Index value: </b>%{z}\",\"<b>Country: </b>%{customdata}<br><br><b>Index value: </b>%{z}\",\"<b>Country: </b>%{customdata}<br><br><b>Index value: </b>%{z}\",\"<b>Country: </b>%{customdata}<br><br><b>Index value: </b>%{z}\",\"<b>Country: </b>%{customdata}<br><br><b>Index value: </b>%{z}\",\"<b>Country: </b>%{customdata}<br><br><b>Index value: </b>%{z}\",\"<b>Country: </b>%{customdata}<br><br><b>Index value: </b>%{z}\",\"<b>Country: </b>%{customdata}<br><br><b>Index value: </b>%{z}\",\"<b>Country: </b>%{customdata}<br><br><b>Index value: </b>%{z}\",\"<b>Country: </b>%{customdata}<br><br><b>Index value: </b>%{z}\",\"<b>Country: </b>%{customdata}<br><br><b>Index value: </b>%{z}\",\"<b>Country: </b>%{customdata}<br><br><b>Index value: </b>%{z}\",\"<b>Country: </b>%{customdata}<br><br><b>Index value: </b>%{z}\",\"<b>Country: </b>%{customdata}<br><br><b>Index value: </b>%{z}\",\"<b>Country: </b>%{customdata}<br><br><b>Index value: </b>%{z}\",\"<b>Country: </b>%{customdata}<br><br><b>Index value: </b>%{z}\",\"<b>Country: </b>%{customdata}<br><br><b>Index value: </b>%{z}\",\"<b>Country: </b>%{customdata}<br><br><b>Index value: </b>%{z}\",\"<b>Country: </b> %{customdata}<br><br>No data available\",\"<b>Country: </b>%{customdata}<br><br><b>Index value: </b>%{z}\",\"<b>Country: </b>%{customdata}<br><br><b>Index value: </b>%{z}\",\"<b>Country: </b>%{customdata}<br><br><b>Index value: </b>%{z}\",\"<b>Country: </b>%{customdata}<br><br><b>Index value: </b>%{z}\",\"<b>Country: </b>%{customdata}<br><br><b>Index value: </b>%{z}\",\"<b>Country: </b> %{customdata}<br><br>No data available\",\"<b>Country: </b>%{customdata}<br><br><b>Index value: </b>%{z}\",\"<b>Country: </b>%{customdata}<br><br><b>Index value: </b>%{z}\",\"<b>Country: </b>%{customdata}<br><br><b>Index value: </b>%{z}\",\"<b>Country: </b>%{customdata}<br><br><b>Index value: </b>%{z}\",\"<b>Country: </b>%{customdata}<br><br><b>Index value: </b>%{z}\",\"<b>Country: </b>%{customdata}<br><br><b>Index value: </b>%{z}\",\"<b>Country: </b>%{customdata}<br><br><b>Index value: </b>%{z}\",\"<b>Country: </b>%{customdata}<br><br><b>Index value: </b>%{z}\",\"<b>Country: </b>%{customdata}<br><br><b>Index value: </b>%{z}\",\"<b>Country: </b>%{customdata}<br><br><b>Index value: </b>%{z}\",\"<b>Country: </b>%{customdata}<br><br><b>Index value: </b>%{z}\",\"<b>Country: </b>%{customdata}<br><br><b>Index value: </b>%{z}\",\"<b>Country: </b>%{customdata}<br><br><b>Index value: </b>%{z}\",\"<b>Country: </b>%{customdata}<br><br><b>Index value: </b>%{z}\",\"<b>Country: </b>%{customdata}<br><br><b>Index value: </b>%{z}\",\"<b>Country: </b>%{customdata}<br><br><b>Index value: </b>%{z}\",\"<b>Country: </b>%{customdata}<br><br><b>Index value: </b>%{z}\",\"<b>Country: </b>%{customdata}<br><br><b>Index value: </b>%{z}\",\"<b>Country: </b>%{customdata}<br><br><b>Index value: </b>%{z}\",\"<b>Country: </b>%{customdata}<br><br><b>Index value: </b>%{z}\",\"<b>Country: </b>%{customdata}<br><br><b>Index value: </b>%{z}\",\"<b>Country: </b>%{customdata}<br><br><b>Index value: </b>%{z}\",\"<b>Country: </b>%{customdata}<br><br><b>Index value: </b>%{z}\",\"<b>Country: </b>%{customdata}<br><br><b>Index value: </b>%{z}\",\"<b>Country: </b>%{customdata}<br><br><b>Index value: </b>%{z}\",\"<b>Country: </b>%{customdata}<br><br><b>Index value: </b>%{z}\",\"<b>Country: </b>%{customdata}<br><br><b>Index value: </b>%{z}\",\"<b>Country: </b>%{customdata}<br><br><b>Index value: </b>%{z}\",\"<b>Country: </b>%{customdata}<br><br><b>Index value: </b>%{z}\",\"<b>Country: </b>%{customdata}<br><br><b>Index value: </b>%{z}\",\"<b>Country: </b>%{customdata}<br><br><b>Index value: </b>%{z}\",\"<b>Country: </b> %{customdata}<br><br>No data available\",\"<b>Country: </b>%{customdata}<br><br><b>Index value: </b>%{z}\",\"<b>Country: </b>%{customdata}<br><br><b>Index value: </b>%{z}\",\"<b>Country: </b>%{customdata}<br><br><b>Index value: </b>%{z}\",\"<b>Country: </b>%{customdata}<br><br><b>Index value: </b>%{z}\",\"<b>Country: </b>%{customdata}<br><br><b>Index value: </b>%{z}\",\"<b>Country: </b> %{customdata}<br><br>No data available\",\"<b>Country: </b>%{customdata}<br><br><b>Index value: </b>%{z}\",\"<b>Country: </b>%{customdata}<br><br><b>Index value: </b>%{z}\",\"<b>Country: </b>%{customdata}<br><br><b>Index value: </b>%{z}\",\"<b>Country: </b>%{customdata}<br><br><b>Index value: </b>%{z}\",\"<b>Country: </b>%{customdata}<br><br><b>Index value: </b>%{z}\",\"<b>Country: </b>%{customdata}<br><br><b>Index value: </b>%{z}\",\"<b>Country: </b>%{customdata}<br><br><b>Index value: </b>%{z}\",\"<b>Country: </b>%{customdata}<br><br><b>Index value: </b>%{z}\",\"<b>Country: </b>%{customdata}<br><br><b>Index value: </b>%{z}\",\"<b>Country: </b>%{customdata}<br><br><b>Index value: </b>%{z}\",\"<b>Country: </b>%{customdata}<br><br><b>Index value: </b>%{z}\",\"<b>Country: </b>%{customdata}<br><br><b>Index value: </b>%{z}\",\"<b>Country: </b>%{customdata}<br><br><b>Index value: </b>%{z}\",\"<b>Country: </b>%{customdata}<br><br><b>Index value: </b>%{z}\",\"<b>Country: </b>%{customdata}<br><br><b>Index value: </b>%{z}\",\"<b>Country: </b>%{customdata}<br><br><b>Index value: </b>%{z}\",\"<b>Country: </b>%{customdata}<br><br><b>Index value: </b>%{z}\",\"<b>Country: </b>%{customdata}<br><br><b>Index value: </b>%{z}\",\"<b>Country: </b>%{customdata}<br><br><b>Index value: </b>%{z}\",\"<b>Country: </b>%{customdata}<br><br><b>Index value: </b>%{z}\",\"<b>Country: </b>%{customdata}<br><br><b>Index value: </b>%{z}\",\"<b>Country: </b>%{customdata}<br><br><b>Index value: </b>%{z}\",\"<b>Country: </b>%{customdata}<br><br><b>Index value: </b>%{z}\",\"<b>Country: </b>%{customdata}<br><br><b>Index value: </b>%{z}\",\"<b>Country: </b>%{customdata}<br><br><b>Index value: </b>%{z}\",\"<b>Country: </b>%{customdata}<br><br><b>Index value: </b>%{z}\",\"<b>Country: </b>%{customdata}<br><br><b>Index value: </b>%{z}\",\"<b>Country: </b>%{customdata}<br><br><b>Index value: </b>%{z}\",\"<b>Country: </b>%{customdata}<br><br><b>Index value: </b>%{z}\",\"<b>Country: </b>%{customdata}<br><br><b>Index value: </b>%{z}\",\"<b>Country: </b>%{customdata}<br><br><b>Index value: </b>%{z}\",\"<b>Country: </b> %{customdata}<br><br>No data available\",\"<b>Country: </b>%{customdata}<br><br><b>Index value: </b>%{z}\",\"<b>Country: </b>%{customdata}<br><br><b>Index value: </b>%{z}\",\"<b>Country: </b>%{customdata}<br><br><b>Index value: </b>%{z}\",\"<b>Country: </b>%{customdata}<br><br><b>Index value: </b>%{z}\",\"<b>Country: </b>%{customdata}<br><br><b>Index value: </b>%{z}\",\"<b>Country: </b> %{customdata}<br><br>No data available\",\"<b>Country: </b>%{customdata}<br><br><b>Index value: </b>%{z}\",\"<b>Country: </b>%{customdata}<br><br><b>Index value: </b>%{z}\",\"<b>Country: </b>%{customdata}<br><br><b>Index value: </b>%{z}\",\"<b>Country: </b>%{customdata}<br><br><b>Index value: </b>%{z}\",\"<b>Country: </b>%{customdata}<br><br><b>Index value: </b>%{z}\",\"<b>Country: </b>%{customdata}<br><br><b>Index value: </b>%{z}\",\"<b>Country: </b>%{customdata}<br><br><b>Index value: </b>%{z}\",\"<b>Country: </b>%{customdata}<br><br><b>Index value: </b>%{z}\",\"<b>Country: </b>%{customdata}<br><br><b>Index value: </b>%{z}\",\"<b>Country: </b>%{customdata}<br><br><b>Index value: </b>%{z}\",\"<b>Country: </b>%{customdata}<br><br><b>Index value: </b>%{z}\",\"<b>Country: </b>%{customdata}<br><br><b>Index value: </b>%{z}\",\"<b>Country: </b>%{customdata}<br><br><b>Index value: </b>%{z}\",\"<b>Country: </b>%{customdata}<br><br><b>Index value: </b>%{z}\",\"<b>Country: </b>%{customdata}<br><br><b>Index value: </b>%{z}\",\"<b>Country: </b>%{customdata}<br><br><b>Index value: </b>%{z}\",\"<b>Country: </b>%{customdata}<br><br><b>Index value: </b>%{z}\",\"<b>Country: </b>%{customdata}<br><br><b>Index value: </b>%{z}\",\"<b>Country: </b>%{customdata}<br><br><b>Index value: </b>%{z}\",\"<b>Country: </b>%{customdata}<br><br><b>Index value: </b>%{z}\",\"<b>Country: </b>%{customdata}<br><br><b>Index value: </b>%{z}\",\"<b>Country: </b>%{customdata}<br><br><b>Index value: </b>%{z}\",\"<b>Country: </b>%{customdata}<br><br><b>Index value: </b>%{z}\",\"<b>Country: </b>%{customdata}<br><br><b>Index value: </b>%{z}\",\"<b>Country: </b>%{customdata}<br><br><b>Index value: </b>%{z}\",\"<b>Country: </b>%{customdata}<br><br><b>Index value: </b>%{z}\",\"<b>Country: </b>%{customdata}<br><br><b>Index value: </b>%{z}\",\"<b>Country: </b>%{customdata}<br><br><b>Index value: </b>%{z}\",\"<b>Country: </b>%{customdata}<br><br><b>Index value: </b>%{z}\",\"<b>Country: </b>%{customdata}<br><br><b>Index value: </b>%{z}\",\"<b>Country: </b>%{customdata}<br><br><b>Index value: </b>%{z}\",\"<b>Country: </b> %{customdata}<br><br>No data available\",\"<b>Country: </b>%{customdata}<br><br><b>Index value: </b>%{z}\",\"<b>Country: </b>%{customdata}<br><br><b>Index value: </b>%{z}\",\"<b>Country: </b>%{customdata}<br><br><b>Index value: </b>%{z}\",\"<b>Country: </b>%{customdata}<br><br><b>Index value: </b>%{z}\",\"<b>Country: </b>%{customdata}<br><br><b>Index value: </b>%{z}\",\"<b>Country: </b> %{customdata}<br><br>No data available\",\"<b>Country: </b>%{customdata}<br><br><b>Index value: </b>%{z}\",\"<b>Country: </b>%{customdata}<br><br><b>Index value: </b>%{z}\",\"<b>Country: </b>%{customdata}<br><br><b>Index value: </b>%{z}\",\"<b>Country: </b>%{customdata}<br><br><b>Index value: </b>%{z}\",\"<b>Country: </b>%{customdata}<br><br><b>Index value: </b>%{z}\",\"<b>Country: </b>%{customdata}<br><br><b>Index value: </b>%{z}\",\"<b>Country: </b>%{customdata}<br><br><b>Index value: </b>%{z}\",\"<b>Country: </b>%{customdata}<br><br><b>Index value: </b>%{z}\",\"<b>Country: </b>%{customdata}<br><br><b>Index value: </b>%{z}\",\"<b>Country: </b>%{customdata}<br><br><b>Index value: </b>%{z}\",\"<b>Country: </b>%{customdata}<br><br><b>Index value: </b>%{z}\",\"<b>Country: </b>%{customdata}<br><br><b>Index value: </b>%{z}\",\"<b>Country: </b>%{customdata}<br><br><b>Index value: </b>%{z}\",\"<b>Country: </b>%{customdata}<br><br><b>Index value: </b>%{z}\",\"<b>Country: </b>%{customdata}<br><br><b>Index value: </b>%{z}\",\"<b>Country: </b>%{customdata}<br><br><b>Index value: </b>%{z}\",\"<b>Country: </b>%{customdata}<br><br><b>Index value: </b>%{z}\",\"<b>Country: </b>%{customdata}<br><br><b>Index value: </b>%{z}\",\"<b>Country: </b>%{customdata}<br><br><b>Index value: </b>%{z}\",\"<b>Country: </b>%{customdata}<br><br><b>Index value: </b>%{z}\",\"<b>Country: </b>%{customdata}<br><br><b>Index value: </b>%{z}\",\"<b>Country: </b>%{customdata}<br><br><b>Index value: </b>%{z}\",\"<b>Country: </b>%{customdata}<br><br><b>Index value: </b>%{z}\",\"<b>Country: </b>%{customdata}<br><br><b>Index value: </b>%{z}\",\"<b>Country: </b>%{customdata}<br><br><b>Index value: </b>%{z}\",\"<b>Country: </b>%{customdata}<br><br><b>Index value: </b>%{z}\",\"<b>Country: </b>%{customdata}<br><br><b>Index value: </b>%{z}\",\"<b>Country: </b>%{customdata}<br><br><b>Index value: </b>%{z}\",\"<b>Country: </b>%{customdata}<br><br><b>Index value: </b>%{z}\",\"<b>Country: </b>%{customdata}<br><br><b>Index value: </b>%{z}\",\"<b>Country: </b>%{customdata}<br><br><b>Index value: </b>%{z}\",\"<b>Country: </b> %{customdata}<br><br>No data available\",\"<b>Country: </b>%{customdata}<br><br><b>Index value: </b>%{z}\",\"<b>Country: </b>%{customdata}<br><br><b>Index value: </b>%{z}\",\"<b>Country: </b>%{customdata}<br><br><b>Index value: </b>%{z}\",\"<b>Country: </b>%{customdata}<br><br><b>Index value: </b>%{z}\",\"<b>Country: </b>%{customdata}<br><br><b>Index value: </b>%{z}\",\"<b>Country: </b> %{customdata}<br><br>No data available\",\"<b>Country: </b>%{customdata}<br><br><b>Index value: </b>%{z}\",\"<b>Country: </b>%{customdata}<br><br><b>Index value: </b>%{z}\",\"<b>Country: </b>%{customdata}<br><br><b>Index value: </b>%{z}\",\"<b>Country: </b>%{customdata}<br><br><b>Index value: </b>%{z}\",\"<b>Country: </b>%{customdata}<br><br><b>Index value: </b>%{z}\",\"<b>Country: </b>%{customdata}<br><br><b>Index value: </b>%{z}\",\"<b>Country: </b>%{customdata}<br><br><b>Index value: </b>%{z}\",\"<b>Country: </b>%{customdata}<br><br><b>Index value: </b>%{z}\",\"<b>Country: </b>%{customdata}<br><br><b>Index value: </b>%{z}\",\"<b>Country: </b>%{customdata}<br><br><b>Index value: </b>%{z}\",\"<b>Country: </b>%{customdata}<br><br><b>Index value: </b>%{z}\",\"<b>Country: </b>%{customdata}<br><br><b>Index value: </b>%{z}\",\"<b>Country: </b>%{customdata}<br><br><b>Index value: </b>%{z}\",\"<b>Country: </b>%{customdata}<br><br><b>Index value: </b>%{z}\",\"<b>Country: </b>%{customdata}<br><br><b>Index value: </b>%{z}\",\"<b>Country: </b>%{customdata}<br><br><b>Index value: </b>%{z}\",\"<b>Country: </b>%{customdata}<br><br><b>Index value: </b>%{z}\",\"<b>Country: </b>%{customdata}<br><br><b>Index value: </b>%{z}\",\"<b>Country: </b>%{customdata}<br><br><b>Index value: </b>%{z}\",\"<b>Country: </b>%{customdata}<br><br><b>Index value: </b>%{z}\",\"<b>Country: </b>%{customdata}<br><br><b>Index value: </b>%{z}\",\"<b>Country: </b>%{customdata}<br><br><b>Index value: </b>%{z}\",\"<b>Country: </b>%{customdata}<br><br><b>Index value: </b>%{z}\",\"<b>Country: </b>%{customdata}<br><br><b>Index value: </b>%{z}\",\"<b>Country: </b>%{customdata}<br><br><b>Index value: </b>%{z}\",\"<b>Country: </b>%{customdata}<br><br><b>Index value: </b>%{z}\",\"<b>Country: </b>%{customdata}<br><br><b>Index value: </b>%{z}\",\"<b>Country: </b>%{customdata}<br><br><b>Index value: </b>%{z}\",\"<b>Country: </b>%{customdata}<br><br><b>Index value: </b>%{z}\",\"<b>Country: </b>%{customdata}<br><br><b>Index value: </b>%{z}\",\"<b>Country: </b>%{customdata}<br><br><b>Index value: </b>%{z}\",\"<b>Country: </b> %{customdata}<br><br>No data available\",\"<b>Country: </b>%{customdata}<br><br><b>Index value: </b>%{z}\",\"<b>Country: </b>%{customdata}<br><br><b>Index value: </b>%{z}\",\"<b>Country: </b> %{customdata}<br><br>No data available\",\"<b>Country: </b>%{customdata}<br><br><b>Index value: </b>%{z}\",\"<b>Country: </b>%{customdata}<br><br><b>Index value: </b>%{z}\",\"<b>Country: </b> %{customdata}<br><br>No data available\",\"<b>Country: </b>%{customdata}<br><br><b>Index value: </b>%{z}\",\"<b>Country: </b>%{customdata}<br><br><b>Index value: </b>%{z}\",\"<b>Country: </b>%{customdata}<br><br><b>Index value: </b>%{z}\",\"<b>Country: </b>%{customdata}<br><br><b>Index value: </b>%{z}\",\"<b>Country: </b>%{customdata}<br><br><b>Index value: </b>%{z}\",\"<b>Country: </b>%{customdata}<br><br><b>Index value: </b>%{z}\",\"<b>Country: </b>%{customdata}<br><br><b>Index value: </b>%{z}\",\"<b>Country: </b>%{customdata}<br><br><b>Index value: </b>%{z}\",\"<b>Country: </b>%{customdata}<br><br><b>Index value: </b>%{z}\",\"<b>Country: </b>%{customdata}<br><br><b>Index value: </b>%{z}\",\"<b>Country: </b>%{customdata}<br><br><b>Index value: </b>%{z}\",\"<b>Country: </b>%{customdata}<br><br><b>Index value: </b>%{z}\",\"<b>Country: </b>%{customdata}<br><br><b>Index value: </b>%{z}\",\"<b>Country: </b>%{customdata}<br><br><b>Index value: </b>%{z}\",\"<b>Country: </b>%{customdata}<br><br><b>Index value: </b>%{z}\",\"<b>Country: </b>%{customdata}<br><br><b>Index value: </b>%{z}\",\"<b>Country: </b>%{customdata}<br><br><b>Index value: </b>%{z}\",\"<b>Country: </b>%{customdata}<br><br><b>Index value: </b>%{z}\",\"<b>Country: </b>%{customdata}<br><br><b>Index value: </b>%{z}\",\"<b>Country: </b>%{customdata}<br><br><b>Index value: </b>%{z}\",\"<b>Country: </b>%{customdata}<br><br><b>Index value: </b>%{z}\",\"<b>Country: </b>%{customdata}<br><br><b>Index value: </b>%{z}\",\"<b>Country: </b>%{customdata}<br><br><b>Index value: </b>%{z}\",\"<b>Country: </b>%{customdata}<br><br><b>Index value: </b>%{z}\",\"<b>Country: </b>%{customdata}<br><br><b>Index value: </b>%{z}\",\"<b>Country: </b>%{customdata}<br><br><b>Index value: </b>%{z}\",\"<b>Country: </b>%{customdata}<br><br><b>Index value: </b>%{z}\",\"<b>Country: </b>%{customdata}<br><br><b>Index value: </b>%{z}\",\"<b>Country: </b>%{customdata}<br><br><b>Index value: </b>%{z}\",\"<b>Country: </b>%{customdata}<br><br><b>Index value: </b>%{z}\",\"<b>Country: </b>%{customdata}<br><br><b>Index value: </b>%{z}\",\"<b>Country: </b> %{customdata}<br><br>No data available\",\"<b>Country: </b>%{customdata}<br><br><b>Index value: </b>%{z}\",\"<b>Country: </b>%{customdata}<br><br><b>Index value: </b>%{z}\",\"<b>Country: </b> %{customdata}<br><br>No data available\",\"<b>Country: </b>%{customdata}<br><br><b>Index value: </b>%{z}\",\"<b>Country: </b>%{customdata}<br><br><b>Index value: </b>%{z}\",\"<b>Country: </b> %{customdata}<br><br>No data available\",\"<b>Country: </b>%{customdata}<br><br><b>Index value: </b>%{z}\",\"<b>Country: </b>%{customdata}<br><br><b>Index value: </b>%{z}\"],\"hovertext\":[\"EU\",\"Belgium\",\"Bulgaria\",\"Czech Republic\",\"Denmark\",\"Germany\",\"Estonia\",\"Ireland\",\"Greece\",\"Spain\",\"France\",\"Croatia\",\"Italy\",\"Cyprus\",\"Latvia\",\"Lithuania\",\"Luxembourg\",\"Hungary\",\"Malta\",\"Netherlands\",\"Austria\",\"Poland\",\"Portugal\",\"Romania\",\"Slovenia\",\"Slovakia\",\"Finland\",\"Sweden\",\"Iceland\",\"Liechtenstein\",\"Norway\",\"Switzerland\",\"United Kingdom\",\"Montenegro\",\"North Macedonia\",\"Albania\",\"Serbia\",\"Turkey\"],\"ids\":[\"EU\",\"Belgium\",\"Bulgaria\",\"Czech Republic\",\"Denmark\",\"Germany\",\"Estonia\",\"Ireland\",\"Greece\",\"Spain\",\"France\",\"Croatia\",\"Italy\",\"Cyprus\",\"Latvia\",\"Lithuania\",\"Luxembourg\",\"Hungary\",\"Malta\",\"Netherlands\",\"Austria\",\"Poland\",\"Portugal\",\"Romania\",\"Slovenia\",\"Slovakia\",\"Finland\",\"Sweden\",\"Iceland\",\"Liechtenstein\",\"Norway\",\"Switzerland\",\"United Kingdom\",\"Montenegro\",\"North Macedonia\",\"Albania\",\"Serbia\",\"Turkey\"],\"locations\":[null,\"BEL\",\"BGR\",\"CZE\",\"DNK\",\"DEU\",\"EST\",\"IRL\",\"GRC\",\"ESP\",\"FRA\",\"HRV\",\"ITA\",\"CYP\",\"LVA\",\"LTU\",\"LUX\",\"HUN\",\"MLT\",\"NLD\",\"AUT\",\"POL\",\"PRT\",\"ROU\",\"SVN\",\"SVK\",\"FIN\",\"SWE\",\"ISL\",\"LIE\",\"NOR\",\"CHE\",\"GBR\",\"MNE\",\"MKD\",\"ALB\",\"SRB\",\"TUR\"],\"name\":\"\",\"z\":[103.7,114.1,91.5,101.2,98.7,101.4,95.1,128.7,82.6,106.3,108.7,99.2,99.4,86.9,111.3,153.4,98.1,108.1,115.5,106.9,97.0,112.5,95.9,96.3,99.9,107.6,98.2,98.5,101.5,0.0,100.4,115.3,108.4,108.8,75.1,0.0,110.8,110.7],\"type\":\"choropleth\",\"customdata\":[\"EU\",\"Belgium\",\"Bulgaria\",\"Czech Republic\",\"Denmark\",\"Germany\",\"Estonia\",\"Ireland\",\"Greece\",\"Spain\",\"France\",\"Croatia\",\"Italy\",\"Cyprus\",\"Latvia\",\"Lithuania\",\"Luxembourg\",\"Hungary\",\"Malta\",\"Netherlands\",\"Austria\",\"Poland\",\"Portugal\",\"Romania\",\"Slovenia\",\"Slovakia\",\"Finland\",\"Sweden\",\"Iceland\",\"Liechtenstein\",\"Norway\",\"Switzerland\",\"United Kingdom\",\"Montenegro\",\"North Macedonia\",\"Albania\",\"Serbia\",\"Turkey\",\"EU\",\"Belgium\",\"Bulgaria\",\"Czech Republic\",\"Denmark\",\"Germany\",\"Estonia\",\"Ireland\",\"Greece\",\"Spain\",\"France\",\"Croatia\",\"Italy\",\"Cyprus\",\"Latvia\",\"Lithuania\",\"Luxembourg\",\"Hungary\",\"Malta\",\"Netherlands\",\"Austria\",\"Poland\",\"Portugal\",\"Romania\",\"Slovenia\",\"Slovakia\",\"Finland\",\"Sweden\",\"Iceland\",\"Liechtenstein\",\"Norway\",\"Switzerland\",\"United Kingdom\",\"Montenegro\",\"North Macedonia\",\"Albania\",\"Serbia\",\"Turkey\",\"EU\",\"Belgium\",\"Bulgaria\",\"Czech Republic\",\"Denmark\",\"Germany\",\"Estonia\",\"Ireland\",\"Greece\",\"Spain\",\"France\",\"Croatia\",\"Italy\",\"Cyprus\",\"Latvia\",\"Lithuania\",\"Luxembourg\",\"Hungary\",\"Malta\",\"Netherlands\",\"Austria\",\"Poland\",\"Portugal\",\"Romania\",\"Slovenia\",\"Slovakia\",\"Finland\",\"Sweden\",\"Iceland\",\"Liechtenstein\",\"Norway\",\"Switzerland\",\"United Kingdom\",\"Montenegro\",\"North Macedonia\",\"Albania\",\"Serbia\",\"Turkey\",\"EU\",\"Belgium\",\"Bulgaria\",\"Czech Republic\",\"Denmark\",\"Germany\",\"Estonia\",\"Ireland\",\"Greece\",\"Spain\",\"France\",\"Croatia\",\"Italy\",\"Cyprus\",\"Latvia\",\"Lithuania\",\"Luxembourg\",\"Hungary\",\"Malta\",\"Netherlands\",\"Austria\",\"Poland\",\"Portugal\",\"Romania\",\"Slovenia\",\"Slovakia\",\"Finland\",\"Sweden\",\"Iceland\",\"Liechtenstein\",\"Norway\",\"Switzerland\",\"United Kingdom\",\"Montenegro\",\"North Macedonia\",\"Albania\",\"Serbia\",\"Turkey\",\"EU\",\"Belgium\",\"Bulgaria\",\"Czech Republic\",\"Denmark\",\"Germany\",\"Estonia\",\"Ireland\",\"Greece\",\"Spain\",\"France\",\"Croatia\",\"Italy\",\"Cyprus\",\"Latvia\",\"Lithuania\",\"Luxembourg\",\"Hungary\",\"Malta\",\"Netherlands\",\"Austria\",\"Poland\",\"Portugal\",\"Romania\",\"Slovenia\",\"Slovakia\",\"Finland\",\"Sweden\",\"Iceland\",\"Liechtenstein\",\"Norway\",\"Switzerland\",\"United Kingdom\",\"Montenegro\",\"North Macedonia\",\"Albania\",\"Serbia\",\"Turkey\",\"EU\",\"Belgium\",\"Bulgaria\",\"Czech Republic\",\"Denmark\",\"Germany\",\"Estonia\",\"Ireland\",\"Greece\",\"Spain\",\"France\",\"Croatia\",\"Italy\",\"Cyprus\",\"Latvia\",\"Lithuania\",\"Luxembourg\",\"Hungary\",\"Malta\",\"Netherlands\",\"Austria\",\"Poland\",\"Portugal\",\"Romania\",\"Slovenia\",\"Slovakia\",\"Finland\",\"Sweden\",\"Iceland\",\"Liechtenstein\",\"Norway\",\"Switzerland\",\"United Kingdom\",\"Montenegro\",\"North Macedonia\",\"Albania\",\"Serbia\",\"Turkey\",\"EU\",\"Belgium\",\"Bulgaria\",\"Czech Republic\",\"Denmark\",\"Germany\",\"Estonia\",\"Ireland\",\"Greece\",\"Spain\",\"France\",\"Croatia\",\"Italy\",\"Cyprus\",\"Latvia\",\"Lithuania\",\"Luxembourg\",\"Hungary\",\"Malta\",\"Netherlands\",\"Austria\",\"Poland\",\"Portugal\",\"Romania\",\"Slovenia\",\"Slovakia\",\"Finland\",\"Sweden\",\"Iceland\",\"Liechtenstein\",\"Norway\",\"Switzerland\",\"United Kingdom\",\"Montenegro\",\"North Macedonia\",\"Albania\",\"Serbia\",\"Turkey\",\"EU\",\"Belgium\",\"Bulgaria\",\"Czech Republic\",\"Denmark\",\"Germany\",\"Estonia\",\"Ireland\",\"Greece\",\"Spain\",\"France\",\"Croatia\",\"Italy\",\"Cyprus\",\"Latvia\",\"Lithuania\",\"Luxembourg\",\"Hungary\",\"Malta\",\"Netherlands\",\"Austria\",\"Poland\",\"Portugal\",\"Romania\",\"Slovenia\",\"Slovakia\",\"Finland\",\"Sweden\",\"Iceland\",\"Liechtenstein\",\"Norway\",\"Switzerland\",\"United Kingdom\",\"Montenegro\",\"North Macedonia\",\"Albania\",\"Serbia\",\"Turkey\",\"EU\",\"Belgium\",\"Bulgaria\",\"Czech Republic\",\"Denmark\",\"Germany\",\"Estonia\",\"Ireland\",\"Greece\",\"Spain\",\"France\",\"Croatia\",\"Italy\",\"Cyprus\",\"Latvia\",\"Lithuania\",\"Luxembourg\",\"Hungary\",\"Malta\",\"Netherlands\",\"Austria\",\"Poland\",\"Portugal\",\"Romania\",\"Slovenia\",\"Slovakia\",\"Finland\",\"Sweden\",\"Iceland\",\"Liechtenstein\",\"Norway\",\"Switzerland\",\"United Kingdom\",\"Montenegro\",\"North Macedonia\",\"Albania\",\"Serbia\",\"Turkey\",\"EU\",\"Belgium\",\"Bulgaria\",\"Czech Republic\",\"Denmark\",\"Germany\",\"Estonia\",\"Ireland\",\"Greece\",\"Spain\",\"France\",\"Croatia\",\"Italy\",\"Cyprus\",\"Latvia\",\"Lithuania\",\"Luxembourg\",\"Hungary\",\"Malta\",\"Netherlands\",\"Austria\",\"Poland\",\"Portugal\",\"Romania\",\"Slovenia\",\"Slovakia\",\"Finland\",\"Sweden\",\"Iceland\",\"Liechtenstein\",\"Norway\",\"Switzerland\",\"United Kingdom\",\"Montenegro\",\"North Macedonia\",\"Albania\",\"Serbia\",\"Turkey\",\"EU\",\"Belgium\",\"Bulgaria\",\"Czech Republic\",\"Denmark\",\"Germany\",\"Estonia\",\"Ireland\",\"Greece\",\"Spain\",\"France\",\"Croatia\",\"Italy\",\"Cyprus\",\"Latvia\",\"Lithuania\",\"Luxembourg\",\"Hungary\",\"Malta\",\"Netherlands\",\"Austria\",\"Poland\",\"Portugal\",\"Romania\",\"Slovenia\",\"Slovakia\",\"Finland\",\"Sweden\",\"Iceland\",\"Liechtenstein\",\"Norway\",\"Switzerland\",\"United Kingdom\",\"Montenegro\",\"North Macedonia\",\"Albania\",\"Serbia\",\"Turkey\",\"EU\",\"Belgium\",\"Bulgaria\",\"Czech Republic\",\"Denmark\",\"Germany\",\"Estonia\",\"Ireland\",\"Greece\",\"Spain\",\"France\",\"Croatia\",\"Italy\",\"Cyprus\",\"Latvia\",\"Lithuania\",\"Luxembourg\",\"Hungary\",\"Malta\",\"Netherlands\",\"Austria\",\"Poland\",\"Portugal\",\"Romania\",\"Slovenia\",\"Slovakia\",\"Finland\",\"Sweden\",\"Iceland\",\"Liechtenstein\",\"Norway\",\"Switzerland\",\"United Kingdom\",\"Montenegro\",\"North Macedonia\",\"Albania\",\"Serbia\",\"Turkey\"]}],                        {\"template\":{\"data\":{\"histogram2dcontour\":[{\"type\":\"histogram2dcontour\",\"colorbar\":{\"outlinewidth\":0,\"ticks\":\"\"},\"colorscale\":[[0.0,\"#0d0887\"],[0.1111111111111111,\"#46039f\"],[0.2222222222222222,\"#7201a8\"],[0.3333333333333333,\"#9c179e\"],[0.4444444444444444,\"#bd3786\"],[0.5555555555555556,\"#d8576b\"],[0.6666666666666666,\"#ed7953\"],[0.7777777777777778,\"#fb9f3a\"],[0.8888888888888888,\"#fdca26\"],[1.0,\"#f0f921\"]]}],\"choropleth\":[{\"type\":\"choropleth\",\"colorbar\":{\"outlinewidth\":0,\"ticks\":\"\"}}],\"histogram2d\":[{\"type\":\"histogram2d\",\"colorbar\":{\"outlinewidth\":0,\"ticks\":\"\"},\"colorscale\":[[0.0,\"#0d0887\"],[0.1111111111111111,\"#46039f\"],[0.2222222222222222,\"#7201a8\"],[0.3333333333333333,\"#9c179e\"],[0.4444444444444444,\"#bd3786\"],[0.5555555555555556,\"#d8576b\"],[0.6666666666666666,\"#ed7953\"],[0.7777777777777778,\"#fb9f3a\"],[0.8888888888888888,\"#fdca26\"],[1.0,\"#f0f921\"]]}],\"heatmap\":[{\"type\":\"heatmap\",\"colorbar\":{\"outlinewidth\":0,\"ticks\":\"\"},\"colorscale\":[[0.0,\"#0d0887\"],[0.1111111111111111,\"#46039f\"],[0.2222222222222222,\"#7201a8\"],[0.3333333333333333,\"#9c179e\"],[0.4444444444444444,\"#bd3786\"],[0.5555555555555556,\"#d8576b\"],[0.6666666666666666,\"#ed7953\"],[0.7777777777777778,\"#fb9f3a\"],[0.8888888888888888,\"#fdca26\"],[1.0,\"#f0f921\"]]}],\"heatmapgl\":[{\"type\":\"heatmapgl\",\"colorbar\":{\"outlinewidth\":0,\"ticks\":\"\"},\"colorscale\":[[0.0,\"#0d0887\"],[0.1111111111111111,\"#46039f\"],[0.2222222222222222,\"#7201a8\"],[0.3333333333333333,\"#9c179e\"],[0.4444444444444444,\"#bd3786\"],[0.5555555555555556,\"#d8576b\"],[0.6666666666666666,\"#ed7953\"],[0.7777777777777778,\"#fb9f3a\"],[0.8888888888888888,\"#fdca26\"],[1.0,\"#f0f921\"]]}],\"contourcarpet\":[{\"type\":\"contourcarpet\",\"colorbar\":{\"outlinewidth\":0,\"ticks\":\"\"}}],\"contour\":[{\"type\":\"contour\",\"colorbar\":{\"outlinewidth\":0,\"ticks\":\"\"},\"colorscale\":[[0.0,\"#0d0887\"],[0.1111111111111111,\"#46039f\"],[0.2222222222222222,\"#7201a8\"],[0.3333333333333333,\"#9c179e\"],[0.4444444444444444,\"#bd3786\"],[0.5555555555555556,\"#d8576b\"],[0.6666666666666666,\"#ed7953\"],[0.7777777777777778,\"#fb9f3a\"],[0.8888888888888888,\"#fdca26\"],[1.0,\"#f0f921\"]]}],\"surface\":[{\"type\":\"surface\",\"colorbar\":{\"outlinewidth\":0,\"ticks\":\"\"},\"colorscale\":[[0.0,\"#0d0887\"],[0.1111111111111111,\"#46039f\"],[0.2222222222222222,\"#7201a8\"],[0.3333333333333333,\"#9c179e\"],[0.4444444444444444,\"#bd3786\"],[0.5555555555555556,\"#d8576b\"],[0.6666666666666666,\"#ed7953\"],[0.7777777777777778,\"#fb9f3a\"],[0.8888888888888888,\"#fdca26\"],[1.0,\"#f0f921\"]]}],\"mesh3d\":[{\"type\":\"mesh3d\",\"colorbar\":{\"outlinewidth\":0,\"ticks\":\"\"}}],\"scatter\":[{\"marker\":{\"line\":{\"color\":\"#283442\"}},\"type\":\"scatter\"}],\"parcoords\":[{\"type\":\"parcoords\",\"line\":{\"colorbar\":{\"outlinewidth\":0,\"ticks\":\"\"}}}],\"scatterpolargl\":[{\"type\":\"scatterpolargl\",\"marker\":{\"colorbar\":{\"outlinewidth\":0,\"ticks\":\"\"}}}],\"bar\":[{\"error_x\":{\"color\":\"#f2f5fa\"},\"error_y\":{\"color\":\"#f2f5fa\"},\"marker\":{\"line\":{\"color\":\"rgb(17,17,17)\",\"width\":0.5},\"pattern\":{\"fillmode\":\"overlay\",\"size\":10,\"solidity\":0.2}},\"type\":\"bar\"}],\"scattergeo\":[{\"type\":\"scattergeo\",\"marker\":{\"colorbar\":{\"outlinewidth\":0,\"ticks\":\"\"}}}],\"scatterpolar\":[{\"type\":\"scatterpolar\",\"marker\":{\"colorbar\":{\"outlinewidth\":0,\"ticks\":\"\"}}}],\"histogram\":[{\"marker\":{\"pattern\":{\"fillmode\":\"overlay\",\"size\":10,\"solidity\":0.2}},\"type\":\"histogram\"}],\"scattergl\":[{\"marker\":{\"line\":{\"color\":\"#283442\"}},\"type\":\"scattergl\"}],\"scatter3d\":[{\"type\":\"scatter3d\",\"line\":{\"colorbar\":{\"outlinewidth\":0,\"ticks\":\"\"}},\"marker\":{\"colorbar\":{\"outlinewidth\":0,\"ticks\":\"\"}}}],\"scattermapbox\":[{\"type\":\"scattermapbox\",\"marker\":{\"colorbar\":{\"outlinewidth\":0,\"ticks\":\"\"}}}],\"scatterternary\":[{\"type\":\"scatterternary\",\"marker\":{\"colorbar\":{\"outlinewidth\":0,\"ticks\":\"\"}}}],\"scattercarpet\":[{\"type\":\"scattercarpet\",\"marker\":{\"colorbar\":{\"outlinewidth\":0,\"ticks\":\"\"}}}],\"carpet\":[{\"aaxis\":{\"endlinecolor\":\"#A2B1C6\",\"gridcolor\":\"#506784\",\"linecolor\":\"#506784\",\"minorgridcolor\":\"#506784\",\"startlinecolor\":\"#A2B1C6\"},\"baxis\":{\"endlinecolor\":\"#A2B1C6\",\"gridcolor\":\"#506784\",\"linecolor\":\"#506784\",\"minorgridcolor\":\"#506784\",\"startlinecolor\":\"#A2B1C6\"},\"type\":\"carpet\"}],\"table\":[{\"cells\":{\"fill\":{\"color\":\"#506784\"},\"line\":{\"color\":\"rgb(17,17,17)\"}},\"header\":{\"fill\":{\"color\":\"#2a3f5f\"},\"line\":{\"color\":\"rgb(17,17,17)\"}},\"type\":\"table\"}],\"barpolar\":[{\"marker\":{\"line\":{\"color\":\"rgb(17,17,17)\",\"width\":0.5},\"pattern\":{\"fillmode\":\"overlay\",\"size\":10,\"solidity\":0.2}},\"type\":\"barpolar\"}],\"pie\":[{\"automargin\":true,\"type\":\"pie\"}]},\"layout\":{\"autotypenumbers\":\"strict\",\"colorway\":[\"#636efa\",\"#EF553B\",\"#00cc96\",\"#ab63fa\",\"#FFA15A\",\"#19d3f3\",\"#FF6692\",\"#B6E880\",\"#FF97FF\",\"#FECB52\"],\"font\":{\"color\":\"#f2f5fa\"},\"hovermode\":\"closest\",\"hoverlabel\":{\"align\":\"left\"},\"paper_bgcolor\":\"rgb(17,17,17)\",\"plot_bgcolor\":\"rgb(17,17,17)\",\"polar\":{\"bgcolor\":\"rgb(17,17,17)\",\"angularaxis\":{\"gridcolor\":\"#506784\",\"linecolor\":\"#506784\",\"ticks\":\"\"},\"radialaxis\":{\"gridcolor\":\"#506784\",\"linecolor\":\"#506784\",\"ticks\":\"\"}},\"ternary\":{\"bgcolor\":\"rgb(17,17,17)\",\"aaxis\":{\"gridcolor\":\"#506784\",\"linecolor\":\"#506784\",\"ticks\":\"\"},\"baxis\":{\"gridcolor\":\"#506784\",\"linecolor\":\"#506784\",\"ticks\":\"\"},\"caxis\":{\"gridcolor\":\"#506784\",\"linecolor\":\"#506784\",\"ticks\":\"\"}},\"coloraxis\":{\"colorbar\":{\"outlinewidth\":0,\"ticks\":\"\"}},\"colorscale\":{\"sequential\":[[0.0,\"#0d0887\"],[0.1111111111111111,\"#46039f\"],[0.2222222222222222,\"#7201a8\"],[0.3333333333333333,\"#9c179e\"],[0.4444444444444444,\"#bd3786\"],[0.5555555555555556,\"#d8576b\"],[0.6666666666666666,\"#ed7953\"],[0.7777777777777778,\"#fb9f3a\"],[0.8888888888888888,\"#fdca26\"],[1.0,\"#f0f921\"]],\"sequentialminus\":[[0.0,\"#0d0887\"],[0.1111111111111111,\"#46039f\"],[0.2222222222222222,\"#7201a8\"],[0.3333333333333333,\"#9c179e\"],[0.4444444444444444,\"#bd3786\"],[0.5555555555555556,\"#d8576b\"],[0.6666666666666666,\"#ed7953\"],[0.7777777777777778,\"#fb9f3a\"],[0.8888888888888888,\"#fdca26\"],[1.0,\"#f0f921\"]],\"diverging\":[[0,\"#8e0152\"],[0.1,\"#c51b7d\"],[0.2,\"#de77ae\"],[0.3,\"#f1b6da\"],[0.4,\"#fde0ef\"],[0.5,\"#f7f7f7\"],[0.6,\"#e6f5d0\"],[0.7,\"#b8e186\"],[0.8,\"#7fbc41\"],[0.9,\"#4d9221\"],[1,\"#276419\"]]},\"xaxis\":{\"gridcolor\":\"#283442\",\"linecolor\":\"#506784\",\"ticks\":\"\",\"title\":{\"standoff\":15},\"zerolinecolor\":\"#283442\",\"automargin\":true,\"zerolinewidth\":2},\"yaxis\":{\"gridcolor\":\"#283442\",\"linecolor\":\"#506784\",\"ticks\":\"\",\"title\":{\"standoff\":15},\"zerolinecolor\":\"#283442\",\"automargin\":true,\"zerolinewidth\":2},\"scene\":{\"xaxis\":{\"backgroundcolor\":\"rgb(17,17,17)\",\"gridcolor\":\"#506784\",\"linecolor\":\"#506784\",\"showbackground\":true,\"ticks\":\"\",\"zerolinecolor\":\"#C8D4E3\",\"gridwidth\":2},\"yaxis\":{\"backgroundcolor\":\"rgb(17,17,17)\",\"gridcolor\":\"#506784\",\"linecolor\":\"#506784\",\"showbackground\":true,\"ticks\":\"\",\"zerolinecolor\":\"#C8D4E3\",\"gridwidth\":2},\"zaxis\":{\"backgroundcolor\":\"rgb(17,17,17)\",\"gridcolor\":\"#506784\",\"linecolor\":\"#506784\",\"showbackground\":true,\"ticks\":\"\",\"zerolinecolor\":\"#C8D4E3\",\"gridwidth\":2}},\"shapedefaults\":{\"line\":{\"color\":\"#f2f5fa\"}},\"annotationdefaults\":{\"arrowcolor\":\"#f2f5fa\",\"arrowhead\":0,\"arrowwidth\":1},\"geo\":{\"bgcolor\":\"rgb(17,17,17)\",\"landcolor\":\"rgb(17,17,17)\",\"subunitcolor\":\"#506784\",\"showland\":true,\"showlakes\":true,\"lakecolor\":\"rgb(17,17,17)\"},\"title\":{\"x\":0.05},\"updatemenudefaults\":{\"bgcolor\":\"#506784\",\"borderwidth\":0},\"sliderdefaults\":{\"bgcolor\":\"#C8D4E3\",\"borderwidth\":1,\"bordercolor\":\"rgb(17,17,17)\",\"tickwidth\":0},\"mapbox\":{\"style\":\"dark\"}}},\"geo\":{\"domain\":{\"x\":[0.0,1.0],\"y\":[0.0,1.0]},\"projection\":{\"type\":\"miller\"},\"center\":{},\"scope\":\"europe\"},\"coloraxis\":{\"colorbar\":{\"title\":{\"text\":\"index\"},\"x\":0,\"y\":0.5},\"colorscale\":[[0,\"gray\"],[0.01,\"gray\"],[0.01,\"blue\"],[1,\"red\"]],\"cmin\":0,\"cmax\":153.4},\"legend\":{\"tracegroupgap\":0},\"margin\":{\"t\":60},\"updatemenus\":[{\"buttons\":[{\"args\":[null,{\"frame\":{\"duration\":500,\"redraw\":true},\"mode\":\"immediate\",\"fromcurrent\":true,\"transition\":{\"duration\":500,\"easing\":\"linear\"}}],\"label\":\"&#9654;\",\"method\":\"animate\"},{\"args\":[[null],{\"frame\":{\"duration\":0,\"redraw\":true},\"mode\":\"immediate\",\"fromcurrent\":true,\"transition\":{\"duration\":0,\"easing\":\"linear\"}}],\"label\":\"&#9724;\",\"method\":\"animate\"}],\"direction\":\"left\",\"pad\":{\"r\":10,\"t\":70},\"showactive\":false,\"type\":\"buttons\",\"x\":0.1,\"xanchor\":\"right\",\"y\":0,\"yanchor\":\"top\"}],\"sliders\":[{\"active\":0,\"currentvalue\":{\"prefix\":\"year=\"},\"len\":0.9,\"pad\":{\"b\":10,\"t\":60},\"steps\":[{\"args\":[[\"2010\"],{\"frame\":{\"duration\":0,\"redraw\":true},\"mode\":\"immediate\",\"fromcurrent\":true,\"transition\":{\"duration\":0,\"easing\":\"linear\"}}],\"label\":\"2010\",\"method\":\"animate\"},{\"args\":[[\"2011\"],{\"frame\":{\"duration\":0,\"redraw\":true},\"mode\":\"immediate\",\"fromcurrent\":true,\"transition\":{\"duration\":0,\"easing\":\"linear\"}}],\"label\":\"2011\",\"method\":\"animate\"},{\"args\":[[\"2012\"],{\"frame\":{\"duration\":0,\"redraw\":true},\"mode\":\"immediate\",\"fromcurrent\":true,\"transition\":{\"duration\":0,\"easing\":\"linear\"}}],\"label\":\"2012\",\"method\":\"animate\"},{\"args\":[[\"2013\"],{\"frame\":{\"duration\":0,\"redraw\":true},\"mode\":\"immediate\",\"fromcurrent\":true,\"transition\":{\"duration\":0,\"easing\":\"linear\"}}],\"label\":\"2013\",\"method\":\"animate\"},{\"args\":[[\"2014\"],{\"frame\":{\"duration\":0,\"redraw\":true},\"mode\":\"immediate\",\"fromcurrent\":true,\"transition\":{\"duration\":0,\"easing\":\"linear\"}}],\"label\":\"2014\",\"method\":\"animate\"},{\"args\":[[\"2015\"],{\"frame\":{\"duration\":0,\"redraw\":true},\"mode\":\"immediate\",\"fromcurrent\":true,\"transition\":{\"duration\":0,\"easing\":\"linear\"}}],\"label\":\"2015\",\"method\":\"animate\"},{\"args\":[[\"2016\"],{\"frame\":{\"duration\":0,\"redraw\":true},\"mode\":\"immediate\",\"fromcurrent\":true,\"transition\":{\"duration\":0,\"easing\":\"linear\"}}],\"label\":\"2016\",\"method\":\"animate\"},{\"args\":[[\"2017\"],{\"frame\":{\"duration\":0,\"redraw\":true},\"mode\":\"immediate\",\"fromcurrent\":true,\"transition\":{\"duration\":0,\"easing\":\"linear\"}}],\"label\":\"2017\",\"method\":\"animate\"},{\"args\":[[\"2018\"],{\"frame\":{\"duration\":0,\"redraw\":true},\"mode\":\"immediate\",\"fromcurrent\":true,\"transition\":{\"duration\":0,\"easing\":\"linear\"}}],\"label\":\"2018\",\"method\":\"animate\"},{\"args\":[[\"2019\"],{\"frame\":{\"duration\":0,\"redraw\":true},\"mode\":\"immediate\",\"fromcurrent\":true,\"transition\":{\"duration\":0,\"easing\":\"linear\"}}],\"label\":\"2019\",\"method\":\"animate\"},{\"args\":[[\"2020\"],{\"frame\":{\"duration\":0,\"redraw\":true},\"mode\":\"immediate\",\"fromcurrent\":true,\"transition\":{\"duration\":0,\"easing\":\"linear\"}}],\"label\":\"2020\",\"method\":\"animate\"},{\"args\":[[\"2021\"],{\"frame\":{\"duration\":0,\"redraw\":true},\"mode\":\"immediate\",\"fromcurrent\":true,\"transition\":{\"duration\":0,\"easing\":\"linear\"}}],\"label\":\"2021\",\"method\":\"animate\"}],\"x\":0.1,\"xanchor\":\"left\",\"y\":0,\"yanchor\":\"top\"}],\"title\":{\"text\":\"<b>Volume of passengers relative to GDP</b><br>EU index: 103.7\"},\"width\":1000,\"height\":600},                        {\"responsive\": true}                    ).then(function(){\n                            Plotly.addFrames('273cae38-2264-4ff5-a374-6e4819e617fa', [{\"data\":[{\"coloraxis\":\"coloraxis\",\"geo\":\"geo\",\"hovertemplate\":\"<b>%{hovertext}</b><br><br>year=2010<br>iso_alpha=%{location}<br>index=%{z}<extra></extra>\",\"hovertext\":[\"EU\",\"Belgium\",\"Bulgaria\",\"Czech Republic\",\"Denmark\",\"Germany\",\"Estonia\",\"Ireland\",\"Greece\",\"Spain\",\"France\",\"Croatia\",\"Italy\",\"Cyprus\",\"Latvia\",\"Lithuania\",\"Luxembourg\",\"Hungary\",\"Malta\",\"Netherlands\",\"Austria\",\"Poland\",\"Portugal\",\"Romania\",\"Slovenia\",\"Slovakia\",\"Finland\",\"Sweden\",\"Iceland\",\"Liechtenstein\",\"Norway\",\"Switzerland\",\"United Kingdom\",\"Montenegro\",\"North Macedonia\",\"Albania\",\"Serbia\",\"Turkey\"],\"ids\":[\"EU\",\"Belgium\",\"Bulgaria\",\"Czech Republic\",\"Denmark\",\"Germany\",\"Estonia\",\"Ireland\",\"Greece\",\"Spain\",\"France\",\"Croatia\",\"Italy\",\"Cyprus\",\"Latvia\",\"Lithuania\",\"Luxembourg\",\"Hungary\",\"Malta\",\"Netherlands\",\"Austria\",\"Poland\",\"Portugal\",\"Romania\",\"Slovenia\",\"Slovakia\",\"Finland\",\"Sweden\",\"Iceland\",\"Liechtenstein\",\"Norway\",\"Switzerland\",\"United Kingdom\",\"Montenegro\",\"North Macedonia\",\"Albania\",\"Serbia\",\"Turkey\"],\"locations\":[null,\"BEL\",\"BGR\",\"CZE\",\"DNK\",\"DEU\",\"EST\",\"IRL\",\"GRC\",\"ESP\",\"FRA\",\"HRV\",\"ITA\",\"CYP\",\"LVA\",\"LTU\",\"LUX\",\"HUN\",\"MLT\",\"NLD\",\"AUT\",\"POL\",\"PRT\",\"ROU\",\"SVN\",\"SVK\",\"FIN\",\"SWE\",\"ISL\",\"LIE\",\"NOR\",\"CHE\",\"GBR\",\"MNE\",\"MKD\",\"ALB\",\"SRB\",\"TUR\"],\"name\":\"\",\"z\":[103.7,114.1,91.5,101.2,98.7,101.4,95.1,128.7,82.6,106.3,108.7,99.2,99.4,86.9,111.3,153.4,98.1,108.1,115.5,106.9,97.0,112.5,95.9,96.3,99.9,107.6,98.2,98.5,101.5,0.0,100.4,115.3,108.4,108.8,75.1,0.0,110.8,110.7],\"type\":\"choropleth\"}],\"name\":\"2010\"},{\"data\":[{\"coloraxis\":\"coloraxis\",\"geo\":\"geo\",\"hovertemplate\":\"<b>%{hovertext}</b><br><br>year=2011<br>iso_alpha=%{location}<br>index=%{z}<extra></extra>\",\"hovertext\":[\"EU\",\"Belgium\",\"Bulgaria\",\"Czech Republic\",\"Denmark\",\"Germany\",\"Estonia\",\"Ireland\",\"Greece\",\"Spain\",\"France\",\"Croatia\",\"Italy\",\"Cyprus\",\"Latvia\",\"Lithuania\",\"Luxembourg\",\"Hungary\",\"Malta\",\"Netherlands\",\"Austria\",\"Poland\",\"Portugal\",\"Romania\",\"Slovenia\",\"Slovakia\",\"Finland\",\"Sweden\",\"Iceland\",\"Liechtenstein\",\"Norway\",\"Switzerland\",\"United Kingdom\",\"Montenegro\",\"North Macedonia\",\"Albania\",\"Serbia\",\"Turkey\"],\"ids\":[\"EU\",\"Belgium\",\"Bulgaria\",\"Czech Republic\",\"Denmark\",\"Germany\",\"Estonia\",\"Ireland\",\"Greece\",\"Spain\",\"France\",\"Croatia\",\"Italy\",\"Cyprus\",\"Latvia\",\"Lithuania\",\"Luxembourg\",\"Hungary\",\"Malta\",\"Netherlands\",\"Austria\",\"Poland\",\"Portugal\",\"Romania\",\"Slovenia\",\"Slovakia\",\"Finland\",\"Sweden\",\"Iceland\",\"Liechtenstein\",\"Norway\",\"Switzerland\",\"United Kingdom\",\"Montenegro\",\"North Macedonia\",\"Albania\",\"Serbia\",\"Turkey\"],\"locations\":[null,\"BEL\",\"BGR\",\"CZE\",\"DNK\",\"DEU\",\"EST\",\"IRL\",\"GRC\",\"ESP\",\"FRA\",\"HRV\",\"ITA\",\"CYP\",\"LVA\",\"LTU\",\"LUX\",\"HUN\",\"MLT\",\"NLD\",\"AUT\",\"POL\",\"PRT\",\"ROU\",\"SVN\",\"SVK\",\"FIN\",\"SWE\",\"ISL\",\"LIE\",\"NOR\",\"CHE\",\"GBR\",\"MNE\",\"MKD\",\"ALB\",\"SRB\",\"TUR\"],\"name\":\"\",\"z\":[102.2,110.5,91.2,100.0,99.5,101.0,90.6,126.0,90.6,106.6,107.1,96.5,94.7,87.2,102.7,134.2,98.8,105.7,115.2,105.9,96.0,110.4,95.7,91.0,98.6,105.3,96.6,104.4,96.0,0.0,100.9,103.6,107.1,101.0,83.0,0.0,94.9,106.3],\"type\":\"choropleth\"}],\"name\":\"2011\"},{\"data\":[{\"coloraxis\":\"coloraxis\",\"geo\":\"geo\",\"hovertemplate\":\"<b>%{hovertext}</b><br><br>year=2012<br>iso_alpha=%{location}<br>index=%{z}<extra></extra>\",\"hovertext\":[\"EU\",\"Belgium\",\"Bulgaria\",\"Czech Republic\",\"Denmark\",\"Germany\",\"Estonia\",\"Ireland\",\"Greece\",\"Spain\",\"France\",\"Croatia\",\"Italy\",\"Cyprus\",\"Latvia\",\"Lithuania\",\"Luxembourg\",\"Hungary\",\"Malta\",\"Netherlands\",\"Austria\",\"Poland\",\"Portugal\",\"Romania\",\"Slovenia\",\"Slovakia\",\"Finland\",\"Sweden\",\"Iceland\",\"Liechtenstein\",\"Norway\",\"Switzerland\",\"United Kingdom\",\"Montenegro\",\"North Macedonia\",\"Albania\",\"Serbia\",\"Turkey\"],\"ids\":[\"EU\",\"Belgium\",\"Bulgaria\",\"Czech Republic\",\"Denmark\",\"Germany\",\"Estonia\",\"Ireland\",\"Greece\",\"Spain\",\"France\",\"Croatia\",\"Italy\",\"Cyprus\",\"Latvia\",\"Lithuania\",\"Luxembourg\",\"Hungary\",\"Malta\",\"Netherlands\",\"Austria\",\"Poland\",\"Portugal\",\"Romania\",\"Slovenia\",\"Slovakia\",\"Finland\",\"Sweden\",\"Iceland\",\"Liechtenstein\",\"Norway\",\"Switzerland\",\"United Kingdom\",\"Montenegro\",\"North Macedonia\",\"Albania\",\"Serbia\",\"Turkey\"],\"locations\":[null,\"BEL\",\"BGR\",\"CZE\",\"DNK\",\"DEU\",\"EST\",\"IRL\",\"GRC\",\"ESP\",\"FRA\",\"HRV\",\"ITA\",\"CYP\",\"LVA\",\"LTU\",\"LUX\",\"HUN\",\"MLT\",\"NLD\",\"AUT\",\"POL\",\"PRT\",\"ROU\",\"SVN\",\"SVK\",\"FIN\",\"SWE\",\"ISL\",\"LIE\",\"NOR\",\"CHE\",\"GBR\",\"MNE\",\"MKD\",\"ALB\",\"SRB\",\"TUR\"],\"name\":\"\",\"z\":[100.9,114.0,91.9,99.6,98.7,101.1,91.9,123.4,96.3,105.9,106.6,100.9,87.3,91.1,96.5,146.0,99.4,107.3,111.0,106.8,96.1,104.9,98.3,92.0,100.5,103.6,97.9,104.7,96.1,0.0,98.1,102.9,106.1,105.8,77.7,0.0,96.8,107.7],\"type\":\"choropleth\"}],\"name\":\"2012\"},{\"data\":[{\"coloraxis\":\"coloraxis\",\"geo\":\"geo\",\"hovertemplate\":\"<b>%{hovertext}</b><br><br>year=2013<br>iso_alpha=%{location}<br>index=%{z}<extra></extra>\",\"hovertext\":[\"EU\",\"Belgium\",\"Bulgaria\",\"Czech Republic\",\"Denmark\",\"Germany\",\"Estonia\",\"Ireland\",\"Greece\",\"Spain\",\"France\",\"Croatia\",\"Italy\",\"Cyprus\",\"Latvia\",\"Lithuania\",\"Luxembourg\",\"Hungary\",\"Malta\",\"Netherlands\",\"Austria\",\"Poland\",\"Portugal\",\"Romania\",\"Slovenia\",\"Slovakia\",\"Finland\",\"Sweden\",\"Iceland\",\"Liechtenstein\",\"Norway\",\"Switzerland\",\"United Kingdom\",\"Montenegro\",\"North Macedonia\",\"Albania\",\"Serbia\",\"Turkey\"],\"ids\":[\"EU\",\"Belgium\",\"Bulgaria\",\"Czech Republic\",\"Denmark\",\"Germany\",\"Estonia\",\"Ireland\",\"Greece\",\"Spain\",\"France\",\"Croatia\",\"Italy\",\"Cyprus\",\"Latvia\",\"Lithuania\",\"Luxembourg\",\"Hungary\",\"Malta\",\"Netherlands\",\"Austria\",\"Poland\",\"Portugal\",\"Romania\",\"Slovenia\",\"Slovakia\",\"Finland\",\"Sweden\",\"Iceland\",\"Liechtenstein\",\"Norway\",\"Switzerland\",\"United Kingdom\",\"Montenegro\",\"North Macedonia\",\"Albania\",\"Serbia\",\"Turkey\"],\"locations\":[null,\"BEL\",\"BGR\",\"CZE\",\"DNK\",\"DEU\",\"EST\",\"IRL\",\"GRC\",\"ESP\",\"FRA\",\"HRV\",\"ITA\",\"CYP\",\"LVA\",\"LTU\",\"LUX\",\"HUN\",\"MLT\",\"NLD\",\"AUT\",\"POL\",\"PRT\",\"ROU\",\"SVN\",\"SVK\",\"FIN\",\"SWE\",\"ISL\",\"LIE\",\"NOR\",\"CHE\",\"GBR\",\"MNE\",\"MKD\",\"ALB\",\"SRB\",\"TUR\"],\"name\":\"\",\"z\":[100.8,111.5,94.4,100.7,97.7,100.9,93.9,125.2,98.0,105.8,99.6,101.7,94.4,96.8,95.8,138.1,98.3,104.3,106.9,108.0,97.4,104.5,98.7,94.8,101.5,103.4,98.6,103.5,94.6,0.0,98.4,101.9,102.9,104.7,96.3,0.0,96.0,102.4],\"type\":\"choropleth\"}],\"name\":\"2013\"},{\"data\":[{\"coloraxis\":\"coloraxis\",\"geo\":\"geo\",\"hovertemplate\":\"<b>%{hovertext}</b><br><br>year=2014<br>iso_alpha=%{location}<br>index=%{z}<extra></extra>\",\"hovertext\":[\"EU\",\"Belgium\",\"Bulgaria\",\"Czech Republic\",\"Denmark\",\"Germany\",\"Estonia\",\"Ireland\",\"Greece\",\"Spain\",\"France\",\"Croatia\",\"Italy\",\"Cyprus\",\"Latvia\",\"Lithuania\",\"Luxembourg\",\"Hungary\",\"Malta\",\"Netherlands\",\"Austria\",\"Poland\",\"Portugal\",\"Romania\",\"Slovenia\",\"Slovakia\",\"Finland\",\"Sweden\",\"Iceland\",\"Liechtenstein\",\"Norway\",\"Switzerland\",\"United Kingdom\",\"Montenegro\",\"North Macedonia\",\"Albania\",\"Serbia\",\"Turkey\"],\"ids\":[\"EU\",\"Belgium\",\"Bulgaria\",\"Czech Republic\",\"Denmark\",\"Germany\",\"Estonia\",\"Ireland\",\"Greece\",\"Spain\",\"France\",\"Croatia\",\"Italy\",\"Cyprus\",\"Latvia\",\"Lithuania\",\"Luxembourg\",\"Hungary\",\"Malta\",\"Netherlands\",\"Austria\",\"Poland\",\"Portugal\",\"Romania\",\"Slovenia\",\"Slovakia\",\"Finland\",\"Sweden\",\"Iceland\",\"Liechtenstein\",\"Norway\",\"Switzerland\",\"United Kingdom\",\"Montenegro\",\"North Macedonia\",\"Albania\",\"Serbia\",\"Turkey\"],\"locations\":[null,\"BEL\",\"BGR\",\"CZE\",\"DNK\",\"DEU\",\"EST\",\"IRL\",\"GRC\",\"ESP\",\"FRA\",\"HRV\",\"ITA\",\"CYP\",\"LVA\",\"LTU\",\"LUX\",\"HUN\",\"MLT\",\"NLD\",\"AUT\",\"POL\",\"PRT\",\"ROU\",\"SVN\",\"SVK\",\"FIN\",\"SWE\",\"ISL\",\"LIE\",\"NOR\",\"CHE\",\"GBR\",\"MNE\",\"MKD\",\"ALB\",\"SRB\",\"TUR\"],\"name\":\"\",\"z\":[100.1,103.7,99.1,103.1,98.1,100.2,95.9,114.3,98.4,99.4,99.8,102.2,96.5,100.4,99.0,101.1,98.8,101.3,104.6,106.8,99.0,102.4,99.3,97.1,100.5,101.8,99.2,102.7,97.8,0.0,99.5,100.7,102.0,101.8,102.6,0.0,98.4,100.7],\"type\":\"choropleth\"}],\"name\":\"2014\"},{\"data\":[{\"coloraxis\":\"coloraxis\",\"geo\":\"geo\",\"hovertemplate\":\"<b>%{hovertext}</b><br><br>year=2015<br>iso_alpha=%{location}<br>index=%{z}<extra></extra>\",\"hovertext\":[\"EU\",\"Belgium\",\"Bulgaria\",\"Czech Republic\",\"Denmark\",\"Germany\",\"Estonia\",\"Ireland\",\"Greece\",\"Spain\",\"France\",\"Croatia\",\"Italy\",\"Cyprus\",\"Latvia\",\"Lithuania\",\"Luxembourg\",\"Hungary\",\"Malta\",\"Netherlands\",\"Austria\",\"Poland\",\"Portugal\",\"Romania\",\"Slovenia\",\"Slovakia\",\"Finland\",\"Sweden\",\"Iceland\",\"Liechtenstein\",\"Norway\",\"Switzerland\",\"United Kingdom\",\"Montenegro\",\"North Macedonia\",\"Albania\",\"Serbia\",\"Turkey\"],\"ids\":[\"EU\",\"Belgium\",\"Bulgaria\",\"Czech Republic\",\"Denmark\",\"Germany\",\"Estonia\",\"Ireland\",\"Greece\",\"Spain\",\"France\",\"Croatia\",\"Italy\",\"Cyprus\",\"Latvia\",\"Lithuania\",\"Luxembourg\",\"Hungary\",\"Malta\",\"Netherlands\",\"Austria\",\"Poland\",\"Portugal\",\"Romania\",\"Slovenia\",\"Slovakia\",\"Finland\",\"Sweden\",\"Iceland\",\"Liechtenstein\",\"Norway\",\"Switzerland\",\"United Kingdom\",\"Montenegro\",\"North Macedonia\",\"Albania\",\"Serbia\",\"Turkey\"],\"locations\":[null,\"BEL\",\"BGR\",\"CZE\",\"DNK\",\"DEU\",\"EST\",\"IRL\",\"GRC\",\"ESP\",\"FRA\",\"HRV\",\"ITA\",\"CYP\",\"LVA\",\"LTU\",\"LUX\",\"HUN\",\"MLT\",\"NLD\",\"AUT\",\"POL\",\"PRT\",\"ROU\",\"SVN\",\"SVK\",\"FIN\",\"SWE\",\"ISL\",\"LIE\",\"NOR\",\"CHE\",\"GBR\",\"MNE\",\"MKD\",\"ALB\",\"SRB\",\"TUR\"],\"name\":\"\",\"z\":[100.0,100.0,100.0,100.0,100.0,100.0,100.0,100.0,100.0,100.0,100.0,100.0,100.0,100.0,100.0,100.0,100.0,100.0,100.0,100.0,100.0,100.0,100.0,100.0,100.0,100.0,100.0,100.0,100.0,0.0,100.0,100.0,100.0,100.0,100.0,0.0,100.0,100.0],\"type\":\"choropleth\"}],\"name\":\"2015\"},{\"data\":[{\"coloraxis\":\"coloraxis\",\"geo\":\"geo\",\"hovertemplate\":\"<b>%{hovertext}</b><br><br>year=2016<br>iso_alpha=%{location}<br>index=%{z}<extra></extra>\",\"hovertext\":[\"EU\",\"Belgium\",\"Bulgaria\",\"Czech Republic\",\"Denmark\",\"Germany\",\"Estonia\",\"Ireland\",\"Greece\",\"Spain\",\"France\",\"Croatia\",\"Italy\",\"Cyprus\",\"Latvia\",\"Lithuania\",\"Luxembourg\",\"Hungary\",\"Malta\",\"Netherlands\",\"Austria\",\"Poland\",\"Portugal\",\"Romania\",\"Slovenia\",\"Slovakia\",\"Finland\",\"Sweden\",\"Iceland\",\"Liechtenstein\",\"Norway\",\"Switzerland\",\"United Kingdom\",\"Montenegro\",\"North Macedonia\",\"Albania\",\"Serbia\",\"Turkey\"],\"ids\":[\"EU\",\"Belgium\",\"Bulgaria\",\"Czech Republic\",\"Denmark\",\"Germany\",\"Estonia\",\"Ireland\",\"Greece\",\"Spain\",\"France\",\"Croatia\",\"Italy\",\"Cyprus\",\"Latvia\",\"Lithuania\",\"Luxembourg\",\"Hungary\",\"Malta\",\"Netherlands\",\"Austria\",\"Poland\",\"Portugal\",\"Romania\",\"Slovenia\",\"Slovakia\",\"Finland\",\"Sweden\",\"Iceland\",\"Liechtenstein\",\"Norway\",\"Switzerland\",\"United Kingdom\",\"Montenegro\",\"North Macedonia\",\"Albania\",\"Serbia\",\"Turkey\"],\"locations\":[null,\"BEL\",\"BGR\",\"CZE\",\"DNK\",\"DEU\",\"EST\",\"IRL\",\"GRC\",\"ESP\",\"FRA\",\"HRV\",\"ITA\",\"CYP\",\"LVA\",\"LTU\",\"LUX\",\"HUN\",\"MLT\",\"NLD\",\"AUT\",\"POL\",\"PRT\",\"ROU\",\"SVN\",\"SVK\",\"FIN\",\"SWE\",\"ISL\",\"LIE\",\"NOR\",\"CHE\",\"GBR\",\"MNE\",\"MKD\",\"ALB\",\"SRB\",\"TUR\"],\"name\":\"\",\"z\":[100.0,97.4,95.9,100.7,99.8,100.0,104.2,103.8,101.6,100.6,100.2,96.9,102.0,97.9,99.3,100.7,97.6,103.1,99.8,99.0,100.8,101.8,104.4,102.9,98.5,100.5,86.3,84.8,109.0,0.0,99.6,99.8,99.4,106.7,96.2,0.0,98.2,99.9],\"type\":\"choropleth\"}],\"name\":\"2016\"},{\"data\":[{\"coloraxis\":\"coloraxis\",\"geo\":\"geo\",\"hovertemplate\":\"<b>%{hovertext}</b><br><br>year=2017<br>iso_alpha=%{location}<br>index=%{z}<extra></extra>\",\"hovertext\":[\"EU\",\"Belgium\",\"Bulgaria\",\"Czech Republic\",\"Denmark\",\"Germany\",\"Estonia\",\"Ireland\",\"Greece\",\"Spain\",\"France\",\"Croatia\",\"Italy\",\"Cyprus\",\"Latvia\",\"Lithuania\",\"Luxembourg\",\"Hungary\",\"Malta\",\"Netherlands\",\"Austria\",\"Poland\",\"Portugal\",\"Romania\",\"Slovenia\",\"Slovakia\",\"Finland\",\"Sweden\",\"Iceland\",\"Liechtenstein\",\"Norway\",\"Switzerland\",\"United Kingdom\",\"Montenegro\",\"North Macedonia\",\"Albania\",\"Serbia\",\"Turkey\"],\"ids\":[\"EU\",\"Belgium\",\"Bulgaria\",\"Czech Republic\",\"Denmark\",\"Germany\",\"Estonia\",\"Ireland\",\"Greece\",\"Spain\",\"France\",\"Croatia\",\"Italy\",\"Cyprus\",\"Latvia\",\"Lithuania\",\"Luxembourg\",\"Hungary\",\"Malta\",\"Netherlands\",\"Austria\",\"Poland\",\"Portugal\",\"Romania\",\"Slovenia\",\"Slovakia\",\"Finland\",\"Sweden\",\"Iceland\",\"Liechtenstein\",\"Norway\",\"Switzerland\",\"United Kingdom\",\"Montenegro\",\"North Macedonia\",\"Albania\",\"Serbia\",\"Turkey\"],\"locations\":[null,\"BEL\",\"BGR\",\"CZE\",\"DNK\",\"DEU\",\"EST\",\"IRL\",\"GRC\",\"ESP\",\"FRA\",\"HRV\",\"ITA\",\"CYP\",\"LVA\",\"LTU\",\"LUX\",\"HUN\",\"MLT\",\"NLD\",\"AUT\",\"POL\",\"PRT\",\"ROU\",\"SVN\",\"SVK\",\"FIN\",\"SWE\",\"ISL\",\"LIE\",\"NOR\",\"CHE\",\"GBR\",\"MNE\",\"MKD\",\"ALB\",\"SRB\",\"TUR\"],\"name\":\"\",\"z\":[98.3,96.6,93.9,99.2,98.6,94.6,99.8,98.8,101.7,94.4,99.0,94.5,105.3,94.2,102.0,115.5,98.5,103.5,91.0,95.0,100.2,99.9,103.8,97.5,96.1,99.2,95.7,84.3,114.6,0.0,98.8,99.6,103.6,103.7,95.0,0.0,97.3,94.4],\"type\":\"choropleth\"}],\"name\":\"2017\"},{\"data\":[{\"coloraxis\":\"coloraxis\",\"geo\":\"geo\",\"hovertemplate\":\"<b>%{hovertext}</b><br><br>year=2018<br>iso_alpha=%{location}<br>index=%{z}<extra></extra>\",\"hovertext\":[\"EU\",\"Belgium\",\"Bulgaria\",\"Czech Republic\",\"Denmark\",\"Germany\",\"Estonia\",\"Ireland\",\"Greece\",\"Spain\",\"France\",\"Croatia\",\"Italy\",\"Cyprus\",\"Latvia\",\"Lithuania\",\"Luxembourg\",\"Hungary\",\"Malta\",\"Netherlands\",\"Austria\",\"Poland\",\"Portugal\",\"Romania\",\"Slovenia\",\"Slovakia\",\"Finland\",\"Sweden\",\"Iceland\",\"Liechtenstein\",\"Norway\",\"Switzerland\",\"United Kingdom\",\"Montenegro\",\"North Macedonia\",\"Albania\",\"Serbia\",\"Turkey\"],\"ids\":[\"EU\",\"Belgium\",\"Bulgaria\",\"Czech Republic\",\"Denmark\",\"Germany\",\"Estonia\",\"Ireland\",\"Greece\",\"Spain\",\"France\",\"Croatia\",\"Italy\",\"Cyprus\",\"Latvia\",\"Lithuania\",\"Luxembourg\",\"Hungary\",\"Malta\",\"Netherlands\",\"Austria\",\"Poland\",\"Portugal\",\"Romania\",\"Slovenia\",\"Slovakia\",\"Finland\",\"Sweden\",\"Iceland\",\"Liechtenstein\",\"Norway\",\"Switzerland\",\"United Kingdom\",\"Montenegro\",\"North Macedonia\",\"Albania\",\"Serbia\",\"Turkey\"],\"locations\":[null,\"BEL\",\"BGR\",\"CZE\",\"DNK\",\"DEU\",\"EST\",\"IRL\",\"GRC\",\"ESP\",\"FRA\",\"HRV\",\"ITA\",\"CYP\",\"LVA\",\"LTU\",\"LUX\",\"HUN\",\"MLT\",\"NLD\",\"AUT\",\"POL\",\"PRT\",\"ROU\",\"SVN\",\"SVK\",\"FIN\",\"SWE\",\"ISL\",\"LIE\",\"NOR\",\"CHE\",\"GBR\",\"MNE\",\"MKD\",\"ALB\",\"SRB\",\"TUR\"],\"name\":\"\",\"z\":[96.6,95.5,89.7,100.9,97.2,93.8,97.8,93.0,101.3,94.8,96.7,89.3,102.0,92.4,99.9,107.5,99.4,100.7,87.3,97.0,90.7,96.1,104.7,96.8,93.3,97.1,94.9,83.5,113.2,0.0,99.0,97.1,103.8,104.5,96.9,0.0,95.5,99.1],\"type\":\"choropleth\"}],\"name\":\"2018\"},{\"data\":[{\"coloraxis\":\"coloraxis\",\"geo\":\"geo\",\"hovertemplate\":\"<b>%{hovertext}</b><br><br>year=2019<br>iso_alpha=%{location}<br>index=%{z}<extra></extra>\",\"hovertext\":[\"EU\",\"Belgium\",\"Bulgaria\",\"Czech Republic\",\"Denmark\",\"Germany\",\"Estonia\",\"Ireland\",\"Greece\",\"Spain\",\"France\",\"Croatia\",\"Italy\",\"Cyprus\",\"Latvia\",\"Lithuania\",\"Luxembourg\",\"Hungary\",\"Malta\",\"Netherlands\",\"Austria\",\"Poland\",\"Portugal\",\"Romania\",\"Slovenia\",\"Slovakia\",\"Finland\",\"Sweden\",\"Iceland\",\"Liechtenstein\",\"Norway\",\"Switzerland\",\"United Kingdom\",\"Montenegro\",\"North Macedonia\",\"Albania\",\"Serbia\",\"Turkey\"],\"ids\":[\"EU\",\"Belgium\",\"Bulgaria\",\"Czech Republic\",\"Denmark\",\"Germany\",\"Estonia\",\"Ireland\",\"Greece\",\"Spain\",\"France\",\"Croatia\",\"Italy\",\"Cyprus\",\"Latvia\",\"Lithuania\",\"Luxembourg\",\"Hungary\",\"Malta\",\"Netherlands\",\"Austria\",\"Poland\",\"Portugal\",\"Romania\",\"Slovenia\",\"Slovakia\",\"Finland\",\"Sweden\",\"Iceland\",\"Liechtenstein\",\"Norway\",\"Switzerland\",\"United Kingdom\",\"Montenegro\",\"North Macedonia\",\"Albania\",\"Serbia\",\"Turkey\"],\"locations\":[null,\"BEL\",\"BGR\",\"CZE\",\"DNK\",\"DEU\",\"EST\",\"IRL\",\"GRC\",\"ESP\",\"FRA\",\"HRV\",\"ITA\",\"CYP\",\"LVA\",\"LTU\",\"LUX\",\"HUN\",\"MLT\",\"NLD\",\"AUT\",\"POL\",\"PRT\",\"ROU\",\"SVN\",\"SVK\",\"FIN\",\"SWE\",\"ISL\",\"LIE\",\"NOR\",\"CHE\",\"GBR\",\"MNE\",\"MKD\",\"ALB\",\"SRB\",\"TUR\"],\"name\":\"\",\"z\":[95.4,93.8,88.7,101.5,98.2,91.1,100.2,90.5,100.9,93.6,94.6,86.1,102.9,90.1,98.9,106.9,99.6,99.3,83.8,97.0,87.5,94.4,104.8,99.1,91.4,95.4,94.0,82.2,109.2,0.0,98.7,97.5,104.3,105.2,93.0,0.0,93.5,102.9],\"type\":\"choropleth\"}],\"name\":\"2019\"},{\"data\":[{\"coloraxis\":\"coloraxis\",\"geo\":\"geo\",\"hovertemplate\":\"<b>%{hovertext}</b><br><br>year=2020<br>iso_alpha=%{location}<br>index=%{z}<extra></extra>\",\"hovertext\":[\"EU\",\"Belgium\",\"Bulgaria\",\"Czech Republic\",\"Denmark\",\"Germany\",\"Estonia\",\"Ireland\",\"Greece\",\"Spain\",\"France\",\"Croatia\",\"Italy\",\"Cyprus\",\"Latvia\",\"Lithuania\",\"Luxembourg\",\"Hungary\",\"Malta\",\"Netherlands\",\"Austria\",\"Poland\",\"Portugal\",\"Romania\",\"Slovenia\",\"Slovakia\",\"Finland\",\"Sweden\",\"Iceland\",\"Liechtenstein\",\"Norway\",\"Switzerland\",\"United Kingdom\",\"Montenegro\",\"North Macedonia\",\"Albania\",\"Serbia\",\"Turkey\"],\"ids\":[\"EU\",\"Belgium\",\"Bulgaria\",\"Czech Republic\",\"Denmark\",\"Germany\",\"Estonia\",\"Ireland\",\"Greece\",\"Spain\",\"France\",\"Croatia\",\"Italy\",\"Cyprus\",\"Latvia\",\"Lithuania\",\"Luxembourg\",\"Hungary\",\"Malta\",\"Netherlands\",\"Austria\",\"Poland\",\"Portugal\",\"Romania\",\"Slovenia\",\"Slovakia\",\"Finland\",\"Sweden\",\"Iceland\",\"Liechtenstein\",\"Norway\",\"Switzerland\",\"United Kingdom\",\"Montenegro\",\"North Macedonia\",\"Albania\",\"Serbia\",\"Turkey\"],\"locations\":[null,\"BEL\",\"BGR\",\"CZE\",\"DNK\",\"DEU\",\"EST\",\"IRL\",\"GRC\",\"ESP\",\"FRA\",\"HRV\",\"ITA\",\"CYP\",\"LVA\",\"LTU\",\"LUX\",\"HUN\",\"MLT\",\"NLD\",\"AUT\",\"POL\",\"PRT\",\"ROU\",\"SVN\",\"SVK\",\"FIN\",\"SWE\",\"ISL\",\"LIE\",\"NOR\",\"CHE\",\"GBR\",\"MNE\",\"MKD\",\"ALB\",\"SRB\",\"TUR\"],\"name\":\"\",\"z\":[79.2,80.9,75.4,83.8,88.4,79.9,79.1,70.1,91.6,77.5,79.2,71.1,71.9,75.5,91.1,93.5,84.6,91.9,76.1,68.4,78.6,84.9,95.3,88.2,77.5,78.2,89.2,74.9,101.1,0.0,89.3,86.0,0.0,99.9,103.8,0.0,80.5,85.0],\"type\":\"choropleth\"}],\"name\":\"2020\"},{\"data\":[{\"coloraxis\":\"coloraxis\",\"geo\":\"geo\",\"hovertemplate\":\"<b>%{hovertext}</b><br><br>year=2021<br>iso_alpha=%{location}<br>index=%{z}<extra></extra>\",\"hovertext\":[\"EU\",\"Belgium\",\"Bulgaria\",\"Czech Republic\",\"Denmark\",\"Germany\",\"Estonia\",\"Ireland\",\"Greece\",\"Spain\",\"France\",\"Croatia\",\"Italy\",\"Cyprus\",\"Latvia\",\"Lithuania\",\"Luxembourg\",\"Hungary\",\"Malta\",\"Netherlands\",\"Austria\",\"Poland\",\"Portugal\",\"Romania\",\"Slovenia\",\"Slovakia\",\"Finland\",\"Sweden\",\"Iceland\",\"Liechtenstein\",\"Norway\",\"Switzerland\",\"United Kingdom\",\"Montenegro\",\"North Macedonia\",\"Albania\",\"Serbia\",\"Turkey\"],\"ids\":[\"EU\",\"Belgium\",\"Bulgaria\",\"Czech Republic\",\"Denmark\",\"Germany\",\"Estonia\",\"Ireland\",\"Greece\",\"Spain\",\"France\",\"Croatia\",\"Italy\",\"Cyprus\",\"Latvia\",\"Lithuania\",\"Luxembourg\",\"Hungary\",\"Malta\",\"Netherlands\",\"Austria\",\"Poland\",\"Portugal\",\"Romania\",\"Slovenia\",\"Slovakia\",\"Finland\",\"Sweden\",\"Iceland\",\"Liechtenstein\",\"Norway\",\"Switzerland\",\"United Kingdom\",\"Montenegro\",\"North Macedonia\",\"Albania\",\"Serbia\",\"Turkey\"],\"locations\":[null,\"BEL\",\"BGR\",\"CZE\",\"DNK\",\"DEU\",\"EST\",\"IRL\",\"GRC\",\"ESP\",\"FRA\",\"HRV\",\"ITA\",\"CYP\",\"LVA\",\"LTU\",\"LUX\",\"HUN\",\"MLT\",\"NLD\",\"AUT\",\"POL\",\"PRT\",\"ROU\",\"SVN\",\"SVK\",\"FIN\",\"SWE\",\"ISL\",\"LIE\",\"NOR\",\"CHE\",\"GBR\",\"MNE\",\"MKD\",\"ALB\",\"SRB\",\"TUR\"],\"name\":\"\",\"z\":[80.2,79.9,72.3,99.2,85.9,76.1,77.7,65.7,90.3,79.7,85.8,72.1,74.1,76.3,78.7,94.9,86.3,89.8,72.9,72.4,80.0,83.3,97.9,91.2,77.5,77.3,85.0,70.0,109.6,0.0,89.3,86.7,0.0,97.9,110.3,0.0,81.8,82.8],\"type\":\"choropleth\"}],\"name\":\"2021\"}]);\n                        }).then(function(){\n                            \nvar gd = document.getElementById('273cae38-2264-4ff5-a374-6e4819e617fa');\nvar x = new MutationObserver(function (mutations, observer) {{\n        var display = window.getComputedStyle(gd).display;\n        if (!display || display === 'none') {{\n            console.log([gd, 'removed!']);\n            Plotly.purge(gd);\n            observer.disconnect();\n        }}\n}});\n\n// Listen for the removal of the full notebook cells\nvar notebookContainer = gd.closest('#notebook-container');\nif (notebookContainer) {{\n    x.observe(notebookContainer, {childList: true});\n}}\n\n// Listen for the clearing of the current output cell\nvar outputEl = gd.closest('.output');\nif (outputEl) {{\n    x.observe(outputEl, {childList: true});\n}}\n\n                        })                };                });            </script>        </div>"
     },
     "metadata": {},
     "output_type": "display_data"
    }
   ],
   "source": [
    "# Read in prepared data set, rename a column and extract the different years\n",
    "df = pd.read_csv('data/pg_GDP_map.csv')\n",
    "df = df.rename(columns={'pg_GDP': 'index'})\n",
    "years = df.year.unique()\n",
    "\n",
    "# Calculate max value for continuous colour range\n",
    "max_pg_gdp = df['index'].max()\n",
    "\n",
    "# Country names to be used in the labeling\n",
    "customdata = df['country']\n",
    "\n",
    "# Create choropleth figure\n",
    "fig = px.choropleth(df,\n",
    "                    locations='iso_alpha',  # Iso-alpha-3 codes to signify which country\n",
    "                    color='index',\n",
    "                    hover_name='country',\n",
    "                    color_continuous_scale=[[0, 'gray'], [0.01, 'gray'], [0.01, 'blue'], [1, 'red']],  # Gray represents countries with no available data.\n",
    "                    projection='miller',\n",
    "                    range_color=(0,max_pg_gdp),\n",
    "                    scope='europe',\n",
    "                    animation_frame='year',\n",
    "                    animation_group='country'\n",
    "                    )\n",
    "\n",
    "# Sets hover data\n",
    "fig.update_traces(customdata=customdata, \n",
    "                  hovertemplate= np.select([df['index'] == 0], ['<b>Country: </b> %{customdata}<br><br>No data available'], '<b>Country: </b>%{customdata}<br><br><b>Index value: </b>%{z}'))\n",
    "\n",
    "# Gets value for the entire EU\n",
    "numb = df.query('country==\"EU\"')['index']\n",
    "\n",
    "# Get current year\n",
    "current_year = fig.layout.sliders[0].steps[0].label\n",
    "\n",
    "# Set title and EU index and legend position\n",
    "fig.update_layout(title='<b>Volume of passengers relative to GDP</b><br>EU index: ' + str(numb.tolist()[0]),\n",
    "                   coloraxis_colorbar=dict(x=0,\n",
    "                                           y=0.5)\n",
    "                  )\n",
    "\n",
    "# Set figure size\n",
    "fig.update_layout(width=1000,\n",
    "                  height=600)\n",
    "\n",
    "fig.show()"
   ]
  },
  {
   "cell_type": "markdown",
   "id": "ddc13c8f",
   "metadata": {},
   "source": [
    "\"Volume of passenger transport relative to GDP\" is a key economic indicator that provides insights into the relationship between the volume of passenger transportation servicesand the Gross Domestic Product (GDP) of a country or region.  \n",
    "A high volume of passenger transport relative to GDP often indicates a robust and growing economy. When the volume of passenger transport is significant in comparison to the GDP, it suggests that the transportation sector is making a substantial contribution to economic growth.   \n",
    "A high ratio may suggest that a country's economy relies heavily on transportation services, such as tourism, logistics, or commuting. In this case, fluctuations in transportation services may have a substantial impact on the overall economic health of the country.    \n",
    "A low ratio relative to GDP might suggest that a country or region's transportation system is highly efficient. In such cases, the transportation sector doesn't need to consume a significant portion of the economic output to move people efficiently, indicating well-developed and cost-effective transport infrastructure.  \n",
    "- The data on the \"Volume of passenger transport relative to GDP\" in the European Union from 2010 to 2022, with 2015 defined as 100, can be analyzed as follows:\n",
    "1. Positive Trend:\n",
    "    From 2010 to 2015, the ratio increased from 103.7 to 100, where 2015 was defined as 100. This indicates a relative increase in the volume of passenger transport in relation to GDP during this period. The passenger transport sector was playing an increasingly significant role in the European economy. This have been due to factors such as increased tourism, or infrastructure development and investment.\n",
    "2. Stability:\n",
    "    From 2016 to 2018, the ratio remained relatively stable, hovering around 100. This suggests that the passenger transport sector was maintaining its level of contribution to the economy, with no significant shifts in either direction.\n",
    "3. Decline:\n",
    "    From 2019 onwards, there was a notable decline. By 2022, the ratio had decreased to 80.2. This decline indicates a reduction in the relative contribution of the passenger transport sector to the GDP. This reduction could be influenced by various factors, such as changes in travel behavior (e.g.due to the COVID-19 pandemic), economic shifts, or increased efficiency in the transportation sector. No data augmentation after the pandemicmay because many people adapted to remote work and virtual meetings. As more people work from home, the need for daily commuting and business travel may decrease, impacting the passenger transport sector. Many businesses in the travel and tourism sectors suffered financial losses.Reduced business travel and tourism can lead to lower passenger transport relative to GDP."
   ]
  },
  {
   "cell_type": "markdown",
   "source": [
    "# Percentage road and rail passenger kilometres\n",
    "Next, we look at the percentage of total passenger kilometres that is road (buses and coaches) and rail kilometres.\n",
    "We do this by plotting the dataframe created in part II as a bar chart with animation frames for the years."
   ],
   "metadata": {
    "collapsed": false
   },
   "id": "7392c40805edb0d1"
  },
  {
   "cell_type": "code",
   "execution_count": 98,
   "outputs": [
    {
     "data": {
      "application/vnd.plotly.v1+json": {
       "data": [
        {
         "alignmentgroup": "True",
         "hovertemplate": "<b>Country:</b> %{x}<br><b>Percentage:</b> %{y:,.1f}<extra></extra>",
         "ids": [
          "Bulgaria",
          "Czechia",
          "Germany",
          "France",
          "Croatia",
          "Italy",
          "Lithuania",
          "Austria",
          "Poland",
          "Finland"
         ],
         "legendgroup": "Percentage road",
         "marker": {
          "color": "#636efa",
          "pattern": {
           "shape": ""
          }
         },
         "name": "Percentage road",
         "offsetgroup": "Percentage road",
         "orientation": "v",
         "showlegend": true,
         "textposition": "auto",
         "x": [
          "Bulgaria",
          "Czechia",
          "Germany",
          "France",
          "Croatia",
          "Italy",
          "Lithuania",
          "Austria",
          "Poland",
          "Finland"
         ],
         "xaxis": "x",
         "y": [
          84.99728122064954,
          66.1850101282917,
          40.33842685537821,
          35.09758494301269,
          78.95092300765421,
          null,
          90.06930056440666,
          45.96474281574499,
          54.91340567795682,
          65.59124896150651
         ],
         "yaxis": "y",
         "type": "bar"
        },
        {
         "alignmentgroup": "True",
         "hovertemplate": "<b>Country:</b> %{x}<br><b>Percentage:</b> %{y:,.1f}<extra></extra>",
         "ids": [
          "Bulgaria",
          "Czechia",
          "Germany",
          "France",
          "Croatia",
          "Italy",
          "Lithuania",
          "Austria",
          "Poland",
          "Finland"
         ],
         "legendgroup": "Percentage rail",
         "marker": {
          "color": "#EF553B",
          "pattern": {
           "shape": ""
          }
         },
         "name": "Percentage rail",
         "offsetgroup": "Percentage rail",
         "orientation": "v",
         "showlegend": true,
         "textposition": "auto",
         "x": [
          "Bulgaria",
          "Czechia",
          "Germany",
          "France",
          "Croatia",
          "Italy",
          "Lithuania",
          "Austria",
          "Poland",
          "Finland"
         ],
         "xaxis": "x",
         "y": [
          15.00271877935046,
          33.814989871708306,
          59.661573144621784,
          64.90241505698731,
          21.049076992345793,
          null,
          9.930699435593342,
          54.035257184255016,
          45.08659432204319,
          34.40875103849349
         ],
         "yaxis": "y",
         "type": "bar"
        }
       ],
       "layout": {
        "template": {
         "data": {
          "histogram2dcontour": [
           {
            "type": "histogram2dcontour",
            "colorbar": {
             "outlinewidth": 0,
             "ticks": ""
            },
            "colorscale": [
             [
              0.0,
              "#0d0887"
             ],
             [
              0.1111111111111111,
              "#46039f"
             ],
             [
              0.2222222222222222,
              "#7201a8"
             ],
             [
              0.3333333333333333,
              "#9c179e"
             ],
             [
              0.4444444444444444,
              "#bd3786"
             ],
             [
              0.5555555555555556,
              "#d8576b"
             ],
             [
              0.6666666666666666,
              "#ed7953"
             ],
             [
              0.7777777777777778,
              "#fb9f3a"
             ],
             [
              0.8888888888888888,
              "#fdca26"
             ],
             [
              1.0,
              "#f0f921"
             ]
            ]
           }
          ],
          "choropleth": [
           {
            "type": "choropleth",
            "colorbar": {
             "outlinewidth": 0,
             "ticks": ""
            }
           }
          ],
          "histogram2d": [
           {
            "type": "histogram2d",
            "colorbar": {
             "outlinewidth": 0,
             "ticks": ""
            },
            "colorscale": [
             [
              0.0,
              "#0d0887"
             ],
             [
              0.1111111111111111,
              "#46039f"
             ],
             [
              0.2222222222222222,
              "#7201a8"
             ],
             [
              0.3333333333333333,
              "#9c179e"
             ],
             [
              0.4444444444444444,
              "#bd3786"
             ],
             [
              0.5555555555555556,
              "#d8576b"
             ],
             [
              0.6666666666666666,
              "#ed7953"
             ],
             [
              0.7777777777777778,
              "#fb9f3a"
             ],
             [
              0.8888888888888888,
              "#fdca26"
             ],
             [
              1.0,
              "#f0f921"
             ]
            ]
           }
          ],
          "heatmap": [
           {
            "type": "heatmap",
            "colorbar": {
             "outlinewidth": 0,
             "ticks": ""
            },
            "colorscale": [
             [
              0.0,
              "#0d0887"
             ],
             [
              0.1111111111111111,
              "#46039f"
             ],
             [
              0.2222222222222222,
              "#7201a8"
             ],
             [
              0.3333333333333333,
              "#9c179e"
             ],
             [
              0.4444444444444444,
              "#bd3786"
             ],
             [
              0.5555555555555556,
              "#d8576b"
             ],
             [
              0.6666666666666666,
              "#ed7953"
             ],
             [
              0.7777777777777778,
              "#fb9f3a"
             ],
             [
              0.8888888888888888,
              "#fdca26"
             ],
             [
              1.0,
              "#f0f921"
             ]
            ]
           }
          ],
          "heatmapgl": [
           {
            "type": "heatmapgl",
            "colorbar": {
             "outlinewidth": 0,
             "ticks": ""
            },
            "colorscale": [
             [
              0.0,
              "#0d0887"
             ],
             [
              0.1111111111111111,
              "#46039f"
             ],
             [
              0.2222222222222222,
              "#7201a8"
             ],
             [
              0.3333333333333333,
              "#9c179e"
             ],
             [
              0.4444444444444444,
              "#bd3786"
             ],
             [
              0.5555555555555556,
              "#d8576b"
             ],
             [
              0.6666666666666666,
              "#ed7953"
             ],
             [
              0.7777777777777778,
              "#fb9f3a"
             ],
             [
              0.8888888888888888,
              "#fdca26"
             ],
             [
              1.0,
              "#f0f921"
             ]
            ]
           }
          ],
          "contourcarpet": [
           {
            "type": "contourcarpet",
            "colorbar": {
             "outlinewidth": 0,
             "ticks": ""
            }
           }
          ],
          "contour": [
           {
            "type": "contour",
            "colorbar": {
             "outlinewidth": 0,
             "ticks": ""
            },
            "colorscale": [
             [
              0.0,
              "#0d0887"
             ],
             [
              0.1111111111111111,
              "#46039f"
             ],
             [
              0.2222222222222222,
              "#7201a8"
             ],
             [
              0.3333333333333333,
              "#9c179e"
             ],
             [
              0.4444444444444444,
              "#bd3786"
             ],
             [
              0.5555555555555556,
              "#d8576b"
             ],
             [
              0.6666666666666666,
              "#ed7953"
             ],
             [
              0.7777777777777778,
              "#fb9f3a"
             ],
             [
              0.8888888888888888,
              "#fdca26"
             ],
             [
              1.0,
              "#f0f921"
             ]
            ]
           }
          ],
          "surface": [
           {
            "type": "surface",
            "colorbar": {
             "outlinewidth": 0,
             "ticks": ""
            },
            "colorscale": [
             [
              0.0,
              "#0d0887"
             ],
             [
              0.1111111111111111,
              "#46039f"
             ],
             [
              0.2222222222222222,
              "#7201a8"
             ],
             [
              0.3333333333333333,
              "#9c179e"
             ],
             [
              0.4444444444444444,
              "#bd3786"
             ],
             [
              0.5555555555555556,
              "#d8576b"
             ],
             [
              0.6666666666666666,
              "#ed7953"
             ],
             [
              0.7777777777777778,
              "#fb9f3a"
             ],
             [
              0.8888888888888888,
              "#fdca26"
             ],
             [
              1.0,
              "#f0f921"
             ]
            ]
           }
          ],
          "mesh3d": [
           {
            "type": "mesh3d",
            "colorbar": {
             "outlinewidth": 0,
             "ticks": ""
            }
           }
          ],
          "scatter": [
           {
            "marker": {
             "line": {
              "color": "#283442"
             }
            },
            "type": "scatter"
           }
          ],
          "parcoords": [
           {
            "type": "parcoords",
            "line": {
             "colorbar": {
              "outlinewidth": 0,
              "ticks": ""
             }
            }
           }
          ],
          "scatterpolargl": [
           {
            "type": "scatterpolargl",
            "marker": {
             "colorbar": {
              "outlinewidth": 0,
              "ticks": ""
             }
            }
           }
          ],
          "bar": [
           {
            "error_x": {
             "color": "#f2f5fa"
            },
            "error_y": {
             "color": "#f2f5fa"
            },
            "marker": {
             "line": {
              "color": "rgb(17,17,17)",
              "width": 0.5
             },
             "pattern": {
              "fillmode": "overlay",
              "size": 10,
              "solidity": 0.2
             }
            },
            "type": "bar"
           }
          ],
          "scattergeo": [
           {
            "type": "scattergeo",
            "marker": {
             "colorbar": {
              "outlinewidth": 0,
              "ticks": ""
             }
            }
           }
          ],
          "scatterpolar": [
           {
            "type": "scatterpolar",
            "marker": {
             "colorbar": {
              "outlinewidth": 0,
              "ticks": ""
             }
            }
           }
          ],
          "histogram": [
           {
            "marker": {
             "pattern": {
              "fillmode": "overlay",
              "size": 10,
              "solidity": 0.2
             }
            },
            "type": "histogram"
           }
          ],
          "scattergl": [
           {
            "marker": {
             "line": {
              "color": "#283442"
             }
            },
            "type": "scattergl"
           }
          ],
          "scatter3d": [
           {
            "type": "scatter3d",
            "line": {
             "colorbar": {
              "outlinewidth": 0,
              "ticks": ""
             }
            },
            "marker": {
             "colorbar": {
              "outlinewidth": 0,
              "ticks": ""
             }
            }
           }
          ],
          "scattermapbox": [
           {
            "type": "scattermapbox",
            "marker": {
             "colorbar": {
              "outlinewidth": 0,
              "ticks": ""
             }
            }
           }
          ],
          "scatterternary": [
           {
            "type": "scatterternary",
            "marker": {
             "colorbar": {
              "outlinewidth": 0,
              "ticks": ""
             }
            }
           }
          ],
          "scattercarpet": [
           {
            "type": "scattercarpet",
            "marker": {
             "colorbar": {
              "outlinewidth": 0,
              "ticks": ""
             }
            }
           }
          ],
          "carpet": [
           {
            "aaxis": {
             "endlinecolor": "#A2B1C6",
             "gridcolor": "#506784",
             "linecolor": "#506784",
             "minorgridcolor": "#506784",
             "startlinecolor": "#A2B1C6"
            },
            "baxis": {
             "endlinecolor": "#A2B1C6",
             "gridcolor": "#506784",
             "linecolor": "#506784",
             "minorgridcolor": "#506784",
             "startlinecolor": "#A2B1C6"
            },
            "type": "carpet"
           }
          ],
          "table": [
           {
            "cells": {
             "fill": {
              "color": "#506784"
             },
             "line": {
              "color": "rgb(17,17,17)"
             }
            },
            "header": {
             "fill": {
              "color": "#2a3f5f"
             },
             "line": {
              "color": "rgb(17,17,17)"
             }
            },
            "type": "table"
           }
          ],
          "barpolar": [
           {
            "marker": {
             "line": {
              "color": "rgb(17,17,17)",
              "width": 0.5
             },
             "pattern": {
              "fillmode": "overlay",
              "size": 10,
              "solidity": 0.2
             }
            },
            "type": "barpolar"
           }
          ],
          "pie": [
           {
            "automargin": true,
            "type": "pie"
           }
          ]
         },
         "layout": {
          "autotypenumbers": "strict",
          "colorway": [
           "#636efa",
           "#EF553B",
           "#00cc96",
           "#ab63fa",
           "#FFA15A",
           "#19d3f3",
           "#FF6692",
           "#B6E880",
           "#FF97FF",
           "#FECB52"
          ],
          "font": {
           "color": "#f2f5fa"
          },
          "hovermode": "closest",
          "hoverlabel": {
           "align": "left"
          },
          "paper_bgcolor": "rgb(17,17,17)",
          "plot_bgcolor": "rgb(17,17,17)",
          "polar": {
           "bgcolor": "rgb(17,17,17)",
           "angularaxis": {
            "gridcolor": "#506784",
            "linecolor": "#506784",
            "ticks": ""
           },
           "radialaxis": {
            "gridcolor": "#506784",
            "linecolor": "#506784",
            "ticks": ""
           }
          },
          "ternary": {
           "bgcolor": "rgb(17,17,17)",
           "aaxis": {
            "gridcolor": "#506784",
            "linecolor": "#506784",
            "ticks": ""
           },
           "baxis": {
            "gridcolor": "#506784",
            "linecolor": "#506784",
            "ticks": ""
           },
           "caxis": {
            "gridcolor": "#506784",
            "linecolor": "#506784",
            "ticks": ""
           }
          },
          "coloraxis": {
           "colorbar": {
            "outlinewidth": 0,
            "ticks": ""
           }
          },
          "colorscale": {
           "sequential": [
            [
             0.0,
             "#0d0887"
            ],
            [
             0.1111111111111111,
             "#46039f"
            ],
            [
             0.2222222222222222,
             "#7201a8"
            ],
            [
             0.3333333333333333,
             "#9c179e"
            ],
            [
             0.4444444444444444,
             "#bd3786"
            ],
            [
             0.5555555555555556,
             "#d8576b"
            ],
            [
             0.6666666666666666,
             "#ed7953"
            ],
            [
             0.7777777777777778,
             "#fb9f3a"
            ],
            [
             0.8888888888888888,
             "#fdca26"
            ],
            [
             1.0,
             "#f0f921"
            ]
           ],
           "sequentialminus": [
            [
             0.0,
             "#0d0887"
            ],
            [
             0.1111111111111111,
             "#46039f"
            ],
            [
             0.2222222222222222,
             "#7201a8"
            ],
            [
             0.3333333333333333,
             "#9c179e"
            ],
            [
             0.4444444444444444,
             "#bd3786"
            ],
            [
             0.5555555555555556,
             "#d8576b"
            ],
            [
             0.6666666666666666,
             "#ed7953"
            ],
            [
             0.7777777777777778,
             "#fb9f3a"
            ],
            [
             0.8888888888888888,
             "#fdca26"
            ],
            [
             1.0,
             "#f0f921"
            ]
           ],
           "diverging": [
            [
             0,
             "#8e0152"
            ],
            [
             0.1,
             "#c51b7d"
            ],
            [
             0.2,
             "#de77ae"
            ],
            [
             0.3,
             "#f1b6da"
            ],
            [
             0.4,
             "#fde0ef"
            ],
            [
             0.5,
             "#f7f7f7"
            ],
            [
             0.6,
             "#e6f5d0"
            ],
            [
             0.7,
             "#b8e186"
            ],
            [
             0.8,
             "#7fbc41"
            ],
            [
             0.9,
             "#4d9221"
            ],
            [
             1,
             "#276419"
            ]
           ]
          },
          "xaxis": {
           "gridcolor": "#283442",
           "linecolor": "#506784",
           "ticks": "",
           "title": {
            "standoff": 15
           },
           "zerolinecolor": "#283442",
           "automargin": true,
           "zerolinewidth": 2
          },
          "yaxis": {
           "gridcolor": "#283442",
           "linecolor": "#506784",
           "ticks": "",
           "title": {
            "standoff": 15
           },
           "zerolinecolor": "#283442",
           "automargin": true,
           "zerolinewidth": 2
          },
          "scene": {
           "xaxis": {
            "backgroundcolor": "rgb(17,17,17)",
            "gridcolor": "#506784",
            "linecolor": "#506784",
            "showbackground": true,
            "ticks": "",
            "zerolinecolor": "#C8D4E3",
            "gridwidth": 2
           },
           "yaxis": {
            "backgroundcolor": "rgb(17,17,17)",
            "gridcolor": "#506784",
            "linecolor": "#506784",
            "showbackground": true,
            "ticks": "",
            "zerolinecolor": "#C8D4E3",
            "gridwidth": 2
           },
           "zaxis": {
            "backgroundcolor": "rgb(17,17,17)",
            "gridcolor": "#506784",
            "linecolor": "#506784",
            "showbackground": true,
            "ticks": "",
            "zerolinecolor": "#C8D4E3",
            "gridwidth": 2
           }
          },
          "shapedefaults": {
           "line": {
            "color": "#f2f5fa"
           }
          },
          "annotationdefaults": {
           "arrowcolor": "#f2f5fa",
           "arrowhead": 0,
           "arrowwidth": 1
          },
          "geo": {
           "bgcolor": "rgb(17,17,17)",
           "landcolor": "rgb(17,17,17)",
           "subunitcolor": "#506784",
           "showland": true,
           "showlakes": true,
           "lakecolor": "rgb(17,17,17)"
          },
          "title": {
           "x": 0.05
          },
          "updatemenudefaults": {
           "bgcolor": "#506784",
           "borderwidth": 0
          },
          "sliderdefaults": {
           "bgcolor": "#C8D4E3",
           "borderwidth": 1,
           "bordercolor": "rgb(17,17,17)",
           "tickwidth": 0
          },
          "mapbox": {
           "style": "dark"
          }
         }
        },
        "xaxis": {
         "anchor": "y",
         "domain": [
          0.0,
          1.0
         ],
         "title": {
          "text": "Country"
         }
        },
        "yaxis": {
         "anchor": "x",
         "domain": [
          0.0,
          1.0
         ],
         "title": {
          "text": "Percentage"
         }
        },
        "legend": {
         "title": {
          "text": ""
         },
         "tracegroupgap": 0
        },
        "margin": {
         "t": 60
        },
        "barmode": "relative",
        "updatemenus": [
         {
          "buttons": [
           {
            "args": [
             null,
             {
              "frame": {
               "duration": 500,
               "redraw": true
              },
              "mode": "immediate",
              "fromcurrent": true,
              "transition": {
               "duration": 500,
               "easing": "linear"
              }
             }
            ],
            "label": "&#9654;",
            "method": "animate"
           },
           {
            "args": [
             [
              null
             ],
             {
              "frame": {
               "duration": 0,
               "redraw": true
              },
              "mode": "immediate",
              "fromcurrent": true,
              "transition": {
               "duration": 0,
               "easing": "linear"
              }
             }
            ],
            "label": "&#9724;",
            "method": "animate"
           }
          ],
          "direction": "left",
          "pad": {
           "r": 10,
           "t": 70
          },
          "showactive": false,
          "type": "buttons",
          "x": 0.1,
          "xanchor": "right",
          "y": 0,
          "yanchor": "top"
         }
        ],
        "sliders": [
         {
          "active": 0,
          "currentvalue": {
           "prefix": "Year="
          },
          "len": 0.9,
          "pad": {
           "b": 10,
           "t": 60
          },
          "steps": [
           {
            "args": [
             [
              "2013"
             ],
             {
              "frame": {
               "duration": 0,
               "redraw": true
              },
              "mode": "immediate",
              "fromcurrent": true,
              "transition": {
               "duration": 0,
               "easing": "linear"
              }
             }
            ],
            "label": "2013",
            "method": "animate"
           },
           {
            "args": [
             [
              "2014"
             ],
             {
              "frame": {
               "duration": 0,
               "redraw": true
              },
              "mode": "immediate",
              "fromcurrent": true,
              "transition": {
               "duration": 0,
               "easing": "linear"
              }
             }
            ],
            "label": "2014",
            "method": "animate"
           },
           {
            "args": [
             [
              "2015"
             ],
             {
              "frame": {
               "duration": 0,
               "redraw": true
              },
              "mode": "immediate",
              "fromcurrent": true,
              "transition": {
               "duration": 0,
               "easing": "linear"
              }
             }
            ],
            "label": "2015",
            "method": "animate"
           },
           {
            "args": [
             [
              "2016"
             ],
             {
              "frame": {
               "duration": 0,
               "redraw": true
              },
              "mode": "immediate",
              "fromcurrent": true,
              "transition": {
               "duration": 0,
               "easing": "linear"
              }
             }
            ],
            "label": "2016",
            "method": "animate"
           },
           {
            "args": [
             [
              "2017"
             ],
             {
              "frame": {
               "duration": 0,
               "redraw": true
              },
              "mode": "immediate",
              "fromcurrent": true,
              "transition": {
               "duration": 0,
               "easing": "linear"
              }
             }
            ],
            "label": "2017",
            "method": "animate"
           },
           {
            "args": [
             [
              "2018"
             ],
             {
              "frame": {
               "duration": 0,
               "redraw": true
              },
              "mode": "immediate",
              "fromcurrent": true,
              "transition": {
               "duration": 0,
               "easing": "linear"
              }
             }
            ],
            "label": "2018",
            "method": "animate"
           },
           {
            "args": [
             [
              "2019"
             ],
             {
              "frame": {
               "duration": 0,
               "redraw": true
              },
              "mode": "immediate",
              "fromcurrent": true,
              "transition": {
               "duration": 0,
               "easing": "linear"
              }
             }
            ],
            "label": "2019",
            "method": "animate"
           },
           {
            "args": [
             [
              "2020"
             ],
             {
              "frame": {
               "duration": 0,
               "redraw": true
              },
              "mode": "immediate",
              "fromcurrent": true,
              "transition": {
               "duration": 0,
               "easing": "linear"
              }
             }
            ],
            "label": "2020",
            "method": "animate"
           },
           {
            "args": [
             [
              "2021"
             ],
             {
              "frame": {
               "duration": 0,
               "redraw": true
              },
              "mode": "immediate",
              "fromcurrent": true,
              "transition": {
               "duration": 0,
               "easing": "linear"
              }
             }
            ],
            "label": "2021",
            "method": "animate"
           }
          ],
          "x": 0.1,
          "xanchor": "left",
          "y": 0,
          "yanchor": "top"
         }
        ],
        "title": {
         "text": "Percentage road and rail passenger km in millions"
        }
       },
       "frames": [
        {
         "data": [
          {
           "alignmentgroup": "True",
           "hovertemplate": "variable=Percentage road<br>Year=2013<br>Country=%{x}<br>value=%{y}<extra></extra>",
           "ids": [
            "Bulgaria",
            "Czechia",
            "Germany",
            "France",
            "Croatia",
            "Italy",
            "Lithuania",
            "Austria",
            "Poland",
            "Finland"
           ],
           "legendgroup": "Percentage road",
           "marker": {
            "color": "#636efa",
            "pattern": {
             "shape": ""
            }
           },
           "name": "Percentage road",
           "offsetgroup": "Percentage road",
           "orientation": "v",
           "showlegend": true,
           "textposition": "auto",
           "x": [
            "Bulgaria",
            "Czechia",
            "Germany",
            "France",
            "Croatia",
            "Italy",
            "Lithuania",
            "Austria",
            "Poland",
            "Finland"
           ],
           "xaxis": "x",
           "y": [
            84.99728122064954,
            66.1850101282917,
            40.33842685537821,
            35.09758494301269,
            78.95092300765421,
            null,
            90.06930056440666,
            45.96474281574499,
            54.91340567795682,
            65.59124896150651
           ],
           "yaxis": "y",
           "type": "bar"
          },
          {
           "alignmentgroup": "True",
           "hovertemplate": "variable=Percentage rail<br>Year=2013<br>Country=%{x}<br>value=%{y}<extra></extra>",
           "ids": [
            "Bulgaria",
            "Czechia",
            "Germany",
            "France",
            "Croatia",
            "Italy",
            "Lithuania",
            "Austria",
            "Poland",
            "Finland"
           ],
           "legendgroup": "Percentage rail",
           "marker": {
            "color": "#EF553B",
            "pattern": {
             "shape": ""
            }
           },
           "name": "Percentage rail",
           "offsetgroup": "Percentage rail",
           "orientation": "v",
           "showlegend": true,
           "textposition": "auto",
           "x": [
            "Bulgaria",
            "Czechia",
            "Germany",
            "France",
            "Croatia",
            "Italy",
            "Lithuania",
            "Austria",
            "Poland",
            "Finland"
           ],
           "xaxis": "x",
           "y": [
            15.00271877935046,
            33.814989871708306,
            59.661573144621784,
            64.90241505698731,
            21.049076992345793,
            null,
            9.930699435593342,
            54.035257184255016,
            45.08659432204319,
            34.40875103849349
           ],
           "yaxis": "y",
           "type": "bar"
          }
         ],
         "name": "2013"
        },
        {
         "data": [
          {
           "alignmentgroup": "True",
           "hovertemplate": "variable=Percentage road<br>Year=2014<br>Country=%{x}<br>value=%{y}<extra></extra>",
           "ids": [
            "Bulgaria",
            "Czechia",
            "Germany",
            "France",
            "Croatia",
            "Italy",
            "Lithuania",
            "Austria",
            "Poland",
            "Finland"
           ],
           "legendgroup": "Percentage road",
           "marker": {
            "color": "#636efa",
            "pattern": {
             "shape": ""
            }
           },
           "name": "Percentage road",
           "offsetgroup": "Percentage road",
           "orientation": "v",
           "showlegend": true,
           "textposition": "auto",
           "x": [
            "Bulgaria",
            "Czechia",
            "Germany",
            "France",
            "Croatia",
            "Italy",
            "Lithuania",
            "Austria",
            "Poland",
            "Finland"
           ],
           "xaxis": "x",
           "y": [
            87.08263915831755,
            67.32607246054678,
            40.61682059984987,
            35.802973897699644,
            79.91237677984667,
            null,
            90.82163374919264,
            null,
            58.08329722703639,
            64.1747572815534
           ],
           "yaxis": "y",
           "type": "bar"
          },
          {
           "alignmentgroup": "True",
           "hovertemplate": "variable=Percentage rail<br>Year=2014<br>Country=%{x}<br>value=%{y}<extra></extra>",
           "ids": [
            "Bulgaria",
            "Czechia",
            "Germany",
            "France",
            "Croatia",
            "Italy",
            "Lithuania",
            "Austria",
            "Poland",
            "Finland"
           ],
           "legendgroup": "Percentage rail",
           "marker": {
            "color": "#EF553B",
            "pattern": {
             "shape": ""
            }
           },
           "name": "Percentage rail",
           "offsetgroup": "Percentage rail",
           "orientation": "v",
           "showlegend": true,
           "textposition": "auto",
           "x": [
            "Bulgaria",
            "Czechia",
            "Germany",
            "France",
            "Croatia",
            "Italy",
            "Lithuania",
            "Austria",
            "Poland",
            "Finland"
           ],
           "xaxis": "x",
           "y": [
            12.917360841682452,
            32.67392753945321,
            59.38317940015012,
            64.19702610230036,
            20.087623220153343,
            null,
            9.178366250807358,
            null,
            41.9167027729636,
            35.8252427184466
           ],
           "yaxis": "y",
           "type": "bar"
          }
         ],
         "name": "2014"
        },
        {
         "data": [
          {
           "alignmentgroup": "True",
           "hovertemplate": "variable=Percentage road<br>Year=2015<br>Country=%{x}<br>value=%{y}<extra></extra>",
           "ids": [
            "Bulgaria",
            "Czechia",
            "Germany",
            "France",
            "Croatia",
            "Italy",
            "Lithuania",
            "Austria",
            "Poland",
            "Finland"
           ],
           "legendgroup": "Percentage road",
           "marker": {
            "color": "#636efa",
            "pattern": {
             "shape": ""
            }
           },
           "name": "Percentage road",
           "offsetgroup": "Percentage road",
           "orientation": "v",
           "showlegend": true,
           "textposition": "auto",
           "x": [
            "Bulgaria",
            "Czechia",
            "Germany",
            "France",
            "Croatia",
            "Italy",
            "Lithuania",
            "Austria",
            "Poland",
            "Finland"
           ],
           "xaxis": "x",
           "y": [
            88.78032174183875,
            65.47241596623479,
            41.68134507606085,
            35.60873517535886,
            78.20750347383047,
            null,
            90.3655218062808,
            null,
            55.889516505156244,
            59.183917673806384
           ],
           "yaxis": "y",
           "type": "bar"
          },
          {
           "alignmentgroup": "True",
           "hovertemplate": "variable=Percentage rail<br>Year=2015<br>Country=%{x}<br>value=%{y}<extra></extra>",
           "ids": [
            "Bulgaria",
            "Czechia",
            "Germany",
            "France",
            "Croatia",
            "Italy",
            "Lithuania",
            "Austria",
            "Poland",
            "Finland"
           ],
           "legendgroup": "Percentage rail",
           "marker": {
            "color": "#EF553B",
            "pattern": {
             "shape": ""
            }
           },
           "name": "Percentage rail",
           "offsetgroup": "Percentage rail",
           "orientation": "v",
           "showlegend": true,
           "textposition": "auto",
           "x": [
            "Bulgaria",
            "Czechia",
            "Germany",
            "France",
            "Croatia",
            "Italy",
            "Lithuania",
            "Austria",
            "Poland",
            "Finland"
           ],
           "xaxis": "x",
           "y": [
            11.219678258161247,
            34.527584033765216,
            58.31865492393915,
            64.39126482464115,
            21.792496526169522,
            null,
            9.634478193719202,
            null,
            44.11048349484376,
            40.81608232619361
           ],
           "yaxis": "y",
           "type": "bar"
          }
         ],
         "name": "2015"
        },
        {
         "data": [
          {
           "alignmentgroup": "True",
           "hovertemplate": "variable=Percentage road<br>Year=2016<br>Country=%{x}<br>value=%{y}<extra></extra>",
           "ids": [
            "Bulgaria",
            "Czechia",
            "Germany",
            "France",
            "Croatia",
            "Italy",
            "Lithuania",
            "Austria",
            "Poland",
            "Finland"
           ],
           "legendgroup": "Percentage road",
           "marker": {
            "color": "#636efa",
            "pattern": {
             "shape": ""
            }
           },
           "name": "Percentage road",
           "offsetgroup": "Percentage road",
           "orientation": "v",
           "showlegend": true,
           "textposition": "auto",
           "x": [
            "Bulgaria",
            "Czechia",
            "Germany",
            "France",
            "Croatia",
            "Italy",
            "Lithuania",
            "Austria",
            "Poland",
            "Finland"
           ],
           "xaxis": "x",
           "y": [
            89.35251587975294,
            64.44976057088688,
            40.16159159573267,
            35.84417943397676,
            82.13437027435731,
            null,
            89.39875814023928,
            null,
            50.54719021122861,
            null
           ],
           "yaxis": "y",
           "type": "bar"
          },
          {
           "alignmentgroup": "True",
           "hovertemplate": "variable=Percentage rail<br>Year=2016<br>Country=%{x}<br>value=%{y}<extra></extra>",
           "ids": [
            "Bulgaria",
            "Czechia",
            "Germany",
            "France",
            "Croatia",
            "Italy",
            "Lithuania",
            "Austria",
            "Poland",
            "Finland"
           ],
           "legendgroup": "Percentage rail",
           "marker": {
            "color": "#EF553B",
            "pattern": {
             "shape": ""
            }
           },
           "name": "Percentage rail",
           "offsetgroup": "Percentage rail",
           "orientation": "v",
           "showlegend": true,
           "textposition": "auto",
           "x": [
            "Bulgaria",
            "Czechia",
            "Germany",
            "France",
            "Croatia",
            "Italy",
            "Lithuania",
            "Austria",
            "Poland",
            "Finland"
           ],
           "xaxis": "x",
           "y": [
            10.64748412024705,
            35.55023942911312,
            59.83840840426732,
            64.15582056602324,
            17.865629725642687,
            null,
            10.601241859760716,
            null,
            49.4528097887714,
            null
           ],
           "yaxis": "y",
           "type": "bar"
          }
         ],
         "name": "2016"
        },
        {
         "data": [
          {
           "alignmentgroup": "True",
           "hovertemplate": "variable=Percentage road<br>Year=2017<br>Country=%{x}<br>value=%{y}<extra></extra>",
           "ids": [
            "Bulgaria",
            "Czechia",
            "Germany",
            "France",
            "Croatia",
            "Italy",
            "Lithuania",
            "Austria",
            "Poland",
            "Finland"
           ],
           "legendgroup": "Percentage road",
           "marker": {
            "color": "#636efa",
            "pattern": {
             "shape": ""
            }
           },
           "name": "Percentage road",
           "offsetgroup": "Percentage road",
           "orientation": "v",
           "showlegend": true,
           "textposition": "auto",
           "x": [
            "Bulgaria",
            "Czechia",
            "Germany",
            "France",
            "Croatia",
            "Italy",
            "Lithuania",
            "Austria",
            "Poland",
            "Finland"
           ],
           "xaxis": "x",
           "y": [
            88.03704012680403,
            64.17768295935083,
            39.54243402316309,
            35.090235938631366,
            84.93655341792878,
            null,
            88.70724887072488,
            null,
            48.47631241997439,
            null
           ],
           "yaxis": "y",
           "type": "bar"
          },
          {
           "alignmentgroup": "True",
           "hovertemplate": "variable=Percentage rail<br>Year=2017<br>Country=%{x}<br>value=%{y}<extra></extra>",
           "ids": [
            "Bulgaria",
            "Czechia",
            "Germany",
            "France",
            "Croatia",
            "Italy",
            "Lithuania",
            "Austria",
            "Poland",
            "Finland"
           ],
           "legendgroup": "Percentage rail",
           "marker": {
            "color": "#EF553B",
            "pattern": {
             "shape": ""
            }
           },
           "name": "Percentage rail",
           "offsetgroup": "Percentage rail",
           "orientation": "v",
           "showlegend": true,
           "textposition": "auto",
           "x": [
            "Bulgaria",
            "Czechia",
            "Germany",
            "France",
            "Croatia",
            "Italy",
            "Lithuania",
            "Austria",
            "Poland",
            "Finland"
           ],
           "xaxis": "x",
           "y": [
            11.962959873195961,
            35.82231704064917,
            60.45756597683691,
            64.90976406136863,
            15.063446582071224,
            null,
            11.292751129275112,
            null,
            51.52368758002561,
            null
           ],
           "yaxis": "y",
           "type": "bar"
          }
         ],
         "name": "2017"
        },
        {
         "data": [
          {
           "alignmentgroup": "True",
           "hovertemplate": "variable=Percentage road<br>Year=2018<br>Country=%{x}<br>value=%{y}<extra></extra>",
           "ids": [
            "Bulgaria",
            "Czechia",
            "Germany",
            "France",
            "Croatia",
            "Italy",
            "Lithuania",
            "Austria",
            "Poland",
            "Finland"
           ],
           "legendgroup": "Percentage road",
           "marker": {
            "color": "#636efa",
            "pattern": {
             "shape": ""
            }
           },
           "name": "Percentage road",
           "offsetgroup": "Percentage road",
           "orientation": "v",
           "showlegend": true,
           "textposition": "auto",
           "x": [
            "Bulgaria",
            "Czechia",
            "Germany",
            "France",
            "Croatia",
            "Italy",
            "Lithuania",
            "Austria",
            "Poland",
            "Finland"
           ],
           "xaxis": "x",
           "y": [
            87.00990099009901,
            62.81608149899945,
            38.909391900722554,
            36.11460935271321,
            83.72549019607844,
            0.052664075836269204,
            87.94770529756231,
            null,
            44.87016764503676,
            null
           ],
           "yaxis": "y",
           "type": "bar"
          },
          {
           "alignmentgroup": "True",
           "hovertemplate": "variable=Percentage rail<br>Year=2018<br>Country=%{x}<br>value=%{y}<extra></extra>",
           "ids": [
            "Bulgaria",
            "Czechia",
            "Germany",
            "France",
            "Croatia",
            "Italy",
            "Lithuania",
            "Austria",
            "Poland",
            "Finland"
           ],
           "legendgroup": "Percentage rail",
           "marker": {
            "color": "#EF553B",
            "pattern": {
             "shape": ""
            }
           },
           "name": "Percentage rail",
           "offsetgroup": "Percentage rail",
           "orientation": "v",
           "showlegend": true,
           "textposition": "auto",
           "x": [
            "Bulgaria",
            "Czechia",
            "Germany",
            "France",
            "Croatia",
            "Italy",
            "Lithuania",
            "Austria",
            "Poland",
            "Finland"
           ],
           "xaxis": "x",
           "y": [
            12.990099009900991,
            37.18391850100055,
            61.09060809927745,
            63.8853906472868,
            16.274509803921568,
            99.94733592416372,
            12.052294702437697,
            null,
            55.12983235496325,
            null
           ],
           "yaxis": "y",
           "type": "bar"
          }
         ],
         "name": "2018"
        },
        {
         "data": [
          {
           "alignmentgroup": "True",
           "hovertemplate": "variable=Percentage road<br>Year=2019<br>Country=%{x}<br>value=%{y}<extra></extra>",
           "ids": [
            "Bulgaria",
            "Czechia",
            "Germany",
            "France",
            "Croatia",
            "Italy",
            "Lithuania",
            "Austria",
            "Poland",
            "Finland"
           ],
           "legendgroup": "Percentage road",
           "marker": {
            "color": "#636efa",
            "pattern": {
             "shape": ""
            }
           },
           "name": "Percentage road",
           "offsetgroup": "Percentage road",
           "orientation": "v",
           "showlegend": true,
           "textposition": "auto",
           "x": [
            "Bulgaria",
            "Czechia",
            "Germany",
            "France",
            "Croatia",
            "Italy",
            "Lithuania",
            "Austria",
            "Poland",
            "Finland"
           ],
           "xaxis": "x",
           "y": [
            87.69798554513302,
            61.106334193178554,
            37.900618193981586,
            35.79366715660519,
            84.74504846186262,
            0.05161152538753137,
            88.05125644866034,
            null,
            null,
            null
           ],
           "yaxis": "y",
           "type": "bar"
          },
          {
           "alignmentgroup": "True",
           "hovertemplate": "variable=Percentage rail<br>Year=2019<br>Country=%{x}<br>value=%{y}<extra></extra>",
           "ids": [
            "Bulgaria",
            "Czechia",
            "Germany",
            "France",
            "Croatia",
            "Italy",
            "Lithuania",
            "Austria",
            "Poland",
            "Finland"
           ],
           "legendgroup": "Percentage rail",
           "marker": {
            "color": "#EF553B",
            "pattern": {
             "shape": ""
            }
           },
           "name": "Percentage rail",
           "offsetgroup": "Percentage rail",
           "orientation": "v",
           "showlegend": true,
           "textposition": "auto",
           "x": [
            "Bulgaria",
            "Czechia",
            "Germany",
            "France",
            "Croatia",
            "Italy",
            "Lithuania",
            "Austria",
            "Poland",
            "Finland"
           ],
           "xaxis": "x",
           "y": [
            12.302014454866985,
            38.89366580682144,
            62.09938180601841,
            64.2063328433948,
            15.254951538137378,
            99.94838847461247,
            11.948743551339657,
            null,
            null,
            null
           ],
           "yaxis": "y",
           "type": "bar"
          }
         ],
         "name": "2019"
        },
        {
         "data": [
          {
           "alignmentgroup": "True",
           "hovertemplate": "variable=Percentage road<br>Year=2020<br>Country=%{x}<br>value=%{y}<extra></extra>",
           "ids": [
            "Bulgaria",
            "Czechia",
            "Germany",
            "France",
            "Croatia",
            "Italy",
            "Lithuania",
            "Austria",
            "Poland",
            "Finland"
           ],
           "legendgroup": "Percentage road",
           "marker": {
            "color": "#636efa",
            "pattern": {
             "shape": ""
            }
           },
           "name": "Percentage road",
           "offsetgroup": "Percentage road",
           "orientation": "v",
           "showlegend": true,
           "textposition": "auto",
           "x": [
            "Bulgaria",
            "Czechia",
            "Germany",
            "France",
            "Croatia",
            "Italy",
            "Lithuania",
            "Austria",
            "Poland",
            "Finland"
           ],
           "xaxis": "x",
           "y": [
            81.83767626226526,
            56.474593202071446,
            37.05942578312203,
            37.283534795085146,
            82.25039619651348,
            0.07698926679045333,
            86.24492164828787,
            null,
            null,
            54.8284625158831
           ],
           "yaxis": "y",
           "type": "bar"
          },
          {
           "alignmentgroup": "True",
           "hovertemplate": "variable=Percentage rail<br>Year=2020<br>Country=%{x}<br>value=%{y}<extra></extra>",
           "ids": [
            "Bulgaria",
            "Czechia",
            "Germany",
            "France",
            "Croatia",
            "Italy",
            "Lithuania",
            "Austria",
            "Poland",
            "Finland"
           ],
           "legendgroup": "Percentage rail",
           "marker": {
            "color": "#EF553B",
            "pattern": {
             "shape": ""
            }
           },
           "name": "Percentage rail",
           "offsetgroup": "Percentage rail",
           "orientation": "v",
           "showlegend": true,
           "textposition": "auto",
           "x": [
            "Bulgaria",
            "Czechia",
            "Germany",
            "France",
            "Croatia",
            "Italy",
            "Lithuania",
            "Austria",
            "Poland",
            "Finland"
           ],
           "xaxis": "x",
           "y": [
            18.162323737734745,
            43.525406797928554,
            62.94057421687796,
            62.716465204914854,
            17.74960380348653,
            99.92301073320955,
            13.75507835171213,
            null,
            null,
            45.1715374841169
           ],
           "yaxis": "y",
           "type": "bar"
          }
         ],
         "name": "2020"
        },
        {
         "data": [
          {
           "alignmentgroup": "True",
           "hovertemplate": "variable=Percentage road<br>Year=2021<br>Country=%{x}<br>value=%{y}<extra></extra>",
           "ids": [
            "Bulgaria",
            "Czechia",
            "Germany",
            "France",
            "Croatia",
            "Italy",
            "Lithuania",
            "Austria",
            "Poland",
            "Finland"
           ],
           "legendgroup": "Percentage road",
           "marker": {
            "color": "#636efa",
            "pattern": {
             "shape": ""
            }
           },
           "name": "Percentage road",
           "offsetgroup": "Percentage road",
           "orientation": "v",
           "showlegend": true,
           "textposition": "auto",
           "x": [
            "Bulgaria",
            "Czechia",
            "Germany",
            "France",
            "Croatia",
            "Italy",
            "Lithuania",
            "Austria",
            "Poland",
            "Finland"
           ],
           "xaxis": "x",
           "y": [
            80.44760836705836,
            55.29483427572599,
            37.32852457587413,
            31.943138507475545,
            81.65075034106411,
            0.08373684785378818,
            83.11168647758032,
            null,
            null,
            null
           ],
           "yaxis": "y",
           "type": "bar"
          },
          {
           "alignmentgroup": "True",
           "hovertemplate": "variable=Percentage rail<br>Year=2021<br>Country=%{x}<br>value=%{y}<extra></extra>",
           "ids": [
            "Bulgaria",
            "Czechia",
            "Germany",
            "France",
            "Croatia",
            "Italy",
            "Lithuania",
            "Austria",
            "Poland",
            "Finland"
           ],
           "legendgroup": "Percentage rail",
           "marker": {
            "color": "#EF553B",
            "pattern": {
             "shape": ""
            }
           },
           "name": "Percentage rail",
           "offsetgroup": "Percentage rail",
           "orientation": "v",
           "showlegend": true,
           "textposition": "auto",
           "x": [
            "Bulgaria",
            "Czechia",
            "Germany",
            "France",
            "Croatia",
            "Italy",
            "Lithuania",
            "Austria",
            "Poland",
            "Finland"
           ],
           "xaxis": "x",
           "y": [
            19.552391632941635,
            44.705165724274,
            62.671475424125866,
            68.05686149252446,
            18.34924965893588,
            99.91626315214621,
            16.888313522419676,
            null,
            null,
            null
           ],
           "yaxis": "y",
           "type": "bar"
          }
         ],
         "name": "2021"
        }
       ],
       "config": {
        "plotlyServerURL": "https://plot.ly"
       }
      },
      "text/html": "<div>                            <div id=\"c7b87bb5-98c2-4d2c-92e4-89f3a3ec411c\" class=\"plotly-graph-div\" style=\"height:525px; width:100%;\"></div>            <script type=\"text/javascript\">                require([\"plotly\"], function(Plotly) {                    window.PLOTLYENV=window.PLOTLYENV || {};                                    if (document.getElementById(\"c7b87bb5-98c2-4d2c-92e4-89f3a3ec411c\")) {                    Plotly.newPlot(                        \"c7b87bb5-98c2-4d2c-92e4-89f3a3ec411c\",                        [{\"alignmentgroup\":\"True\",\"hovertemplate\":\"<b>Country:</b> %{x}<br><b>Percentage:</b> %{y:,.1f}<extra></extra>\",\"ids\":[\"Bulgaria\",\"Czechia\",\"Germany\",\"France\",\"Croatia\",\"Italy\",\"Lithuania\",\"Austria\",\"Poland\",\"Finland\"],\"legendgroup\":\"Percentage road\",\"marker\":{\"color\":\"#636efa\",\"pattern\":{\"shape\":\"\"}},\"name\":\"Percentage road\",\"offsetgroup\":\"Percentage road\",\"orientation\":\"v\",\"showlegend\":true,\"textposition\":\"auto\",\"x\":[\"Bulgaria\",\"Czechia\",\"Germany\",\"France\",\"Croatia\",\"Italy\",\"Lithuania\",\"Austria\",\"Poland\",\"Finland\"],\"xaxis\":\"x\",\"y\":[84.99728122064954,66.1850101282917,40.33842685537821,35.09758494301269,78.95092300765421,null,90.06930056440666,45.96474281574499,54.91340567795682,65.59124896150651],\"yaxis\":\"y\",\"type\":\"bar\"},{\"alignmentgroup\":\"True\",\"hovertemplate\":\"<b>Country:</b> %{x}<br><b>Percentage:</b> %{y:,.1f}<extra></extra>\",\"ids\":[\"Bulgaria\",\"Czechia\",\"Germany\",\"France\",\"Croatia\",\"Italy\",\"Lithuania\",\"Austria\",\"Poland\",\"Finland\"],\"legendgroup\":\"Percentage rail\",\"marker\":{\"color\":\"#EF553B\",\"pattern\":{\"shape\":\"\"}},\"name\":\"Percentage rail\",\"offsetgroup\":\"Percentage rail\",\"orientation\":\"v\",\"showlegend\":true,\"textposition\":\"auto\",\"x\":[\"Bulgaria\",\"Czechia\",\"Germany\",\"France\",\"Croatia\",\"Italy\",\"Lithuania\",\"Austria\",\"Poland\",\"Finland\"],\"xaxis\":\"x\",\"y\":[15.00271877935046,33.814989871708306,59.661573144621784,64.90241505698731,21.049076992345793,null,9.930699435593342,54.035257184255016,45.08659432204319,34.40875103849349],\"yaxis\":\"y\",\"type\":\"bar\"}],                        {\"template\":{\"data\":{\"histogram2dcontour\":[{\"type\":\"histogram2dcontour\",\"colorbar\":{\"outlinewidth\":0,\"ticks\":\"\"},\"colorscale\":[[0.0,\"#0d0887\"],[0.1111111111111111,\"#46039f\"],[0.2222222222222222,\"#7201a8\"],[0.3333333333333333,\"#9c179e\"],[0.4444444444444444,\"#bd3786\"],[0.5555555555555556,\"#d8576b\"],[0.6666666666666666,\"#ed7953\"],[0.7777777777777778,\"#fb9f3a\"],[0.8888888888888888,\"#fdca26\"],[1.0,\"#f0f921\"]]}],\"choropleth\":[{\"type\":\"choropleth\",\"colorbar\":{\"outlinewidth\":0,\"ticks\":\"\"}}],\"histogram2d\":[{\"type\":\"histogram2d\",\"colorbar\":{\"outlinewidth\":0,\"ticks\":\"\"},\"colorscale\":[[0.0,\"#0d0887\"],[0.1111111111111111,\"#46039f\"],[0.2222222222222222,\"#7201a8\"],[0.3333333333333333,\"#9c179e\"],[0.4444444444444444,\"#bd3786\"],[0.5555555555555556,\"#d8576b\"],[0.6666666666666666,\"#ed7953\"],[0.7777777777777778,\"#fb9f3a\"],[0.8888888888888888,\"#fdca26\"],[1.0,\"#f0f921\"]]}],\"heatmap\":[{\"type\":\"heatmap\",\"colorbar\":{\"outlinewidth\":0,\"ticks\":\"\"},\"colorscale\":[[0.0,\"#0d0887\"],[0.1111111111111111,\"#46039f\"],[0.2222222222222222,\"#7201a8\"],[0.3333333333333333,\"#9c179e\"],[0.4444444444444444,\"#bd3786\"],[0.5555555555555556,\"#d8576b\"],[0.6666666666666666,\"#ed7953\"],[0.7777777777777778,\"#fb9f3a\"],[0.8888888888888888,\"#fdca26\"],[1.0,\"#f0f921\"]]}],\"heatmapgl\":[{\"type\":\"heatmapgl\",\"colorbar\":{\"outlinewidth\":0,\"ticks\":\"\"},\"colorscale\":[[0.0,\"#0d0887\"],[0.1111111111111111,\"#46039f\"],[0.2222222222222222,\"#7201a8\"],[0.3333333333333333,\"#9c179e\"],[0.4444444444444444,\"#bd3786\"],[0.5555555555555556,\"#d8576b\"],[0.6666666666666666,\"#ed7953\"],[0.7777777777777778,\"#fb9f3a\"],[0.8888888888888888,\"#fdca26\"],[1.0,\"#f0f921\"]]}],\"contourcarpet\":[{\"type\":\"contourcarpet\",\"colorbar\":{\"outlinewidth\":0,\"ticks\":\"\"}}],\"contour\":[{\"type\":\"contour\",\"colorbar\":{\"outlinewidth\":0,\"ticks\":\"\"},\"colorscale\":[[0.0,\"#0d0887\"],[0.1111111111111111,\"#46039f\"],[0.2222222222222222,\"#7201a8\"],[0.3333333333333333,\"#9c179e\"],[0.4444444444444444,\"#bd3786\"],[0.5555555555555556,\"#d8576b\"],[0.6666666666666666,\"#ed7953\"],[0.7777777777777778,\"#fb9f3a\"],[0.8888888888888888,\"#fdca26\"],[1.0,\"#f0f921\"]]}],\"surface\":[{\"type\":\"surface\",\"colorbar\":{\"outlinewidth\":0,\"ticks\":\"\"},\"colorscale\":[[0.0,\"#0d0887\"],[0.1111111111111111,\"#46039f\"],[0.2222222222222222,\"#7201a8\"],[0.3333333333333333,\"#9c179e\"],[0.4444444444444444,\"#bd3786\"],[0.5555555555555556,\"#d8576b\"],[0.6666666666666666,\"#ed7953\"],[0.7777777777777778,\"#fb9f3a\"],[0.8888888888888888,\"#fdca26\"],[1.0,\"#f0f921\"]]}],\"mesh3d\":[{\"type\":\"mesh3d\",\"colorbar\":{\"outlinewidth\":0,\"ticks\":\"\"}}],\"scatter\":[{\"marker\":{\"line\":{\"color\":\"#283442\"}},\"type\":\"scatter\"}],\"parcoords\":[{\"type\":\"parcoords\",\"line\":{\"colorbar\":{\"outlinewidth\":0,\"ticks\":\"\"}}}],\"scatterpolargl\":[{\"type\":\"scatterpolargl\",\"marker\":{\"colorbar\":{\"outlinewidth\":0,\"ticks\":\"\"}}}],\"bar\":[{\"error_x\":{\"color\":\"#f2f5fa\"},\"error_y\":{\"color\":\"#f2f5fa\"},\"marker\":{\"line\":{\"color\":\"rgb(17,17,17)\",\"width\":0.5},\"pattern\":{\"fillmode\":\"overlay\",\"size\":10,\"solidity\":0.2}},\"type\":\"bar\"}],\"scattergeo\":[{\"type\":\"scattergeo\",\"marker\":{\"colorbar\":{\"outlinewidth\":0,\"ticks\":\"\"}}}],\"scatterpolar\":[{\"type\":\"scatterpolar\",\"marker\":{\"colorbar\":{\"outlinewidth\":0,\"ticks\":\"\"}}}],\"histogram\":[{\"marker\":{\"pattern\":{\"fillmode\":\"overlay\",\"size\":10,\"solidity\":0.2}},\"type\":\"histogram\"}],\"scattergl\":[{\"marker\":{\"line\":{\"color\":\"#283442\"}},\"type\":\"scattergl\"}],\"scatter3d\":[{\"type\":\"scatter3d\",\"line\":{\"colorbar\":{\"outlinewidth\":0,\"ticks\":\"\"}},\"marker\":{\"colorbar\":{\"outlinewidth\":0,\"ticks\":\"\"}}}],\"scattermapbox\":[{\"type\":\"scattermapbox\",\"marker\":{\"colorbar\":{\"outlinewidth\":0,\"ticks\":\"\"}}}],\"scatterternary\":[{\"type\":\"scatterternary\",\"marker\":{\"colorbar\":{\"outlinewidth\":0,\"ticks\":\"\"}}}],\"scattercarpet\":[{\"type\":\"scattercarpet\",\"marker\":{\"colorbar\":{\"outlinewidth\":0,\"ticks\":\"\"}}}],\"carpet\":[{\"aaxis\":{\"endlinecolor\":\"#A2B1C6\",\"gridcolor\":\"#506784\",\"linecolor\":\"#506784\",\"minorgridcolor\":\"#506784\",\"startlinecolor\":\"#A2B1C6\"},\"baxis\":{\"endlinecolor\":\"#A2B1C6\",\"gridcolor\":\"#506784\",\"linecolor\":\"#506784\",\"minorgridcolor\":\"#506784\",\"startlinecolor\":\"#A2B1C6\"},\"type\":\"carpet\"}],\"table\":[{\"cells\":{\"fill\":{\"color\":\"#506784\"},\"line\":{\"color\":\"rgb(17,17,17)\"}},\"header\":{\"fill\":{\"color\":\"#2a3f5f\"},\"line\":{\"color\":\"rgb(17,17,17)\"}},\"type\":\"table\"}],\"barpolar\":[{\"marker\":{\"line\":{\"color\":\"rgb(17,17,17)\",\"width\":0.5},\"pattern\":{\"fillmode\":\"overlay\",\"size\":10,\"solidity\":0.2}},\"type\":\"barpolar\"}],\"pie\":[{\"automargin\":true,\"type\":\"pie\"}]},\"layout\":{\"autotypenumbers\":\"strict\",\"colorway\":[\"#636efa\",\"#EF553B\",\"#00cc96\",\"#ab63fa\",\"#FFA15A\",\"#19d3f3\",\"#FF6692\",\"#B6E880\",\"#FF97FF\",\"#FECB52\"],\"font\":{\"color\":\"#f2f5fa\"},\"hovermode\":\"closest\",\"hoverlabel\":{\"align\":\"left\"},\"paper_bgcolor\":\"rgb(17,17,17)\",\"plot_bgcolor\":\"rgb(17,17,17)\",\"polar\":{\"bgcolor\":\"rgb(17,17,17)\",\"angularaxis\":{\"gridcolor\":\"#506784\",\"linecolor\":\"#506784\",\"ticks\":\"\"},\"radialaxis\":{\"gridcolor\":\"#506784\",\"linecolor\":\"#506784\",\"ticks\":\"\"}},\"ternary\":{\"bgcolor\":\"rgb(17,17,17)\",\"aaxis\":{\"gridcolor\":\"#506784\",\"linecolor\":\"#506784\",\"ticks\":\"\"},\"baxis\":{\"gridcolor\":\"#506784\",\"linecolor\":\"#506784\",\"ticks\":\"\"},\"caxis\":{\"gridcolor\":\"#506784\",\"linecolor\":\"#506784\",\"ticks\":\"\"}},\"coloraxis\":{\"colorbar\":{\"outlinewidth\":0,\"ticks\":\"\"}},\"colorscale\":{\"sequential\":[[0.0,\"#0d0887\"],[0.1111111111111111,\"#46039f\"],[0.2222222222222222,\"#7201a8\"],[0.3333333333333333,\"#9c179e\"],[0.4444444444444444,\"#bd3786\"],[0.5555555555555556,\"#d8576b\"],[0.6666666666666666,\"#ed7953\"],[0.7777777777777778,\"#fb9f3a\"],[0.8888888888888888,\"#fdca26\"],[1.0,\"#f0f921\"]],\"sequentialminus\":[[0.0,\"#0d0887\"],[0.1111111111111111,\"#46039f\"],[0.2222222222222222,\"#7201a8\"],[0.3333333333333333,\"#9c179e\"],[0.4444444444444444,\"#bd3786\"],[0.5555555555555556,\"#d8576b\"],[0.6666666666666666,\"#ed7953\"],[0.7777777777777778,\"#fb9f3a\"],[0.8888888888888888,\"#fdca26\"],[1.0,\"#f0f921\"]],\"diverging\":[[0,\"#8e0152\"],[0.1,\"#c51b7d\"],[0.2,\"#de77ae\"],[0.3,\"#f1b6da\"],[0.4,\"#fde0ef\"],[0.5,\"#f7f7f7\"],[0.6,\"#e6f5d0\"],[0.7,\"#b8e186\"],[0.8,\"#7fbc41\"],[0.9,\"#4d9221\"],[1,\"#276419\"]]},\"xaxis\":{\"gridcolor\":\"#283442\",\"linecolor\":\"#506784\",\"ticks\":\"\",\"title\":{\"standoff\":15},\"zerolinecolor\":\"#283442\",\"automargin\":true,\"zerolinewidth\":2},\"yaxis\":{\"gridcolor\":\"#283442\",\"linecolor\":\"#506784\",\"ticks\":\"\",\"title\":{\"standoff\":15},\"zerolinecolor\":\"#283442\",\"automargin\":true,\"zerolinewidth\":2},\"scene\":{\"xaxis\":{\"backgroundcolor\":\"rgb(17,17,17)\",\"gridcolor\":\"#506784\",\"linecolor\":\"#506784\",\"showbackground\":true,\"ticks\":\"\",\"zerolinecolor\":\"#C8D4E3\",\"gridwidth\":2},\"yaxis\":{\"backgroundcolor\":\"rgb(17,17,17)\",\"gridcolor\":\"#506784\",\"linecolor\":\"#506784\",\"showbackground\":true,\"ticks\":\"\",\"zerolinecolor\":\"#C8D4E3\",\"gridwidth\":2},\"zaxis\":{\"backgroundcolor\":\"rgb(17,17,17)\",\"gridcolor\":\"#506784\",\"linecolor\":\"#506784\",\"showbackground\":true,\"ticks\":\"\",\"zerolinecolor\":\"#C8D4E3\",\"gridwidth\":2}},\"shapedefaults\":{\"line\":{\"color\":\"#f2f5fa\"}},\"annotationdefaults\":{\"arrowcolor\":\"#f2f5fa\",\"arrowhead\":0,\"arrowwidth\":1},\"geo\":{\"bgcolor\":\"rgb(17,17,17)\",\"landcolor\":\"rgb(17,17,17)\",\"subunitcolor\":\"#506784\",\"showland\":true,\"showlakes\":true,\"lakecolor\":\"rgb(17,17,17)\"},\"title\":{\"x\":0.05},\"updatemenudefaults\":{\"bgcolor\":\"#506784\",\"borderwidth\":0},\"sliderdefaults\":{\"bgcolor\":\"#C8D4E3\",\"borderwidth\":1,\"bordercolor\":\"rgb(17,17,17)\",\"tickwidth\":0},\"mapbox\":{\"style\":\"dark\"}}},\"xaxis\":{\"anchor\":\"y\",\"domain\":[0.0,1.0],\"title\":{\"text\":\"Country\"}},\"yaxis\":{\"anchor\":\"x\",\"domain\":[0.0,1.0],\"title\":{\"text\":\"Percentage\"}},\"legend\":{\"title\":{\"text\":\"\"},\"tracegroupgap\":0},\"margin\":{\"t\":60},\"barmode\":\"relative\",\"updatemenus\":[{\"buttons\":[{\"args\":[null,{\"frame\":{\"duration\":500,\"redraw\":true},\"mode\":\"immediate\",\"fromcurrent\":true,\"transition\":{\"duration\":500,\"easing\":\"linear\"}}],\"label\":\"&#9654;\",\"method\":\"animate\"},{\"args\":[[null],{\"frame\":{\"duration\":0,\"redraw\":true},\"mode\":\"immediate\",\"fromcurrent\":true,\"transition\":{\"duration\":0,\"easing\":\"linear\"}}],\"label\":\"&#9724;\",\"method\":\"animate\"}],\"direction\":\"left\",\"pad\":{\"r\":10,\"t\":70},\"showactive\":false,\"type\":\"buttons\",\"x\":0.1,\"xanchor\":\"right\",\"y\":0,\"yanchor\":\"top\"}],\"sliders\":[{\"active\":0,\"currentvalue\":{\"prefix\":\"Year=\"},\"len\":0.9,\"pad\":{\"b\":10,\"t\":60},\"steps\":[{\"args\":[[\"2013\"],{\"frame\":{\"duration\":0,\"redraw\":true},\"mode\":\"immediate\",\"fromcurrent\":true,\"transition\":{\"duration\":0,\"easing\":\"linear\"}}],\"label\":\"2013\",\"method\":\"animate\"},{\"args\":[[\"2014\"],{\"frame\":{\"duration\":0,\"redraw\":true},\"mode\":\"immediate\",\"fromcurrent\":true,\"transition\":{\"duration\":0,\"easing\":\"linear\"}}],\"label\":\"2014\",\"method\":\"animate\"},{\"args\":[[\"2015\"],{\"frame\":{\"duration\":0,\"redraw\":true},\"mode\":\"immediate\",\"fromcurrent\":true,\"transition\":{\"duration\":0,\"easing\":\"linear\"}}],\"label\":\"2015\",\"method\":\"animate\"},{\"args\":[[\"2016\"],{\"frame\":{\"duration\":0,\"redraw\":true},\"mode\":\"immediate\",\"fromcurrent\":true,\"transition\":{\"duration\":0,\"easing\":\"linear\"}}],\"label\":\"2016\",\"method\":\"animate\"},{\"args\":[[\"2017\"],{\"frame\":{\"duration\":0,\"redraw\":true},\"mode\":\"immediate\",\"fromcurrent\":true,\"transition\":{\"duration\":0,\"easing\":\"linear\"}}],\"label\":\"2017\",\"method\":\"animate\"},{\"args\":[[\"2018\"],{\"frame\":{\"duration\":0,\"redraw\":true},\"mode\":\"immediate\",\"fromcurrent\":true,\"transition\":{\"duration\":0,\"easing\":\"linear\"}}],\"label\":\"2018\",\"method\":\"animate\"},{\"args\":[[\"2019\"],{\"frame\":{\"duration\":0,\"redraw\":true},\"mode\":\"immediate\",\"fromcurrent\":true,\"transition\":{\"duration\":0,\"easing\":\"linear\"}}],\"label\":\"2019\",\"method\":\"animate\"},{\"args\":[[\"2020\"],{\"frame\":{\"duration\":0,\"redraw\":true},\"mode\":\"immediate\",\"fromcurrent\":true,\"transition\":{\"duration\":0,\"easing\":\"linear\"}}],\"label\":\"2020\",\"method\":\"animate\"},{\"args\":[[\"2021\"],{\"frame\":{\"duration\":0,\"redraw\":true},\"mode\":\"immediate\",\"fromcurrent\":true,\"transition\":{\"duration\":0,\"easing\":\"linear\"}}],\"label\":\"2021\",\"method\":\"animate\"}],\"x\":0.1,\"xanchor\":\"left\",\"y\":0,\"yanchor\":\"top\"}],\"title\":{\"text\":\"Percentage road and rail passenger km in millions\"}},                        {\"responsive\": true}                    ).then(function(){\n                            Plotly.addFrames('c7b87bb5-98c2-4d2c-92e4-89f3a3ec411c', [{\"data\":[{\"alignmentgroup\":\"True\",\"hovertemplate\":\"variable=Percentage road<br>Year=2013<br>Country=%{x}<br>value=%{y}<extra></extra>\",\"ids\":[\"Bulgaria\",\"Czechia\",\"Germany\",\"France\",\"Croatia\",\"Italy\",\"Lithuania\",\"Austria\",\"Poland\",\"Finland\"],\"legendgroup\":\"Percentage road\",\"marker\":{\"color\":\"#636efa\",\"pattern\":{\"shape\":\"\"}},\"name\":\"Percentage road\",\"offsetgroup\":\"Percentage road\",\"orientation\":\"v\",\"showlegend\":true,\"textposition\":\"auto\",\"x\":[\"Bulgaria\",\"Czechia\",\"Germany\",\"France\",\"Croatia\",\"Italy\",\"Lithuania\",\"Austria\",\"Poland\",\"Finland\"],\"xaxis\":\"x\",\"y\":[84.99728122064954,66.1850101282917,40.33842685537821,35.09758494301269,78.95092300765421,null,90.06930056440666,45.96474281574499,54.91340567795682,65.59124896150651],\"yaxis\":\"y\",\"type\":\"bar\"},{\"alignmentgroup\":\"True\",\"hovertemplate\":\"variable=Percentage rail<br>Year=2013<br>Country=%{x}<br>value=%{y}<extra></extra>\",\"ids\":[\"Bulgaria\",\"Czechia\",\"Germany\",\"France\",\"Croatia\",\"Italy\",\"Lithuania\",\"Austria\",\"Poland\",\"Finland\"],\"legendgroup\":\"Percentage rail\",\"marker\":{\"color\":\"#EF553B\",\"pattern\":{\"shape\":\"\"}},\"name\":\"Percentage rail\",\"offsetgroup\":\"Percentage rail\",\"orientation\":\"v\",\"showlegend\":true,\"textposition\":\"auto\",\"x\":[\"Bulgaria\",\"Czechia\",\"Germany\",\"France\",\"Croatia\",\"Italy\",\"Lithuania\",\"Austria\",\"Poland\",\"Finland\"],\"xaxis\":\"x\",\"y\":[15.00271877935046,33.814989871708306,59.661573144621784,64.90241505698731,21.049076992345793,null,9.930699435593342,54.035257184255016,45.08659432204319,34.40875103849349],\"yaxis\":\"y\",\"type\":\"bar\"}],\"name\":\"2013\"},{\"data\":[{\"alignmentgroup\":\"True\",\"hovertemplate\":\"variable=Percentage road<br>Year=2014<br>Country=%{x}<br>value=%{y}<extra></extra>\",\"ids\":[\"Bulgaria\",\"Czechia\",\"Germany\",\"France\",\"Croatia\",\"Italy\",\"Lithuania\",\"Austria\",\"Poland\",\"Finland\"],\"legendgroup\":\"Percentage road\",\"marker\":{\"color\":\"#636efa\",\"pattern\":{\"shape\":\"\"}},\"name\":\"Percentage road\",\"offsetgroup\":\"Percentage road\",\"orientation\":\"v\",\"showlegend\":true,\"textposition\":\"auto\",\"x\":[\"Bulgaria\",\"Czechia\",\"Germany\",\"France\",\"Croatia\",\"Italy\",\"Lithuania\",\"Austria\",\"Poland\",\"Finland\"],\"xaxis\":\"x\",\"y\":[87.08263915831755,67.32607246054678,40.61682059984987,35.802973897699644,79.91237677984667,null,90.82163374919264,null,58.08329722703639,64.1747572815534],\"yaxis\":\"y\",\"type\":\"bar\"},{\"alignmentgroup\":\"True\",\"hovertemplate\":\"variable=Percentage rail<br>Year=2014<br>Country=%{x}<br>value=%{y}<extra></extra>\",\"ids\":[\"Bulgaria\",\"Czechia\",\"Germany\",\"France\",\"Croatia\",\"Italy\",\"Lithuania\",\"Austria\",\"Poland\",\"Finland\"],\"legendgroup\":\"Percentage rail\",\"marker\":{\"color\":\"#EF553B\",\"pattern\":{\"shape\":\"\"}},\"name\":\"Percentage rail\",\"offsetgroup\":\"Percentage rail\",\"orientation\":\"v\",\"showlegend\":true,\"textposition\":\"auto\",\"x\":[\"Bulgaria\",\"Czechia\",\"Germany\",\"France\",\"Croatia\",\"Italy\",\"Lithuania\",\"Austria\",\"Poland\",\"Finland\"],\"xaxis\":\"x\",\"y\":[12.917360841682452,32.67392753945321,59.38317940015012,64.19702610230036,20.087623220153343,null,9.178366250807358,null,41.9167027729636,35.8252427184466],\"yaxis\":\"y\",\"type\":\"bar\"}],\"name\":\"2014\"},{\"data\":[{\"alignmentgroup\":\"True\",\"hovertemplate\":\"variable=Percentage road<br>Year=2015<br>Country=%{x}<br>value=%{y}<extra></extra>\",\"ids\":[\"Bulgaria\",\"Czechia\",\"Germany\",\"France\",\"Croatia\",\"Italy\",\"Lithuania\",\"Austria\",\"Poland\",\"Finland\"],\"legendgroup\":\"Percentage road\",\"marker\":{\"color\":\"#636efa\",\"pattern\":{\"shape\":\"\"}},\"name\":\"Percentage road\",\"offsetgroup\":\"Percentage road\",\"orientation\":\"v\",\"showlegend\":true,\"textposition\":\"auto\",\"x\":[\"Bulgaria\",\"Czechia\",\"Germany\",\"France\",\"Croatia\",\"Italy\",\"Lithuania\",\"Austria\",\"Poland\",\"Finland\"],\"xaxis\":\"x\",\"y\":[88.78032174183875,65.47241596623479,41.68134507606085,35.60873517535886,78.20750347383047,null,90.3655218062808,null,55.889516505156244,59.183917673806384],\"yaxis\":\"y\",\"type\":\"bar\"},{\"alignmentgroup\":\"True\",\"hovertemplate\":\"variable=Percentage rail<br>Year=2015<br>Country=%{x}<br>value=%{y}<extra></extra>\",\"ids\":[\"Bulgaria\",\"Czechia\",\"Germany\",\"France\",\"Croatia\",\"Italy\",\"Lithuania\",\"Austria\",\"Poland\",\"Finland\"],\"legendgroup\":\"Percentage rail\",\"marker\":{\"color\":\"#EF553B\",\"pattern\":{\"shape\":\"\"}},\"name\":\"Percentage rail\",\"offsetgroup\":\"Percentage rail\",\"orientation\":\"v\",\"showlegend\":true,\"textposition\":\"auto\",\"x\":[\"Bulgaria\",\"Czechia\",\"Germany\",\"France\",\"Croatia\",\"Italy\",\"Lithuania\",\"Austria\",\"Poland\",\"Finland\"],\"xaxis\":\"x\",\"y\":[11.219678258161247,34.527584033765216,58.31865492393915,64.39126482464115,21.792496526169522,null,9.634478193719202,null,44.11048349484376,40.81608232619361],\"yaxis\":\"y\",\"type\":\"bar\"}],\"name\":\"2015\"},{\"data\":[{\"alignmentgroup\":\"True\",\"hovertemplate\":\"variable=Percentage road<br>Year=2016<br>Country=%{x}<br>value=%{y}<extra></extra>\",\"ids\":[\"Bulgaria\",\"Czechia\",\"Germany\",\"France\",\"Croatia\",\"Italy\",\"Lithuania\",\"Austria\",\"Poland\",\"Finland\"],\"legendgroup\":\"Percentage road\",\"marker\":{\"color\":\"#636efa\",\"pattern\":{\"shape\":\"\"}},\"name\":\"Percentage road\",\"offsetgroup\":\"Percentage road\",\"orientation\":\"v\",\"showlegend\":true,\"textposition\":\"auto\",\"x\":[\"Bulgaria\",\"Czechia\",\"Germany\",\"France\",\"Croatia\",\"Italy\",\"Lithuania\",\"Austria\",\"Poland\",\"Finland\"],\"xaxis\":\"x\",\"y\":[89.35251587975294,64.44976057088688,40.16159159573267,35.84417943397676,82.13437027435731,null,89.39875814023928,null,50.54719021122861,null],\"yaxis\":\"y\",\"type\":\"bar\"},{\"alignmentgroup\":\"True\",\"hovertemplate\":\"variable=Percentage rail<br>Year=2016<br>Country=%{x}<br>value=%{y}<extra></extra>\",\"ids\":[\"Bulgaria\",\"Czechia\",\"Germany\",\"France\",\"Croatia\",\"Italy\",\"Lithuania\",\"Austria\",\"Poland\",\"Finland\"],\"legendgroup\":\"Percentage rail\",\"marker\":{\"color\":\"#EF553B\",\"pattern\":{\"shape\":\"\"}},\"name\":\"Percentage rail\",\"offsetgroup\":\"Percentage rail\",\"orientation\":\"v\",\"showlegend\":true,\"textposition\":\"auto\",\"x\":[\"Bulgaria\",\"Czechia\",\"Germany\",\"France\",\"Croatia\",\"Italy\",\"Lithuania\",\"Austria\",\"Poland\",\"Finland\"],\"xaxis\":\"x\",\"y\":[10.64748412024705,35.55023942911312,59.83840840426732,64.15582056602324,17.865629725642687,null,10.601241859760716,null,49.4528097887714,null],\"yaxis\":\"y\",\"type\":\"bar\"}],\"name\":\"2016\"},{\"data\":[{\"alignmentgroup\":\"True\",\"hovertemplate\":\"variable=Percentage road<br>Year=2017<br>Country=%{x}<br>value=%{y}<extra></extra>\",\"ids\":[\"Bulgaria\",\"Czechia\",\"Germany\",\"France\",\"Croatia\",\"Italy\",\"Lithuania\",\"Austria\",\"Poland\",\"Finland\"],\"legendgroup\":\"Percentage road\",\"marker\":{\"color\":\"#636efa\",\"pattern\":{\"shape\":\"\"}},\"name\":\"Percentage road\",\"offsetgroup\":\"Percentage road\",\"orientation\":\"v\",\"showlegend\":true,\"textposition\":\"auto\",\"x\":[\"Bulgaria\",\"Czechia\",\"Germany\",\"France\",\"Croatia\",\"Italy\",\"Lithuania\",\"Austria\",\"Poland\",\"Finland\"],\"xaxis\":\"x\",\"y\":[88.03704012680403,64.17768295935083,39.54243402316309,35.090235938631366,84.93655341792878,null,88.70724887072488,null,48.47631241997439,null],\"yaxis\":\"y\",\"type\":\"bar\"},{\"alignmentgroup\":\"True\",\"hovertemplate\":\"variable=Percentage rail<br>Year=2017<br>Country=%{x}<br>value=%{y}<extra></extra>\",\"ids\":[\"Bulgaria\",\"Czechia\",\"Germany\",\"France\",\"Croatia\",\"Italy\",\"Lithuania\",\"Austria\",\"Poland\",\"Finland\"],\"legendgroup\":\"Percentage rail\",\"marker\":{\"color\":\"#EF553B\",\"pattern\":{\"shape\":\"\"}},\"name\":\"Percentage rail\",\"offsetgroup\":\"Percentage rail\",\"orientation\":\"v\",\"showlegend\":true,\"textposition\":\"auto\",\"x\":[\"Bulgaria\",\"Czechia\",\"Germany\",\"France\",\"Croatia\",\"Italy\",\"Lithuania\",\"Austria\",\"Poland\",\"Finland\"],\"xaxis\":\"x\",\"y\":[11.962959873195961,35.82231704064917,60.45756597683691,64.90976406136863,15.063446582071224,null,11.292751129275112,null,51.52368758002561,null],\"yaxis\":\"y\",\"type\":\"bar\"}],\"name\":\"2017\"},{\"data\":[{\"alignmentgroup\":\"True\",\"hovertemplate\":\"variable=Percentage road<br>Year=2018<br>Country=%{x}<br>value=%{y}<extra></extra>\",\"ids\":[\"Bulgaria\",\"Czechia\",\"Germany\",\"France\",\"Croatia\",\"Italy\",\"Lithuania\",\"Austria\",\"Poland\",\"Finland\"],\"legendgroup\":\"Percentage road\",\"marker\":{\"color\":\"#636efa\",\"pattern\":{\"shape\":\"\"}},\"name\":\"Percentage road\",\"offsetgroup\":\"Percentage road\",\"orientation\":\"v\",\"showlegend\":true,\"textposition\":\"auto\",\"x\":[\"Bulgaria\",\"Czechia\",\"Germany\",\"France\",\"Croatia\",\"Italy\",\"Lithuania\",\"Austria\",\"Poland\",\"Finland\"],\"xaxis\":\"x\",\"y\":[87.00990099009901,62.81608149899945,38.909391900722554,36.11460935271321,83.72549019607844,0.052664075836269204,87.94770529756231,null,44.87016764503676,null],\"yaxis\":\"y\",\"type\":\"bar\"},{\"alignmentgroup\":\"True\",\"hovertemplate\":\"variable=Percentage rail<br>Year=2018<br>Country=%{x}<br>value=%{y}<extra></extra>\",\"ids\":[\"Bulgaria\",\"Czechia\",\"Germany\",\"France\",\"Croatia\",\"Italy\",\"Lithuania\",\"Austria\",\"Poland\",\"Finland\"],\"legendgroup\":\"Percentage rail\",\"marker\":{\"color\":\"#EF553B\",\"pattern\":{\"shape\":\"\"}},\"name\":\"Percentage rail\",\"offsetgroup\":\"Percentage rail\",\"orientation\":\"v\",\"showlegend\":true,\"textposition\":\"auto\",\"x\":[\"Bulgaria\",\"Czechia\",\"Germany\",\"France\",\"Croatia\",\"Italy\",\"Lithuania\",\"Austria\",\"Poland\",\"Finland\"],\"xaxis\":\"x\",\"y\":[12.990099009900991,37.18391850100055,61.09060809927745,63.8853906472868,16.274509803921568,99.94733592416372,12.052294702437697,null,55.12983235496325,null],\"yaxis\":\"y\",\"type\":\"bar\"}],\"name\":\"2018\"},{\"data\":[{\"alignmentgroup\":\"True\",\"hovertemplate\":\"variable=Percentage road<br>Year=2019<br>Country=%{x}<br>value=%{y}<extra></extra>\",\"ids\":[\"Bulgaria\",\"Czechia\",\"Germany\",\"France\",\"Croatia\",\"Italy\",\"Lithuania\",\"Austria\",\"Poland\",\"Finland\"],\"legendgroup\":\"Percentage road\",\"marker\":{\"color\":\"#636efa\",\"pattern\":{\"shape\":\"\"}},\"name\":\"Percentage road\",\"offsetgroup\":\"Percentage road\",\"orientation\":\"v\",\"showlegend\":true,\"textposition\":\"auto\",\"x\":[\"Bulgaria\",\"Czechia\",\"Germany\",\"France\",\"Croatia\",\"Italy\",\"Lithuania\",\"Austria\",\"Poland\",\"Finland\"],\"xaxis\":\"x\",\"y\":[87.69798554513302,61.106334193178554,37.900618193981586,35.79366715660519,84.74504846186262,0.05161152538753137,88.05125644866034,null,null,null],\"yaxis\":\"y\",\"type\":\"bar\"},{\"alignmentgroup\":\"True\",\"hovertemplate\":\"variable=Percentage rail<br>Year=2019<br>Country=%{x}<br>value=%{y}<extra></extra>\",\"ids\":[\"Bulgaria\",\"Czechia\",\"Germany\",\"France\",\"Croatia\",\"Italy\",\"Lithuania\",\"Austria\",\"Poland\",\"Finland\"],\"legendgroup\":\"Percentage rail\",\"marker\":{\"color\":\"#EF553B\",\"pattern\":{\"shape\":\"\"}},\"name\":\"Percentage rail\",\"offsetgroup\":\"Percentage rail\",\"orientation\":\"v\",\"showlegend\":true,\"textposition\":\"auto\",\"x\":[\"Bulgaria\",\"Czechia\",\"Germany\",\"France\",\"Croatia\",\"Italy\",\"Lithuania\",\"Austria\",\"Poland\",\"Finland\"],\"xaxis\":\"x\",\"y\":[12.302014454866985,38.89366580682144,62.09938180601841,64.2063328433948,15.254951538137378,99.94838847461247,11.948743551339657,null,null,null],\"yaxis\":\"y\",\"type\":\"bar\"}],\"name\":\"2019\"},{\"data\":[{\"alignmentgroup\":\"True\",\"hovertemplate\":\"variable=Percentage road<br>Year=2020<br>Country=%{x}<br>value=%{y}<extra></extra>\",\"ids\":[\"Bulgaria\",\"Czechia\",\"Germany\",\"France\",\"Croatia\",\"Italy\",\"Lithuania\",\"Austria\",\"Poland\",\"Finland\"],\"legendgroup\":\"Percentage road\",\"marker\":{\"color\":\"#636efa\",\"pattern\":{\"shape\":\"\"}},\"name\":\"Percentage road\",\"offsetgroup\":\"Percentage road\",\"orientation\":\"v\",\"showlegend\":true,\"textposition\":\"auto\",\"x\":[\"Bulgaria\",\"Czechia\",\"Germany\",\"France\",\"Croatia\",\"Italy\",\"Lithuania\",\"Austria\",\"Poland\",\"Finland\"],\"xaxis\":\"x\",\"y\":[81.83767626226526,56.474593202071446,37.05942578312203,37.283534795085146,82.25039619651348,0.07698926679045333,86.24492164828787,null,null,54.8284625158831],\"yaxis\":\"y\",\"type\":\"bar\"},{\"alignmentgroup\":\"True\",\"hovertemplate\":\"variable=Percentage rail<br>Year=2020<br>Country=%{x}<br>value=%{y}<extra></extra>\",\"ids\":[\"Bulgaria\",\"Czechia\",\"Germany\",\"France\",\"Croatia\",\"Italy\",\"Lithuania\",\"Austria\",\"Poland\",\"Finland\"],\"legendgroup\":\"Percentage rail\",\"marker\":{\"color\":\"#EF553B\",\"pattern\":{\"shape\":\"\"}},\"name\":\"Percentage rail\",\"offsetgroup\":\"Percentage rail\",\"orientation\":\"v\",\"showlegend\":true,\"textposition\":\"auto\",\"x\":[\"Bulgaria\",\"Czechia\",\"Germany\",\"France\",\"Croatia\",\"Italy\",\"Lithuania\",\"Austria\",\"Poland\",\"Finland\"],\"xaxis\":\"x\",\"y\":[18.162323737734745,43.525406797928554,62.94057421687796,62.716465204914854,17.74960380348653,99.92301073320955,13.75507835171213,null,null,45.1715374841169],\"yaxis\":\"y\",\"type\":\"bar\"}],\"name\":\"2020\"},{\"data\":[{\"alignmentgroup\":\"True\",\"hovertemplate\":\"variable=Percentage road<br>Year=2021<br>Country=%{x}<br>value=%{y}<extra></extra>\",\"ids\":[\"Bulgaria\",\"Czechia\",\"Germany\",\"France\",\"Croatia\",\"Italy\",\"Lithuania\",\"Austria\",\"Poland\",\"Finland\"],\"legendgroup\":\"Percentage road\",\"marker\":{\"color\":\"#636efa\",\"pattern\":{\"shape\":\"\"}},\"name\":\"Percentage road\",\"offsetgroup\":\"Percentage road\",\"orientation\":\"v\",\"showlegend\":true,\"textposition\":\"auto\",\"x\":[\"Bulgaria\",\"Czechia\",\"Germany\",\"France\",\"Croatia\",\"Italy\",\"Lithuania\",\"Austria\",\"Poland\",\"Finland\"],\"xaxis\":\"x\",\"y\":[80.44760836705836,55.29483427572599,37.32852457587413,31.943138507475545,81.65075034106411,0.08373684785378818,83.11168647758032,null,null,null],\"yaxis\":\"y\",\"type\":\"bar\"},{\"alignmentgroup\":\"True\",\"hovertemplate\":\"variable=Percentage rail<br>Year=2021<br>Country=%{x}<br>value=%{y}<extra></extra>\",\"ids\":[\"Bulgaria\",\"Czechia\",\"Germany\",\"France\",\"Croatia\",\"Italy\",\"Lithuania\",\"Austria\",\"Poland\",\"Finland\"],\"legendgroup\":\"Percentage rail\",\"marker\":{\"color\":\"#EF553B\",\"pattern\":{\"shape\":\"\"}},\"name\":\"Percentage rail\",\"offsetgroup\":\"Percentage rail\",\"orientation\":\"v\",\"showlegend\":true,\"textposition\":\"auto\",\"x\":[\"Bulgaria\",\"Czechia\",\"Germany\",\"France\",\"Croatia\",\"Italy\",\"Lithuania\",\"Austria\",\"Poland\",\"Finland\"],\"xaxis\":\"x\",\"y\":[19.552391632941635,44.705165724274,62.671475424125866,68.05686149252446,18.34924965893588,99.91626315214621,16.888313522419676,null,null,null],\"yaxis\":\"y\",\"type\":\"bar\"}],\"name\":\"2021\"}]);\n                        }).then(function(){\n                            \nvar gd = document.getElementById('c7b87bb5-98c2-4d2c-92e4-89f3a3ec411c');\nvar x = new MutationObserver(function (mutations, observer) {{\n        var display = window.getComputedStyle(gd).display;\n        if (!display || display === 'none') {{\n            console.log([gd, 'removed!']);\n            Plotly.purge(gd);\n            observer.disconnect();\n        }}\n}});\n\n// Listen for the removal of the full notebook cells\nvar notebookContainer = gd.closest('#notebook-container');\nif (notebookContainer) {{\n    x.observe(notebookContainer, {childList: true});\n}}\n\n// Listen for the clearing of the current output cell\nvar outputEl = gd.closest('.output');\nif (outputEl) {{\n    x.observe(outputEl, {childList: true});\n}}\n\n                        })                };                });            </script>        </div>"
     },
     "metadata": {},
     "output_type": "display_data"
    }
   ],
   "source": [
    "# Remove Denmark as it has no entries for road_psk\n",
    "df_psk_bar = df_psk.drop(df_psk[df_psk['Country'] == 'Denmark'].index)\n",
    "\n",
    "# Create bar chart with animation frames for years\n",
    "fig_bar = px.bar(df_psk_bar,\n",
    "                 x='Country',\n",
    "                 y=['Percentage road', 'Percentage rail'],\n",
    "                 animation_frame='Year',\n",
    "                 animation_group='Country'\n",
    "                 )\n",
    "\n",
    "# Set bar chart layout\n",
    "fig_bar.update_layout(title='Percentage road and rail passenger km in millions',\n",
    "                      yaxis_title='Percentage',\n",
    "                      legend_title_text='',\n",
    "                      )\n",
    "\n",
    "# Set hovertemplate\n",
    "fig_bar.update_traces(hovertemplate='<b>Country:</b> %{x}<br>'\n",
    "                                    '<b>Percentage:</b> %{y:,.1f}'\n",
    "                                    '<extra></extra>')\n",
    "\n",
    "# Show bar chart\n",
    "fig_bar.show()"
   ],
   "metadata": {
    "collapsed": false,
    "ExecuteTime": {
     "end_time": "2023-11-09T18:40:58.671338300Z",
     "start_time": "2023-11-09T18:40:58.590559Z"
    }
   },
   "id": "d379b8d107c8a47e"
  },
  {
   "cell_type": "markdown",
   "source": [
    "Overall, we notice that eastern European countries make more use of buses and coaches compared to western European countries. Of course, this does depend on multiple factors.\n",
    "1. Environment:\n",
    "    Is the country hilly/mountainous or is it flat? Is there space in cities for buses/coaches or is an underground rail network a better option?\n",
    "2. Time:\n",
    "    One can assume it is easier and cheaper on the short term to add buses and coaches in the travel infrastructure than it is to add a rail network. However, on the long term, a rail network could bring in more people due to its efficiency and potential to be controlled remotely.\n",
    "3. GDP:\n",
    "    The income of a country also affects what infrastructure can be build. Typically, a rail network is more expensive than creating a bus network. However, the data shows that Italy, which we defined as a low income country, uses pretty much only rail travel when compared to bus travel. And Finland, which we defined as a high income country, uses more road travel. This of course could be because of other factors. "
   ],
   "metadata": {
    "collapsed": false
   },
   "id": "2b8650f54cac9ffc"
  },
  {
   "cell_type": "code",
   "execution_count": 18,
   "id": "e688050e",
   "metadata": {
    "ExecuteTime": {
     "end_time": "2023-11-09T15:56:42.019916900Z",
     "start_time": "2023-11-09T15:56:33.594492600Z"
    }
   },
   "outputs": [
    {
     "name": "stdout",
     "output_type": "stream",
     "text": [
      "There's no data of France\n"
     ]
    }
   ],
   "source": [
    "# Create line graph to disaplay the trend of rail passenger transport\n",
    "country_name = input(f\"Country name\")\n",
    "\n",
    "if country_name in df_rail_pg.index:\n",
    "    # Obtain the selected country's data\n",
    "    country_data = df_rail_pg.loc[country_name]\n",
    "    # Obtain year as x-axis label\n",
    "    years = country_data.index\n",
    "    \n",
    "    ## Obtain data as y-axis data\n",
    "    data = country_data.str.replace(',', '').astype(int)\n",
    "    \n",
    "    #Remove commas and convert data to floating-point numbers while handling missing values\n",
    "    filled_data = data.reindex(years).interpolate(method='linear')\n",
    "    \n",
    "    # Create line chart\n",
    "    fig, ax = plt.subplots()\n",
    "    ax.plot(years, data, marker='o', linestyle='-')\n",
    "    ax.set_xlabel('Year')\n",
    "    ax.set_ylabel('Millions of passenger-kilometres')\n",
    "    ax.set_title(f'Rail transport of passengers in {country_name}')\n",
    "    ax.grid(True)\n",
    "    \n",
    "    # Add data value labels\n",
    "    for i, j in zip(years, data):\n",
    "        ax.annotate(f\"{j:,d}\", xy=(i, j), xytext=(5,5), textcoords='offset points', fontsize=8, ha='center')\n",
    "    \n",
    "    ax.set_yticks(range(int(min(data)), int(max(data) + 1), 10000))\n",
    "    plt.xticks(rotation=100)\n",
    "    plt.show()\n",
    "else:\n",
    "    print(f\"There's no data of {country_name}\")"
   ]
  }
 ],
 "metadata": {
  "kernelspec": {
   "display_name": "Python 3 (ipykernel)",
   "language": "python",
   "name": "python3"
  },
  "language_info": {
   "codemirror_mode": {
    "name": "ipython",
    "version": 3
   },
   "file_extension": ".py",
   "mimetype": "text/x-python",
   "name": "python",
   "nbconvert_exporter": "python",
   "pygments_lexer": "ipython3",
   "version": "3.11.5"
  }
 },
 "nbformat": 4,
 "nbformat_minor": 5
}
