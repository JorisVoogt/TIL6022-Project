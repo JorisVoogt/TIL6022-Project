{
 "cells": [
  {
   "cell_type": "markdown",
   "metadata": {},
   "source": [
    "# Project Group - 28\n",
    "\n",
    "Members: Joris Voogt, Xiaoyu Mao, Yuwen Peng\n",
    "\n",
    "Student numbers: 4295978, 5947642, 5914507"
   ]
  },
  {
   "cell_type": "markdown",
   "metadata": {},
   "source": [
    "# Research Objective\n",
    "\n",
    "*Requires data modeling and quantitative research in Transport, Infrastructure & Logistics*\n",
    "\n",
    "RQ: Influence of GDP on road and rail passenger transportation modes and their safety in Europe.\n",
    "\n",
    "This research would focus on the passenger transport trends and safety problems in Europe. We analyse the relationships between transport mode choices and the economy of different countries.\n",
    " Also, we analyse the relationship between the investment of economic resources into infrastructure and transport safety.\n",
    " \n",
    "Time scale: Data is a bit limited for passenger transport, so most likely in the range of 2016-2021.\n",
    "Geographical boundary: Countries in Europe. Not all of them have data available in the datasets, so countries with most data available will be analysed.\n",
    " \n",
    "A short list of how we plan to do this analysis:\n",
    "\n",
    "1.\tThe volume of passenger transport relative to GDP can give the relative scale of passenger transport in the national economy. Visualise it by creating an interactive map of Europe with different colors for each country based on the data, representing levels of the volume of passenger transport relative to GDP for different transport modes.\n",
    "\n",
    "By analyzing the volume of rail passenger and road passenger transport ,we can find the proportion of both in the overall volume of transport. 
Then we can discuss whether there are countries who are highly dependent on road transport, and then we select the countries who have a large proportion of road transport to analyze the relationship between GDP and traffic safety.\n",
    "2.\tExplore whether there is some correlation between the development of one mode of transportation and the state of the economy. Conduct temporal and spatial analysis using line/stacked-area charts.\n",
    "\n",
    "3.\tFurther explore the impact of traffic investment on traffic safety. Divide European countries into low income and high income based on GDP levels. Then calculate the average of road investment and maintenance. To analyse their relevance, use a line chart to compare the trends of the investment and death of these two groups. \n",
    "\n",
    "4.\tLook for other possible factors that could be related to traffic mortality rate. Such as proportions of motorways, GDP per capita, alcohol consumption. This data is likely leading to new relationships and possibly correlates. Therefore, a correlation matrix is used, measuring strength and quickly giving an overview of all the numerical correlations.\n",
    "\n",
    "5.\tTo more scientifically evaluate the relationship between traffic mortality rate and other factors, it would be better to establish a regression model. The result obtained will tell us whether there is a positive or negative relationship between them. (if we have enough time) \n",
    "\n",
    "6.\tSummarize and propose ideas about transport patterns in the future and strategize about road safety. (We can make use of and compare to the \"Strategic Action Plan on Road Safety\" and \"the EU road safety policy framework 2021–2030\". )"
   ]
  },
  {
   "cell_type": "markdown",
   "metadata": {},
   "source": [
    "# Contribution Statement\n",
    "\n",
    "*Be specific. Some of the tasks can be coding (expect everyone to do this), background research, conceptualisation, visualisation, data analysis, data modelling*"
   ]
  },
  {
   "cell_type": "markdown",
   "metadata": {},
   "source": [
    "**Author 1**:\n",
    "\n",
    "**Author 2**:\n",
    "\n",
    "**Author 3**:"
   ]
  },
  {
   "cell_type": "markdown",
   "metadata": {},
   "source": [
    "# Data Used"
   ]
  },
  {
   "cell_type": "markdown",
   "metadata": {},
   "source": [
    "1. Volume of passenger transport relative to GDP:\n",
    " https://ec.europa.eu/eurostat/databrowser/view/TTR00001/default/table?lang=en\n",
    "\n",
    "2. Rail transport of passengers:\n",
    " https://ec.europa.eu/eurostat/databrowser/product/view/TTR00015\n",
    "\n",
    "3. Road transport (Buses and coaches) of passengers：\n",
    " https://ec.europa.eu/eurostat/databrowser/view/ROAD_PA_BUSCOA/default/table?lang=en\n",
    "\n",
    "4. Road transport (Passenger cars) of passengers:\n",
    " https://ec.europa.eu/eurostat/databrowser/view/ROAD_PA_MOV/default/table?lang=en\n",
    "\n",
    "5. GDP per capita: \n",
    " https://databank.worldbank.org/indicator/NY.GDP.PCAP.CD/1ff4a498/Popular-Indicators\n",
    "\n",
    "6. Road crashes, fatalities and injuries:\n",
    " https://stats.oecd.org/\n",
    "\n",
    "7. Transport infrastructure investment and maintenance spending: \n",
    " https://stats.oecd.org/\n",
    "\n",
    "8. Road fatalities per one hundred thousand inhabitants: \n",
    " https://stats.oecd.org/\n"
   ]
  },
  {
   "cell_type": "markdown",
   "metadata": {},
   "source": [
    "# Data Pipeline"
   ]
  },
  {
   "cell_type": "markdown",
   "metadata": {},
   "source": [
    "1. Cleaning/Filtering of data:\n",
    "    Remove entries with no data available, if necessary transform data such that it is all in the right unit.\n",
    "    Remove incomparable entries. For example, when comparing two datasets and one has additional data on other years, these cannot be compared to the other dataset and should therefore not be used.\n",
    "\n",
    "2. Retrieve or obtain through calculations the required data.\n",
    "    For example, retrieve the volume of passenger transport relative to GDP and the volume of rail, bus and car transport individually.\n",
    "\n",
    "3. Combine the required data in preparation for visualisation. \n",
    "    For example, combine the volumes of passenger transport into a dataframe and group it by year and countries to prepare it for visualisation.\n",
    "\n",
    "4. Visualise the data, possibly interactively.\n",
    "    See description of analysis above."
   ]
  }
 ],
 "metadata": {
  "kernelspec": {
   "display_name": "Python 3 (ipykernel)",
   "language": "python",
   "name": "python3"
  },
  "language_info": {
   "codemirror_mode": {
    "name": "ipython",
    "version": 3
   },
   "file_extension": ".py",
   "mimetype": "text/x-python",
   "name": "python",
   "nbconvert_exporter": "python",
   "pygments_lexer": "ipython3",
   "version": "3.11.4"
  },
  "vscode": {
   "interpreter": {
    "hash": "31f2aee4e71d21fbe5cf8b01ff0e069b9275f58929596ceb00d14d90e3e16cd6"
   }
  }
 },
 "nbformat": 4,
 "nbformat_minor": 2
}
