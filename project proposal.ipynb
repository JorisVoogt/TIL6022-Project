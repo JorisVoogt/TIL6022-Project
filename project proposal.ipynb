{
 "cells": [
  {
   "cell_type": "markdown",
   "metadata": {},
   "source": [
    "# Project Group - \n",
    "\n",
    "Members: Joris Voogt, Xiaoyu Mao, Yuwen Peng\n",
    "\n",
    "Student numbers: (Joris Voogt), 5947642, 5914507"
   ]
  },
  {
   "cell_type": "markdown",
   "metadata": {},
   "source": [
    "# Research Objective\n",
    "\n",
    "*Requires data modeling and quantitative research in Transport, Infrastructure & Logistics*\n",
    "\n",
    "This research would focus on the passenger transport trends and safety problem in the Europe. Discuss the relationships between transport mode choices and transport economy of different countries. Then derive insights into analyzing whether the economic resources invested in roads have any influence on transport safety. \n",
    "\n",
    "1.\tThe data of Volume of passenger transport relative to GDP can help understand the relative scale of passenger transport in the national economy. Also help to analysis the growth of transportation demand in decades. Create an interactive map of Europe with different colors for each country based on the data, representing levels of the Volume of passenger transport relative to GDP.\n",
    "\n",
    "2.\tExplore whether there is some correlation between the development of one mode of transportation and the state of the economy. Conduct temporal and spatial analysis using line/stacked-area charts.\n",
    "\n",
    "\n",
    "3.\tFurther explore the impact of traffic investment on traffic safety. Divide European countries into low income and high income based on GDP levels. Then calculate the average of road investment and maintenance. To analysis their relevance, use a line chart to compare the trends of the investment and death of these two groups. \n",
    "\n",
    "4.\tLook for other possible factors that could related to the road death. Such as proportions of motorways, GDP per capita, alcohol consumption. These data are likely leading to new relationships and the data possibility correlate. This problem can be done by a correlation matrix, measuring strength and quickly giving an overview of all the numerical correlations.\n",
    "\n",
    "5.\tTo more scientifically evaluate the relationship between traffic mortality rate and other factors, it would be better to establish a regression model. The result obtained will tell us whether there is a positive or negative relationship between them. (if we have enough time) \n",
    "\n",
    "6.\tSummarize and propose ideas about transport pattern in the future and strategy about road safety. (Here we can back to the \"Strategic Action Plan on Road Safety\" and \"the EU road safety policy framework 2021–2030\". )"
   ]
  },
  {
   "cell_type": "markdown",
   "metadata": {},
   "source": [
    "# Contribution Statement\n",
    "\n",
    "*Be specific. Some of the tasks can be coding (expect everyone to do this), background research, conceptualisation, visualisation, data analysis, data modelling*"
   ]
  },
  {
   "cell_type": "markdown",
   "metadata": {},
   "source": [
    "**Author 1**:\n",
    "\n",
    "**Author 2**:\n",
    "\n",
    "**Author 3**:"
   ]
  },
  {
   "cell_type": "markdown",
   "metadata": {},
   "source": [
    "# Data Used"
   ]
  },
  {
   "cell_type": "markdown",
   "metadata": {},
   "source": [
    "1. Volume of passenger transport relative to GDP:\n",
    " https://ec.europa.eu/eurostat/databrowser/view/TTR00001/default/table?lang=en\n",
    "2. Rail transport of passengers:\n",
    " https://ec.europa.eu/eurostat/databrowser/product/view/TTR00015\n",
    "3. Road transport of passengers：\n",
    " https://ec.europa.eu/eurostat/databrowser/view/ROAD_PA_BUSCOA/default/table?lang=en\n",
    "4. GDP per capita: https://databank.worldbank.org/indicator/NY.GDP.PCAP.CD/1ff4a498/Popular-Indicators\n",
    "5. Road injury crashes, fatalities and injuries:https://stats.oecd.org/\n",
    "6. Transport infrastructure investment and maintenance spending: https://stats.oecd.org/\n",
    "7. Road fatalities per one hundrend thousand inhabitant: https://stats.oecd.org/\n"
   ]
  },
  {
   "cell_type": "markdown",
   "metadata": {},
   "source": [
    "# Data Pipeline"
   ]
  },
  {
   "cell_type": "markdown",
   "metadata": {},
   "source": [
    "1.\tCreate an interactive map of Europe with standard colors for each country based on The Volume of passenger transport relative to GDP, with color variations representing different levels of the Volume of passenger transport relative to GDP. A gradient color spectrum can be used so that countries with high ratios are shown in darker colors and countries with low ratios are shown in lighter colors. Add a timeline at the bottom or side of the map to represent the time range. Users can drag the timeline or click on different years to see the Volume of passenger transport relative to GDP for each country at different points in time.\n",
    "\n",
    "2.\tUse line/stacked-area charts to compare longitudinally the trends in each country's land passenger and train passenger traffic and the Volume of passenger transport relative to GDP over the past few years. Create grouped bar charts/scatter plots to horizontally compare land passenger and train passenger transport for each country in the same year, to understand the preference of different countries between these two modes of transportation and the relative efficiency of the transportation system.\n",
    "\n",
    "3.\tDesign a classification standard to divide European countries into two groups of high- and low-income countries. Calculate the average of Use a line chart to compare the trends of the investment and death of two groups. Check if they have clearly identical or opposite trends.\n",
    "\n",
    "4.\tTake other possible factors into consideration when analyze the safety issues. Check if the correlation between several factors is significant and perform differently or not in the two groups.\n",
    "\n",
    "5.\tEstablish a regression model that includes factors such as GDP and investment as target independent variables and defined a mortality rate as the dependent variable. (if we have enough time)"
   ]
  }
 ],
 "metadata": {
  "kernelspec": {
   "display_name": "Python 3 (ipykernel)",
   "language": "python",
   "name": "python3"
  },
  "language_info": {
   "codemirror_mode": {
    "name": "ipython",
    "version": 3
   },
   "file_extension": ".py",
   "mimetype": "text/x-python",
   "name": "python",
   "nbconvert_exporter": "python",
   "pygments_lexer": "ipython3",
   "version": "3.11.4"
  },
  "vscode": {
   "interpreter": {
    "hash": "31f2aee4e71d21fbe5cf8b01ff0e069b9275f58929596ceb00d14d90e3e16cd6"
   }
  }
 },
 "nbformat": 4,
 "nbformat_minor": 2
}
