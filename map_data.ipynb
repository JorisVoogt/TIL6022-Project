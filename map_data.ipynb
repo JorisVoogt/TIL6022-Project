{
 "cells": [
  {
   "cell_type": "code",
   "execution_count": 1,
   "id": "initial_id",
   "metadata": {
    "collapsed": true,
    "ExecuteTime": {
     "end_time": "2023-10-20T10:07:36.279830400Z",
     "start_time": "2023-10-20T10:07:35.308838100Z"
    }
   },
   "outputs": [],
   "source": [
    "# Required imports:\n",
    "import pandas as pd\n",
    "import plotly.express as px\n",
    "import numpy as np"
   ]
  },
  {
   "cell_type": "markdown",
   "source": [
    "# Eurostat to Map data\n",
    "This next block of code transforms the volume of passengers relative to GDP data\n",
    "to a dataframe which can be used in a choropleth map.\n",
    "Parts of this can be reused for other eurostat data sets."
   ],
   "metadata": {
    "collapsed": false
   },
   "id": "fd708d1119a8b8ab"
  },
  {
   "cell_type": "code",
   "execution_count": 37,
   "outputs": [],
   "source": [
    "# Loads in European countries and their iso-alpha-3 codes as a dictionary\n",
    "df_alpha = pd.read_csv(\"Data/countries_iso.csv\")\n",
    "dic_alpha = df_alpha.set_index(\"country\").T.to_dict(\"list\")\n",
    "\n",
    "# Transposes data and removes empty/unnecessary columns\n",
    "df = pd.read_csv(\"Data/pg_GDP.csv\")\n",
    "df.set_index(df.columns[0], inplace=True)\n",
    "df = df.T\n",
    "remove_rows = np.r_[np.r_[0:6, 7, 9:11, 49:57]]\n",
    "df.drop(df.columns[remove_rows], axis=1, inplace=True)\n",
    "\n",
    "# Rename some countries for consistency with the iso-alpha-3 dictionary\n",
    "df.rename(columns={\"European Union - 27 countries (from 2020)\": \"EU\", \"Czechia\": \"Czech Republic\", \"Türkiye\": \"Turkey\"}, inplace=True)\n",
    "\n",
    "# Create a new dataframe usable by choropleth using the transposed data\n",
    "df_processed = pd.DataFrame(columns=[\"country\", \"iso_alpha\", \"year\", \"pg_GDP\", \"flag\"])\n",
    "for row in range(0, len(df.index), 2):\n",
    "    for col in range(1, len(df.columns)):\n",
    "        if df.columns[col] == \"EU\":\n",
    "            iso_alpha = None\n",
    "        else:\n",
    "            iso_alpha = dic_alpha[df.columns[col]][0]\n",
    "        df_processed.loc[len(df_processed)] = [df.columns[col],\n",
    "                                                             iso_alpha,\n",
    "                                                             df.iloc[row, 0],\n",
    "                                                             df.iloc[row, col],\n",
    "                                                             df.iloc[row+1, col]]\n",
    "\n",
    "# Replace NaN with 0 and save dataframe\n",
    "df_processed = df_processed.replace(\":\", 0)\n",
    "df_processed.to_csv(\"Data/pg_GDP_map.csv\")"
   ],
   "metadata": {
    "collapsed": false,
    "ExecuteTime": {
     "end_time": "2023-10-18T18:53:12.949456300Z",
     "start_time": "2023-10-18T18:53:12.167764500Z"
    }
   },
   "id": "5e9125e51d72045e"
  },
  {
   "cell_type": "markdown",
   "source": [
    "# Choropleth Map using Plotly\n",
    "This next block of code creates a map of Europe using plotly's choropleth.\n",
    "In this particular instance, it plots transport volumes relative to GDP.\n",
    "Most of this code can be reused for plotting other data sets using choropleth."
   ],
   "metadata": {
    "collapsed": false
   },
   "id": "31ce7fdab095a682"
  },
  {
   "cell_type": "code",
   "execution_count": 14,
   "outputs": [
    {
     "data": {
      "application/vnd.plotly.v1+json": {
       "data": [
        {
         "coloraxis": "coloraxis",
         "geo": "geo",
         "hovertemplate": [
          "<b>Country: </b>%{customdata}<br><br><b>Index value: </b>%{z}",
          "<b>Country: </b>%{customdata}<br><br><b>Index value: </b>%{z}",
          "<b>Country: </b>%{customdata}<br><br><b>Index value: </b>%{z}",
          "<b>Country: </b>%{customdata}<br><br><b>Index value: </b>%{z}",
          "<b>Country: </b>%{customdata}<br><br><b>Index value: </b>%{z}",
          "<b>Country: </b>%{customdata}<br><br><b>Index value: </b>%{z}",
          "<b>Country: </b>%{customdata}<br><br><b>Index value: </b>%{z}",
          "<b>Country: </b>%{customdata}<br><br><b>Index value: </b>%{z}",
          "<b>Country: </b>%{customdata}<br><br><b>Index value: </b>%{z}",
          "<b>Country: </b>%{customdata}<br><br><b>Index value: </b>%{z}",
          "<b>Country: </b>%{customdata}<br><br><b>Index value: </b>%{z}",
          "<b>Country: </b>%{customdata}<br><br><b>Index value: </b>%{z}",
          "<b>Country: </b>%{customdata}<br><br><b>Index value: </b>%{z}",
          "<b>Country: </b>%{customdata}<br><br><b>Index value: </b>%{z}",
          "<b>Country: </b>%{customdata}<br><br><b>Index value: </b>%{z}",
          "<b>Country: </b>%{customdata}<br><br><b>Index value: </b>%{z}",
          "<b>Country: </b>%{customdata}<br><br><b>Index value: </b>%{z}",
          "<b>Country: </b>%{customdata}<br><br><b>Index value: </b>%{z}",
          "<b>Country: </b>%{customdata}<br><br><b>Index value: </b>%{z}",
          "<b>Country: </b>%{customdata}<br><br><b>Index value: </b>%{z}",
          "<b>Country: </b>%{customdata}<br><br><b>Index value: </b>%{z}",
          "<b>Country: </b>%{customdata}<br><br><b>Index value: </b>%{z}",
          "<b>Country: </b>%{customdata}<br><br><b>Index value: </b>%{z}",
          "<b>Country: </b>%{customdata}<br><br><b>Index value: </b>%{z}",
          "<b>Country: </b>%{customdata}<br><br><b>Index value: </b>%{z}",
          "<b>Country: </b>%{customdata}<br><br><b>Index value: </b>%{z}",
          "<b>Country: </b>%{customdata}<br><br><b>Index value: </b>%{z}",
          "<b>Country: </b>%{customdata}<br><br><b>Index value: </b>%{z}",
          "<b>Country: </b>%{customdata}<br><br><b>Index value: </b>%{z}",
          "<b>Country: </b> %{customdata}<br><br>No data available",
          "<b>Country: </b>%{customdata}<br><br><b>Index value: </b>%{z}",
          "<b>Country: </b>%{customdata}<br><br><b>Index value: </b>%{z}",
          "<b>Country: </b>%{customdata}<br><br><b>Index value: </b>%{z}",
          "<b>Country: </b>%{customdata}<br><br><b>Index value: </b>%{z}",
          "<b>Country: </b>%{customdata}<br><br><b>Index value: </b>%{z}",
          "<b>Country: </b> %{customdata}<br><br>No data available",
          "<b>Country: </b>%{customdata}<br><br><b>Index value: </b>%{z}",
          "<b>Country: </b>%{customdata}<br><br><b>Index value: </b>%{z}",
          "<b>Country: </b>%{customdata}<br><br><b>Index value: </b>%{z}",
          "<b>Country: </b>%{customdata}<br><br><b>Index value: </b>%{z}",
          "<b>Country: </b>%{customdata}<br><br><b>Index value: </b>%{z}",
          "<b>Country: </b>%{customdata}<br><br><b>Index value: </b>%{z}",
          "<b>Country: </b>%{customdata}<br><br><b>Index value: </b>%{z}",
          "<b>Country: </b>%{customdata}<br><br><b>Index value: </b>%{z}",
          "<b>Country: </b>%{customdata}<br><br><b>Index value: </b>%{z}",
          "<b>Country: </b>%{customdata}<br><br><b>Index value: </b>%{z}",
          "<b>Country: </b>%{customdata}<br><br><b>Index value: </b>%{z}",
          "<b>Country: </b>%{customdata}<br><br><b>Index value: </b>%{z}",
          "<b>Country: </b>%{customdata}<br><br><b>Index value: </b>%{z}",
          "<b>Country: </b>%{customdata}<br><br><b>Index value: </b>%{z}",
          "<b>Country: </b>%{customdata}<br><br><b>Index value: </b>%{z}",
          "<b>Country: </b>%{customdata}<br><br><b>Index value: </b>%{z}",
          "<b>Country: </b>%{customdata}<br><br><b>Index value: </b>%{z}",
          "<b>Country: </b>%{customdata}<br><br><b>Index value: </b>%{z}",
          "<b>Country: </b>%{customdata}<br><br><b>Index value: </b>%{z}",
          "<b>Country: </b>%{customdata}<br><br><b>Index value: </b>%{z}",
          "<b>Country: </b>%{customdata}<br><br><b>Index value: </b>%{z}",
          "<b>Country: </b>%{customdata}<br><br><b>Index value: </b>%{z}",
          "<b>Country: </b>%{customdata}<br><br><b>Index value: </b>%{z}",
          "<b>Country: </b>%{customdata}<br><br><b>Index value: </b>%{z}",
          "<b>Country: </b>%{customdata}<br><br><b>Index value: </b>%{z}",
          "<b>Country: </b>%{customdata}<br><br><b>Index value: </b>%{z}",
          "<b>Country: </b>%{customdata}<br><br><b>Index value: </b>%{z}",
          "<b>Country: </b>%{customdata}<br><br><b>Index value: </b>%{z}",
          "<b>Country: </b>%{customdata}<br><br><b>Index value: </b>%{z}",
          "<b>Country: </b>%{customdata}<br><br><b>Index value: </b>%{z}",
          "<b>Country: </b>%{customdata}<br><br><b>Index value: </b>%{z}",
          "<b>Country: </b> %{customdata}<br><br>No data available",
          "<b>Country: </b>%{customdata}<br><br><b>Index value: </b>%{z}",
          "<b>Country: </b>%{customdata}<br><br><b>Index value: </b>%{z}",
          "<b>Country: </b>%{customdata}<br><br><b>Index value: </b>%{z}",
          "<b>Country: </b>%{customdata}<br><br><b>Index value: </b>%{z}",
          "<b>Country: </b>%{customdata}<br><br><b>Index value: </b>%{z}",
          "<b>Country: </b> %{customdata}<br><br>No data available",
          "<b>Country: </b>%{customdata}<br><br><b>Index value: </b>%{z}",
          "<b>Country: </b>%{customdata}<br><br><b>Index value: </b>%{z}",
          "<b>Country: </b>%{customdata}<br><br><b>Index value: </b>%{z}",
          "<b>Country: </b>%{customdata}<br><br><b>Index value: </b>%{z}",
          "<b>Country: </b>%{customdata}<br><br><b>Index value: </b>%{z}",
          "<b>Country: </b>%{customdata}<br><br><b>Index value: </b>%{z}",
          "<b>Country: </b>%{customdata}<br><br><b>Index value: </b>%{z}",
          "<b>Country: </b>%{customdata}<br><br><b>Index value: </b>%{z}",
          "<b>Country: </b>%{customdata}<br><br><b>Index value: </b>%{z}",
          "<b>Country: </b>%{customdata}<br><br><b>Index value: </b>%{z}",
          "<b>Country: </b>%{customdata}<br><br><b>Index value: </b>%{z}",
          "<b>Country: </b>%{customdata}<br><br><b>Index value: </b>%{z}",
          "<b>Country: </b>%{customdata}<br><br><b>Index value: </b>%{z}",
          "<b>Country: </b>%{customdata}<br><br><b>Index value: </b>%{z}",
          "<b>Country: </b>%{customdata}<br><br><b>Index value: </b>%{z}",
          "<b>Country: </b>%{customdata}<br><br><b>Index value: </b>%{z}",
          "<b>Country: </b>%{customdata}<br><br><b>Index value: </b>%{z}",
          "<b>Country: </b>%{customdata}<br><br><b>Index value: </b>%{z}",
          "<b>Country: </b>%{customdata}<br><br><b>Index value: </b>%{z}",
          "<b>Country: </b>%{customdata}<br><br><b>Index value: </b>%{z}",
          "<b>Country: </b>%{customdata}<br><br><b>Index value: </b>%{z}",
          "<b>Country: </b>%{customdata}<br><br><b>Index value: </b>%{z}",
          "<b>Country: </b>%{customdata}<br><br><b>Index value: </b>%{z}",
          "<b>Country: </b>%{customdata}<br><br><b>Index value: </b>%{z}",
          "<b>Country: </b>%{customdata}<br><br><b>Index value: </b>%{z}",
          "<b>Country: </b>%{customdata}<br><br><b>Index value: </b>%{z}",
          "<b>Country: </b>%{customdata}<br><br><b>Index value: </b>%{z}",
          "<b>Country: </b>%{customdata}<br><br><b>Index value: </b>%{z}",
          "<b>Country: </b>%{customdata}<br><br><b>Index value: </b>%{z}",
          "<b>Country: </b>%{customdata}<br><br><b>Index value: </b>%{z}",
          "<b>Country: </b>%{customdata}<br><br><b>Index value: </b>%{z}",
          "<b>Country: </b> %{customdata}<br><br>No data available",
          "<b>Country: </b>%{customdata}<br><br><b>Index value: </b>%{z}",
          "<b>Country: </b>%{customdata}<br><br><b>Index value: </b>%{z}",
          "<b>Country: </b>%{customdata}<br><br><b>Index value: </b>%{z}",
          "<b>Country: </b>%{customdata}<br><br><b>Index value: </b>%{z}",
          "<b>Country: </b>%{customdata}<br><br><b>Index value: </b>%{z}",
          "<b>Country: </b> %{customdata}<br><br>No data available",
          "<b>Country: </b>%{customdata}<br><br><b>Index value: </b>%{z}",
          "<b>Country: </b>%{customdata}<br><br><b>Index value: </b>%{z}",
          "<b>Country: </b>%{customdata}<br><br><b>Index value: </b>%{z}",
          "<b>Country: </b>%{customdata}<br><br><b>Index value: </b>%{z}",
          "<b>Country: </b>%{customdata}<br><br><b>Index value: </b>%{z}",
          "<b>Country: </b>%{customdata}<br><br><b>Index value: </b>%{z}",
          "<b>Country: </b>%{customdata}<br><br><b>Index value: </b>%{z}",
          "<b>Country: </b>%{customdata}<br><br><b>Index value: </b>%{z}",
          "<b>Country: </b>%{customdata}<br><br><b>Index value: </b>%{z}",
          "<b>Country: </b>%{customdata}<br><br><b>Index value: </b>%{z}",
          "<b>Country: </b>%{customdata}<br><br><b>Index value: </b>%{z}",
          "<b>Country: </b>%{customdata}<br><br><b>Index value: </b>%{z}",
          "<b>Country: </b>%{customdata}<br><br><b>Index value: </b>%{z}",
          "<b>Country: </b>%{customdata}<br><br><b>Index value: </b>%{z}",
          "<b>Country: </b>%{customdata}<br><br><b>Index value: </b>%{z}",
          "<b>Country: </b>%{customdata}<br><br><b>Index value: </b>%{z}",
          "<b>Country: </b>%{customdata}<br><br><b>Index value: </b>%{z}",
          "<b>Country: </b>%{customdata}<br><br><b>Index value: </b>%{z}",
          "<b>Country: </b>%{customdata}<br><br><b>Index value: </b>%{z}",
          "<b>Country: </b>%{customdata}<br><br><b>Index value: </b>%{z}",
          "<b>Country: </b>%{customdata}<br><br><b>Index value: </b>%{z}",
          "<b>Country: </b>%{customdata}<br><br><b>Index value: </b>%{z}",
          "<b>Country: </b>%{customdata}<br><br><b>Index value: </b>%{z}",
          "<b>Country: </b>%{customdata}<br><br><b>Index value: </b>%{z}",
          "<b>Country: </b>%{customdata}<br><br><b>Index value: </b>%{z}",
          "<b>Country: </b>%{customdata}<br><br><b>Index value: </b>%{z}",
          "<b>Country: </b>%{customdata}<br><br><b>Index value: </b>%{z}",
          "<b>Country: </b>%{customdata}<br><br><b>Index value: </b>%{z}",
          "<b>Country: </b>%{customdata}<br><br><b>Index value: </b>%{z}",
          "<b>Country: </b>%{customdata}<br><br><b>Index value: </b>%{z}",
          "<b>Country: </b>%{customdata}<br><br><b>Index value: </b>%{z}",
          "<b>Country: </b> %{customdata}<br><br>No data available",
          "<b>Country: </b>%{customdata}<br><br><b>Index value: </b>%{z}",
          "<b>Country: </b>%{customdata}<br><br><b>Index value: </b>%{z}",
          "<b>Country: </b>%{customdata}<br><br><b>Index value: </b>%{z}",
          "<b>Country: </b>%{customdata}<br><br><b>Index value: </b>%{z}",
          "<b>Country: </b>%{customdata}<br><br><b>Index value: </b>%{z}",
          "<b>Country: </b> %{customdata}<br><br>No data available",
          "<b>Country: </b>%{customdata}<br><br><b>Index value: </b>%{z}",
          "<b>Country: </b>%{customdata}<br><br><b>Index value: </b>%{z}",
          "<b>Country: </b>%{customdata}<br><br><b>Index value: </b>%{z}",
          "<b>Country: </b>%{customdata}<br><br><b>Index value: </b>%{z}",
          "<b>Country: </b>%{customdata}<br><br><b>Index value: </b>%{z}",
          "<b>Country: </b>%{customdata}<br><br><b>Index value: </b>%{z}",
          "<b>Country: </b>%{customdata}<br><br><b>Index value: </b>%{z}",
          "<b>Country: </b>%{customdata}<br><br><b>Index value: </b>%{z}",
          "<b>Country: </b>%{customdata}<br><br><b>Index value: </b>%{z}",
          "<b>Country: </b>%{customdata}<br><br><b>Index value: </b>%{z}",
          "<b>Country: </b>%{customdata}<br><br><b>Index value: </b>%{z}",
          "<b>Country: </b>%{customdata}<br><br><b>Index value: </b>%{z}",
          "<b>Country: </b>%{customdata}<br><br><b>Index value: </b>%{z}",
          "<b>Country: </b>%{customdata}<br><br><b>Index value: </b>%{z}",
          "<b>Country: </b>%{customdata}<br><br><b>Index value: </b>%{z}",
          "<b>Country: </b>%{customdata}<br><br><b>Index value: </b>%{z}",
          "<b>Country: </b>%{customdata}<br><br><b>Index value: </b>%{z}",
          "<b>Country: </b>%{customdata}<br><br><b>Index value: </b>%{z}",
          "<b>Country: </b>%{customdata}<br><br><b>Index value: </b>%{z}",
          "<b>Country: </b>%{customdata}<br><br><b>Index value: </b>%{z}",
          "<b>Country: </b>%{customdata}<br><br><b>Index value: </b>%{z}",
          "<b>Country: </b>%{customdata}<br><br><b>Index value: </b>%{z}",
          "<b>Country: </b>%{customdata}<br><br><b>Index value: </b>%{z}",
          "<b>Country: </b>%{customdata}<br><br><b>Index value: </b>%{z}",
          "<b>Country: </b>%{customdata}<br><br><b>Index value: </b>%{z}",
          "<b>Country: </b>%{customdata}<br><br><b>Index value: </b>%{z}",
          "<b>Country: </b>%{customdata}<br><br><b>Index value: </b>%{z}",
          "<b>Country: </b>%{customdata}<br><br><b>Index value: </b>%{z}",
          "<b>Country: </b>%{customdata}<br><br><b>Index value: </b>%{z}",
          "<b>Country: </b>%{customdata}<br><br><b>Index value: </b>%{z}",
          "<b>Country: </b>%{customdata}<br><br><b>Index value: </b>%{z}",
          "<b>Country: </b> %{customdata}<br><br>No data available",
          "<b>Country: </b>%{customdata}<br><br><b>Index value: </b>%{z}",
          "<b>Country: </b>%{customdata}<br><br><b>Index value: </b>%{z}",
          "<b>Country: </b>%{customdata}<br><br><b>Index value: </b>%{z}",
          "<b>Country: </b>%{customdata}<br><br><b>Index value: </b>%{z}",
          "<b>Country: </b>%{customdata}<br><br><b>Index value: </b>%{z}",
          "<b>Country: </b> %{customdata}<br><br>No data available",
          "<b>Country: </b>%{customdata}<br><br><b>Index value: </b>%{z}",
          "<b>Country: </b>%{customdata}<br><br><b>Index value: </b>%{z}",
          "<b>Country: </b>%{customdata}<br><br><b>Index value: </b>%{z}",
          "<b>Country: </b>%{customdata}<br><br><b>Index value: </b>%{z}",
          "<b>Country: </b>%{customdata}<br><br><b>Index value: </b>%{z}",
          "<b>Country: </b>%{customdata}<br><br><b>Index value: </b>%{z}",
          "<b>Country: </b>%{customdata}<br><br><b>Index value: </b>%{z}",
          "<b>Country: </b>%{customdata}<br><br><b>Index value: </b>%{z}",
          "<b>Country: </b>%{customdata}<br><br><b>Index value: </b>%{z}",
          "<b>Country: </b>%{customdata}<br><br><b>Index value: </b>%{z}",
          "<b>Country: </b>%{customdata}<br><br><b>Index value: </b>%{z}",
          "<b>Country: </b>%{customdata}<br><br><b>Index value: </b>%{z}",
          "<b>Country: </b>%{customdata}<br><br><b>Index value: </b>%{z}",
          "<b>Country: </b>%{customdata}<br><br><b>Index value: </b>%{z}",
          "<b>Country: </b>%{customdata}<br><br><b>Index value: </b>%{z}",
          "<b>Country: </b>%{customdata}<br><br><b>Index value: </b>%{z}",
          "<b>Country: </b>%{customdata}<br><br><b>Index value: </b>%{z}",
          "<b>Country: </b>%{customdata}<br><br><b>Index value: </b>%{z}",
          "<b>Country: </b>%{customdata}<br><br><b>Index value: </b>%{z}",
          "<b>Country: </b>%{customdata}<br><br><b>Index value: </b>%{z}",
          "<b>Country: </b>%{customdata}<br><br><b>Index value: </b>%{z}",
          "<b>Country: </b>%{customdata}<br><br><b>Index value: </b>%{z}",
          "<b>Country: </b>%{customdata}<br><br><b>Index value: </b>%{z}",
          "<b>Country: </b>%{customdata}<br><br><b>Index value: </b>%{z}",
          "<b>Country: </b>%{customdata}<br><br><b>Index value: </b>%{z}",
          "<b>Country: </b>%{customdata}<br><br><b>Index value: </b>%{z}",
          "<b>Country: </b>%{customdata}<br><br><b>Index value: </b>%{z}",
          "<b>Country: </b>%{customdata}<br><br><b>Index value: </b>%{z}",
          "<b>Country: </b>%{customdata}<br><br><b>Index value: </b>%{z}",
          "<b>Country: </b>%{customdata}<br><br><b>Index value: </b>%{z}",
          "<b>Country: </b>%{customdata}<br><br><b>Index value: </b>%{z}",
          "<b>Country: </b> %{customdata}<br><br>No data available",
          "<b>Country: </b>%{customdata}<br><br><b>Index value: </b>%{z}",
          "<b>Country: </b>%{customdata}<br><br><b>Index value: </b>%{z}",
          "<b>Country: </b>%{customdata}<br><br><b>Index value: </b>%{z}",
          "<b>Country: </b>%{customdata}<br><br><b>Index value: </b>%{z}",
          "<b>Country: </b>%{customdata}<br><br><b>Index value: </b>%{z}",
          "<b>Country: </b> %{customdata}<br><br>No data available",
          "<b>Country: </b>%{customdata}<br><br><b>Index value: </b>%{z}",
          "<b>Country: </b>%{customdata}<br><br><b>Index value: </b>%{z}",
          "<b>Country: </b>%{customdata}<br><br><b>Index value: </b>%{z}",
          "<b>Country: </b>%{customdata}<br><br><b>Index value: </b>%{z}",
          "<b>Country: </b>%{customdata}<br><br><b>Index value: </b>%{z}",
          "<b>Country: </b>%{customdata}<br><br><b>Index value: </b>%{z}",
          "<b>Country: </b>%{customdata}<br><br><b>Index value: </b>%{z}",
          "<b>Country: </b>%{customdata}<br><br><b>Index value: </b>%{z}",
          "<b>Country: </b>%{customdata}<br><br><b>Index value: </b>%{z}",
          "<b>Country: </b>%{customdata}<br><br><b>Index value: </b>%{z}",
          "<b>Country: </b>%{customdata}<br><br><b>Index value: </b>%{z}",
          "<b>Country: </b>%{customdata}<br><br><b>Index value: </b>%{z}",
          "<b>Country: </b>%{customdata}<br><br><b>Index value: </b>%{z}",
          "<b>Country: </b>%{customdata}<br><br><b>Index value: </b>%{z}",
          "<b>Country: </b>%{customdata}<br><br><b>Index value: </b>%{z}",
          "<b>Country: </b>%{customdata}<br><br><b>Index value: </b>%{z}",
          "<b>Country: </b>%{customdata}<br><br><b>Index value: </b>%{z}",
          "<b>Country: </b>%{customdata}<br><br><b>Index value: </b>%{z}",
          "<b>Country: </b>%{customdata}<br><br><b>Index value: </b>%{z}",
          "<b>Country: </b>%{customdata}<br><br><b>Index value: </b>%{z}",
          "<b>Country: </b>%{customdata}<br><br><b>Index value: </b>%{z}",
          "<b>Country: </b>%{customdata}<br><br><b>Index value: </b>%{z}",
          "<b>Country: </b>%{customdata}<br><br><b>Index value: </b>%{z}",
          "<b>Country: </b>%{customdata}<br><br><b>Index value: </b>%{z}",
          "<b>Country: </b>%{customdata}<br><br><b>Index value: </b>%{z}",
          "<b>Country: </b>%{customdata}<br><br><b>Index value: </b>%{z}",
          "<b>Country: </b>%{customdata}<br><br><b>Index value: </b>%{z}",
          "<b>Country: </b>%{customdata}<br><br><b>Index value: </b>%{z}",
          "<b>Country: </b>%{customdata}<br><br><b>Index value: </b>%{z}",
          "<b>Country: </b>%{customdata}<br><br><b>Index value: </b>%{z}",
          "<b>Country: </b>%{customdata}<br><br><b>Index value: </b>%{z}",
          "<b>Country: </b> %{customdata}<br><br>No data available",
          "<b>Country: </b>%{customdata}<br><br><b>Index value: </b>%{z}",
          "<b>Country: </b>%{customdata}<br><br><b>Index value: </b>%{z}",
          "<b>Country: </b>%{customdata}<br><br><b>Index value: </b>%{z}",
          "<b>Country: </b>%{customdata}<br><br><b>Index value: </b>%{z}",
          "<b>Country: </b>%{customdata}<br><br><b>Index value: </b>%{z}",
          "<b>Country: </b> %{customdata}<br><br>No data available",
          "<b>Country: </b>%{customdata}<br><br><b>Index value: </b>%{z}",
          "<b>Country: </b>%{customdata}<br><br><b>Index value: </b>%{z}",
          "<b>Country: </b>%{customdata}<br><br><b>Index value: </b>%{z}",
          "<b>Country: </b>%{customdata}<br><br><b>Index value: </b>%{z}",
          "<b>Country: </b>%{customdata}<br><br><b>Index value: </b>%{z}",
          "<b>Country: </b>%{customdata}<br><br><b>Index value: </b>%{z}",
          "<b>Country: </b>%{customdata}<br><br><b>Index value: </b>%{z}",
          "<b>Country: </b>%{customdata}<br><br><b>Index value: </b>%{z}",
          "<b>Country: </b>%{customdata}<br><br><b>Index value: </b>%{z}",
          "<b>Country: </b>%{customdata}<br><br><b>Index value: </b>%{z}",
          "<b>Country: </b>%{customdata}<br><br><b>Index value: </b>%{z}",
          "<b>Country: </b>%{customdata}<br><br><b>Index value: </b>%{z}",
          "<b>Country: </b>%{customdata}<br><br><b>Index value: </b>%{z}",
          "<b>Country: </b>%{customdata}<br><br><b>Index value: </b>%{z}",
          "<b>Country: </b>%{customdata}<br><br><b>Index value: </b>%{z}",
          "<b>Country: </b>%{customdata}<br><br><b>Index value: </b>%{z}",
          "<b>Country: </b>%{customdata}<br><br><b>Index value: </b>%{z}",
          "<b>Country: </b>%{customdata}<br><br><b>Index value: </b>%{z}",
          "<b>Country: </b>%{customdata}<br><br><b>Index value: </b>%{z}",
          "<b>Country: </b>%{customdata}<br><br><b>Index value: </b>%{z}",
          "<b>Country: </b>%{customdata}<br><br><b>Index value: </b>%{z}",
          "<b>Country: </b>%{customdata}<br><br><b>Index value: </b>%{z}",
          "<b>Country: </b>%{customdata}<br><br><b>Index value: </b>%{z}",
          "<b>Country: </b>%{customdata}<br><br><b>Index value: </b>%{z}",
          "<b>Country: </b>%{customdata}<br><br><b>Index value: </b>%{z}",
          "<b>Country: </b>%{customdata}<br><br><b>Index value: </b>%{z}",
          "<b>Country: </b>%{customdata}<br><br><b>Index value: </b>%{z}",
          "<b>Country: </b>%{customdata}<br><br><b>Index value: </b>%{z}",
          "<b>Country: </b>%{customdata}<br><br><b>Index value: </b>%{z}",
          "<b>Country: </b>%{customdata}<br><br><b>Index value: </b>%{z}",
          "<b>Country: </b>%{customdata}<br><br><b>Index value: </b>%{z}",
          "<b>Country: </b> %{customdata}<br><br>No data available",
          "<b>Country: </b>%{customdata}<br><br><b>Index value: </b>%{z}",
          "<b>Country: </b>%{customdata}<br><br><b>Index value: </b>%{z}",
          "<b>Country: </b>%{customdata}<br><br><b>Index value: </b>%{z}",
          "<b>Country: </b>%{customdata}<br><br><b>Index value: </b>%{z}",
          "<b>Country: </b>%{customdata}<br><br><b>Index value: </b>%{z}",
          "<b>Country: </b> %{customdata}<br><br>No data available",
          "<b>Country: </b>%{customdata}<br><br><b>Index value: </b>%{z}",
          "<b>Country: </b>%{customdata}<br><br><b>Index value: </b>%{z}",
          "<b>Country: </b>%{customdata}<br><br><b>Index value: </b>%{z}",
          "<b>Country: </b>%{customdata}<br><br><b>Index value: </b>%{z}",
          "<b>Country: </b>%{customdata}<br><br><b>Index value: </b>%{z}",
          "<b>Country: </b>%{customdata}<br><br><b>Index value: </b>%{z}",
          "<b>Country: </b>%{customdata}<br><br><b>Index value: </b>%{z}",
          "<b>Country: </b>%{customdata}<br><br><b>Index value: </b>%{z}",
          "<b>Country: </b>%{customdata}<br><br><b>Index value: </b>%{z}",
          "<b>Country: </b>%{customdata}<br><br><b>Index value: </b>%{z}",
          "<b>Country: </b>%{customdata}<br><br><b>Index value: </b>%{z}",
          "<b>Country: </b>%{customdata}<br><br><b>Index value: </b>%{z}",
          "<b>Country: </b>%{customdata}<br><br><b>Index value: </b>%{z}",
          "<b>Country: </b>%{customdata}<br><br><b>Index value: </b>%{z}",
          "<b>Country: </b>%{customdata}<br><br><b>Index value: </b>%{z}",
          "<b>Country: </b>%{customdata}<br><br><b>Index value: </b>%{z}",
          "<b>Country: </b>%{customdata}<br><br><b>Index value: </b>%{z}",
          "<b>Country: </b>%{customdata}<br><br><b>Index value: </b>%{z}",
          "<b>Country: </b>%{customdata}<br><br><b>Index value: </b>%{z}",
          "<b>Country: </b>%{customdata}<br><br><b>Index value: </b>%{z}",
          "<b>Country: </b>%{customdata}<br><br><b>Index value: </b>%{z}",
          "<b>Country: </b>%{customdata}<br><br><b>Index value: </b>%{z}",
          "<b>Country: </b>%{customdata}<br><br><b>Index value: </b>%{z}",
          "<b>Country: </b>%{customdata}<br><br><b>Index value: </b>%{z}",
          "<b>Country: </b>%{customdata}<br><br><b>Index value: </b>%{z}",
          "<b>Country: </b>%{customdata}<br><br><b>Index value: </b>%{z}",
          "<b>Country: </b>%{customdata}<br><br><b>Index value: </b>%{z}",
          "<b>Country: </b>%{customdata}<br><br><b>Index value: </b>%{z}",
          "<b>Country: </b>%{customdata}<br><br><b>Index value: </b>%{z}",
          "<b>Country: </b>%{customdata}<br><br><b>Index value: </b>%{z}",
          "<b>Country: </b>%{customdata}<br><br><b>Index value: </b>%{z}",
          "<b>Country: </b> %{customdata}<br><br>No data available",
          "<b>Country: </b>%{customdata}<br><br><b>Index value: </b>%{z}",
          "<b>Country: </b>%{customdata}<br><br><b>Index value: </b>%{z}",
          "<b>Country: </b>%{customdata}<br><br><b>Index value: </b>%{z}",
          "<b>Country: </b>%{customdata}<br><br><b>Index value: </b>%{z}",
          "<b>Country: </b>%{customdata}<br><br><b>Index value: </b>%{z}",
          "<b>Country: </b> %{customdata}<br><br>No data available",
          "<b>Country: </b>%{customdata}<br><br><b>Index value: </b>%{z}",
          "<b>Country: </b>%{customdata}<br><br><b>Index value: </b>%{z}",
          "<b>Country: </b>%{customdata}<br><br><b>Index value: </b>%{z}",
          "<b>Country: </b>%{customdata}<br><br><b>Index value: </b>%{z}",
          "<b>Country: </b>%{customdata}<br><br><b>Index value: </b>%{z}",
          "<b>Country: </b>%{customdata}<br><br><b>Index value: </b>%{z}",
          "<b>Country: </b>%{customdata}<br><br><b>Index value: </b>%{z}",
          "<b>Country: </b>%{customdata}<br><br><b>Index value: </b>%{z}",
          "<b>Country: </b>%{customdata}<br><br><b>Index value: </b>%{z}",
          "<b>Country: </b>%{customdata}<br><br><b>Index value: </b>%{z}",
          "<b>Country: </b>%{customdata}<br><br><b>Index value: </b>%{z}",
          "<b>Country: </b>%{customdata}<br><br><b>Index value: </b>%{z}",
          "<b>Country: </b>%{customdata}<br><br><b>Index value: </b>%{z}",
          "<b>Country: </b>%{customdata}<br><br><b>Index value: </b>%{z}",
          "<b>Country: </b>%{customdata}<br><br><b>Index value: </b>%{z}",
          "<b>Country: </b>%{customdata}<br><br><b>Index value: </b>%{z}",
          "<b>Country: </b>%{customdata}<br><br><b>Index value: </b>%{z}",
          "<b>Country: </b>%{customdata}<br><br><b>Index value: </b>%{z}",
          "<b>Country: </b>%{customdata}<br><br><b>Index value: </b>%{z}",
          "<b>Country: </b>%{customdata}<br><br><b>Index value: </b>%{z}",
          "<b>Country: </b>%{customdata}<br><br><b>Index value: </b>%{z}",
          "<b>Country: </b>%{customdata}<br><br><b>Index value: </b>%{z}",
          "<b>Country: </b>%{customdata}<br><br><b>Index value: </b>%{z}",
          "<b>Country: </b>%{customdata}<br><br><b>Index value: </b>%{z}",
          "<b>Country: </b>%{customdata}<br><br><b>Index value: </b>%{z}",
          "<b>Country: </b>%{customdata}<br><br><b>Index value: </b>%{z}",
          "<b>Country: </b>%{customdata}<br><br><b>Index value: </b>%{z}",
          "<b>Country: </b>%{customdata}<br><br><b>Index value: </b>%{z}",
          "<b>Country: </b>%{customdata}<br><br><b>Index value: </b>%{z}",
          "<b>Country: </b>%{customdata}<br><br><b>Index value: </b>%{z}",
          "<b>Country: </b>%{customdata}<br><br><b>Index value: </b>%{z}",
          "<b>Country: </b> %{customdata}<br><br>No data available",
          "<b>Country: </b>%{customdata}<br><br><b>Index value: </b>%{z}",
          "<b>Country: </b>%{customdata}<br><br><b>Index value: </b>%{z}",
          "<b>Country: </b>%{customdata}<br><br><b>Index value: </b>%{z}",
          "<b>Country: </b>%{customdata}<br><br><b>Index value: </b>%{z}",
          "<b>Country: </b>%{customdata}<br><br><b>Index value: </b>%{z}",
          "<b>Country: </b> %{customdata}<br><br>No data available",
          "<b>Country: </b>%{customdata}<br><br><b>Index value: </b>%{z}",
          "<b>Country: </b>%{customdata}<br><br><b>Index value: </b>%{z}",
          "<b>Country: </b>%{customdata}<br><br><b>Index value: </b>%{z}",
          "<b>Country: </b>%{customdata}<br><br><b>Index value: </b>%{z}",
          "<b>Country: </b>%{customdata}<br><br><b>Index value: </b>%{z}",
          "<b>Country: </b>%{customdata}<br><br><b>Index value: </b>%{z}",
          "<b>Country: </b>%{customdata}<br><br><b>Index value: </b>%{z}",
          "<b>Country: </b>%{customdata}<br><br><b>Index value: </b>%{z}",
          "<b>Country: </b>%{customdata}<br><br><b>Index value: </b>%{z}",
          "<b>Country: </b>%{customdata}<br><br><b>Index value: </b>%{z}",
          "<b>Country: </b>%{customdata}<br><br><b>Index value: </b>%{z}",
          "<b>Country: </b>%{customdata}<br><br><b>Index value: </b>%{z}",
          "<b>Country: </b>%{customdata}<br><br><b>Index value: </b>%{z}",
          "<b>Country: </b>%{customdata}<br><br><b>Index value: </b>%{z}",
          "<b>Country: </b>%{customdata}<br><br><b>Index value: </b>%{z}",
          "<b>Country: </b>%{customdata}<br><br><b>Index value: </b>%{z}",
          "<b>Country: </b>%{customdata}<br><br><b>Index value: </b>%{z}",
          "<b>Country: </b>%{customdata}<br><br><b>Index value: </b>%{z}",
          "<b>Country: </b>%{customdata}<br><br><b>Index value: </b>%{z}",
          "<b>Country: </b>%{customdata}<br><br><b>Index value: </b>%{z}",
          "<b>Country: </b>%{customdata}<br><br><b>Index value: </b>%{z}",
          "<b>Country: </b>%{customdata}<br><br><b>Index value: </b>%{z}",
          "<b>Country: </b>%{customdata}<br><br><b>Index value: </b>%{z}",
          "<b>Country: </b>%{customdata}<br><br><b>Index value: </b>%{z}",
          "<b>Country: </b>%{customdata}<br><br><b>Index value: </b>%{z}",
          "<b>Country: </b>%{customdata}<br><br><b>Index value: </b>%{z}",
          "<b>Country: </b>%{customdata}<br><br><b>Index value: </b>%{z}",
          "<b>Country: </b>%{customdata}<br><br><b>Index value: </b>%{z}",
          "<b>Country: </b>%{customdata}<br><br><b>Index value: </b>%{z}",
          "<b>Country: </b>%{customdata}<br><br><b>Index value: </b>%{z}",
          "<b>Country: </b>%{customdata}<br><br><b>Index value: </b>%{z}",
          "<b>Country: </b> %{customdata}<br><br>No data available",
          "<b>Country: </b>%{customdata}<br><br><b>Index value: </b>%{z}",
          "<b>Country: </b>%{customdata}<br><br><b>Index value: </b>%{z}",
          "<b>Country: </b> %{customdata}<br><br>No data available",
          "<b>Country: </b>%{customdata}<br><br><b>Index value: </b>%{z}",
          "<b>Country: </b>%{customdata}<br><br><b>Index value: </b>%{z}",
          "<b>Country: </b> %{customdata}<br><br>No data available",
          "<b>Country: </b>%{customdata}<br><br><b>Index value: </b>%{z}",
          "<b>Country: </b>%{customdata}<br><br><b>Index value: </b>%{z}",
          "<b>Country: </b>%{customdata}<br><br><b>Index value: </b>%{z}",
          "<b>Country: </b>%{customdata}<br><br><b>Index value: </b>%{z}",
          "<b>Country: </b>%{customdata}<br><br><b>Index value: </b>%{z}",
          "<b>Country: </b>%{customdata}<br><br><b>Index value: </b>%{z}",
          "<b>Country: </b>%{customdata}<br><br><b>Index value: </b>%{z}",
          "<b>Country: </b>%{customdata}<br><br><b>Index value: </b>%{z}",
          "<b>Country: </b>%{customdata}<br><br><b>Index value: </b>%{z}",
          "<b>Country: </b>%{customdata}<br><br><b>Index value: </b>%{z}",
          "<b>Country: </b>%{customdata}<br><br><b>Index value: </b>%{z}",
          "<b>Country: </b>%{customdata}<br><br><b>Index value: </b>%{z}",
          "<b>Country: </b>%{customdata}<br><br><b>Index value: </b>%{z}",
          "<b>Country: </b>%{customdata}<br><br><b>Index value: </b>%{z}",
          "<b>Country: </b>%{customdata}<br><br><b>Index value: </b>%{z}",
          "<b>Country: </b>%{customdata}<br><br><b>Index value: </b>%{z}",
          "<b>Country: </b>%{customdata}<br><br><b>Index value: </b>%{z}",
          "<b>Country: </b>%{customdata}<br><br><b>Index value: </b>%{z}",
          "<b>Country: </b>%{customdata}<br><br><b>Index value: </b>%{z}",
          "<b>Country: </b>%{customdata}<br><br><b>Index value: </b>%{z}",
          "<b>Country: </b>%{customdata}<br><br><b>Index value: </b>%{z}",
          "<b>Country: </b>%{customdata}<br><br><b>Index value: </b>%{z}",
          "<b>Country: </b>%{customdata}<br><br><b>Index value: </b>%{z}",
          "<b>Country: </b>%{customdata}<br><br><b>Index value: </b>%{z}",
          "<b>Country: </b>%{customdata}<br><br><b>Index value: </b>%{z}",
          "<b>Country: </b>%{customdata}<br><br><b>Index value: </b>%{z}",
          "<b>Country: </b>%{customdata}<br><br><b>Index value: </b>%{z}",
          "<b>Country: </b>%{customdata}<br><br><b>Index value: </b>%{z}",
          "<b>Country: </b>%{customdata}<br><br><b>Index value: </b>%{z}",
          "<b>Country: </b>%{customdata}<br><br><b>Index value: </b>%{z}",
          "<b>Country: </b>%{customdata}<br><br><b>Index value: </b>%{z}",
          "<b>Country: </b> %{customdata}<br><br>No data available",
          "<b>Country: </b>%{customdata}<br><br><b>Index value: </b>%{z}",
          "<b>Country: </b>%{customdata}<br><br><b>Index value: </b>%{z}",
          "<b>Country: </b> %{customdata}<br><br>No data available",
          "<b>Country: </b>%{customdata}<br><br><b>Index value: </b>%{z}",
          "<b>Country: </b>%{customdata}<br><br><b>Index value: </b>%{z}",
          "<b>Country: </b> %{customdata}<br><br>No data available",
          "<b>Country: </b>%{customdata}<br><br><b>Index value: </b>%{z}",
          "<b>Country: </b>%{customdata}<br><br><b>Index value: </b>%{z}"
         ],
         "hovertext": [
          "EU",
          "Belgium",
          "Bulgaria",
          "Czech Republic",
          "Denmark",
          "Germany",
          "Estonia",
          "Ireland",
          "Greece",
          "Spain",
          "France",
          "Croatia",
          "Italy",
          "Cyprus",
          "Latvia",
          "Lithuania",
          "Luxembourg",
          "Hungary",
          "Malta",
          "Netherlands",
          "Austria",
          "Poland",
          "Portugal",
          "Romania",
          "Slovenia",
          "Slovakia",
          "Finland",
          "Sweden",
          "Iceland",
          "Liechtenstein",
          "Norway",
          "Switzerland",
          "United Kingdom",
          "Montenegro",
          "North Macedonia",
          "Albania",
          "Serbia",
          "Turkey"
         ],
         "ids": [
          "EU",
          "Belgium",
          "Bulgaria",
          "Czech Republic",
          "Denmark",
          "Germany",
          "Estonia",
          "Ireland",
          "Greece",
          "Spain",
          "France",
          "Croatia",
          "Italy",
          "Cyprus",
          "Latvia",
          "Lithuania",
          "Luxembourg",
          "Hungary",
          "Malta",
          "Netherlands",
          "Austria",
          "Poland",
          "Portugal",
          "Romania",
          "Slovenia",
          "Slovakia",
          "Finland",
          "Sweden",
          "Iceland",
          "Liechtenstein",
          "Norway",
          "Switzerland",
          "United Kingdom",
          "Montenegro",
          "North Macedonia",
          "Albania",
          "Serbia",
          "Turkey"
         ],
         "locations": [
          null,
          "BEL",
          "BGR",
          "CZE",
          "DNK",
          "DEU",
          "EST",
          "IRL",
          "GRC",
          "ESP",
          "FRA",
          "HRV",
          "ITA",
          "CYP",
          "LVA",
          "LTU",
          "LUX",
          "HUN",
          "MLT",
          "NLD",
          "AUT",
          "POL",
          "PRT",
          "ROU",
          "SVN",
          "SVK",
          "FIN",
          "SWE",
          "ISL",
          "LIE",
          "NOR",
          "CHE",
          "GBR",
          "MNE",
          "MKD",
          "ALB",
          "SRB",
          "TUR"
         ],
         "name": "",
         "z": [
          103.7,
          114.1,
          91.5,
          101.2,
          98.7,
          101.4,
          95.1,
          128.7,
          82.6,
          106.3,
          108.7,
          99.2,
          99.4,
          86.9,
          111.3,
          153.4,
          98.1,
          108.1,
          115.5,
          106.9,
          97.0,
          112.5,
          95.9,
          96.3,
          99.9,
          107.6,
          98.2,
          98.5,
          101.5,
          0.0,
          100.4,
          115.3,
          108.4,
          108.8,
          75.1,
          0.0,
          110.8,
          110.7
         ],
         "type": "choropleth",
         "customdata": [
          "EU",
          "Belgium",
          "Bulgaria",
          "Czech Republic",
          "Denmark",
          "Germany",
          "Estonia",
          "Ireland",
          "Greece",
          "Spain",
          "France",
          "Croatia",
          "Italy",
          "Cyprus",
          "Latvia",
          "Lithuania",
          "Luxembourg",
          "Hungary",
          "Malta",
          "Netherlands",
          "Austria",
          "Poland",
          "Portugal",
          "Romania",
          "Slovenia",
          "Slovakia",
          "Finland",
          "Sweden",
          "Iceland",
          "Liechtenstein",
          "Norway",
          "Switzerland",
          "United Kingdom",
          "Montenegro",
          "North Macedonia",
          "Albania",
          "Serbia",
          "Turkey",
          "EU",
          "Belgium",
          "Bulgaria",
          "Czech Republic",
          "Denmark",
          "Germany",
          "Estonia",
          "Ireland",
          "Greece",
          "Spain",
          "France",
          "Croatia",
          "Italy",
          "Cyprus",
          "Latvia",
          "Lithuania",
          "Luxembourg",
          "Hungary",
          "Malta",
          "Netherlands",
          "Austria",
          "Poland",
          "Portugal",
          "Romania",
          "Slovenia",
          "Slovakia",
          "Finland",
          "Sweden",
          "Iceland",
          "Liechtenstein",
          "Norway",
          "Switzerland",
          "United Kingdom",
          "Montenegro",
          "North Macedonia",
          "Albania",
          "Serbia",
          "Turkey",
          "EU",
          "Belgium",
          "Bulgaria",
          "Czech Republic",
          "Denmark",
          "Germany",
          "Estonia",
          "Ireland",
          "Greece",
          "Spain",
          "France",
          "Croatia",
          "Italy",
          "Cyprus",
          "Latvia",
          "Lithuania",
          "Luxembourg",
          "Hungary",
          "Malta",
          "Netherlands",
          "Austria",
          "Poland",
          "Portugal",
          "Romania",
          "Slovenia",
          "Slovakia",
          "Finland",
          "Sweden",
          "Iceland",
          "Liechtenstein",
          "Norway",
          "Switzerland",
          "United Kingdom",
          "Montenegro",
          "North Macedonia",
          "Albania",
          "Serbia",
          "Turkey",
          "EU",
          "Belgium",
          "Bulgaria",
          "Czech Republic",
          "Denmark",
          "Germany",
          "Estonia",
          "Ireland",
          "Greece",
          "Spain",
          "France",
          "Croatia",
          "Italy",
          "Cyprus",
          "Latvia",
          "Lithuania",
          "Luxembourg",
          "Hungary",
          "Malta",
          "Netherlands",
          "Austria",
          "Poland",
          "Portugal",
          "Romania",
          "Slovenia",
          "Slovakia",
          "Finland",
          "Sweden",
          "Iceland",
          "Liechtenstein",
          "Norway",
          "Switzerland",
          "United Kingdom",
          "Montenegro",
          "North Macedonia",
          "Albania",
          "Serbia",
          "Turkey",
          "EU",
          "Belgium",
          "Bulgaria",
          "Czech Republic",
          "Denmark",
          "Germany",
          "Estonia",
          "Ireland",
          "Greece",
          "Spain",
          "France",
          "Croatia",
          "Italy",
          "Cyprus",
          "Latvia",
          "Lithuania",
          "Luxembourg",
          "Hungary",
          "Malta",
          "Netherlands",
          "Austria",
          "Poland",
          "Portugal",
          "Romania",
          "Slovenia",
          "Slovakia",
          "Finland",
          "Sweden",
          "Iceland",
          "Liechtenstein",
          "Norway",
          "Switzerland",
          "United Kingdom",
          "Montenegro",
          "North Macedonia",
          "Albania",
          "Serbia",
          "Turkey",
          "EU",
          "Belgium",
          "Bulgaria",
          "Czech Republic",
          "Denmark",
          "Germany",
          "Estonia",
          "Ireland",
          "Greece",
          "Spain",
          "France",
          "Croatia",
          "Italy",
          "Cyprus",
          "Latvia",
          "Lithuania",
          "Luxembourg",
          "Hungary",
          "Malta",
          "Netherlands",
          "Austria",
          "Poland",
          "Portugal",
          "Romania",
          "Slovenia",
          "Slovakia",
          "Finland",
          "Sweden",
          "Iceland",
          "Liechtenstein",
          "Norway",
          "Switzerland",
          "United Kingdom",
          "Montenegro",
          "North Macedonia",
          "Albania",
          "Serbia",
          "Turkey",
          "EU",
          "Belgium",
          "Bulgaria",
          "Czech Republic",
          "Denmark",
          "Germany",
          "Estonia",
          "Ireland",
          "Greece",
          "Spain",
          "France",
          "Croatia",
          "Italy",
          "Cyprus",
          "Latvia",
          "Lithuania",
          "Luxembourg",
          "Hungary",
          "Malta",
          "Netherlands",
          "Austria",
          "Poland",
          "Portugal",
          "Romania",
          "Slovenia",
          "Slovakia",
          "Finland",
          "Sweden",
          "Iceland",
          "Liechtenstein",
          "Norway",
          "Switzerland",
          "United Kingdom",
          "Montenegro",
          "North Macedonia",
          "Albania",
          "Serbia",
          "Turkey",
          "EU",
          "Belgium",
          "Bulgaria",
          "Czech Republic",
          "Denmark",
          "Germany",
          "Estonia",
          "Ireland",
          "Greece",
          "Spain",
          "France",
          "Croatia",
          "Italy",
          "Cyprus",
          "Latvia",
          "Lithuania",
          "Luxembourg",
          "Hungary",
          "Malta",
          "Netherlands",
          "Austria",
          "Poland",
          "Portugal",
          "Romania",
          "Slovenia",
          "Slovakia",
          "Finland",
          "Sweden",
          "Iceland",
          "Liechtenstein",
          "Norway",
          "Switzerland",
          "United Kingdom",
          "Montenegro",
          "North Macedonia",
          "Albania",
          "Serbia",
          "Turkey",
          "EU",
          "Belgium",
          "Bulgaria",
          "Czech Republic",
          "Denmark",
          "Germany",
          "Estonia",
          "Ireland",
          "Greece",
          "Spain",
          "France",
          "Croatia",
          "Italy",
          "Cyprus",
          "Latvia",
          "Lithuania",
          "Luxembourg",
          "Hungary",
          "Malta",
          "Netherlands",
          "Austria",
          "Poland",
          "Portugal",
          "Romania",
          "Slovenia",
          "Slovakia",
          "Finland",
          "Sweden",
          "Iceland",
          "Liechtenstein",
          "Norway",
          "Switzerland",
          "United Kingdom",
          "Montenegro",
          "North Macedonia",
          "Albania",
          "Serbia",
          "Turkey",
          "EU",
          "Belgium",
          "Bulgaria",
          "Czech Republic",
          "Denmark",
          "Germany",
          "Estonia",
          "Ireland",
          "Greece",
          "Spain",
          "France",
          "Croatia",
          "Italy",
          "Cyprus",
          "Latvia",
          "Lithuania",
          "Luxembourg",
          "Hungary",
          "Malta",
          "Netherlands",
          "Austria",
          "Poland",
          "Portugal",
          "Romania",
          "Slovenia",
          "Slovakia",
          "Finland",
          "Sweden",
          "Iceland",
          "Liechtenstein",
          "Norway",
          "Switzerland",
          "United Kingdom",
          "Montenegro",
          "North Macedonia",
          "Albania",
          "Serbia",
          "Turkey",
          "EU",
          "Belgium",
          "Bulgaria",
          "Czech Republic",
          "Denmark",
          "Germany",
          "Estonia",
          "Ireland",
          "Greece",
          "Spain",
          "France",
          "Croatia",
          "Italy",
          "Cyprus",
          "Latvia",
          "Lithuania",
          "Luxembourg",
          "Hungary",
          "Malta",
          "Netherlands",
          "Austria",
          "Poland",
          "Portugal",
          "Romania",
          "Slovenia",
          "Slovakia",
          "Finland",
          "Sweden",
          "Iceland",
          "Liechtenstein",
          "Norway",
          "Switzerland",
          "United Kingdom",
          "Montenegro",
          "North Macedonia",
          "Albania",
          "Serbia",
          "Turkey",
          "EU",
          "Belgium",
          "Bulgaria",
          "Czech Republic",
          "Denmark",
          "Germany",
          "Estonia",
          "Ireland",
          "Greece",
          "Spain",
          "France",
          "Croatia",
          "Italy",
          "Cyprus",
          "Latvia",
          "Lithuania",
          "Luxembourg",
          "Hungary",
          "Malta",
          "Netherlands",
          "Austria",
          "Poland",
          "Portugal",
          "Romania",
          "Slovenia",
          "Slovakia",
          "Finland",
          "Sweden",
          "Iceland",
          "Liechtenstein",
          "Norway",
          "Switzerland",
          "United Kingdom",
          "Montenegro",
          "North Macedonia",
          "Albania",
          "Serbia",
          "Turkey"
         ]
        }
       ],
       "layout": {
        "template": {
         "data": {
          "histogram2dcontour": [
           {
            "type": "histogram2dcontour",
            "colorbar": {
             "outlinewidth": 0,
             "ticks": ""
            },
            "colorscale": [
             [
              0.0,
              "#0d0887"
             ],
             [
              0.1111111111111111,
              "#46039f"
             ],
             [
              0.2222222222222222,
              "#7201a8"
             ],
             [
              0.3333333333333333,
              "#9c179e"
             ],
             [
              0.4444444444444444,
              "#bd3786"
             ],
             [
              0.5555555555555556,
              "#d8576b"
             ],
             [
              0.6666666666666666,
              "#ed7953"
             ],
             [
              0.7777777777777778,
              "#fb9f3a"
             ],
             [
              0.8888888888888888,
              "#fdca26"
             ],
             [
              1.0,
              "#f0f921"
             ]
            ]
           }
          ],
          "choropleth": [
           {
            "type": "choropleth",
            "colorbar": {
             "outlinewidth": 0,
             "ticks": ""
            }
           }
          ],
          "histogram2d": [
           {
            "type": "histogram2d",
            "colorbar": {
             "outlinewidth": 0,
             "ticks": ""
            },
            "colorscale": [
             [
              0.0,
              "#0d0887"
             ],
             [
              0.1111111111111111,
              "#46039f"
             ],
             [
              0.2222222222222222,
              "#7201a8"
             ],
             [
              0.3333333333333333,
              "#9c179e"
             ],
             [
              0.4444444444444444,
              "#bd3786"
             ],
             [
              0.5555555555555556,
              "#d8576b"
             ],
             [
              0.6666666666666666,
              "#ed7953"
             ],
             [
              0.7777777777777778,
              "#fb9f3a"
             ],
             [
              0.8888888888888888,
              "#fdca26"
             ],
             [
              1.0,
              "#f0f921"
             ]
            ]
           }
          ],
          "heatmap": [
           {
            "type": "heatmap",
            "colorbar": {
             "outlinewidth": 0,
             "ticks": ""
            },
            "colorscale": [
             [
              0.0,
              "#0d0887"
             ],
             [
              0.1111111111111111,
              "#46039f"
             ],
             [
              0.2222222222222222,
              "#7201a8"
             ],
             [
              0.3333333333333333,
              "#9c179e"
             ],
             [
              0.4444444444444444,
              "#bd3786"
             ],
             [
              0.5555555555555556,
              "#d8576b"
             ],
             [
              0.6666666666666666,
              "#ed7953"
             ],
             [
              0.7777777777777778,
              "#fb9f3a"
             ],
             [
              0.8888888888888888,
              "#fdca26"
             ],
             [
              1.0,
              "#f0f921"
             ]
            ]
           }
          ],
          "heatmapgl": [
           {
            "type": "heatmapgl",
            "colorbar": {
             "outlinewidth": 0,
             "ticks": ""
            },
            "colorscale": [
             [
              0.0,
              "#0d0887"
             ],
             [
              0.1111111111111111,
              "#46039f"
             ],
             [
              0.2222222222222222,
              "#7201a8"
             ],
             [
              0.3333333333333333,
              "#9c179e"
             ],
             [
              0.4444444444444444,
              "#bd3786"
             ],
             [
              0.5555555555555556,
              "#d8576b"
             ],
             [
              0.6666666666666666,
              "#ed7953"
             ],
             [
              0.7777777777777778,
              "#fb9f3a"
             ],
             [
              0.8888888888888888,
              "#fdca26"
             ],
             [
              1.0,
              "#f0f921"
             ]
            ]
           }
          ],
          "contourcarpet": [
           {
            "type": "contourcarpet",
            "colorbar": {
             "outlinewidth": 0,
             "ticks": ""
            }
           }
          ],
          "contour": [
           {
            "type": "contour",
            "colorbar": {
             "outlinewidth": 0,
             "ticks": ""
            },
            "colorscale": [
             [
              0.0,
              "#0d0887"
             ],
             [
              0.1111111111111111,
              "#46039f"
             ],
             [
              0.2222222222222222,
              "#7201a8"
             ],
             [
              0.3333333333333333,
              "#9c179e"
             ],
             [
              0.4444444444444444,
              "#bd3786"
             ],
             [
              0.5555555555555556,
              "#d8576b"
             ],
             [
              0.6666666666666666,
              "#ed7953"
             ],
             [
              0.7777777777777778,
              "#fb9f3a"
             ],
             [
              0.8888888888888888,
              "#fdca26"
             ],
             [
              1.0,
              "#f0f921"
             ]
            ]
           }
          ],
          "surface": [
           {
            "type": "surface",
            "colorbar": {
             "outlinewidth": 0,
             "ticks": ""
            },
            "colorscale": [
             [
              0.0,
              "#0d0887"
             ],
             [
              0.1111111111111111,
              "#46039f"
             ],
             [
              0.2222222222222222,
              "#7201a8"
             ],
             [
              0.3333333333333333,
              "#9c179e"
             ],
             [
              0.4444444444444444,
              "#bd3786"
             ],
             [
              0.5555555555555556,
              "#d8576b"
             ],
             [
              0.6666666666666666,
              "#ed7953"
             ],
             [
              0.7777777777777778,
              "#fb9f3a"
             ],
             [
              0.8888888888888888,
              "#fdca26"
             ],
             [
              1.0,
              "#f0f921"
             ]
            ]
           }
          ],
          "mesh3d": [
           {
            "type": "mesh3d",
            "colorbar": {
             "outlinewidth": 0,
             "ticks": ""
            }
           }
          ],
          "scatter": [
           {
            "marker": {
             "line": {
              "color": "#283442"
             }
            },
            "type": "scatter"
           }
          ],
          "parcoords": [
           {
            "type": "parcoords",
            "line": {
             "colorbar": {
              "outlinewidth": 0,
              "ticks": ""
             }
            }
           }
          ],
          "scatterpolargl": [
           {
            "type": "scatterpolargl",
            "marker": {
             "colorbar": {
              "outlinewidth": 0,
              "ticks": ""
             }
            }
           }
          ],
          "bar": [
           {
            "error_x": {
             "color": "#f2f5fa"
            },
            "error_y": {
             "color": "#f2f5fa"
            },
            "marker": {
             "line": {
              "color": "rgb(17,17,17)",
              "width": 0.5
             },
             "pattern": {
              "fillmode": "overlay",
              "size": 10,
              "solidity": 0.2
             }
            },
            "type": "bar"
           }
          ],
          "scattergeo": [
           {
            "type": "scattergeo",
            "marker": {
             "colorbar": {
              "outlinewidth": 0,
              "ticks": ""
             }
            }
           }
          ],
          "scatterpolar": [
           {
            "type": "scatterpolar",
            "marker": {
             "colorbar": {
              "outlinewidth": 0,
              "ticks": ""
             }
            }
           }
          ],
          "histogram": [
           {
            "marker": {
             "pattern": {
              "fillmode": "overlay",
              "size": 10,
              "solidity": 0.2
             }
            },
            "type": "histogram"
           }
          ],
          "scattergl": [
           {
            "marker": {
             "line": {
              "color": "#283442"
             }
            },
            "type": "scattergl"
           }
          ],
          "scatter3d": [
           {
            "type": "scatter3d",
            "line": {
             "colorbar": {
              "outlinewidth": 0,
              "ticks": ""
             }
            },
            "marker": {
             "colorbar": {
              "outlinewidth": 0,
              "ticks": ""
             }
            }
           }
          ],
          "scattermapbox": [
           {
            "type": "scattermapbox",
            "marker": {
             "colorbar": {
              "outlinewidth": 0,
              "ticks": ""
             }
            }
           }
          ],
          "scatterternary": [
           {
            "type": "scatterternary",
            "marker": {
             "colorbar": {
              "outlinewidth": 0,
              "ticks": ""
             }
            }
           }
          ],
          "scattercarpet": [
           {
            "type": "scattercarpet",
            "marker": {
             "colorbar": {
              "outlinewidth": 0,
              "ticks": ""
             }
            }
           }
          ],
          "carpet": [
           {
            "aaxis": {
             "endlinecolor": "#A2B1C6",
             "gridcolor": "#506784",
             "linecolor": "#506784",
             "minorgridcolor": "#506784",
             "startlinecolor": "#A2B1C6"
            },
            "baxis": {
             "endlinecolor": "#A2B1C6",
             "gridcolor": "#506784",
             "linecolor": "#506784",
             "minorgridcolor": "#506784",
             "startlinecolor": "#A2B1C6"
            },
            "type": "carpet"
           }
          ],
          "table": [
           {
            "cells": {
             "fill": {
              "color": "#506784"
             },
             "line": {
              "color": "rgb(17,17,17)"
             }
            },
            "header": {
             "fill": {
              "color": "#2a3f5f"
             },
             "line": {
              "color": "rgb(17,17,17)"
             }
            },
            "type": "table"
           }
          ],
          "barpolar": [
           {
            "marker": {
             "line": {
              "color": "rgb(17,17,17)",
              "width": 0.5
             },
             "pattern": {
              "fillmode": "overlay",
              "size": 10,
              "solidity": 0.2
             }
            },
            "type": "barpolar"
           }
          ],
          "pie": [
           {
            "automargin": true,
            "type": "pie"
           }
          ]
         },
         "layout": {
          "autotypenumbers": "strict",
          "colorway": [
           "#636efa",
           "#EF553B",
           "#00cc96",
           "#ab63fa",
           "#FFA15A",
           "#19d3f3",
           "#FF6692",
           "#B6E880",
           "#FF97FF",
           "#FECB52"
          ],
          "font": {
           "color": "#f2f5fa"
          },
          "hovermode": "closest",
          "hoverlabel": {
           "align": "left"
          },
          "paper_bgcolor": "rgb(17,17,17)",
          "plot_bgcolor": "rgb(17,17,17)",
          "polar": {
           "bgcolor": "rgb(17,17,17)",
           "angularaxis": {
            "gridcolor": "#506784",
            "linecolor": "#506784",
            "ticks": ""
           },
           "radialaxis": {
            "gridcolor": "#506784",
            "linecolor": "#506784",
            "ticks": ""
           }
          },
          "ternary": {
           "bgcolor": "rgb(17,17,17)",
           "aaxis": {
            "gridcolor": "#506784",
            "linecolor": "#506784",
            "ticks": ""
           },
           "baxis": {
            "gridcolor": "#506784",
            "linecolor": "#506784",
            "ticks": ""
           },
           "caxis": {
            "gridcolor": "#506784",
            "linecolor": "#506784",
            "ticks": ""
           }
          },
          "coloraxis": {
           "colorbar": {
            "outlinewidth": 0,
            "ticks": ""
           }
          },
          "colorscale": {
           "sequential": [
            [
             0.0,
             "#0d0887"
            ],
            [
             0.1111111111111111,
             "#46039f"
            ],
            [
             0.2222222222222222,
             "#7201a8"
            ],
            [
             0.3333333333333333,
             "#9c179e"
            ],
            [
             0.4444444444444444,
             "#bd3786"
            ],
            [
             0.5555555555555556,
             "#d8576b"
            ],
            [
             0.6666666666666666,
             "#ed7953"
            ],
            [
             0.7777777777777778,
             "#fb9f3a"
            ],
            [
             0.8888888888888888,
             "#fdca26"
            ],
            [
             1.0,
             "#f0f921"
            ]
           ],
           "sequentialminus": [
            [
             0.0,
             "#0d0887"
            ],
            [
             0.1111111111111111,
             "#46039f"
            ],
            [
             0.2222222222222222,
             "#7201a8"
            ],
            [
             0.3333333333333333,
             "#9c179e"
            ],
            [
             0.4444444444444444,
             "#bd3786"
            ],
            [
             0.5555555555555556,
             "#d8576b"
            ],
            [
             0.6666666666666666,
             "#ed7953"
            ],
            [
             0.7777777777777778,
             "#fb9f3a"
            ],
            [
             0.8888888888888888,
             "#fdca26"
            ],
            [
             1.0,
             "#f0f921"
            ]
           ],
           "diverging": [
            [
             0,
             "#8e0152"
            ],
            [
             0.1,
             "#c51b7d"
            ],
            [
             0.2,
             "#de77ae"
            ],
            [
             0.3,
             "#f1b6da"
            ],
            [
             0.4,
             "#fde0ef"
            ],
            [
             0.5,
             "#f7f7f7"
            ],
            [
             0.6,
             "#e6f5d0"
            ],
            [
             0.7,
             "#b8e186"
            ],
            [
             0.8,
             "#7fbc41"
            ],
            [
             0.9,
             "#4d9221"
            ],
            [
             1,
             "#276419"
            ]
           ]
          },
          "xaxis": {
           "gridcolor": "#283442",
           "linecolor": "#506784",
           "ticks": "",
           "title": {
            "standoff": 15
           },
           "zerolinecolor": "#283442",
           "automargin": true,
           "zerolinewidth": 2
          },
          "yaxis": {
           "gridcolor": "#283442",
           "linecolor": "#506784",
           "ticks": "",
           "title": {
            "standoff": 15
           },
           "zerolinecolor": "#283442",
           "automargin": true,
           "zerolinewidth": 2
          },
          "scene": {
           "xaxis": {
            "backgroundcolor": "rgb(17,17,17)",
            "gridcolor": "#506784",
            "linecolor": "#506784",
            "showbackground": true,
            "ticks": "",
            "zerolinecolor": "#C8D4E3",
            "gridwidth": 2
           },
           "yaxis": {
            "backgroundcolor": "rgb(17,17,17)",
            "gridcolor": "#506784",
            "linecolor": "#506784",
            "showbackground": true,
            "ticks": "",
            "zerolinecolor": "#C8D4E3",
            "gridwidth": 2
           },
           "zaxis": {
            "backgroundcolor": "rgb(17,17,17)",
            "gridcolor": "#506784",
            "linecolor": "#506784",
            "showbackground": true,
            "ticks": "",
            "zerolinecolor": "#C8D4E3",
            "gridwidth": 2
           }
          },
          "shapedefaults": {
           "line": {
            "color": "#f2f5fa"
           }
          },
          "annotationdefaults": {
           "arrowcolor": "#f2f5fa",
           "arrowhead": 0,
           "arrowwidth": 1
          },
          "geo": {
           "bgcolor": "rgb(17,17,17)",
           "landcolor": "rgb(17,17,17)",
           "subunitcolor": "#506784",
           "showland": true,
           "showlakes": true,
           "lakecolor": "rgb(17,17,17)"
          },
          "title": {
           "x": 0.05
          },
          "updatemenudefaults": {
           "bgcolor": "#506784",
           "borderwidth": 0
          },
          "sliderdefaults": {
           "bgcolor": "#C8D4E3",
           "borderwidth": 1,
           "bordercolor": "rgb(17,17,17)",
           "tickwidth": 0
          },
          "mapbox": {
           "style": "dark"
          }
         }
        },
        "geo": {
         "domain": {
          "x": [
           0.0,
           1.0
          ],
          "y": [
           0.0,
           1.0
          ]
         },
         "projection": {
          "type": "miller"
         },
         "center": {},
         "scope": "europe"
        },
        "coloraxis": {
         "colorbar": {
          "title": {
           "text": "index"
          },
          "x": 0,
          "y": 0.5
         },
         "colorscale": [
          [
           0,
           "gray"
          ],
          [
           0.01,
           "gray"
          ],
          [
           0.01,
           "blue"
          ],
          [
           1,
           "red"
          ]
         ],
         "cmin": 0,
         "cmax": 153.4
        },
        "legend": {
         "tracegroupgap": 0
        },
        "margin": {
         "t": 60
        },
        "updatemenus": [
         {
          "buttons": [
           {
            "args": [
             null,
             {
              "frame": {
               "duration": 500,
               "redraw": true
              },
              "mode": "immediate",
              "fromcurrent": true,
              "transition": {
               "duration": 500,
               "easing": "linear"
              }
             }
            ],
            "label": "&#9654;",
            "method": "animate"
           },
           {
            "args": [
             [
              null
             ],
             {
              "frame": {
               "duration": 0,
               "redraw": true
              },
              "mode": "immediate",
              "fromcurrent": true,
              "transition": {
               "duration": 0,
               "easing": "linear"
              }
             }
            ],
            "label": "&#9724;",
            "method": "animate"
           }
          ],
          "direction": "left",
          "pad": {
           "r": 10,
           "t": 70
          },
          "showactive": false,
          "type": "buttons",
          "x": 0.1,
          "xanchor": "right",
          "y": 0,
          "yanchor": "top"
         }
        ],
        "sliders": [
         {
          "active": 0,
          "currentvalue": {
           "prefix": "year="
          },
          "len": 0.9,
          "pad": {
           "b": 10,
           "t": 60
          },
          "steps": [
           {
            "args": [
             [
              "2010"
             ],
             {
              "frame": {
               "duration": 0,
               "redraw": true
              },
              "mode": "immediate",
              "fromcurrent": true,
              "transition": {
               "duration": 0,
               "easing": "linear"
              }
             }
            ],
            "label": "2010",
            "method": "animate"
           },
           {
            "args": [
             [
              "2011"
             ],
             {
              "frame": {
               "duration": 0,
               "redraw": true
              },
              "mode": "immediate",
              "fromcurrent": true,
              "transition": {
               "duration": 0,
               "easing": "linear"
              }
             }
            ],
            "label": "2011",
            "method": "animate"
           },
           {
            "args": [
             [
              "2012"
             ],
             {
              "frame": {
               "duration": 0,
               "redraw": true
              },
              "mode": "immediate",
              "fromcurrent": true,
              "transition": {
               "duration": 0,
               "easing": "linear"
              }
             }
            ],
            "label": "2012",
            "method": "animate"
           },
           {
            "args": [
             [
              "2013"
             ],
             {
              "frame": {
               "duration": 0,
               "redraw": true
              },
              "mode": "immediate",
              "fromcurrent": true,
              "transition": {
               "duration": 0,
               "easing": "linear"
              }
             }
            ],
            "label": "2013",
            "method": "animate"
           },
           {
            "args": [
             [
              "2014"
             ],
             {
              "frame": {
               "duration": 0,
               "redraw": true
              },
              "mode": "immediate",
              "fromcurrent": true,
              "transition": {
               "duration": 0,
               "easing": "linear"
              }
             }
            ],
            "label": "2014",
            "method": "animate"
           },
           {
            "args": [
             [
              "2015"
             ],
             {
              "frame": {
               "duration": 0,
               "redraw": true
              },
              "mode": "immediate",
              "fromcurrent": true,
              "transition": {
               "duration": 0,
               "easing": "linear"
              }
             }
            ],
            "label": "2015",
            "method": "animate"
           },
           {
            "args": [
             [
              "2016"
             ],
             {
              "frame": {
               "duration": 0,
               "redraw": true
              },
              "mode": "immediate",
              "fromcurrent": true,
              "transition": {
               "duration": 0,
               "easing": "linear"
              }
             }
            ],
            "label": "2016",
            "method": "animate"
           },
           {
            "args": [
             [
              "2017"
             ],
             {
              "frame": {
               "duration": 0,
               "redraw": true
              },
              "mode": "immediate",
              "fromcurrent": true,
              "transition": {
               "duration": 0,
               "easing": "linear"
              }
             }
            ],
            "label": "2017",
            "method": "animate"
           },
           {
            "args": [
             [
              "2018"
             ],
             {
              "frame": {
               "duration": 0,
               "redraw": true
              },
              "mode": "immediate",
              "fromcurrent": true,
              "transition": {
               "duration": 0,
               "easing": "linear"
              }
             }
            ],
            "label": "2018",
            "method": "animate"
           },
           {
            "args": [
             [
              "2019"
             ],
             {
              "frame": {
               "duration": 0,
               "redraw": true
              },
              "mode": "immediate",
              "fromcurrent": true,
              "transition": {
               "duration": 0,
               "easing": "linear"
              }
             }
            ],
            "label": "2019",
            "method": "animate"
           },
           {
            "args": [
             [
              "2020"
             ],
             {
              "frame": {
               "duration": 0,
               "redraw": true
              },
              "mode": "immediate",
              "fromcurrent": true,
              "transition": {
               "duration": 0,
               "easing": "linear"
              }
             }
            ],
            "label": "2020",
            "method": "animate"
           },
           {
            "args": [
             [
              "2021"
             ],
             {
              "frame": {
               "duration": 0,
               "redraw": true
              },
              "mode": "immediate",
              "fromcurrent": true,
              "transition": {
               "duration": 0,
               "easing": "linear"
              }
             }
            ],
            "label": "2021",
            "method": "animate"
           }
          ],
          "x": 0.1,
          "xanchor": "left",
          "y": 0,
          "yanchor": "top"
         }
        ],
        "title": {
         "text": "<b>Volume of passengers relative to GDP in 2010 (2015 base year)</b><br>EU index: 103.7"
        },
        "width": 1000,
        "height": 600
       },
       "frames": [
        {
         "data": [
          {
           "coloraxis": "coloraxis",
           "geo": "geo",
           "hovertemplate": "<b>%{hovertext}</b><br><br>year=2010<br>iso_alpha=%{location}<br>index=%{z}<extra></extra>",
           "hovertext": [
            "EU",
            "Belgium",
            "Bulgaria",
            "Czech Republic",
            "Denmark",
            "Germany",
            "Estonia",
            "Ireland",
            "Greece",
            "Spain",
            "France",
            "Croatia",
            "Italy",
            "Cyprus",
            "Latvia",
            "Lithuania",
            "Luxembourg",
            "Hungary",
            "Malta",
            "Netherlands",
            "Austria",
            "Poland",
            "Portugal",
            "Romania",
            "Slovenia",
            "Slovakia",
            "Finland",
            "Sweden",
            "Iceland",
            "Liechtenstein",
            "Norway",
            "Switzerland",
            "United Kingdom",
            "Montenegro",
            "North Macedonia",
            "Albania",
            "Serbia",
            "Turkey"
           ],
           "ids": [
            "EU",
            "Belgium",
            "Bulgaria",
            "Czech Republic",
            "Denmark",
            "Germany",
            "Estonia",
            "Ireland",
            "Greece",
            "Spain",
            "France",
            "Croatia",
            "Italy",
            "Cyprus",
            "Latvia",
            "Lithuania",
            "Luxembourg",
            "Hungary",
            "Malta",
            "Netherlands",
            "Austria",
            "Poland",
            "Portugal",
            "Romania",
            "Slovenia",
            "Slovakia",
            "Finland",
            "Sweden",
            "Iceland",
            "Liechtenstein",
            "Norway",
            "Switzerland",
            "United Kingdom",
            "Montenegro",
            "North Macedonia",
            "Albania",
            "Serbia",
            "Turkey"
           ],
           "locations": [
            null,
            "BEL",
            "BGR",
            "CZE",
            "DNK",
            "DEU",
            "EST",
            "IRL",
            "GRC",
            "ESP",
            "FRA",
            "HRV",
            "ITA",
            "CYP",
            "LVA",
            "LTU",
            "LUX",
            "HUN",
            "MLT",
            "NLD",
            "AUT",
            "POL",
            "PRT",
            "ROU",
            "SVN",
            "SVK",
            "FIN",
            "SWE",
            "ISL",
            "LIE",
            "NOR",
            "CHE",
            "GBR",
            "MNE",
            "MKD",
            "ALB",
            "SRB",
            "TUR"
           ],
           "name": "",
           "z": [
            103.7,
            114.1,
            91.5,
            101.2,
            98.7,
            101.4,
            95.1,
            128.7,
            82.6,
            106.3,
            108.7,
            99.2,
            99.4,
            86.9,
            111.3,
            153.4,
            98.1,
            108.1,
            115.5,
            106.9,
            97.0,
            112.5,
            95.9,
            96.3,
            99.9,
            107.6,
            98.2,
            98.5,
            101.5,
            0.0,
            100.4,
            115.3,
            108.4,
            108.8,
            75.1,
            0.0,
            110.8,
            110.7
           ],
           "type": "choropleth"
          }
         ],
         "name": "2010"
        },
        {
         "data": [
          {
           "coloraxis": "coloraxis",
           "geo": "geo",
           "hovertemplate": "<b>%{hovertext}</b><br><br>year=2011<br>iso_alpha=%{location}<br>index=%{z}<extra></extra>",
           "hovertext": [
            "EU",
            "Belgium",
            "Bulgaria",
            "Czech Republic",
            "Denmark",
            "Germany",
            "Estonia",
            "Ireland",
            "Greece",
            "Spain",
            "France",
            "Croatia",
            "Italy",
            "Cyprus",
            "Latvia",
            "Lithuania",
            "Luxembourg",
            "Hungary",
            "Malta",
            "Netherlands",
            "Austria",
            "Poland",
            "Portugal",
            "Romania",
            "Slovenia",
            "Slovakia",
            "Finland",
            "Sweden",
            "Iceland",
            "Liechtenstein",
            "Norway",
            "Switzerland",
            "United Kingdom",
            "Montenegro",
            "North Macedonia",
            "Albania",
            "Serbia",
            "Turkey"
           ],
           "ids": [
            "EU",
            "Belgium",
            "Bulgaria",
            "Czech Republic",
            "Denmark",
            "Germany",
            "Estonia",
            "Ireland",
            "Greece",
            "Spain",
            "France",
            "Croatia",
            "Italy",
            "Cyprus",
            "Latvia",
            "Lithuania",
            "Luxembourg",
            "Hungary",
            "Malta",
            "Netherlands",
            "Austria",
            "Poland",
            "Portugal",
            "Romania",
            "Slovenia",
            "Slovakia",
            "Finland",
            "Sweden",
            "Iceland",
            "Liechtenstein",
            "Norway",
            "Switzerland",
            "United Kingdom",
            "Montenegro",
            "North Macedonia",
            "Albania",
            "Serbia",
            "Turkey"
           ],
           "locations": [
            null,
            "BEL",
            "BGR",
            "CZE",
            "DNK",
            "DEU",
            "EST",
            "IRL",
            "GRC",
            "ESP",
            "FRA",
            "HRV",
            "ITA",
            "CYP",
            "LVA",
            "LTU",
            "LUX",
            "HUN",
            "MLT",
            "NLD",
            "AUT",
            "POL",
            "PRT",
            "ROU",
            "SVN",
            "SVK",
            "FIN",
            "SWE",
            "ISL",
            "LIE",
            "NOR",
            "CHE",
            "GBR",
            "MNE",
            "MKD",
            "ALB",
            "SRB",
            "TUR"
           ],
           "name": "",
           "z": [
            102.2,
            110.5,
            91.2,
            100.0,
            99.5,
            101.0,
            90.6,
            126.0,
            90.6,
            106.6,
            107.1,
            96.5,
            94.7,
            87.2,
            102.7,
            134.2,
            98.8,
            105.7,
            115.2,
            105.9,
            96.0,
            110.4,
            95.7,
            91.0,
            98.6,
            105.3,
            96.6,
            104.4,
            96.0,
            0.0,
            100.9,
            103.6,
            107.1,
            101.0,
            83.0,
            0.0,
            94.9,
            106.3
           ],
           "type": "choropleth"
          }
         ],
         "name": "2011"
        },
        {
         "data": [
          {
           "coloraxis": "coloraxis",
           "geo": "geo",
           "hovertemplate": "<b>%{hovertext}</b><br><br>year=2012<br>iso_alpha=%{location}<br>index=%{z}<extra></extra>",
           "hovertext": [
            "EU",
            "Belgium",
            "Bulgaria",
            "Czech Republic",
            "Denmark",
            "Germany",
            "Estonia",
            "Ireland",
            "Greece",
            "Spain",
            "France",
            "Croatia",
            "Italy",
            "Cyprus",
            "Latvia",
            "Lithuania",
            "Luxembourg",
            "Hungary",
            "Malta",
            "Netherlands",
            "Austria",
            "Poland",
            "Portugal",
            "Romania",
            "Slovenia",
            "Slovakia",
            "Finland",
            "Sweden",
            "Iceland",
            "Liechtenstein",
            "Norway",
            "Switzerland",
            "United Kingdom",
            "Montenegro",
            "North Macedonia",
            "Albania",
            "Serbia",
            "Turkey"
           ],
           "ids": [
            "EU",
            "Belgium",
            "Bulgaria",
            "Czech Republic",
            "Denmark",
            "Germany",
            "Estonia",
            "Ireland",
            "Greece",
            "Spain",
            "France",
            "Croatia",
            "Italy",
            "Cyprus",
            "Latvia",
            "Lithuania",
            "Luxembourg",
            "Hungary",
            "Malta",
            "Netherlands",
            "Austria",
            "Poland",
            "Portugal",
            "Romania",
            "Slovenia",
            "Slovakia",
            "Finland",
            "Sweden",
            "Iceland",
            "Liechtenstein",
            "Norway",
            "Switzerland",
            "United Kingdom",
            "Montenegro",
            "North Macedonia",
            "Albania",
            "Serbia",
            "Turkey"
           ],
           "locations": [
            null,
            "BEL",
            "BGR",
            "CZE",
            "DNK",
            "DEU",
            "EST",
            "IRL",
            "GRC",
            "ESP",
            "FRA",
            "HRV",
            "ITA",
            "CYP",
            "LVA",
            "LTU",
            "LUX",
            "HUN",
            "MLT",
            "NLD",
            "AUT",
            "POL",
            "PRT",
            "ROU",
            "SVN",
            "SVK",
            "FIN",
            "SWE",
            "ISL",
            "LIE",
            "NOR",
            "CHE",
            "GBR",
            "MNE",
            "MKD",
            "ALB",
            "SRB",
            "TUR"
           ],
           "name": "",
           "z": [
            100.9,
            114.0,
            91.9,
            99.6,
            98.7,
            101.1,
            91.9,
            123.4,
            96.3,
            105.9,
            106.6,
            100.9,
            87.3,
            91.1,
            96.5,
            146.0,
            99.4,
            107.3,
            111.0,
            106.8,
            96.1,
            104.9,
            98.3,
            92.0,
            100.5,
            103.6,
            97.9,
            104.7,
            96.1,
            0.0,
            98.1,
            102.9,
            106.1,
            105.8,
            77.7,
            0.0,
            96.8,
            107.7
           ],
           "type": "choropleth"
          }
         ],
         "name": "2012"
        },
        {
         "data": [
          {
           "coloraxis": "coloraxis",
           "geo": "geo",
           "hovertemplate": "<b>%{hovertext}</b><br><br>year=2013<br>iso_alpha=%{location}<br>index=%{z}<extra></extra>",
           "hovertext": [
            "EU",
            "Belgium",
            "Bulgaria",
            "Czech Republic",
            "Denmark",
            "Germany",
            "Estonia",
            "Ireland",
            "Greece",
            "Spain",
            "France",
            "Croatia",
            "Italy",
            "Cyprus",
            "Latvia",
            "Lithuania",
            "Luxembourg",
            "Hungary",
            "Malta",
            "Netherlands",
            "Austria",
            "Poland",
            "Portugal",
            "Romania",
            "Slovenia",
            "Slovakia",
            "Finland",
            "Sweden",
            "Iceland",
            "Liechtenstein",
            "Norway",
            "Switzerland",
            "United Kingdom",
            "Montenegro",
            "North Macedonia",
            "Albania",
            "Serbia",
            "Turkey"
           ],
           "ids": [
            "EU",
            "Belgium",
            "Bulgaria",
            "Czech Republic",
            "Denmark",
            "Germany",
            "Estonia",
            "Ireland",
            "Greece",
            "Spain",
            "France",
            "Croatia",
            "Italy",
            "Cyprus",
            "Latvia",
            "Lithuania",
            "Luxembourg",
            "Hungary",
            "Malta",
            "Netherlands",
            "Austria",
            "Poland",
            "Portugal",
            "Romania",
            "Slovenia",
            "Slovakia",
            "Finland",
            "Sweden",
            "Iceland",
            "Liechtenstein",
            "Norway",
            "Switzerland",
            "United Kingdom",
            "Montenegro",
            "North Macedonia",
            "Albania",
            "Serbia",
            "Turkey"
           ],
           "locations": [
            null,
            "BEL",
            "BGR",
            "CZE",
            "DNK",
            "DEU",
            "EST",
            "IRL",
            "GRC",
            "ESP",
            "FRA",
            "HRV",
            "ITA",
            "CYP",
            "LVA",
            "LTU",
            "LUX",
            "HUN",
            "MLT",
            "NLD",
            "AUT",
            "POL",
            "PRT",
            "ROU",
            "SVN",
            "SVK",
            "FIN",
            "SWE",
            "ISL",
            "LIE",
            "NOR",
            "CHE",
            "GBR",
            "MNE",
            "MKD",
            "ALB",
            "SRB",
            "TUR"
           ],
           "name": "",
           "z": [
            100.8,
            111.5,
            94.4,
            100.7,
            97.7,
            100.9,
            93.9,
            125.2,
            98.0,
            105.8,
            99.6,
            101.7,
            94.4,
            96.8,
            95.8,
            138.1,
            98.3,
            104.3,
            106.9,
            108.0,
            97.4,
            104.5,
            98.7,
            94.8,
            101.5,
            103.4,
            98.6,
            103.5,
            94.6,
            0.0,
            98.4,
            101.9,
            102.9,
            104.7,
            96.3,
            0.0,
            96.0,
            102.4
           ],
           "type": "choropleth"
          }
         ],
         "name": "2013"
        },
        {
         "data": [
          {
           "coloraxis": "coloraxis",
           "geo": "geo",
           "hovertemplate": "<b>%{hovertext}</b><br><br>year=2014<br>iso_alpha=%{location}<br>index=%{z}<extra></extra>",
           "hovertext": [
            "EU",
            "Belgium",
            "Bulgaria",
            "Czech Republic",
            "Denmark",
            "Germany",
            "Estonia",
            "Ireland",
            "Greece",
            "Spain",
            "France",
            "Croatia",
            "Italy",
            "Cyprus",
            "Latvia",
            "Lithuania",
            "Luxembourg",
            "Hungary",
            "Malta",
            "Netherlands",
            "Austria",
            "Poland",
            "Portugal",
            "Romania",
            "Slovenia",
            "Slovakia",
            "Finland",
            "Sweden",
            "Iceland",
            "Liechtenstein",
            "Norway",
            "Switzerland",
            "United Kingdom",
            "Montenegro",
            "North Macedonia",
            "Albania",
            "Serbia",
            "Turkey"
           ],
           "ids": [
            "EU",
            "Belgium",
            "Bulgaria",
            "Czech Republic",
            "Denmark",
            "Germany",
            "Estonia",
            "Ireland",
            "Greece",
            "Spain",
            "France",
            "Croatia",
            "Italy",
            "Cyprus",
            "Latvia",
            "Lithuania",
            "Luxembourg",
            "Hungary",
            "Malta",
            "Netherlands",
            "Austria",
            "Poland",
            "Portugal",
            "Romania",
            "Slovenia",
            "Slovakia",
            "Finland",
            "Sweden",
            "Iceland",
            "Liechtenstein",
            "Norway",
            "Switzerland",
            "United Kingdom",
            "Montenegro",
            "North Macedonia",
            "Albania",
            "Serbia",
            "Turkey"
           ],
           "locations": [
            null,
            "BEL",
            "BGR",
            "CZE",
            "DNK",
            "DEU",
            "EST",
            "IRL",
            "GRC",
            "ESP",
            "FRA",
            "HRV",
            "ITA",
            "CYP",
            "LVA",
            "LTU",
            "LUX",
            "HUN",
            "MLT",
            "NLD",
            "AUT",
            "POL",
            "PRT",
            "ROU",
            "SVN",
            "SVK",
            "FIN",
            "SWE",
            "ISL",
            "LIE",
            "NOR",
            "CHE",
            "GBR",
            "MNE",
            "MKD",
            "ALB",
            "SRB",
            "TUR"
           ],
           "name": "",
           "z": [
            100.1,
            103.7,
            99.1,
            103.1,
            98.1,
            100.2,
            95.9,
            114.3,
            98.4,
            99.4,
            99.8,
            102.2,
            96.5,
            100.4,
            99.0,
            101.1,
            98.8,
            101.3,
            104.6,
            106.8,
            99.0,
            102.4,
            99.3,
            97.1,
            100.5,
            101.8,
            99.2,
            102.7,
            97.8,
            0.0,
            99.5,
            100.7,
            102.0,
            101.8,
            102.6,
            0.0,
            98.4,
            100.7
           ],
           "type": "choropleth"
          }
         ],
         "name": "2014"
        },
        {
         "data": [
          {
           "coloraxis": "coloraxis",
           "geo": "geo",
           "hovertemplate": "<b>%{hovertext}</b><br><br>year=2015<br>iso_alpha=%{location}<br>index=%{z}<extra></extra>",
           "hovertext": [
            "EU",
            "Belgium",
            "Bulgaria",
            "Czech Republic",
            "Denmark",
            "Germany",
            "Estonia",
            "Ireland",
            "Greece",
            "Spain",
            "France",
            "Croatia",
            "Italy",
            "Cyprus",
            "Latvia",
            "Lithuania",
            "Luxembourg",
            "Hungary",
            "Malta",
            "Netherlands",
            "Austria",
            "Poland",
            "Portugal",
            "Romania",
            "Slovenia",
            "Slovakia",
            "Finland",
            "Sweden",
            "Iceland",
            "Liechtenstein",
            "Norway",
            "Switzerland",
            "United Kingdom",
            "Montenegro",
            "North Macedonia",
            "Albania",
            "Serbia",
            "Turkey"
           ],
           "ids": [
            "EU",
            "Belgium",
            "Bulgaria",
            "Czech Republic",
            "Denmark",
            "Germany",
            "Estonia",
            "Ireland",
            "Greece",
            "Spain",
            "France",
            "Croatia",
            "Italy",
            "Cyprus",
            "Latvia",
            "Lithuania",
            "Luxembourg",
            "Hungary",
            "Malta",
            "Netherlands",
            "Austria",
            "Poland",
            "Portugal",
            "Romania",
            "Slovenia",
            "Slovakia",
            "Finland",
            "Sweden",
            "Iceland",
            "Liechtenstein",
            "Norway",
            "Switzerland",
            "United Kingdom",
            "Montenegro",
            "North Macedonia",
            "Albania",
            "Serbia",
            "Turkey"
           ],
           "locations": [
            null,
            "BEL",
            "BGR",
            "CZE",
            "DNK",
            "DEU",
            "EST",
            "IRL",
            "GRC",
            "ESP",
            "FRA",
            "HRV",
            "ITA",
            "CYP",
            "LVA",
            "LTU",
            "LUX",
            "HUN",
            "MLT",
            "NLD",
            "AUT",
            "POL",
            "PRT",
            "ROU",
            "SVN",
            "SVK",
            "FIN",
            "SWE",
            "ISL",
            "LIE",
            "NOR",
            "CHE",
            "GBR",
            "MNE",
            "MKD",
            "ALB",
            "SRB",
            "TUR"
           ],
           "name": "",
           "z": [
            100.0,
            100.0,
            100.0,
            100.0,
            100.0,
            100.0,
            100.0,
            100.0,
            100.0,
            100.0,
            100.0,
            100.0,
            100.0,
            100.0,
            100.0,
            100.0,
            100.0,
            100.0,
            100.0,
            100.0,
            100.0,
            100.0,
            100.0,
            100.0,
            100.0,
            100.0,
            100.0,
            100.0,
            100.0,
            0.0,
            100.0,
            100.0,
            100.0,
            100.0,
            100.0,
            0.0,
            100.0,
            100.0
           ],
           "type": "choropleth"
          }
         ],
         "name": "2015"
        },
        {
         "data": [
          {
           "coloraxis": "coloraxis",
           "geo": "geo",
           "hovertemplate": "<b>%{hovertext}</b><br><br>year=2016<br>iso_alpha=%{location}<br>index=%{z}<extra></extra>",
           "hovertext": [
            "EU",
            "Belgium",
            "Bulgaria",
            "Czech Republic",
            "Denmark",
            "Germany",
            "Estonia",
            "Ireland",
            "Greece",
            "Spain",
            "France",
            "Croatia",
            "Italy",
            "Cyprus",
            "Latvia",
            "Lithuania",
            "Luxembourg",
            "Hungary",
            "Malta",
            "Netherlands",
            "Austria",
            "Poland",
            "Portugal",
            "Romania",
            "Slovenia",
            "Slovakia",
            "Finland",
            "Sweden",
            "Iceland",
            "Liechtenstein",
            "Norway",
            "Switzerland",
            "United Kingdom",
            "Montenegro",
            "North Macedonia",
            "Albania",
            "Serbia",
            "Turkey"
           ],
           "ids": [
            "EU",
            "Belgium",
            "Bulgaria",
            "Czech Republic",
            "Denmark",
            "Germany",
            "Estonia",
            "Ireland",
            "Greece",
            "Spain",
            "France",
            "Croatia",
            "Italy",
            "Cyprus",
            "Latvia",
            "Lithuania",
            "Luxembourg",
            "Hungary",
            "Malta",
            "Netherlands",
            "Austria",
            "Poland",
            "Portugal",
            "Romania",
            "Slovenia",
            "Slovakia",
            "Finland",
            "Sweden",
            "Iceland",
            "Liechtenstein",
            "Norway",
            "Switzerland",
            "United Kingdom",
            "Montenegro",
            "North Macedonia",
            "Albania",
            "Serbia",
            "Turkey"
           ],
           "locations": [
            null,
            "BEL",
            "BGR",
            "CZE",
            "DNK",
            "DEU",
            "EST",
            "IRL",
            "GRC",
            "ESP",
            "FRA",
            "HRV",
            "ITA",
            "CYP",
            "LVA",
            "LTU",
            "LUX",
            "HUN",
            "MLT",
            "NLD",
            "AUT",
            "POL",
            "PRT",
            "ROU",
            "SVN",
            "SVK",
            "FIN",
            "SWE",
            "ISL",
            "LIE",
            "NOR",
            "CHE",
            "GBR",
            "MNE",
            "MKD",
            "ALB",
            "SRB",
            "TUR"
           ],
           "name": "",
           "z": [
            100.0,
            97.4,
            95.9,
            100.7,
            99.8,
            100.0,
            104.2,
            103.8,
            101.6,
            100.6,
            100.2,
            96.9,
            102.0,
            97.9,
            99.3,
            100.7,
            97.6,
            103.1,
            99.8,
            99.0,
            100.8,
            101.8,
            104.4,
            102.9,
            98.5,
            100.5,
            86.3,
            84.8,
            109.0,
            0.0,
            99.6,
            99.8,
            99.4,
            106.7,
            96.2,
            0.0,
            98.2,
            99.9
           ],
           "type": "choropleth"
          }
         ],
         "name": "2016"
        },
        {
         "data": [
          {
           "coloraxis": "coloraxis",
           "geo": "geo",
           "hovertemplate": "<b>%{hovertext}</b><br><br>year=2017<br>iso_alpha=%{location}<br>index=%{z}<extra></extra>",
           "hovertext": [
            "EU",
            "Belgium",
            "Bulgaria",
            "Czech Republic",
            "Denmark",
            "Germany",
            "Estonia",
            "Ireland",
            "Greece",
            "Spain",
            "France",
            "Croatia",
            "Italy",
            "Cyprus",
            "Latvia",
            "Lithuania",
            "Luxembourg",
            "Hungary",
            "Malta",
            "Netherlands",
            "Austria",
            "Poland",
            "Portugal",
            "Romania",
            "Slovenia",
            "Slovakia",
            "Finland",
            "Sweden",
            "Iceland",
            "Liechtenstein",
            "Norway",
            "Switzerland",
            "United Kingdom",
            "Montenegro",
            "North Macedonia",
            "Albania",
            "Serbia",
            "Turkey"
           ],
           "ids": [
            "EU",
            "Belgium",
            "Bulgaria",
            "Czech Republic",
            "Denmark",
            "Germany",
            "Estonia",
            "Ireland",
            "Greece",
            "Spain",
            "France",
            "Croatia",
            "Italy",
            "Cyprus",
            "Latvia",
            "Lithuania",
            "Luxembourg",
            "Hungary",
            "Malta",
            "Netherlands",
            "Austria",
            "Poland",
            "Portugal",
            "Romania",
            "Slovenia",
            "Slovakia",
            "Finland",
            "Sweden",
            "Iceland",
            "Liechtenstein",
            "Norway",
            "Switzerland",
            "United Kingdom",
            "Montenegro",
            "North Macedonia",
            "Albania",
            "Serbia",
            "Turkey"
           ],
           "locations": [
            null,
            "BEL",
            "BGR",
            "CZE",
            "DNK",
            "DEU",
            "EST",
            "IRL",
            "GRC",
            "ESP",
            "FRA",
            "HRV",
            "ITA",
            "CYP",
            "LVA",
            "LTU",
            "LUX",
            "HUN",
            "MLT",
            "NLD",
            "AUT",
            "POL",
            "PRT",
            "ROU",
            "SVN",
            "SVK",
            "FIN",
            "SWE",
            "ISL",
            "LIE",
            "NOR",
            "CHE",
            "GBR",
            "MNE",
            "MKD",
            "ALB",
            "SRB",
            "TUR"
           ],
           "name": "",
           "z": [
            98.3,
            96.6,
            93.9,
            99.2,
            98.6,
            94.6,
            99.8,
            98.8,
            101.7,
            94.4,
            99.0,
            94.5,
            105.3,
            94.2,
            102.0,
            115.5,
            98.5,
            103.5,
            91.0,
            95.0,
            100.2,
            99.9,
            103.8,
            97.5,
            96.1,
            99.2,
            95.7,
            84.3,
            114.6,
            0.0,
            98.8,
            99.6,
            103.6,
            103.7,
            95.0,
            0.0,
            97.3,
            94.4
           ],
           "type": "choropleth"
          }
         ],
         "name": "2017"
        },
        {
         "data": [
          {
           "coloraxis": "coloraxis",
           "geo": "geo",
           "hovertemplate": "<b>%{hovertext}</b><br><br>year=2018<br>iso_alpha=%{location}<br>index=%{z}<extra></extra>",
           "hovertext": [
            "EU",
            "Belgium",
            "Bulgaria",
            "Czech Republic",
            "Denmark",
            "Germany",
            "Estonia",
            "Ireland",
            "Greece",
            "Spain",
            "France",
            "Croatia",
            "Italy",
            "Cyprus",
            "Latvia",
            "Lithuania",
            "Luxembourg",
            "Hungary",
            "Malta",
            "Netherlands",
            "Austria",
            "Poland",
            "Portugal",
            "Romania",
            "Slovenia",
            "Slovakia",
            "Finland",
            "Sweden",
            "Iceland",
            "Liechtenstein",
            "Norway",
            "Switzerland",
            "United Kingdom",
            "Montenegro",
            "North Macedonia",
            "Albania",
            "Serbia",
            "Turkey"
           ],
           "ids": [
            "EU",
            "Belgium",
            "Bulgaria",
            "Czech Republic",
            "Denmark",
            "Germany",
            "Estonia",
            "Ireland",
            "Greece",
            "Spain",
            "France",
            "Croatia",
            "Italy",
            "Cyprus",
            "Latvia",
            "Lithuania",
            "Luxembourg",
            "Hungary",
            "Malta",
            "Netherlands",
            "Austria",
            "Poland",
            "Portugal",
            "Romania",
            "Slovenia",
            "Slovakia",
            "Finland",
            "Sweden",
            "Iceland",
            "Liechtenstein",
            "Norway",
            "Switzerland",
            "United Kingdom",
            "Montenegro",
            "North Macedonia",
            "Albania",
            "Serbia",
            "Turkey"
           ],
           "locations": [
            null,
            "BEL",
            "BGR",
            "CZE",
            "DNK",
            "DEU",
            "EST",
            "IRL",
            "GRC",
            "ESP",
            "FRA",
            "HRV",
            "ITA",
            "CYP",
            "LVA",
            "LTU",
            "LUX",
            "HUN",
            "MLT",
            "NLD",
            "AUT",
            "POL",
            "PRT",
            "ROU",
            "SVN",
            "SVK",
            "FIN",
            "SWE",
            "ISL",
            "LIE",
            "NOR",
            "CHE",
            "GBR",
            "MNE",
            "MKD",
            "ALB",
            "SRB",
            "TUR"
           ],
           "name": "",
           "z": [
            96.6,
            95.5,
            89.7,
            100.9,
            97.2,
            93.8,
            97.8,
            93.0,
            101.3,
            94.8,
            96.7,
            89.3,
            102.0,
            92.4,
            99.9,
            107.5,
            99.4,
            100.7,
            87.3,
            97.0,
            90.7,
            96.1,
            104.7,
            96.8,
            93.3,
            97.1,
            94.9,
            83.5,
            113.2,
            0.0,
            99.0,
            97.1,
            103.8,
            104.5,
            96.9,
            0.0,
            95.5,
            99.1
           ],
           "type": "choropleth"
          }
         ],
         "name": "2018"
        },
        {
         "data": [
          {
           "coloraxis": "coloraxis",
           "geo": "geo",
           "hovertemplate": "<b>%{hovertext}</b><br><br>year=2019<br>iso_alpha=%{location}<br>index=%{z}<extra></extra>",
           "hovertext": [
            "EU",
            "Belgium",
            "Bulgaria",
            "Czech Republic",
            "Denmark",
            "Germany",
            "Estonia",
            "Ireland",
            "Greece",
            "Spain",
            "France",
            "Croatia",
            "Italy",
            "Cyprus",
            "Latvia",
            "Lithuania",
            "Luxembourg",
            "Hungary",
            "Malta",
            "Netherlands",
            "Austria",
            "Poland",
            "Portugal",
            "Romania",
            "Slovenia",
            "Slovakia",
            "Finland",
            "Sweden",
            "Iceland",
            "Liechtenstein",
            "Norway",
            "Switzerland",
            "United Kingdom",
            "Montenegro",
            "North Macedonia",
            "Albania",
            "Serbia",
            "Turkey"
           ],
           "ids": [
            "EU",
            "Belgium",
            "Bulgaria",
            "Czech Republic",
            "Denmark",
            "Germany",
            "Estonia",
            "Ireland",
            "Greece",
            "Spain",
            "France",
            "Croatia",
            "Italy",
            "Cyprus",
            "Latvia",
            "Lithuania",
            "Luxembourg",
            "Hungary",
            "Malta",
            "Netherlands",
            "Austria",
            "Poland",
            "Portugal",
            "Romania",
            "Slovenia",
            "Slovakia",
            "Finland",
            "Sweden",
            "Iceland",
            "Liechtenstein",
            "Norway",
            "Switzerland",
            "United Kingdom",
            "Montenegro",
            "North Macedonia",
            "Albania",
            "Serbia",
            "Turkey"
           ],
           "locations": [
            null,
            "BEL",
            "BGR",
            "CZE",
            "DNK",
            "DEU",
            "EST",
            "IRL",
            "GRC",
            "ESP",
            "FRA",
            "HRV",
            "ITA",
            "CYP",
            "LVA",
            "LTU",
            "LUX",
            "HUN",
            "MLT",
            "NLD",
            "AUT",
            "POL",
            "PRT",
            "ROU",
            "SVN",
            "SVK",
            "FIN",
            "SWE",
            "ISL",
            "LIE",
            "NOR",
            "CHE",
            "GBR",
            "MNE",
            "MKD",
            "ALB",
            "SRB",
            "TUR"
           ],
           "name": "",
           "z": [
            95.4,
            93.8,
            88.7,
            101.5,
            98.2,
            91.1,
            100.2,
            90.5,
            100.9,
            93.6,
            94.6,
            86.1,
            102.9,
            90.1,
            98.9,
            106.9,
            99.6,
            99.3,
            83.8,
            97.0,
            87.5,
            94.4,
            104.8,
            99.1,
            91.4,
            95.4,
            94.0,
            82.2,
            109.2,
            0.0,
            98.7,
            97.5,
            104.3,
            105.2,
            93.0,
            0.0,
            93.5,
            102.9
           ],
           "type": "choropleth"
          }
         ],
         "name": "2019"
        },
        {
         "data": [
          {
           "coloraxis": "coloraxis",
           "geo": "geo",
           "hovertemplate": "<b>%{hovertext}</b><br><br>year=2020<br>iso_alpha=%{location}<br>index=%{z}<extra></extra>",
           "hovertext": [
            "EU",
            "Belgium",
            "Bulgaria",
            "Czech Republic",
            "Denmark",
            "Germany",
            "Estonia",
            "Ireland",
            "Greece",
            "Spain",
            "France",
            "Croatia",
            "Italy",
            "Cyprus",
            "Latvia",
            "Lithuania",
            "Luxembourg",
            "Hungary",
            "Malta",
            "Netherlands",
            "Austria",
            "Poland",
            "Portugal",
            "Romania",
            "Slovenia",
            "Slovakia",
            "Finland",
            "Sweden",
            "Iceland",
            "Liechtenstein",
            "Norway",
            "Switzerland",
            "United Kingdom",
            "Montenegro",
            "North Macedonia",
            "Albania",
            "Serbia",
            "Turkey"
           ],
           "ids": [
            "EU",
            "Belgium",
            "Bulgaria",
            "Czech Republic",
            "Denmark",
            "Germany",
            "Estonia",
            "Ireland",
            "Greece",
            "Spain",
            "France",
            "Croatia",
            "Italy",
            "Cyprus",
            "Latvia",
            "Lithuania",
            "Luxembourg",
            "Hungary",
            "Malta",
            "Netherlands",
            "Austria",
            "Poland",
            "Portugal",
            "Romania",
            "Slovenia",
            "Slovakia",
            "Finland",
            "Sweden",
            "Iceland",
            "Liechtenstein",
            "Norway",
            "Switzerland",
            "United Kingdom",
            "Montenegro",
            "North Macedonia",
            "Albania",
            "Serbia",
            "Turkey"
           ],
           "locations": [
            null,
            "BEL",
            "BGR",
            "CZE",
            "DNK",
            "DEU",
            "EST",
            "IRL",
            "GRC",
            "ESP",
            "FRA",
            "HRV",
            "ITA",
            "CYP",
            "LVA",
            "LTU",
            "LUX",
            "HUN",
            "MLT",
            "NLD",
            "AUT",
            "POL",
            "PRT",
            "ROU",
            "SVN",
            "SVK",
            "FIN",
            "SWE",
            "ISL",
            "LIE",
            "NOR",
            "CHE",
            "GBR",
            "MNE",
            "MKD",
            "ALB",
            "SRB",
            "TUR"
           ],
           "name": "",
           "z": [
            79.2,
            80.9,
            75.4,
            83.8,
            88.4,
            79.9,
            79.1,
            70.1,
            91.6,
            77.5,
            79.2,
            71.1,
            71.9,
            75.5,
            91.1,
            93.5,
            84.6,
            91.9,
            76.1,
            68.4,
            78.6,
            84.9,
            95.3,
            88.2,
            77.5,
            78.2,
            89.2,
            74.9,
            101.1,
            0.0,
            89.3,
            86.0,
            0.0,
            99.9,
            103.8,
            0.0,
            80.5,
            85.0
           ],
           "type": "choropleth"
          }
         ],
         "name": "2020"
        },
        {
         "data": [
          {
           "coloraxis": "coloraxis",
           "geo": "geo",
           "hovertemplate": "<b>%{hovertext}</b><br><br>year=2021<br>iso_alpha=%{location}<br>index=%{z}<extra></extra>",
           "hovertext": [
            "EU",
            "Belgium",
            "Bulgaria",
            "Czech Republic",
            "Denmark",
            "Germany",
            "Estonia",
            "Ireland",
            "Greece",
            "Spain",
            "France",
            "Croatia",
            "Italy",
            "Cyprus",
            "Latvia",
            "Lithuania",
            "Luxembourg",
            "Hungary",
            "Malta",
            "Netherlands",
            "Austria",
            "Poland",
            "Portugal",
            "Romania",
            "Slovenia",
            "Slovakia",
            "Finland",
            "Sweden",
            "Iceland",
            "Liechtenstein",
            "Norway",
            "Switzerland",
            "United Kingdom",
            "Montenegro",
            "North Macedonia",
            "Albania",
            "Serbia",
            "Turkey"
           ],
           "ids": [
            "EU",
            "Belgium",
            "Bulgaria",
            "Czech Republic",
            "Denmark",
            "Germany",
            "Estonia",
            "Ireland",
            "Greece",
            "Spain",
            "France",
            "Croatia",
            "Italy",
            "Cyprus",
            "Latvia",
            "Lithuania",
            "Luxembourg",
            "Hungary",
            "Malta",
            "Netherlands",
            "Austria",
            "Poland",
            "Portugal",
            "Romania",
            "Slovenia",
            "Slovakia",
            "Finland",
            "Sweden",
            "Iceland",
            "Liechtenstein",
            "Norway",
            "Switzerland",
            "United Kingdom",
            "Montenegro",
            "North Macedonia",
            "Albania",
            "Serbia",
            "Turkey"
           ],
           "locations": [
            null,
            "BEL",
            "BGR",
            "CZE",
            "DNK",
            "DEU",
            "EST",
            "IRL",
            "GRC",
            "ESP",
            "FRA",
            "HRV",
            "ITA",
            "CYP",
            "LVA",
            "LTU",
            "LUX",
            "HUN",
            "MLT",
            "NLD",
            "AUT",
            "POL",
            "PRT",
            "ROU",
            "SVN",
            "SVK",
            "FIN",
            "SWE",
            "ISL",
            "LIE",
            "NOR",
            "CHE",
            "GBR",
            "MNE",
            "MKD",
            "ALB",
            "SRB",
            "TUR"
           ],
           "name": "",
           "z": [
            80.2,
            79.9,
            72.3,
            99.2,
            85.9,
            76.1,
            77.7,
            65.7,
            90.3,
            79.7,
            85.8,
            72.1,
            74.1,
            76.3,
            78.7,
            94.9,
            86.3,
            89.8,
            72.9,
            72.4,
            80.0,
            83.3,
            97.9,
            91.2,
            77.5,
            77.3,
            85.0,
            70.0,
            109.6,
            0.0,
            89.3,
            86.7,
            0.0,
            97.9,
            110.3,
            0.0,
            81.8,
            82.8
           ],
           "type": "choropleth"
          }
         ],
         "name": "2021"
        }
       ],
       "config": {
        "plotlyServerURL": "https://plot.ly"
       }
      },
      "text/html": "<div>                            <div id=\"a8c978d6-b84e-4220-a42e-8aad39c3caa5\" class=\"plotly-graph-div\" style=\"height:600px; width:1000px;\"></div>            <script type=\"text/javascript\">                require([\"plotly\"], function(Plotly) {                    window.PLOTLYENV=window.PLOTLYENV || {};                                    if (document.getElementById(\"a8c978d6-b84e-4220-a42e-8aad39c3caa5\")) {                    Plotly.newPlot(                        \"a8c978d6-b84e-4220-a42e-8aad39c3caa5\",                        [{\"coloraxis\":\"coloraxis\",\"geo\":\"geo\",\"hovertemplate\":[\"<b>Country: </b>%{customdata}<br><br><b>Index value: </b>%{z}\",\"<b>Country: </b>%{customdata}<br><br><b>Index value: </b>%{z}\",\"<b>Country: </b>%{customdata}<br><br><b>Index value: </b>%{z}\",\"<b>Country: </b>%{customdata}<br><br><b>Index value: </b>%{z}\",\"<b>Country: </b>%{customdata}<br><br><b>Index value: </b>%{z}\",\"<b>Country: </b>%{customdata}<br><br><b>Index value: </b>%{z}\",\"<b>Country: </b>%{customdata}<br><br><b>Index value: </b>%{z}\",\"<b>Country: </b>%{customdata}<br><br><b>Index value: </b>%{z}\",\"<b>Country: </b>%{customdata}<br><br><b>Index value: </b>%{z}\",\"<b>Country: </b>%{customdata}<br><br><b>Index value: </b>%{z}\",\"<b>Country: </b>%{customdata}<br><br><b>Index value: </b>%{z}\",\"<b>Country: </b>%{customdata}<br><br><b>Index value: </b>%{z}\",\"<b>Country: </b>%{customdata}<br><br><b>Index value: </b>%{z}\",\"<b>Country: </b>%{customdata}<br><br><b>Index value: </b>%{z}\",\"<b>Country: </b>%{customdata}<br><br><b>Index value: </b>%{z}\",\"<b>Country: </b>%{customdata}<br><br><b>Index value: </b>%{z}\",\"<b>Country: </b>%{customdata}<br><br><b>Index value: </b>%{z}\",\"<b>Country: </b>%{customdata}<br><br><b>Index value: </b>%{z}\",\"<b>Country: </b>%{customdata}<br><br><b>Index value: </b>%{z}\",\"<b>Country: </b>%{customdata}<br><br><b>Index value: </b>%{z}\",\"<b>Country: </b>%{customdata}<br><br><b>Index value: </b>%{z}\",\"<b>Country: </b>%{customdata}<br><br><b>Index value: </b>%{z}\",\"<b>Country: </b>%{customdata}<br><br><b>Index value: </b>%{z}\",\"<b>Country: </b>%{customdata}<br><br><b>Index value: </b>%{z}\",\"<b>Country: </b>%{customdata}<br><br><b>Index value: </b>%{z}\",\"<b>Country: </b>%{customdata}<br><br><b>Index value: </b>%{z}\",\"<b>Country: </b>%{customdata}<br><br><b>Index value: </b>%{z}\",\"<b>Country: </b>%{customdata}<br><br><b>Index value: </b>%{z}\",\"<b>Country: </b>%{customdata}<br><br><b>Index value: </b>%{z}\",\"<b>Country: </b> %{customdata}<br><br>No data available\",\"<b>Country: </b>%{customdata}<br><br><b>Index value: </b>%{z}\",\"<b>Country: </b>%{customdata}<br><br><b>Index value: </b>%{z}\",\"<b>Country: </b>%{customdata}<br><br><b>Index value: </b>%{z}\",\"<b>Country: </b>%{customdata}<br><br><b>Index value: </b>%{z}\",\"<b>Country: </b>%{customdata}<br><br><b>Index value: </b>%{z}\",\"<b>Country: </b> %{customdata}<br><br>No data available\",\"<b>Country: </b>%{customdata}<br><br><b>Index value: </b>%{z}\",\"<b>Country: </b>%{customdata}<br><br><b>Index value: </b>%{z}\",\"<b>Country: </b>%{customdata}<br><br><b>Index value: </b>%{z}\",\"<b>Country: </b>%{customdata}<br><br><b>Index value: </b>%{z}\",\"<b>Country: </b>%{customdata}<br><br><b>Index value: </b>%{z}\",\"<b>Country: </b>%{customdata}<br><br><b>Index value: </b>%{z}\",\"<b>Country: </b>%{customdata}<br><br><b>Index value: </b>%{z}\",\"<b>Country: </b>%{customdata}<br><br><b>Index value: </b>%{z}\",\"<b>Country: </b>%{customdata}<br><br><b>Index value: </b>%{z}\",\"<b>Country: </b>%{customdata}<br><br><b>Index value: </b>%{z}\",\"<b>Country: </b>%{customdata}<br><br><b>Index value: </b>%{z}\",\"<b>Country: </b>%{customdata}<br><br><b>Index value: </b>%{z}\",\"<b>Country: </b>%{customdata}<br><br><b>Index value: </b>%{z}\",\"<b>Country: </b>%{customdata}<br><br><b>Index value: </b>%{z}\",\"<b>Country: </b>%{customdata}<br><br><b>Index value: </b>%{z}\",\"<b>Country: </b>%{customdata}<br><br><b>Index value: </b>%{z}\",\"<b>Country: </b>%{customdata}<br><br><b>Index value: </b>%{z}\",\"<b>Country: </b>%{customdata}<br><br><b>Index value: </b>%{z}\",\"<b>Country: </b>%{customdata}<br><br><b>Index value: </b>%{z}\",\"<b>Country: </b>%{customdata}<br><br><b>Index value: </b>%{z}\",\"<b>Country: </b>%{customdata}<br><br><b>Index value: </b>%{z}\",\"<b>Country: </b>%{customdata}<br><br><b>Index value: </b>%{z}\",\"<b>Country: </b>%{customdata}<br><br><b>Index value: </b>%{z}\",\"<b>Country: </b>%{customdata}<br><br><b>Index value: </b>%{z}\",\"<b>Country: </b>%{customdata}<br><br><b>Index value: </b>%{z}\",\"<b>Country: </b>%{customdata}<br><br><b>Index value: </b>%{z}\",\"<b>Country: </b>%{customdata}<br><br><b>Index value: </b>%{z}\",\"<b>Country: </b>%{customdata}<br><br><b>Index value: </b>%{z}\",\"<b>Country: </b>%{customdata}<br><br><b>Index value: </b>%{z}\",\"<b>Country: </b>%{customdata}<br><br><b>Index value: </b>%{z}\",\"<b>Country: </b>%{customdata}<br><br><b>Index value: </b>%{z}\",\"<b>Country: </b> %{customdata}<br><br>No data available\",\"<b>Country: </b>%{customdata}<br><br><b>Index value: </b>%{z}\",\"<b>Country: </b>%{customdata}<br><br><b>Index value: </b>%{z}\",\"<b>Country: </b>%{customdata}<br><br><b>Index value: </b>%{z}\",\"<b>Country: </b>%{customdata}<br><br><b>Index value: </b>%{z}\",\"<b>Country: </b>%{customdata}<br><br><b>Index value: </b>%{z}\",\"<b>Country: </b> %{customdata}<br><br>No data available\",\"<b>Country: </b>%{customdata}<br><br><b>Index value: </b>%{z}\",\"<b>Country: </b>%{customdata}<br><br><b>Index value: </b>%{z}\",\"<b>Country: </b>%{customdata}<br><br><b>Index value: </b>%{z}\",\"<b>Country: </b>%{customdata}<br><br><b>Index value: </b>%{z}\",\"<b>Country: </b>%{customdata}<br><br><b>Index value: </b>%{z}\",\"<b>Country: </b>%{customdata}<br><br><b>Index value: </b>%{z}\",\"<b>Country: </b>%{customdata}<br><br><b>Index value: </b>%{z}\",\"<b>Country: </b>%{customdata}<br><br><b>Index value: </b>%{z}\",\"<b>Country: </b>%{customdata}<br><br><b>Index value: </b>%{z}\",\"<b>Country: </b>%{customdata}<br><br><b>Index value: </b>%{z}\",\"<b>Country: </b>%{customdata}<br><br><b>Index value: </b>%{z}\",\"<b>Country: </b>%{customdata}<br><br><b>Index value: </b>%{z}\",\"<b>Country: </b>%{customdata}<br><br><b>Index value: </b>%{z}\",\"<b>Country: </b>%{customdata}<br><br><b>Index value: </b>%{z}\",\"<b>Country: </b>%{customdata}<br><br><b>Index value: </b>%{z}\",\"<b>Country: </b>%{customdata}<br><br><b>Index value: </b>%{z}\",\"<b>Country: </b>%{customdata}<br><br><b>Index value: </b>%{z}\",\"<b>Country: </b>%{customdata}<br><br><b>Index value: </b>%{z}\",\"<b>Country: </b>%{customdata}<br><br><b>Index value: </b>%{z}\",\"<b>Country: </b>%{customdata}<br><br><b>Index value: </b>%{z}\",\"<b>Country: </b>%{customdata}<br><br><b>Index value: </b>%{z}\",\"<b>Country: </b>%{customdata}<br><br><b>Index value: </b>%{z}\",\"<b>Country: </b>%{customdata}<br><br><b>Index value: </b>%{z}\",\"<b>Country: </b>%{customdata}<br><br><b>Index value: </b>%{z}\",\"<b>Country: </b>%{customdata}<br><br><b>Index value: </b>%{z}\",\"<b>Country: </b>%{customdata}<br><br><b>Index value: </b>%{z}\",\"<b>Country: </b>%{customdata}<br><br><b>Index value: </b>%{z}\",\"<b>Country: </b>%{customdata}<br><br><b>Index value: </b>%{z}\",\"<b>Country: </b>%{customdata}<br><br><b>Index value: </b>%{z}\",\"<b>Country: </b>%{customdata}<br><br><b>Index value: </b>%{z}\",\"<b>Country: </b>%{customdata}<br><br><b>Index value: </b>%{z}\",\"<b>Country: </b> %{customdata}<br><br>No data available\",\"<b>Country: </b>%{customdata}<br><br><b>Index value: </b>%{z}\",\"<b>Country: </b>%{customdata}<br><br><b>Index value: </b>%{z}\",\"<b>Country: </b>%{customdata}<br><br><b>Index value: </b>%{z}\",\"<b>Country: </b>%{customdata}<br><br><b>Index value: </b>%{z}\",\"<b>Country: </b>%{customdata}<br><br><b>Index value: </b>%{z}\",\"<b>Country: </b> %{customdata}<br><br>No data available\",\"<b>Country: </b>%{customdata}<br><br><b>Index value: </b>%{z}\",\"<b>Country: </b>%{customdata}<br><br><b>Index value: </b>%{z}\",\"<b>Country: </b>%{customdata}<br><br><b>Index value: </b>%{z}\",\"<b>Country: </b>%{customdata}<br><br><b>Index value: </b>%{z}\",\"<b>Country: </b>%{customdata}<br><br><b>Index value: </b>%{z}\",\"<b>Country: </b>%{customdata}<br><br><b>Index value: </b>%{z}\",\"<b>Country: </b>%{customdata}<br><br><b>Index value: </b>%{z}\",\"<b>Country: </b>%{customdata}<br><br><b>Index value: </b>%{z}\",\"<b>Country: </b>%{customdata}<br><br><b>Index value: </b>%{z}\",\"<b>Country: </b>%{customdata}<br><br><b>Index value: </b>%{z}\",\"<b>Country: </b>%{customdata}<br><br><b>Index value: </b>%{z}\",\"<b>Country: </b>%{customdata}<br><br><b>Index value: </b>%{z}\",\"<b>Country: </b>%{customdata}<br><br><b>Index value: </b>%{z}\",\"<b>Country: </b>%{customdata}<br><br><b>Index value: </b>%{z}\",\"<b>Country: </b>%{customdata}<br><br><b>Index value: </b>%{z}\",\"<b>Country: </b>%{customdata}<br><br><b>Index value: </b>%{z}\",\"<b>Country: </b>%{customdata}<br><br><b>Index value: </b>%{z}\",\"<b>Country: </b>%{customdata}<br><br><b>Index value: </b>%{z}\",\"<b>Country: </b>%{customdata}<br><br><b>Index value: </b>%{z}\",\"<b>Country: </b>%{customdata}<br><br><b>Index value: </b>%{z}\",\"<b>Country: </b>%{customdata}<br><br><b>Index value: </b>%{z}\",\"<b>Country: </b>%{customdata}<br><br><b>Index value: </b>%{z}\",\"<b>Country: </b>%{customdata}<br><br><b>Index value: </b>%{z}\",\"<b>Country: </b>%{customdata}<br><br><b>Index value: </b>%{z}\",\"<b>Country: </b>%{customdata}<br><br><b>Index value: </b>%{z}\",\"<b>Country: </b>%{customdata}<br><br><b>Index value: </b>%{z}\",\"<b>Country: </b>%{customdata}<br><br><b>Index value: </b>%{z}\",\"<b>Country: </b>%{customdata}<br><br><b>Index value: </b>%{z}\",\"<b>Country: </b>%{customdata}<br><br><b>Index value: </b>%{z}\",\"<b>Country: </b>%{customdata}<br><br><b>Index value: </b>%{z}\",\"<b>Country: </b>%{customdata}<br><br><b>Index value: </b>%{z}\",\"<b>Country: </b> %{customdata}<br><br>No data available\",\"<b>Country: </b>%{customdata}<br><br><b>Index value: </b>%{z}\",\"<b>Country: </b>%{customdata}<br><br><b>Index value: </b>%{z}\",\"<b>Country: </b>%{customdata}<br><br><b>Index value: </b>%{z}\",\"<b>Country: </b>%{customdata}<br><br><b>Index value: </b>%{z}\",\"<b>Country: </b>%{customdata}<br><br><b>Index value: </b>%{z}\",\"<b>Country: </b> %{customdata}<br><br>No data available\",\"<b>Country: </b>%{customdata}<br><br><b>Index value: </b>%{z}\",\"<b>Country: </b>%{customdata}<br><br><b>Index value: </b>%{z}\",\"<b>Country: </b>%{customdata}<br><br><b>Index value: </b>%{z}\",\"<b>Country: </b>%{customdata}<br><br><b>Index value: </b>%{z}\",\"<b>Country: </b>%{customdata}<br><br><b>Index value: </b>%{z}\",\"<b>Country: </b>%{customdata}<br><br><b>Index value: </b>%{z}\",\"<b>Country: </b>%{customdata}<br><br><b>Index value: </b>%{z}\",\"<b>Country: </b>%{customdata}<br><br><b>Index value: </b>%{z}\",\"<b>Country: </b>%{customdata}<br><br><b>Index value: </b>%{z}\",\"<b>Country: </b>%{customdata}<br><br><b>Index value: </b>%{z}\",\"<b>Country: </b>%{customdata}<br><br><b>Index value: </b>%{z}\",\"<b>Country: </b>%{customdata}<br><br><b>Index value: </b>%{z}\",\"<b>Country: </b>%{customdata}<br><br><b>Index value: </b>%{z}\",\"<b>Country: </b>%{customdata}<br><br><b>Index value: </b>%{z}\",\"<b>Country: </b>%{customdata}<br><br><b>Index value: </b>%{z}\",\"<b>Country: </b>%{customdata}<br><br><b>Index value: </b>%{z}\",\"<b>Country: </b>%{customdata}<br><br><b>Index value: </b>%{z}\",\"<b>Country: </b>%{customdata}<br><br><b>Index value: </b>%{z}\",\"<b>Country: </b>%{customdata}<br><br><b>Index value: </b>%{z}\",\"<b>Country: </b>%{customdata}<br><br><b>Index value: </b>%{z}\",\"<b>Country: </b>%{customdata}<br><br><b>Index value: </b>%{z}\",\"<b>Country: </b>%{customdata}<br><br><b>Index value: </b>%{z}\",\"<b>Country: </b>%{customdata}<br><br><b>Index value: </b>%{z}\",\"<b>Country: </b>%{customdata}<br><br><b>Index value: </b>%{z}\",\"<b>Country: </b>%{customdata}<br><br><b>Index value: </b>%{z}\",\"<b>Country: </b>%{customdata}<br><br><b>Index value: </b>%{z}\",\"<b>Country: </b>%{customdata}<br><br><b>Index value: </b>%{z}\",\"<b>Country: </b>%{customdata}<br><br><b>Index value: </b>%{z}\",\"<b>Country: </b>%{customdata}<br><br><b>Index value: </b>%{z}\",\"<b>Country: </b>%{customdata}<br><br><b>Index value: </b>%{z}\",\"<b>Country: </b>%{customdata}<br><br><b>Index value: </b>%{z}\",\"<b>Country: </b> %{customdata}<br><br>No data available\",\"<b>Country: </b>%{customdata}<br><br><b>Index value: </b>%{z}\",\"<b>Country: </b>%{customdata}<br><br><b>Index value: </b>%{z}\",\"<b>Country: </b>%{customdata}<br><br><b>Index value: </b>%{z}\",\"<b>Country: </b>%{customdata}<br><br><b>Index value: </b>%{z}\",\"<b>Country: </b>%{customdata}<br><br><b>Index value: </b>%{z}\",\"<b>Country: </b> %{customdata}<br><br>No data available\",\"<b>Country: </b>%{customdata}<br><br><b>Index value: </b>%{z}\",\"<b>Country: </b>%{customdata}<br><br><b>Index value: </b>%{z}\",\"<b>Country: </b>%{customdata}<br><br><b>Index value: </b>%{z}\",\"<b>Country: </b>%{customdata}<br><br><b>Index value: </b>%{z}\",\"<b>Country: </b>%{customdata}<br><br><b>Index value: </b>%{z}\",\"<b>Country: </b>%{customdata}<br><br><b>Index value: </b>%{z}\",\"<b>Country: </b>%{customdata}<br><br><b>Index value: </b>%{z}\",\"<b>Country: </b>%{customdata}<br><br><b>Index value: </b>%{z}\",\"<b>Country: </b>%{customdata}<br><br><b>Index value: </b>%{z}\",\"<b>Country: </b>%{customdata}<br><br><b>Index value: </b>%{z}\",\"<b>Country: </b>%{customdata}<br><br><b>Index value: </b>%{z}\",\"<b>Country: </b>%{customdata}<br><br><b>Index value: </b>%{z}\",\"<b>Country: </b>%{customdata}<br><br><b>Index value: </b>%{z}\",\"<b>Country: </b>%{customdata}<br><br><b>Index value: </b>%{z}\",\"<b>Country: </b>%{customdata}<br><br><b>Index value: </b>%{z}\",\"<b>Country: </b>%{customdata}<br><br><b>Index value: </b>%{z}\",\"<b>Country: </b>%{customdata}<br><br><b>Index value: </b>%{z}\",\"<b>Country: </b>%{customdata}<br><br><b>Index value: </b>%{z}\",\"<b>Country: </b>%{customdata}<br><br><b>Index value: </b>%{z}\",\"<b>Country: </b>%{customdata}<br><br><b>Index value: </b>%{z}\",\"<b>Country: </b>%{customdata}<br><br><b>Index value: </b>%{z}\",\"<b>Country: </b>%{customdata}<br><br><b>Index value: </b>%{z}\",\"<b>Country: </b>%{customdata}<br><br><b>Index value: </b>%{z}\",\"<b>Country: </b>%{customdata}<br><br><b>Index value: </b>%{z}\",\"<b>Country: </b>%{customdata}<br><br><b>Index value: </b>%{z}\",\"<b>Country: </b>%{customdata}<br><br><b>Index value: </b>%{z}\",\"<b>Country: </b>%{customdata}<br><br><b>Index value: </b>%{z}\",\"<b>Country: </b>%{customdata}<br><br><b>Index value: </b>%{z}\",\"<b>Country: </b>%{customdata}<br><br><b>Index value: </b>%{z}\",\"<b>Country: </b>%{customdata}<br><br><b>Index value: </b>%{z}\",\"<b>Country: </b>%{customdata}<br><br><b>Index value: </b>%{z}\",\"<b>Country: </b> %{customdata}<br><br>No data available\",\"<b>Country: </b>%{customdata}<br><br><b>Index value: </b>%{z}\",\"<b>Country: </b>%{customdata}<br><br><b>Index value: </b>%{z}\",\"<b>Country: </b>%{customdata}<br><br><b>Index value: </b>%{z}\",\"<b>Country: </b>%{customdata}<br><br><b>Index value: </b>%{z}\",\"<b>Country: </b>%{customdata}<br><br><b>Index value: </b>%{z}\",\"<b>Country: </b> %{customdata}<br><br>No data available\",\"<b>Country: </b>%{customdata}<br><br><b>Index value: </b>%{z}\",\"<b>Country: </b>%{customdata}<br><br><b>Index value: </b>%{z}\",\"<b>Country: </b>%{customdata}<br><br><b>Index value: </b>%{z}\",\"<b>Country: </b>%{customdata}<br><br><b>Index value: </b>%{z}\",\"<b>Country: </b>%{customdata}<br><br><b>Index value: </b>%{z}\",\"<b>Country: </b>%{customdata}<br><br><b>Index value: </b>%{z}\",\"<b>Country: </b>%{customdata}<br><br><b>Index value: </b>%{z}\",\"<b>Country: </b>%{customdata}<br><br><b>Index value: </b>%{z}\",\"<b>Country: </b>%{customdata}<br><br><b>Index value: </b>%{z}\",\"<b>Country: </b>%{customdata}<br><br><b>Index value: </b>%{z}\",\"<b>Country: </b>%{customdata}<br><br><b>Index value: </b>%{z}\",\"<b>Country: </b>%{customdata}<br><br><b>Index value: </b>%{z}\",\"<b>Country: </b>%{customdata}<br><br><b>Index value: </b>%{z}\",\"<b>Country: </b>%{customdata}<br><br><b>Index value: </b>%{z}\",\"<b>Country: </b>%{customdata}<br><br><b>Index value: </b>%{z}\",\"<b>Country: </b>%{customdata}<br><br><b>Index value: </b>%{z}\",\"<b>Country: </b>%{customdata}<br><br><b>Index value: </b>%{z}\",\"<b>Country: </b>%{customdata}<br><br><b>Index value: </b>%{z}\",\"<b>Country: </b>%{customdata}<br><br><b>Index value: </b>%{z}\",\"<b>Country: </b>%{customdata}<br><br><b>Index value: </b>%{z}\",\"<b>Country: </b>%{customdata}<br><br><b>Index value: </b>%{z}\",\"<b>Country: </b>%{customdata}<br><br><b>Index value: </b>%{z}\",\"<b>Country: </b>%{customdata}<br><br><b>Index value: </b>%{z}\",\"<b>Country: </b>%{customdata}<br><br><b>Index value: </b>%{z}\",\"<b>Country: </b>%{customdata}<br><br><b>Index value: </b>%{z}\",\"<b>Country: </b>%{customdata}<br><br><b>Index value: </b>%{z}\",\"<b>Country: </b>%{customdata}<br><br><b>Index value: </b>%{z}\",\"<b>Country: </b>%{customdata}<br><br><b>Index value: </b>%{z}\",\"<b>Country: </b>%{customdata}<br><br><b>Index value: </b>%{z}\",\"<b>Country: </b>%{customdata}<br><br><b>Index value: </b>%{z}\",\"<b>Country: </b>%{customdata}<br><br><b>Index value: </b>%{z}\",\"<b>Country: </b> %{customdata}<br><br>No data available\",\"<b>Country: </b>%{customdata}<br><br><b>Index value: </b>%{z}\",\"<b>Country: </b>%{customdata}<br><br><b>Index value: </b>%{z}\",\"<b>Country: </b>%{customdata}<br><br><b>Index value: </b>%{z}\",\"<b>Country: </b>%{customdata}<br><br><b>Index value: </b>%{z}\",\"<b>Country: </b>%{customdata}<br><br><b>Index value: </b>%{z}\",\"<b>Country: </b> %{customdata}<br><br>No data available\",\"<b>Country: </b>%{customdata}<br><br><b>Index value: </b>%{z}\",\"<b>Country: </b>%{customdata}<br><br><b>Index value: </b>%{z}\",\"<b>Country: </b>%{customdata}<br><br><b>Index value: </b>%{z}\",\"<b>Country: </b>%{customdata}<br><br><b>Index value: </b>%{z}\",\"<b>Country: </b>%{customdata}<br><br><b>Index value: </b>%{z}\",\"<b>Country: </b>%{customdata}<br><br><b>Index value: </b>%{z}\",\"<b>Country: </b>%{customdata}<br><br><b>Index value: </b>%{z}\",\"<b>Country: </b>%{customdata}<br><br><b>Index value: </b>%{z}\",\"<b>Country: </b>%{customdata}<br><br><b>Index value: </b>%{z}\",\"<b>Country: </b>%{customdata}<br><br><b>Index value: </b>%{z}\",\"<b>Country: </b>%{customdata}<br><br><b>Index value: </b>%{z}\",\"<b>Country: </b>%{customdata}<br><br><b>Index value: </b>%{z}\",\"<b>Country: </b>%{customdata}<br><br><b>Index value: </b>%{z}\",\"<b>Country: </b>%{customdata}<br><br><b>Index value: </b>%{z}\",\"<b>Country: </b>%{customdata}<br><br><b>Index value: </b>%{z}\",\"<b>Country: </b>%{customdata}<br><br><b>Index value: </b>%{z}\",\"<b>Country: </b>%{customdata}<br><br><b>Index value: </b>%{z}\",\"<b>Country: </b>%{customdata}<br><br><b>Index value: </b>%{z}\",\"<b>Country: </b>%{customdata}<br><br><b>Index value: </b>%{z}\",\"<b>Country: </b>%{customdata}<br><br><b>Index value: </b>%{z}\",\"<b>Country: </b>%{customdata}<br><br><b>Index value: </b>%{z}\",\"<b>Country: </b>%{customdata}<br><br><b>Index value: </b>%{z}\",\"<b>Country: </b>%{customdata}<br><br><b>Index value: </b>%{z}\",\"<b>Country: </b>%{customdata}<br><br><b>Index value: </b>%{z}\",\"<b>Country: </b>%{customdata}<br><br><b>Index value: </b>%{z}\",\"<b>Country: </b>%{customdata}<br><br><b>Index value: </b>%{z}\",\"<b>Country: </b>%{customdata}<br><br><b>Index value: </b>%{z}\",\"<b>Country: </b>%{customdata}<br><br><b>Index value: </b>%{z}\",\"<b>Country: </b>%{customdata}<br><br><b>Index value: </b>%{z}\",\"<b>Country: </b>%{customdata}<br><br><b>Index value: </b>%{z}\",\"<b>Country: </b>%{customdata}<br><br><b>Index value: </b>%{z}\",\"<b>Country: </b> %{customdata}<br><br>No data available\",\"<b>Country: </b>%{customdata}<br><br><b>Index value: </b>%{z}\",\"<b>Country: </b>%{customdata}<br><br><b>Index value: </b>%{z}\",\"<b>Country: </b>%{customdata}<br><br><b>Index value: </b>%{z}\",\"<b>Country: </b>%{customdata}<br><br><b>Index value: </b>%{z}\",\"<b>Country: </b>%{customdata}<br><br><b>Index value: </b>%{z}\",\"<b>Country: </b> %{customdata}<br><br>No data available\",\"<b>Country: </b>%{customdata}<br><br><b>Index value: </b>%{z}\",\"<b>Country: </b>%{customdata}<br><br><b>Index value: </b>%{z}\",\"<b>Country: </b>%{customdata}<br><br><b>Index value: </b>%{z}\",\"<b>Country: </b>%{customdata}<br><br><b>Index value: </b>%{z}\",\"<b>Country: </b>%{customdata}<br><br><b>Index value: </b>%{z}\",\"<b>Country: </b>%{customdata}<br><br><b>Index value: </b>%{z}\",\"<b>Country: </b>%{customdata}<br><br><b>Index value: </b>%{z}\",\"<b>Country: </b>%{customdata}<br><br><b>Index value: </b>%{z}\",\"<b>Country: </b>%{customdata}<br><br><b>Index value: </b>%{z}\",\"<b>Country: </b>%{customdata}<br><br><b>Index value: </b>%{z}\",\"<b>Country: </b>%{customdata}<br><br><b>Index value: </b>%{z}\",\"<b>Country: </b>%{customdata}<br><br><b>Index value: </b>%{z}\",\"<b>Country: </b>%{customdata}<br><br><b>Index value: </b>%{z}\",\"<b>Country: </b>%{customdata}<br><br><b>Index value: </b>%{z}\",\"<b>Country: </b>%{customdata}<br><br><b>Index value: </b>%{z}\",\"<b>Country: </b>%{customdata}<br><br><b>Index value: </b>%{z}\",\"<b>Country: </b>%{customdata}<br><br><b>Index value: </b>%{z}\",\"<b>Country: </b>%{customdata}<br><br><b>Index value: </b>%{z}\",\"<b>Country: </b>%{customdata}<br><br><b>Index value: </b>%{z}\",\"<b>Country: </b>%{customdata}<br><br><b>Index value: </b>%{z}\",\"<b>Country: </b>%{customdata}<br><br><b>Index value: </b>%{z}\",\"<b>Country: </b>%{customdata}<br><br><b>Index value: </b>%{z}\",\"<b>Country: </b>%{customdata}<br><br><b>Index value: </b>%{z}\",\"<b>Country: </b>%{customdata}<br><br><b>Index value: </b>%{z}\",\"<b>Country: </b>%{customdata}<br><br><b>Index value: </b>%{z}\",\"<b>Country: </b>%{customdata}<br><br><b>Index value: </b>%{z}\",\"<b>Country: </b>%{customdata}<br><br><b>Index value: </b>%{z}\",\"<b>Country: </b>%{customdata}<br><br><b>Index value: </b>%{z}\",\"<b>Country: </b>%{customdata}<br><br><b>Index value: </b>%{z}\",\"<b>Country: </b>%{customdata}<br><br><b>Index value: </b>%{z}\",\"<b>Country: </b>%{customdata}<br><br><b>Index value: </b>%{z}\",\"<b>Country: </b> %{customdata}<br><br>No data available\",\"<b>Country: </b>%{customdata}<br><br><b>Index value: </b>%{z}\",\"<b>Country: </b>%{customdata}<br><br><b>Index value: </b>%{z}\",\"<b>Country: </b>%{customdata}<br><br><b>Index value: </b>%{z}\",\"<b>Country: </b>%{customdata}<br><br><b>Index value: </b>%{z}\",\"<b>Country: </b>%{customdata}<br><br><b>Index value: </b>%{z}\",\"<b>Country: </b> %{customdata}<br><br>No data available\",\"<b>Country: </b>%{customdata}<br><br><b>Index value: </b>%{z}\",\"<b>Country: </b>%{customdata}<br><br><b>Index value: </b>%{z}\",\"<b>Country: </b>%{customdata}<br><br><b>Index value: </b>%{z}\",\"<b>Country: </b>%{customdata}<br><br><b>Index value: </b>%{z}\",\"<b>Country: </b>%{customdata}<br><br><b>Index value: </b>%{z}\",\"<b>Country: </b>%{customdata}<br><br><b>Index value: </b>%{z}\",\"<b>Country: </b>%{customdata}<br><br><b>Index value: </b>%{z}\",\"<b>Country: </b>%{customdata}<br><br><b>Index value: </b>%{z}\",\"<b>Country: </b>%{customdata}<br><br><b>Index value: </b>%{z}\",\"<b>Country: </b>%{customdata}<br><br><b>Index value: </b>%{z}\",\"<b>Country: </b>%{customdata}<br><br><b>Index value: </b>%{z}\",\"<b>Country: </b>%{customdata}<br><br><b>Index value: </b>%{z}\",\"<b>Country: </b>%{customdata}<br><br><b>Index value: </b>%{z}\",\"<b>Country: </b>%{customdata}<br><br><b>Index value: </b>%{z}\",\"<b>Country: </b>%{customdata}<br><br><b>Index value: </b>%{z}\",\"<b>Country: </b>%{customdata}<br><br><b>Index value: </b>%{z}\",\"<b>Country: </b>%{customdata}<br><br><b>Index value: </b>%{z}\",\"<b>Country: </b>%{customdata}<br><br><b>Index value: </b>%{z}\",\"<b>Country: </b>%{customdata}<br><br><b>Index value: </b>%{z}\",\"<b>Country: </b>%{customdata}<br><br><b>Index value: </b>%{z}\",\"<b>Country: </b>%{customdata}<br><br><b>Index value: </b>%{z}\",\"<b>Country: </b>%{customdata}<br><br><b>Index value: </b>%{z}\",\"<b>Country: </b>%{customdata}<br><br><b>Index value: </b>%{z}\",\"<b>Country: </b>%{customdata}<br><br><b>Index value: </b>%{z}\",\"<b>Country: </b>%{customdata}<br><br><b>Index value: </b>%{z}\",\"<b>Country: </b>%{customdata}<br><br><b>Index value: </b>%{z}\",\"<b>Country: </b>%{customdata}<br><br><b>Index value: </b>%{z}\",\"<b>Country: </b>%{customdata}<br><br><b>Index value: </b>%{z}\",\"<b>Country: </b>%{customdata}<br><br><b>Index value: </b>%{z}\",\"<b>Country: </b>%{customdata}<br><br><b>Index value: </b>%{z}\",\"<b>Country: </b>%{customdata}<br><br><b>Index value: </b>%{z}\",\"<b>Country: </b> %{customdata}<br><br>No data available\",\"<b>Country: </b>%{customdata}<br><br><b>Index value: </b>%{z}\",\"<b>Country: </b>%{customdata}<br><br><b>Index value: </b>%{z}\",\"<b>Country: </b>%{customdata}<br><br><b>Index value: </b>%{z}\",\"<b>Country: </b>%{customdata}<br><br><b>Index value: </b>%{z}\",\"<b>Country: </b>%{customdata}<br><br><b>Index value: </b>%{z}\",\"<b>Country: </b> %{customdata}<br><br>No data available\",\"<b>Country: </b>%{customdata}<br><br><b>Index value: </b>%{z}\",\"<b>Country: </b>%{customdata}<br><br><b>Index value: </b>%{z}\",\"<b>Country: </b>%{customdata}<br><br><b>Index value: </b>%{z}\",\"<b>Country: </b>%{customdata}<br><br><b>Index value: </b>%{z}\",\"<b>Country: </b>%{customdata}<br><br><b>Index value: </b>%{z}\",\"<b>Country: </b>%{customdata}<br><br><b>Index value: </b>%{z}\",\"<b>Country: </b>%{customdata}<br><br><b>Index value: </b>%{z}\",\"<b>Country: </b>%{customdata}<br><br><b>Index value: </b>%{z}\",\"<b>Country: </b>%{customdata}<br><br><b>Index value: </b>%{z}\",\"<b>Country: </b>%{customdata}<br><br><b>Index value: </b>%{z}\",\"<b>Country: </b>%{customdata}<br><br><b>Index value: </b>%{z}\",\"<b>Country: </b>%{customdata}<br><br><b>Index value: </b>%{z}\",\"<b>Country: </b>%{customdata}<br><br><b>Index value: </b>%{z}\",\"<b>Country: </b>%{customdata}<br><br><b>Index value: </b>%{z}\",\"<b>Country: </b>%{customdata}<br><br><b>Index value: </b>%{z}\",\"<b>Country: </b>%{customdata}<br><br><b>Index value: </b>%{z}\",\"<b>Country: </b>%{customdata}<br><br><b>Index value: </b>%{z}\",\"<b>Country: </b>%{customdata}<br><br><b>Index value: </b>%{z}\",\"<b>Country: </b>%{customdata}<br><br><b>Index value: </b>%{z}\",\"<b>Country: </b>%{customdata}<br><br><b>Index value: </b>%{z}\",\"<b>Country: </b>%{customdata}<br><br><b>Index value: </b>%{z}\",\"<b>Country: </b>%{customdata}<br><br><b>Index value: </b>%{z}\",\"<b>Country: </b>%{customdata}<br><br><b>Index value: </b>%{z}\",\"<b>Country: </b>%{customdata}<br><br><b>Index value: </b>%{z}\",\"<b>Country: </b>%{customdata}<br><br><b>Index value: </b>%{z}\",\"<b>Country: </b>%{customdata}<br><br><b>Index value: </b>%{z}\",\"<b>Country: </b>%{customdata}<br><br><b>Index value: </b>%{z}\",\"<b>Country: </b>%{customdata}<br><br><b>Index value: </b>%{z}\",\"<b>Country: </b>%{customdata}<br><br><b>Index value: </b>%{z}\",\"<b>Country: </b>%{customdata}<br><br><b>Index value: </b>%{z}\",\"<b>Country: </b>%{customdata}<br><br><b>Index value: </b>%{z}\",\"<b>Country: </b> %{customdata}<br><br>No data available\",\"<b>Country: </b>%{customdata}<br><br><b>Index value: </b>%{z}\",\"<b>Country: </b>%{customdata}<br><br><b>Index value: </b>%{z}\",\"<b>Country: </b> %{customdata}<br><br>No data available\",\"<b>Country: </b>%{customdata}<br><br><b>Index value: </b>%{z}\",\"<b>Country: </b>%{customdata}<br><br><b>Index value: </b>%{z}\",\"<b>Country: </b> %{customdata}<br><br>No data available\",\"<b>Country: </b>%{customdata}<br><br><b>Index value: </b>%{z}\",\"<b>Country: </b>%{customdata}<br><br><b>Index value: </b>%{z}\",\"<b>Country: </b>%{customdata}<br><br><b>Index value: </b>%{z}\",\"<b>Country: </b>%{customdata}<br><br><b>Index value: </b>%{z}\",\"<b>Country: </b>%{customdata}<br><br><b>Index value: </b>%{z}\",\"<b>Country: </b>%{customdata}<br><br><b>Index value: </b>%{z}\",\"<b>Country: </b>%{customdata}<br><br><b>Index value: </b>%{z}\",\"<b>Country: </b>%{customdata}<br><br><b>Index value: </b>%{z}\",\"<b>Country: </b>%{customdata}<br><br><b>Index value: </b>%{z}\",\"<b>Country: </b>%{customdata}<br><br><b>Index value: </b>%{z}\",\"<b>Country: </b>%{customdata}<br><br><b>Index value: </b>%{z}\",\"<b>Country: </b>%{customdata}<br><br><b>Index value: </b>%{z}\",\"<b>Country: </b>%{customdata}<br><br><b>Index value: </b>%{z}\",\"<b>Country: </b>%{customdata}<br><br><b>Index value: </b>%{z}\",\"<b>Country: </b>%{customdata}<br><br><b>Index value: </b>%{z}\",\"<b>Country: </b>%{customdata}<br><br><b>Index value: </b>%{z}\",\"<b>Country: </b>%{customdata}<br><br><b>Index value: </b>%{z}\",\"<b>Country: </b>%{customdata}<br><br><b>Index value: </b>%{z}\",\"<b>Country: </b>%{customdata}<br><br><b>Index value: </b>%{z}\",\"<b>Country: </b>%{customdata}<br><br><b>Index value: </b>%{z}\",\"<b>Country: </b>%{customdata}<br><br><b>Index value: </b>%{z}\",\"<b>Country: </b>%{customdata}<br><br><b>Index value: </b>%{z}\",\"<b>Country: </b>%{customdata}<br><br><b>Index value: </b>%{z}\",\"<b>Country: </b>%{customdata}<br><br><b>Index value: </b>%{z}\",\"<b>Country: </b>%{customdata}<br><br><b>Index value: </b>%{z}\",\"<b>Country: </b>%{customdata}<br><br><b>Index value: </b>%{z}\",\"<b>Country: </b>%{customdata}<br><br><b>Index value: </b>%{z}\",\"<b>Country: </b>%{customdata}<br><br><b>Index value: </b>%{z}\",\"<b>Country: </b>%{customdata}<br><br><b>Index value: </b>%{z}\",\"<b>Country: </b>%{customdata}<br><br><b>Index value: </b>%{z}\",\"<b>Country: </b>%{customdata}<br><br><b>Index value: </b>%{z}\",\"<b>Country: </b> %{customdata}<br><br>No data available\",\"<b>Country: </b>%{customdata}<br><br><b>Index value: </b>%{z}\",\"<b>Country: </b>%{customdata}<br><br><b>Index value: </b>%{z}\",\"<b>Country: </b> %{customdata}<br><br>No data available\",\"<b>Country: </b>%{customdata}<br><br><b>Index value: </b>%{z}\",\"<b>Country: </b>%{customdata}<br><br><b>Index value: </b>%{z}\",\"<b>Country: </b> %{customdata}<br><br>No data available\",\"<b>Country: </b>%{customdata}<br><br><b>Index value: </b>%{z}\",\"<b>Country: </b>%{customdata}<br><br><b>Index value: </b>%{z}\"],\"hovertext\":[\"EU\",\"Belgium\",\"Bulgaria\",\"Czech Republic\",\"Denmark\",\"Germany\",\"Estonia\",\"Ireland\",\"Greece\",\"Spain\",\"France\",\"Croatia\",\"Italy\",\"Cyprus\",\"Latvia\",\"Lithuania\",\"Luxembourg\",\"Hungary\",\"Malta\",\"Netherlands\",\"Austria\",\"Poland\",\"Portugal\",\"Romania\",\"Slovenia\",\"Slovakia\",\"Finland\",\"Sweden\",\"Iceland\",\"Liechtenstein\",\"Norway\",\"Switzerland\",\"United Kingdom\",\"Montenegro\",\"North Macedonia\",\"Albania\",\"Serbia\",\"Turkey\"],\"ids\":[\"EU\",\"Belgium\",\"Bulgaria\",\"Czech Republic\",\"Denmark\",\"Germany\",\"Estonia\",\"Ireland\",\"Greece\",\"Spain\",\"France\",\"Croatia\",\"Italy\",\"Cyprus\",\"Latvia\",\"Lithuania\",\"Luxembourg\",\"Hungary\",\"Malta\",\"Netherlands\",\"Austria\",\"Poland\",\"Portugal\",\"Romania\",\"Slovenia\",\"Slovakia\",\"Finland\",\"Sweden\",\"Iceland\",\"Liechtenstein\",\"Norway\",\"Switzerland\",\"United Kingdom\",\"Montenegro\",\"North Macedonia\",\"Albania\",\"Serbia\",\"Turkey\"],\"locations\":[null,\"BEL\",\"BGR\",\"CZE\",\"DNK\",\"DEU\",\"EST\",\"IRL\",\"GRC\",\"ESP\",\"FRA\",\"HRV\",\"ITA\",\"CYP\",\"LVA\",\"LTU\",\"LUX\",\"HUN\",\"MLT\",\"NLD\",\"AUT\",\"POL\",\"PRT\",\"ROU\",\"SVN\",\"SVK\",\"FIN\",\"SWE\",\"ISL\",\"LIE\",\"NOR\",\"CHE\",\"GBR\",\"MNE\",\"MKD\",\"ALB\",\"SRB\",\"TUR\"],\"name\":\"\",\"z\":[103.7,114.1,91.5,101.2,98.7,101.4,95.1,128.7,82.6,106.3,108.7,99.2,99.4,86.9,111.3,153.4,98.1,108.1,115.5,106.9,97.0,112.5,95.9,96.3,99.9,107.6,98.2,98.5,101.5,0.0,100.4,115.3,108.4,108.8,75.1,0.0,110.8,110.7],\"type\":\"choropleth\",\"customdata\":[\"EU\",\"Belgium\",\"Bulgaria\",\"Czech Republic\",\"Denmark\",\"Germany\",\"Estonia\",\"Ireland\",\"Greece\",\"Spain\",\"France\",\"Croatia\",\"Italy\",\"Cyprus\",\"Latvia\",\"Lithuania\",\"Luxembourg\",\"Hungary\",\"Malta\",\"Netherlands\",\"Austria\",\"Poland\",\"Portugal\",\"Romania\",\"Slovenia\",\"Slovakia\",\"Finland\",\"Sweden\",\"Iceland\",\"Liechtenstein\",\"Norway\",\"Switzerland\",\"United Kingdom\",\"Montenegro\",\"North Macedonia\",\"Albania\",\"Serbia\",\"Turkey\",\"EU\",\"Belgium\",\"Bulgaria\",\"Czech Republic\",\"Denmark\",\"Germany\",\"Estonia\",\"Ireland\",\"Greece\",\"Spain\",\"France\",\"Croatia\",\"Italy\",\"Cyprus\",\"Latvia\",\"Lithuania\",\"Luxembourg\",\"Hungary\",\"Malta\",\"Netherlands\",\"Austria\",\"Poland\",\"Portugal\",\"Romania\",\"Slovenia\",\"Slovakia\",\"Finland\",\"Sweden\",\"Iceland\",\"Liechtenstein\",\"Norway\",\"Switzerland\",\"United Kingdom\",\"Montenegro\",\"North Macedonia\",\"Albania\",\"Serbia\",\"Turkey\",\"EU\",\"Belgium\",\"Bulgaria\",\"Czech Republic\",\"Denmark\",\"Germany\",\"Estonia\",\"Ireland\",\"Greece\",\"Spain\",\"France\",\"Croatia\",\"Italy\",\"Cyprus\",\"Latvia\",\"Lithuania\",\"Luxembourg\",\"Hungary\",\"Malta\",\"Netherlands\",\"Austria\",\"Poland\",\"Portugal\",\"Romania\",\"Slovenia\",\"Slovakia\",\"Finland\",\"Sweden\",\"Iceland\",\"Liechtenstein\",\"Norway\",\"Switzerland\",\"United Kingdom\",\"Montenegro\",\"North Macedonia\",\"Albania\",\"Serbia\",\"Turkey\",\"EU\",\"Belgium\",\"Bulgaria\",\"Czech Republic\",\"Denmark\",\"Germany\",\"Estonia\",\"Ireland\",\"Greece\",\"Spain\",\"France\",\"Croatia\",\"Italy\",\"Cyprus\",\"Latvia\",\"Lithuania\",\"Luxembourg\",\"Hungary\",\"Malta\",\"Netherlands\",\"Austria\",\"Poland\",\"Portugal\",\"Romania\",\"Slovenia\",\"Slovakia\",\"Finland\",\"Sweden\",\"Iceland\",\"Liechtenstein\",\"Norway\",\"Switzerland\",\"United Kingdom\",\"Montenegro\",\"North Macedonia\",\"Albania\",\"Serbia\",\"Turkey\",\"EU\",\"Belgium\",\"Bulgaria\",\"Czech Republic\",\"Denmark\",\"Germany\",\"Estonia\",\"Ireland\",\"Greece\",\"Spain\",\"France\",\"Croatia\",\"Italy\",\"Cyprus\",\"Latvia\",\"Lithuania\",\"Luxembourg\",\"Hungary\",\"Malta\",\"Netherlands\",\"Austria\",\"Poland\",\"Portugal\",\"Romania\",\"Slovenia\",\"Slovakia\",\"Finland\",\"Sweden\",\"Iceland\",\"Liechtenstein\",\"Norway\",\"Switzerland\",\"United Kingdom\",\"Montenegro\",\"North Macedonia\",\"Albania\",\"Serbia\",\"Turkey\",\"EU\",\"Belgium\",\"Bulgaria\",\"Czech Republic\",\"Denmark\",\"Germany\",\"Estonia\",\"Ireland\",\"Greece\",\"Spain\",\"France\",\"Croatia\",\"Italy\",\"Cyprus\",\"Latvia\",\"Lithuania\",\"Luxembourg\",\"Hungary\",\"Malta\",\"Netherlands\",\"Austria\",\"Poland\",\"Portugal\",\"Romania\",\"Slovenia\",\"Slovakia\",\"Finland\",\"Sweden\",\"Iceland\",\"Liechtenstein\",\"Norway\",\"Switzerland\",\"United Kingdom\",\"Montenegro\",\"North Macedonia\",\"Albania\",\"Serbia\",\"Turkey\",\"EU\",\"Belgium\",\"Bulgaria\",\"Czech Republic\",\"Denmark\",\"Germany\",\"Estonia\",\"Ireland\",\"Greece\",\"Spain\",\"France\",\"Croatia\",\"Italy\",\"Cyprus\",\"Latvia\",\"Lithuania\",\"Luxembourg\",\"Hungary\",\"Malta\",\"Netherlands\",\"Austria\",\"Poland\",\"Portugal\",\"Romania\",\"Slovenia\",\"Slovakia\",\"Finland\",\"Sweden\",\"Iceland\",\"Liechtenstein\",\"Norway\",\"Switzerland\",\"United Kingdom\",\"Montenegro\",\"North Macedonia\",\"Albania\",\"Serbia\",\"Turkey\",\"EU\",\"Belgium\",\"Bulgaria\",\"Czech Republic\",\"Denmark\",\"Germany\",\"Estonia\",\"Ireland\",\"Greece\",\"Spain\",\"France\",\"Croatia\",\"Italy\",\"Cyprus\",\"Latvia\",\"Lithuania\",\"Luxembourg\",\"Hungary\",\"Malta\",\"Netherlands\",\"Austria\",\"Poland\",\"Portugal\",\"Romania\",\"Slovenia\",\"Slovakia\",\"Finland\",\"Sweden\",\"Iceland\",\"Liechtenstein\",\"Norway\",\"Switzerland\",\"United Kingdom\",\"Montenegro\",\"North Macedonia\",\"Albania\",\"Serbia\",\"Turkey\",\"EU\",\"Belgium\",\"Bulgaria\",\"Czech Republic\",\"Denmark\",\"Germany\",\"Estonia\",\"Ireland\",\"Greece\",\"Spain\",\"France\",\"Croatia\",\"Italy\",\"Cyprus\",\"Latvia\",\"Lithuania\",\"Luxembourg\",\"Hungary\",\"Malta\",\"Netherlands\",\"Austria\",\"Poland\",\"Portugal\",\"Romania\",\"Slovenia\",\"Slovakia\",\"Finland\",\"Sweden\",\"Iceland\",\"Liechtenstein\",\"Norway\",\"Switzerland\",\"United Kingdom\",\"Montenegro\",\"North Macedonia\",\"Albania\",\"Serbia\",\"Turkey\",\"EU\",\"Belgium\",\"Bulgaria\",\"Czech Republic\",\"Denmark\",\"Germany\",\"Estonia\",\"Ireland\",\"Greece\",\"Spain\",\"France\",\"Croatia\",\"Italy\",\"Cyprus\",\"Latvia\",\"Lithuania\",\"Luxembourg\",\"Hungary\",\"Malta\",\"Netherlands\",\"Austria\",\"Poland\",\"Portugal\",\"Romania\",\"Slovenia\",\"Slovakia\",\"Finland\",\"Sweden\",\"Iceland\",\"Liechtenstein\",\"Norway\",\"Switzerland\",\"United Kingdom\",\"Montenegro\",\"North Macedonia\",\"Albania\",\"Serbia\",\"Turkey\",\"EU\",\"Belgium\",\"Bulgaria\",\"Czech Republic\",\"Denmark\",\"Germany\",\"Estonia\",\"Ireland\",\"Greece\",\"Spain\",\"France\",\"Croatia\",\"Italy\",\"Cyprus\",\"Latvia\",\"Lithuania\",\"Luxembourg\",\"Hungary\",\"Malta\",\"Netherlands\",\"Austria\",\"Poland\",\"Portugal\",\"Romania\",\"Slovenia\",\"Slovakia\",\"Finland\",\"Sweden\",\"Iceland\",\"Liechtenstein\",\"Norway\",\"Switzerland\",\"United Kingdom\",\"Montenegro\",\"North Macedonia\",\"Albania\",\"Serbia\",\"Turkey\",\"EU\",\"Belgium\",\"Bulgaria\",\"Czech Republic\",\"Denmark\",\"Germany\",\"Estonia\",\"Ireland\",\"Greece\",\"Spain\",\"France\",\"Croatia\",\"Italy\",\"Cyprus\",\"Latvia\",\"Lithuania\",\"Luxembourg\",\"Hungary\",\"Malta\",\"Netherlands\",\"Austria\",\"Poland\",\"Portugal\",\"Romania\",\"Slovenia\",\"Slovakia\",\"Finland\",\"Sweden\",\"Iceland\",\"Liechtenstein\",\"Norway\",\"Switzerland\",\"United Kingdom\",\"Montenegro\",\"North Macedonia\",\"Albania\",\"Serbia\",\"Turkey\"]}],                        {\"template\":{\"data\":{\"histogram2dcontour\":[{\"type\":\"histogram2dcontour\",\"colorbar\":{\"outlinewidth\":0,\"ticks\":\"\"},\"colorscale\":[[0.0,\"#0d0887\"],[0.1111111111111111,\"#46039f\"],[0.2222222222222222,\"#7201a8\"],[0.3333333333333333,\"#9c179e\"],[0.4444444444444444,\"#bd3786\"],[0.5555555555555556,\"#d8576b\"],[0.6666666666666666,\"#ed7953\"],[0.7777777777777778,\"#fb9f3a\"],[0.8888888888888888,\"#fdca26\"],[1.0,\"#f0f921\"]]}],\"choropleth\":[{\"type\":\"choropleth\",\"colorbar\":{\"outlinewidth\":0,\"ticks\":\"\"}}],\"histogram2d\":[{\"type\":\"histogram2d\",\"colorbar\":{\"outlinewidth\":0,\"ticks\":\"\"},\"colorscale\":[[0.0,\"#0d0887\"],[0.1111111111111111,\"#46039f\"],[0.2222222222222222,\"#7201a8\"],[0.3333333333333333,\"#9c179e\"],[0.4444444444444444,\"#bd3786\"],[0.5555555555555556,\"#d8576b\"],[0.6666666666666666,\"#ed7953\"],[0.7777777777777778,\"#fb9f3a\"],[0.8888888888888888,\"#fdca26\"],[1.0,\"#f0f921\"]]}],\"heatmap\":[{\"type\":\"heatmap\",\"colorbar\":{\"outlinewidth\":0,\"ticks\":\"\"},\"colorscale\":[[0.0,\"#0d0887\"],[0.1111111111111111,\"#46039f\"],[0.2222222222222222,\"#7201a8\"],[0.3333333333333333,\"#9c179e\"],[0.4444444444444444,\"#bd3786\"],[0.5555555555555556,\"#d8576b\"],[0.6666666666666666,\"#ed7953\"],[0.7777777777777778,\"#fb9f3a\"],[0.8888888888888888,\"#fdca26\"],[1.0,\"#f0f921\"]]}],\"heatmapgl\":[{\"type\":\"heatmapgl\",\"colorbar\":{\"outlinewidth\":0,\"ticks\":\"\"},\"colorscale\":[[0.0,\"#0d0887\"],[0.1111111111111111,\"#46039f\"],[0.2222222222222222,\"#7201a8\"],[0.3333333333333333,\"#9c179e\"],[0.4444444444444444,\"#bd3786\"],[0.5555555555555556,\"#d8576b\"],[0.6666666666666666,\"#ed7953\"],[0.7777777777777778,\"#fb9f3a\"],[0.8888888888888888,\"#fdca26\"],[1.0,\"#f0f921\"]]}],\"contourcarpet\":[{\"type\":\"contourcarpet\",\"colorbar\":{\"outlinewidth\":0,\"ticks\":\"\"}}],\"contour\":[{\"type\":\"contour\",\"colorbar\":{\"outlinewidth\":0,\"ticks\":\"\"},\"colorscale\":[[0.0,\"#0d0887\"],[0.1111111111111111,\"#46039f\"],[0.2222222222222222,\"#7201a8\"],[0.3333333333333333,\"#9c179e\"],[0.4444444444444444,\"#bd3786\"],[0.5555555555555556,\"#d8576b\"],[0.6666666666666666,\"#ed7953\"],[0.7777777777777778,\"#fb9f3a\"],[0.8888888888888888,\"#fdca26\"],[1.0,\"#f0f921\"]]}],\"surface\":[{\"type\":\"surface\",\"colorbar\":{\"outlinewidth\":0,\"ticks\":\"\"},\"colorscale\":[[0.0,\"#0d0887\"],[0.1111111111111111,\"#46039f\"],[0.2222222222222222,\"#7201a8\"],[0.3333333333333333,\"#9c179e\"],[0.4444444444444444,\"#bd3786\"],[0.5555555555555556,\"#d8576b\"],[0.6666666666666666,\"#ed7953\"],[0.7777777777777778,\"#fb9f3a\"],[0.8888888888888888,\"#fdca26\"],[1.0,\"#f0f921\"]]}],\"mesh3d\":[{\"type\":\"mesh3d\",\"colorbar\":{\"outlinewidth\":0,\"ticks\":\"\"}}],\"scatter\":[{\"marker\":{\"line\":{\"color\":\"#283442\"}},\"type\":\"scatter\"}],\"parcoords\":[{\"type\":\"parcoords\",\"line\":{\"colorbar\":{\"outlinewidth\":0,\"ticks\":\"\"}}}],\"scatterpolargl\":[{\"type\":\"scatterpolargl\",\"marker\":{\"colorbar\":{\"outlinewidth\":0,\"ticks\":\"\"}}}],\"bar\":[{\"error_x\":{\"color\":\"#f2f5fa\"},\"error_y\":{\"color\":\"#f2f5fa\"},\"marker\":{\"line\":{\"color\":\"rgb(17,17,17)\",\"width\":0.5},\"pattern\":{\"fillmode\":\"overlay\",\"size\":10,\"solidity\":0.2}},\"type\":\"bar\"}],\"scattergeo\":[{\"type\":\"scattergeo\",\"marker\":{\"colorbar\":{\"outlinewidth\":0,\"ticks\":\"\"}}}],\"scatterpolar\":[{\"type\":\"scatterpolar\",\"marker\":{\"colorbar\":{\"outlinewidth\":0,\"ticks\":\"\"}}}],\"histogram\":[{\"marker\":{\"pattern\":{\"fillmode\":\"overlay\",\"size\":10,\"solidity\":0.2}},\"type\":\"histogram\"}],\"scattergl\":[{\"marker\":{\"line\":{\"color\":\"#283442\"}},\"type\":\"scattergl\"}],\"scatter3d\":[{\"type\":\"scatter3d\",\"line\":{\"colorbar\":{\"outlinewidth\":0,\"ticks\":\"\"}},\"marker\":{\"colorbar\":{\"outlinewidth\":0,\"ticks\":\"\"}}}],\"scattermapbox\":[{\"type\":\"scattermapbox\",\"marker\":{\"colorbar\":{\"outlinewidth\":0,\"ticks\":\"\"}}}],\"scatterternary\":[{\"type\":\"scatterternary\",\"marker\":{\"colorbar\":{\"outlinewidth\":0,\"ticks\":\"\"}}}],\"scattercarpet\":[{\"type\":\"scattercarpet\",\"marker\":{\"colorbar\":{\"outlinewidth\":0,\"ticks\":\"\"}}}],\"carpet\":[{\"aaxis\":{\"endlinecolor\":\"#A2B1C6\",\"gridcolor\":\"#506784\",\"linecolor\":\"#506784\",\"minorgridcolor\":\"#506784\",\"startlinecolor\":\"#A2B1C6\"},\"baxis\":{\"endlinecolor\":\"#A2B1C6\",\"gridcolor\":\"#506784\",\"linecolor\":\"#506784\",\"minorgridcolor\":\"#506784\",\"startlinecolor\":\"#A2B1C6\"},\"type\":\"carpet\"}],\"table\":[{\"cells\":{\"fill\":{\"color\":\"#506784\"},\"line\":{\"color\":\"rgb(17,17,17)\"}},\"header\":{\"fill\":{\"color\":\"#2a3f5f\"},\"line\":{\"color\":\"rgb(17,17,17)\"}},\"type\":\"table\"}],\"barpolar\":[{\"marker\":{\"line\":{\"color\":\"rgb(17,17,17)\",\"width\":0.5},\"pattern\":{\"fillmode\":\"overlay\",\"size\":10,\"solidity\":0.2}},\"type\":\"barpolar\"}],\"pie\":[{\"automargin\":true,\"type\":\"pie\"}]},\"layout\":{\"autotypenumbers\":\"strict\",\"colorway\":[\"#636efa\",\"#EF553B\",\"#00cc96\",\"#ab63fa\",\"#FFA15A\",\"#19d3f3\",\"#FF6692\",\"#B6E880\",\"#FF97FF\",\"#FECB52\"],\"font\":{\"color\":\"#f2f5fa\"},\"hovermode\":\"closest\",\"hoverlabel\":{\"align\":\"left\"},\"paper_bgcolor\":\"rgb(17,17,17)\",\"plot_bgcolor\":\"rgb(17,17,17)\",\"polar\":{\"bgcolor\":\"rgb(17,17,17)\",\"angularaxis\":{\"gridcolor\":\"#506784\",\"linecolor\":\"#506784\",\"ticks\":\"\"},\"radialaxis\":{\"gridcolor\":\"#506784\",\"linecolor\":\"#506784\",\"ticks\":\"\"}},\"ternary\":{\"bgcolor\":\"rgb(17,17,17)\",\"aaxis\":{\"gridcolor\":\"#506784\",\"linecolor\":\"#506784\",\"ticks\":\"\"},\"baxis\":{\"gridcolor\":\"#506784\",\"linecolor\":\"#506784\",\"ticks\":\"\"},\"caxis\":{\"gridcolor\":\"#506784\",\"linecolor\":\"#506784\",\"ticks\":\"\"}},\"coloraxis\":{\"colorbar\":{\"outlinewidth\":0,\"ticks\":\"\"}},\"colorscale\":{\"sequential\":[[0.0,\"#0d0887\"],[0.1111111111111111,\"#46039f\"],[0.2222222222222222,\"#7201a8\"],[0.3333333333333333,\"#9c179e\"],[0.4444444444444444,\"#bd3786\"],[0.5555555555555556,\"#d8576b\"],[0.6666666666666666,\"#ed7953\"],[0.7777777777777778,\"#fb9f3a\"],[0.8888888888888888,\"#fdca26\"],[1.0,\"#f0f921\"]],\"sequentialminus\":[[0.0,\"#0d0887\"],[0.1111111111111111,\"#46039f\"],[0.2222222222222222,\"#7201a8\"],[0.3333333333333333,\"#9c179e\"],[0.4444444444444444,\"#bd3786\"],[0.5555555555555556,\"#d8576b\"],[0.6666666666666666,\"#ed7953\"],[0.7777777777777778,\"#fb9f3a\"],[0.8888888888888888,\"#fdca26\"],[1.0,\"#f0f921\"]],\"diverging\":[[0,\"#8e0152\"],[0.1,\"#c51b7d\"],[0.2,\"#de77ae\"],[0.3,\"#f1b6da\"],[0.4,\"#fde0ef\"],[0.5,\"#f7f7f7\"],[0.6,\"#e6f5d0\"],[0.7,\"#b8e186\"],[0.8,\"#7fbc41\"],[0.9,\"#4d9221\"],[1,\"#276419\"]]},\"xaxis\":{\"gridcolor\":\"#283442\",\"linecolor\":\"#506784\",\"ticks\":\"\",\"title\":{\"standoff\":15},\"zerolinecolor\":\"#283442\",\"automargin\":true,\"zerolinewidth\":2},\"yaxis\":{\"gridcolor\":\"#283442\",\"linecolor\":\"#506784\",\"ticks\":\"\",\"title\":{\"standoff\":15},\"zerolinecolor\":\"#283442\",\"automargin\":true,\"zerolinewidth\":2},\"scene\":{\"xaxis\":{\"backgroundcolor\":\"rgb(17,17,17)\",\"gridcolor\":\"#506784\",\"linecolor\":\"#506784\",\"showbackground\":true,\"ticks\":\"\",\"zerolinecolor\":\"#C8D4E3\",\"gridwidth\":2},\"yaxis\":{\"backgroundcolor\":\"rgb(17,17,17)\",\"gridcolor\":\"#506784\",\"linecolor\":\"#506784\",\"showbackground\":true,\"ticks\":\"\",\"zerolinecolor\":\"#C8D4E3\",\"gridwidth\":2},\"zaxis\":{\"backgroundcolor\":\"rgb(17,17,17)\",\"gridcolor\":\"#506784\",\"linecolor\":\"#506784\",\"showbackground\":true,\"ticks\":\"\",\"zerolinecolor\":\"#C8D4E3\",\"gridwidth\":2}},\"shapedefaults\":{\"line\":{\"color\":\"#f2f5fa\"}},\"annotationdefaults\":{\"arrowcolor\":\"#f2f5fa\",\"arrowhead\":0,\"arrowwidth\":1},\"geo\":{\"bgcolor\":\"rgb(17,17,17)\",\"landcolor\":\"rgb(17,17,17)\",\"subunitcolor\":\"#506784\",\"showland\":true,\"showlakes\":true,\"lakecolor\":\"rgb(17,17,17)\"},\"title\":{\"x\":0.05},\"updatemenudefaults\":{\"bgcolor\":\"#506784\",\"borderwidth\":0},\"sliderdefaults\":{\"bgcolor\":\"#C8D4E3\",\"borderwidth\":1,\"bordercolor\":\"rgb(17,17,17)\",\"tickwidth\":0},\"mapbox\":{\"style\":\"dark\"}}},\"geo\":{\"domain\":{\"x\":[0.0,1.0],\"y\":[0.0,1.0]},\"projection\":{\"type\":\"miller\"},\"center\":{},\"scope\":\"europe\"},\"coloraxis\":{\"colorbar\":{\"title\":{\"text\":\"index\"},\"x\":0,\"y\":0.5},\"colorscale\":[[0,\"gray\"],[0.01,\"gray\"],[0.01,\"blue\"],[1,\"red\"]],\"cmin\":0,\"cmax\":153.4},\"legend\":{\"tracegroupgap\":0},\"margin\":{\"t\":60},\"updatemenus\":[{\"buttons\":[{\"args\":[null,{\"frame\":{\"duration\":500,\"redraw\":true},\"mode\":\"immediate\",\"fromcurrent\":true,\"transition\":{\"duration\":500,\"easing\":\"linear\"}}],\"label\":\"&#9654;\",\"method\":\"animate\"},{\"args\":[[null],{\"frame\":{\"duration\":0,\"redraw\":true},\"mode\":\"immediate\",\"fromcurrent\":true,\"transition\":{\"duration\":0,\"easing\":\"linear\"}}],\"label\":\"&#9724;\",\"method\":\"animate\"}],\"direction\":\"left\",\"pad\":{\"r\":10,\"t\":70},\"showactive\":false,\"type\":\"buttons\",\"x\":0.1,\"xanchor\":\"right\",\"y\":0,\"yanchor\":\"top\"}],\"sliders\":[{\"active\":0,\"currentvalue\":{\"prefix\":\"year=\"},\"len\":0.9,\"pad\":{\"b\":10,\"t\":60},\"steps\":[{\"args\":[[\"2010\"],{\"frame\":{\"duration\":0,\"redraw\":true},\"mode\":\"immediate\",\"fromcurrent\":true,\"transition\":{\"duration\":0,\"easing\":\"linear\"}}],\"label\":\"2010\",\"method\":\"animate\"},{\"args\":[[\"2011\"],{\"frame\":{\"duration\":0,\"redraw\":true},\"mode\":\"immediate\",\"fromcurrent\":true,\"transition\":{\"duration\":0,\"easing\":\"linear\"}}],\"label\":\"2011\",\"method\":\"animate\"},{\"args\":[[\"2012\"],{\"frame\":{\"duration\":0,\"redraw\":true},\"mode\":\"immediate\",\"fromcurrent\":true,\"transition\":{\"duration\":0,\"easing\":\"linear\"}}],\"label\":\"2012\",\"method\":\"animate\"},{\"args\":[[\"2013\"],{\"frame\":{\"duration\":0,\"redraw\":true},\"mode\":\"immediate\",\"fromcurrent\":true,\"transition\":{\"duration\":0,\"easing\":\"linear\"}}],\"label\":\"2013\",\"method\":\"animate\"},{\"args\":[[\"2014\"],{\"frame\":{\"duration\":0,\"redraw\":true},\"mode\":\"immediate\",\"fromcurrent\":true,\"transition\":{\"duration\":0,\"easing\":\"linear\"}}],\"label\":\"2014\",\"method\":\"animate\"},{\"args\":[[\"2015\"],{\"frame\":{\"duration\":0,\"redraw\":true},\"mode\":\"immediate\",\"fromcurrent\":true,\"transition\":{\"duration\":0,\"easing\":\"linear\"}}],\"label\":\"2015\",\"method\":\"animate\"},{\"args\":[[\"2016\"],{\"frame\":{\"duration\":0,\"redraw\":true},\"mode\":\"immediate\",\"fromcurrent\":true,\"transition\":{\"duration\":0,\"easing\":\"linear\"}}],\"label\":\"2016\",\"method\":\"animate\"},{\"args\":[[\"2017\"],{\"frame\":{\"duration\":0,\"redraw\":true},\"mode\":\"immediate\",\"fromcurrent\":true,\"transition\":{\"duration\":0,\"easing\":\"linear\"}}],\"label\":\"2017\",\"method\":\"animate\"},{\"args\":[[\"2018\"],{\"frame\":{\"duration\":0,\"redraw\":true},\"mode\":\"immediate\",\"fromcurrent\":true,\"transition\":{\"duration\":0,\"easing\":\"linear\"}}],\"label\":\"2018\",\"method\":\"animate\"},{\"args\":[[\"2019\"],{\"frame\":{\"duration\":0,\"redraw\":true},\"mode\":\"immediate\",\"fromcurrent\":true,\"transition\":{\"duration\":0,\"easing\":\"linear\"}}],\"label\":\"2019\",\"method\":\"animate\"},{\"args\":[[\"2020\"],{\"frame\":{\"duration\":0,\"redraw\":true},\"mode\":\"immediate\",\"fromcurrent\":true,\"transition\":{\"duration\":0,\"easing\":\"linear\"}}],\"label\":\"2020\",\"method\":\"animate\"},{\"args\":[[\"2021\"],{\"frame\":{\"duration\":0,\"redraw\":true},\"mode\":\"immediate\",\"fromcurrent\":true,\"transition\":{\"duration\":0,\"easing\":\"linear\"}}],\"label\":\"2021\",\"method\":\"animate\"}],\"x\":0.1,\"xanchor\":\"left\",\"y\":0,\"yanchor\":\"top\"}],\"title\":{\"text\":\"<b>Volume of passengers relative to GDP in 2010 (2015 base year)</b><br>EU index: 103.7\"},\"width\":1000,\"height\":600},                        {\"responsive\": true}                    ).then(function(){\n                            Plotly.addFrames('a8c978d6-b84e-4220-a42e-8aad39c3caa5', [{\"data\":[{\"coloraxis\":\"coloraxis\",\"geo\":\"geo\",\"hovertemplate\":\"<b>%{hovertext}</b><br><br>year=2010<br>iso_alpha=%{location}<br>index=%{z}<extra></extra>\",\"hovertext\":[\"EU\",\"Belgium\",\"Bulgaria\",\"Czech Republic\",\"Denmark\",\"Germany\",\"Estonia\",\"Ireland\",\"Greece\",\"Spain\",\"France\",\"Croatia\",\"Italy\",\"Cyprus\",\"Latvia\",\"Lithuania\",\"Luxembourg\",\"Hungary\",\"Malta\",\"Netherlands\",\"Austria\",\"Poland\",\"Portugal\",\"Romania\",\"Slovenia\",\"Slovakia\",\"Finland\",\"Sweden\",\"Iceland\",\"Liechtenstein\",\"Norway\",\"Switzerland\",\"United Kingdom\",\"Montenegro\",\"North Macedonia\",\"Albania\",\"Serbia\",\"Turkey\"],\"ids\":[\"EU\",\"Belgium\",\"Bulgaria\",\"Czech Republic\",\"Denmark\",\"Germany\",\"Estonia\",\"Ireland\",\"Greece\",\"Spain\",\"France\",\"Croatia\",\"Italy\",\"Cyprus\",\"Latvia\",\"Lithuania\",\"Luxembourg\",\"Hungary\",\"Malta\",\"Netherlands\",\"Austria\",\"Poland\",\"Portugal\",\"Romania\",\"Slovenia\",\"Slovakia\",\"Finland\",\"Sweden\",\"Iceland\",\"Liechtenstein\",\"Norway\",\"Switzerland\",\"United Kingdom\",\"Montenegro\",\"North Macedonia\",\"Albania\",\"Serbia\",\"Turkey\"],\"locations\":[null,\"BEL\",\"BGR\",\"CZE\",\"DNK\",\"DEU\",\"EST\",\"IRL\",\"GRC\",\"ESP\",\"FRA\",\"HRV\",\"ITA\",\"CYP\",\"LVA\",\"LTU\",\"LUX\",\"HUN\",\"MLT\",\"NLD\",\"AUT\",\"POL\",\"PRT\",\"ROU\",\"SVN\",\"SVK\",\"FIN\",\"SWE\",\"ISL\",\"LIE\",\"NOR\",\"CHE\",\"GBR\",\"MNE\",\"MKD\",\"ALB\",\"SRB\",\"TUR\"],\"name\":\"\",\"z\":[103.7,114.1,91.5,101.2,98.7,101.4,95.1,128.7,82.6,106.3,108.7,99.2,99.4,86.9,111.3,153.4,98.1,108.1,115.5,106.9,97.0,112.5,95.9,96.3,99.9,107.6,98.2,98.5,101.5,0.0,100.4,115.3,108.4,108.8,75.1,0.0,110.8,110.7],\"type\":\"choropleth\"}],\"name\":\"2010\"},{\"data\":[{\"coloraxis\":\"coloraxis\",\"geo\":\"geo\",\"hovertemplate\":\"<b>%{hovertext}</b><br><br>year=2011<br>iso_alpha=%{location}<br>index=%{z}<extra></extra>\",\"hovertext\":[\"EU\",\"Belgium\",\"Bulgaria\",\"Czech Republic\",\"Denmark\",\"Germany\",\"Estonia\",\"Ireland\",\"Greece\",\"Spain\",\"France\",\"Croatia\",\"Italy\",\"Cyprus\",\"Latvia\",\"Lithuania\",\"Luxembourg\",\"Hungary\",\"Malta\",\"Netherlands\",\"Austria\",\"Poland\",\"Portugal\",\"Romania\",\"Slovenia\",\"Slovakia\",\"Finland\",\"Sweden\",\"Iceland\",\"Liechtenstein\",\"Norway\",\"Switzerland\",\"United Kingdom\",\"Montenegro\",\"North Macedonia\",\"Albania\",\"Serbia\",\"Turkey\"],\"ids\":[\"EU\",\"Belgium\",\"Bulgaria\",\"Czech Republic\",\"Denmark\",\"Germany\",\"Estonia\",\"Ireland\",\"Greece\",\"Spain\",\"France\",\"Croatia\",\"Italy\",\"Cyprus\",\"Latvia\",\"Lithuania\",\"Luxembourg\",\"Hungary\",\"Malta\",\"Netherlands\",\"Austria\",\"Poland\",\"Portugal\",\"Romania\",\"Slovenia\",\"Slovakia\",\"Finland\",\"Sweden\",\"Iceland\",\"Liechtenstein\",\"Norway\",\"Switzerland\",\"United Kingdom\",\"Montenegro\",\"North Macedonia\",\"Albania\",\"Serbia\",\"Turkey\"],\"locations\":[null,\"BEL\",\"BGR\",\"CZE\",\"DNK\",\"DEU\",\"EST\",\"IRL\",\"GRC\",\"ESP\",\"FRA\",\"HRV\",\"ITA\",\"CYP\",\"LVA\",\"LTU\",\"LUX\",\"HUN\",\"MLT\",\"NLD\",\"AUT\",\"POL\",\"PRT\",\"ROU\",\"SVN\",\"SVK\",\"FIN\",\"SWE\",\"ISL\",\"LIE\",\"NOR\",\"CHE\",\"GBR\",\"MNE\",\"MKD\",\"ALB\",\"SRB\",\"TUR\"],\"name\":\"\",\"z\":[102.2,110.5,91.2,100.0,99.5,101.0,90.6,126.0,90.6,106.6,107.1,96.5,94.7,87.2,102.7,134.2,98.8,105.7,115.2,105.9,96.0,110.4,95.7,91.0,98.6,105.3,96.6,104.4,96.0,0.0,100.9,103.6,107.1,101.0,83.0,0.0,94.9,106.3],\"type\":\"choropleth\"}],\"name\":\"2011\"},{\"data\":[{\"coloraxis\":\"coloraxis\",\"geo\":\"geo\",\"hovertemplate\":\"<b>%{hovertext}</b><br><br>year=2012<br>iso_alpha=%{location}<br>index=%{z}<extra></extra>\",\"hovertext\":[\"EU\",\"Belgium\",\"Bulgaria\",\"Czech Republic\",\"Denmark\",\"Germany\",\"Estonia\",\"Ireland\",\"Greece\",\"Spain\",\"France\",\"Croatia\",\"Italy\",\"Cyprus\",\"Latvia\",\"Lithuania\",\"Luxembourg\",\"Hungary\",\"Malta\",\"Netherlands\",\"Austria\",\"Poland\",\"Portugal\",\"Romania\",\"Slovenia\",\"Slovakia\",\"Finland\",\"Sweden\",\"Iceland\",\"Liechtenstein\",\"Norway\",\"Switzerland\",\"United Kingdom\",\"Montenegro\",\"North Macedonia\",\"Albania\",\"Serbia\",\"Turkey\"],\"ids\":[\"EU\",\"Belgium\",\"Bulgaria\",\"Czech Republic\",\"Denmark\",\"Germany\",\"Estonia\",\"Ireland\",\"Greece\",\"Spain\",\"France\",\"Croatia\",\"Italy\",\"Cyprus\",\"Latvia\",\"Lithuania\",\"Luxembourg\",\"Hungary\",\"Malta\",\"Netherlands\",\"Austria\",\"Poland\",\"Portugal\",\"Romania\",\"Slovenia\",\"Slovakia\",\"Finland\",\"Sweden\",\"Iceland\",\"Liechtenstein\",\"Norway\",\"Switzerland\",\"United Kingdom\",\"Montenegro\",\"North Macedonia\",\"Albania\",\"Serbia\",\"Turkey\"],\"locations\":[null,\"BEL\",\"BGR\",\"CZE\",\"DNK\",\"DEU\",\"EST\",\"IRL\",\"GRC\",\"ESP\",\"FRA\",\"HRV\",\"ITA\",\"CYP\",\"LVA\",\"LTU\",\"LUX\",\"HUN\",\"MLT\",\"NLD\",\"AUT\",\"POL\",\"PRT\",\"ROU\",\"SVN\",\"SVK\",\"FIN\",\"SWE\",\"ISL\",\"LIE\",\"NOR\",\"CHE\",\"GBR\",\"MNE\",\"MKD\",\"ALB\",\"SRB\",\"TUR\"],\"name\":\"\",\"z\":[100.9,114.0,91.9,99.6,98.7,101.1,91.9,123.4,96.3,105.9,106.6,100.9,87.3,91.1,96.5,146.0,99.4,107.3,111.0,106.8,96.1,104.9,98.3,92.0,100.5,103.6,97.9,104.7,96.1,0.0,98.1,102.9,106.1,105.8,77.7,0.0,96.8,107.7],\"type\":\"choropleth\"}],\"name\":\"2012\"},{\"data\":[{\"coloraxis\":\"coloraxis\",\"geo\":\"geo\",\"hovertemplate\":\"<b>%{hovertext}</b><br><br>year=2013<br>iso_alpha=%{location}<br>index=%{z}<extra></extra>\",\"hovertext\":[\"EU\",\"Belgium\",\"Bulgaria\",\"Czech Republic\",\"Denmark\",\"Germany\",\"Estonia\",\"Ireland\",\"Greece\",\"Spain\",\"France\",\"Croatia\",\"Italy\",\"Cyprus\",\"Latvia\",\"Lithuania\",\"Luxembourg\",\"Hungary\",\"Malta\",\"Netherlands\",\"Austria\",\"Poland\",\"Portugal\",\"Romania\",\"Slovenia\",\"Slovakia\",\"Finland\",\"Sweden\",\"Iceland\",\"Liechtenstein\",\"Norway\",\"Switzerland\",\"United Kingdom\",\"Montenegro\",\"North Macedonia\",\"Albania\",\"Serbia\",\"Turkey\"],\"ids\":[\"EU\",\"Belgium\",\"Bulgaria\",\"Czech Republic\",\"Denmark\",\"Germany\",\"Estonia\",\"Ireland\",\"Greece\",\"Spain\",\"France\",\"Croatia\",\"Italy\",\"Cyprus\",\"Latvia\",\"Lithuania\",\"Luxembourg\",\"Hungary\",\"Malta\",\"Netherlands\",\"Austria\",\"Poland\",\"Portugal\",\"Romania\",\"Slovenia\",\"Slovakia\",\"Finland\",\"Sweden\",\"Iceland\",\"Liechtenstein\",\"Norway\",\"Switzerland\",\"United Kingdom\",\"Montenegro\",\"North Macedonia\",\"Albania\",\"Serbia\",\"Turkey\"],\"locations\":[null,\"BEL\",\"BGR\",\"CZE\",\"DNK\",\"DEU\",\"EST\",\"IRL\",\"GRC\",\"ESP\",\"FRA\",\"HRV\",\"ITA\",\"CYP\",\"LVA\",\"LTU\",\"LUX\",\"HUN\",\"MLT\",\"NLD\",\"AUT\",\"POL\",\"PRT\",\"ROU\",\"SVN\",\"SVK\",\"FIN\",\"SWE\",\"ISL\",\"LIE\",\"NOR\",\"CHE\",\"GBR\",\"MNE\",\"MKD\",\"ALB\",\"SRB\",\"TUR\"],\"name\":\"\",\"z\":[100.8,111.5,94.4,100.7,97.7,100.9,93.9,125.2,98.0,105.8,99.6,101.7,94.4,96.8,95.8,138.1,98.3,104.3,106.9,108.0,97.4,104.5,98.7,94.8,101.5,103.4,98.6,103.5,94.6,0.0,98.4,101.9,102.9,104.7,96.3,0.0,96.0,102.4],\"type\":\"choropleth\"}],\"name\":\"2013\"},{\"data\":[{\"coloraxis\":\"coloraxis\",\"geo\":\"geo\",\"hovertemplate\":\"<b>%{hovertext}</b><br><br>year=2014<br>iso_alpha=%{location}<br>index=%{z}<extra></extra>\",\"hovertext\":[\"EU\",\"Belgium\",\"Bulgaria\",\"Czech Republic\",\"Denmark\",\"Germany\",\"Estonia\",\"Ireland\",\"Greece\",\"Spain\",\"France\",\"Croatia\",\"Italy\",\"Cyprus\",\"Latvia\",\"Lithuania\",\"Luxembourg\",\"Hungary\",\"Malta\",\"Netherlands\",\"Austria\",\"Poland\",\"Portugal\",\"Romania\",\"Slovenia\",\"Slovakia\",\"Finland\",\"Sweden\",\"Iceland\",\"Liechtenstein\",\"Norway\",\"Switzerland\",\"United Kingdom\",\"Montenegro\",\"North Macedonia\",\"Albania\",\"Serbia\",\"Turkey\"],\"ids\":[\"EU\",\"Belgium\",\"Bulgaria\",\"Czech Republic\",\"Denmark\",\"Germany\",\"Estonia\",\"Ireland\",\"Greece\",\"Spain\",\"France\",\"Croatia\",\"Italy\",\"Cyprus\",\"Latvia\",\"Lithuania\",\"Luxembourg\",\"Hungary\",\"Malta\",\"Netherlands\",\"Austria\",\"Poland\",\"Portugal\",\"Romania\",\"Slovenia\",\"Slovakia\",\"Finland\",\"Sweden\",\"Iceland\",\"Liechtenstein\",\"Norway\",\"Switzerland\",\"United Kingdom\",\"Montenegro\",\"North Macedonia\",\"Albania\",\"Serbia\",\"Turkey\"],\"locations\":[null,\"BEL\",\"BGR\",\"CZE\",\"DNK\",\"DEU\",\"EST\",\"IRL\",\"GRC\",\"ESP\",\"FRA\",\"HRV\",\"ITA\",\"CYP\",\"LVA\",\"LTU\",\"LUX\",\"HUN\",\"MLT\",\"NLD\",\"AUT\",\"POL\",\"PRT\",\"ROU\",\"SVN\",\"SVK\",\"FIN\",\"SWE\",\"ISL\",\"LIE\",\"NOR\",\"CHE\",\"GBR\",\"MNE\",\"MKD\",\"ALB\",\"SRB\",\"TUR\"],\"name\":\"\",\"z\":[100.1,103.7,99.1,103.1,98.1,100.2,95.9,114.3,98.4,99.4,99.8,102.2,96.5,100.4,99.0,101.1,98.8,101.3,104.6,106.8,99.0,102.4,99.3,97.1,100.5,101.8,99.2,102.7,97.8,0.0,99.5,100.7,102.0,101.8,102.6,0.0,98.4,100.7],\"type\":\"choropleth\"}],\"name\":\"2014\"},{\"data\":[{\"coloraxis\":\"coloraxis\",\"geo\":\"geo\",\"hovertemplate\":\"<b>%{hovertext}</b><br><br>year=2015<br>iso_alpha=%{location}<br>index=%{z}<extra></extra>\",\"hovertext\":[\"EU\",\"Belgium\",\"Bulgaria\",\"Czech Republic\",\"Denmark\",\"Germany\",\"Estonia\",\"Ireland\",\"Greece\",\"Spain\",\"France\",\"Croatia\",\"Italy\",\"Cyprus\",\"Latvia\",\"Lithuania\",\"Luxembourg\",\"Hungary\",\"Malta\",\"Netherlands\",\"Austria\",\"Poland\",\"Portugal\",\"Romania\",\"Slovenia\",\"Slovakia\",\"Finland\",\"Sweden\",\"Iceland\",\"Liechtenstein\",\"Norway\",\"Switzerland\",\"United Kingdom\",\"Montenegro\",\"North Macedonia\",\"Albania\",\"Serbia\",\"Turkey\"],\"ids\":[\"EU\",\"Belgium\",\"Bulgaria\",\"Czech Republic\",\"Denmark\",\"Germany\",\"Estonia\",\"Ireland\",\"Greece\",\"Spain\",\"France\",\"Croatia\",\"Italy\",\"Cyprus\",\"Latvia\",\"Lithuania\",\"Luxembourg\",\"Hungary\",\"Malta\",\"Netherlands\",\"Austria\",\"Poland\",\"Portugal\",\"Romania\",\"Slovenia\",\"Slovakia\",\"Finland\",\"Sweden\",\"Iceland\",\"Liechtenstein\",\"Norway\",\"Switzerland\",\"United Kingdom\",\"Montenegro\",\"North Macedonia\",\"Albania\",\"Serbia\",\"Turkey\"],\"locations\":[null,\"BEL\",\"BGR\",\"CZE\",\"DNK\",\"DEU\",\"EST\",\"IRL\",\"GRC\",\"ESP\",\"FRA\",\"HRV\",\"ITA\",\"CYP\",\"LVA\",\"LTU\",\"LUX\",\"HUN\",\"MLT\",\"NLD\",\"AUT\",\"POL\",\"PRT\",\"ROU\",\"SVN\",\"SVK\",\"FIN\",\"SWE\",\"ISL\",\"LIE\",\"NOR\",\"CHE\",\"GBR\",\"MNE\",\"MKD\",\"ALB\",\"SRB\",\"TUR\"],\"name\":\"\",\"z\":[100.0,100.0,100.0,100.0,100.0,100.0,100.0,100.0,100.0,100.0,100.0,100.0,100.0,100.0,100.0,100.0,100.0,100.0,100.0,100.0,100.0,100.0,100.0,100.0,100.0,100.0,100.0,100.0,100.0,0.0,100.0,100.0,100.0,100.0,100.0,0.0,100.0,100.0],\"type\":\"choropleth\"}],\"name\":\"2015\"},{\"data\":[{\"coloraxis\":\"coloraxis\",\"geo\":\"geo\",\"hovertemplate\":\"<b>%{hovertext}</b><br><br>year=2016<br>iso_alpha=%{location}<br>index=%{z}<extra></extra>\",\"hovertext\":[\"EU\",\"Belgium\",\"Bulgaria\",\"Czech Republic\",\"Denmark\",\"Germany\",\"Estonia\",\"Ireland\",\"Greece\",\"Spain\",\"France\",\"Croatia\",\"Italy\",\"Cyprus\",\"Latvia\",\"Lithuania\",\"Luxembourg\",\"Hungary\",\"Malta\",\"Netherlands\",\"Austria\",\"Poland\",\"Portugal\",\"Romania\",\"Slovenia\",\"Slovakia\",\"Finland\",\"Sweden\",\"Iceland\",\"Liechtenstein\",\"Norway\",\"Switzerland\",\"United Kingdom\",\"Montenegro\",\"North Macedonia\",\"Albania\",\"Serbia\",\"Turkey\"],\"ids\":[\"EU\",\"Belgium\",\"Bulgaria\",\"Czech Republic\",\"Denmark\",\"Germany\",\"Estonia\",\"Ireland\",\"Greece\",\"Spain\",\"France\",\"Croatia\",\"Italy\",\"Cyprus\",\"Latvia\",\"Lithuania\",\"Luxembourg\",\"Hungary\",\"Malta\",\"Netherlands\",\"Austria\",\"Poland\",\"Portugal\",\"Romania\",\"Slovenia\",\"Slovakia\",\"Finland\",\"Sweden\",\"Iceland\",\"Liechtenstein\",\"Norway\",\"Switzerland\",\"United Kingdom\",\"Montenegro\",\"North Macedonia\",\"Albania\",\"Serbia\",\"Turkey\"],\"locations\":[null,\"BEL\",\"BGR\",\"CZE\",\"DNK\",\"DEU\",\"EST\",\"IRL\",\"GRC\",\"ESP\",\"FRA\",\"HRV\",\"ITA\",\"CYP\",\"LVA\",\"LTU\",\"LUX\",\"HUN\",\"MLT\",\"NLD\",\"AUT\",\"POL\",\"PRT\",\"ROU\",\"SVN\",\"SVK\",\"FIN\",\"SWE\",\"ISL\",\"LIE\",\"NOR\",\"CHE\",\"GBR\",\"MNE\",\"MKD\",\"ALB\",\"SRB\",\"TUR\"],\"name\":\"\",\"z\":[100.0,97.4,95.9,100.7,99.8,100.0,104.2,103.8,101.6,100.6,100.2,96.9,102.0,97.9,99.3,100.7,97.6,103.1,99.8,99.0,100.8,101.8,104.4,102.9,98.5,100.5,86.3,84.8,109.0,0.0,99.6,99.8,99.4,106.7,96.2,0.0,98.2,99.9],\"type\":\"choropleth\"}],\"name\":\"2016\"},{\"data\":[{\"coloraxis\":\"coloraxis\",\"geo\":\"geo\",\"hovertemplate\":\"<b>%{hovertext}</b><br><br>year=2017<br>iso_alpha=%{location}<br>index=%{z}<extra></extra>\",\"hovertext\":[\"EU\",\"Belgium\",\"Bulgaria\",\"Czech Republic\",\"Denmark\",\"Germany\",\"Estonia\",\"Ireland\",\"Greece\",\"Spain\",\"France\",\"Croatia\",\"Italy\",\"Cyprus\",\"Latvia\",\"Lithuania\",\"Luxembourg\",\"Hungary\",\"Malta\",\"Netherlands\",\"Austria\",\"Poland\",\"Portugal\",\"Romania\",\"Slovenia\",\"Slovakia\",\"Finland\",\"Sweden\",\"Iceland\",\"Liechtenstein\",\"Norway\",\"Switzerland\",\"United Kingdom\",\"Montenegro\",\"North Macedonia\",\"Albania\",\"Serbia\",\"Turkey\"],\"ids\":[\"EU\",\"Belgium\",\"Bulgaria\",\"Czech Republic\",\"Denmark\",\"Germany\",\"Estonia\",\"Ireland\",\"Greece\",\"Spain\",\"France\",\"Croatia\",\"Italy\",\"Cyprus\",\"Latvia\",\"Lithuania\",\"Luxembourg\",\"Hungary\",\"Malta\",\"Netherlands\",\"Austria\",\"Poland\",\"Portugal\",\"Romania\",\"Slovenia\",\"Slovakia\",\"Finland\",\"Sweden\",\"Iceland\",\"Liechtenstein\",\"Norway\",\"Switzerland\",\"United Kingdom\",\"Montenegro\",\"North Macedonia\",\"Albania\",\"Serbia\",\"Turkey\"],\"locations\":[null,\"BEL\",\"BGR\",\"CZE\",\"DNK\",\"DEU\",\"EST\",\"IRL\",\"GRC\",\"ESP\",\"FRA\",\"HRV\",\"ITA\",\"CYP\",\"LVA\",\"LTU\",\"LUX\",\"HUN\",\"MLT\",\"NLD\",\"AUT\",\"POL\",\"PRT\",\"ROU\",\"SVN\",\"SVK\",\"FIN\",\"SWE\",\"ISL\",\"LIE\",\"NOR\",\"CHE\",\"GBR\",\"MNE\",\"MKD\",\"ALB\",\"SRB\",\"TUR\"],\"name\":\"\",\"z\":[98.3,96.6,93.9,99.2,98.6,94.6,99.8,98.8,101.7,94.4,99.0,94.5,105.3,94.2,102.0,115.5,98.5,103.5,91.0,95.0,100.2,99.9,103.8,97.5,96.1,99.2,95.7,84.3,114.6,0.0,98.8,99.6,103.6,103.7,95.0,0.0,97.3,94.4],\"type\":\"choropleth\"}],\"name\":\"2017\"},{\"data\":[{\"coloraxis\":\"coloraxis\",\"geo\":\"geo\",\"hovertemplate\":\"<b>%{hovertext}</b><br><br>year=2018<br>iso_alpha=%{location}<br>index=%{z}<extra></extra>\",\"hovertext\":[\"EU\",\"Belgium\",\"Bulgaria\",\"Czech Republic\",\"Denmark\",\"Germany\",\"Estonia\",\"Ireland\",\"Greece\",\"Spain\",\"France\",\"Croatia\",\"Italy\",\"Cyprus\",\"Latvia\",\"Lithuania\",\"Luxembourg\",\"Hungary\",\"Malta\",\"Netherlands\",\"Austria\",\"Poland\",\"Portugal\",\"Romania\",\"Slovenia\",\"Slovakia\",\"Finland\",\"Sweden\",\"Iceland\",\"Liechtenstein\",\"Norway\",\"Switzerland\",\"United Kingdom\",\"Montenegro\",\"North Macedonia\",\"Albania\",\"Serbia\",\"Turkey\"],\"ids\":[\"EU\",\"Belgium\",\"Bulgaria\",\"Czech Republic\",\"Denmark\",\"Germany\",\"Estonia\",\"Ireland\",\"Greece\",\"Spain\",\"France\",\"Croatia\",\"Italy\",\"Cyprus\",\"Latvia\",\"Lithuania\",\"Luxembourg\",\"Hungary\",\"Malta\",\"Netherlands\",\"Austria\",\"Poland\",\"Portugal\",\"Romania\",\"Slovenia\",\"Slovakia\",\"Finland\",\"Sweden\",\"Iceland\",\"Liechtenstein\",\"Norway\",\"Switzerland\",\"United Kingdom\",\"Montenegro\",\"North Macedonia\",\"Albania\",\"Serbia\",\"Turkey\"],\"locations\":[null,\"BEL\",\"BGR\",\"CZE\",\"DNK\",\"DEU\",\"EST\",\"IRL\",\"GRC\",\"ESP\",\"FRA\",\"HRV\",\"ITA\",\"CYP\",\"LVA\",\"LTU\",\"LUX\",\"HUN\",\"MLT\",\"NLD\",\"AUT\",\"POL\",\"PRT\",\"ROU\",\"SVN\",\"SVK\",\"FIN\",\"SWE\",\"ISL\",\"LIE\",\"NOR\",\"CHE\",\"GBR\",\"MNE\",\"MKD\",\"ALB\",\"SRB\",\"TUR\"],\"name\":\"\",\"z\":[96.6,95.5,89.7,100.9,97.2,93.8,97.8,93.0,101.3,94.8,96.7,89.3,102.0,92.4,99.9,107.5,99.4,100.7,87.3,97.0,90.7,96.1,104.7,96.8,93.3,97.1,94.9,83.5,113.2,0.0,99.0,97.1,103.8,104.5,96.9,0.0,95.5,99.1],\"type\":\"choropleth\"}],\"name\":\"2018\"},{\"data\":[{\"coloraxis\":\"coloraxis\",\"geo\":\"geo\",\"hovertemplate\":\"<b>%{hovertext}</b><br><br>year=2019<br>iso_alpha=%{location}<br>index=%{z}<extra></extra>\",\"hovertext\":[\"EU\",\"Belgium\",\"Bulgaria\",\"Czech Republic\",\"Denmark\",\"Germany\",\"Estonia\",\"Ireland\",\"Greece\",\"Spain\",\"France\",\"Croatia\",\"Italy\",\"Cyprus\",\"Latvia\",\"Lithuania\",\"Luxembourg\",\"Hungary\",\"Malta\",\"Netherlands\",\"Austria\",\"Poland\",\"Portugal\",\"Romania\",\"Slovenia\",\"Slovakia\",\"Finland\",\"Sweden\",\"Iceland\",\"Liechtenstein\",\"Norway\",\"Switzerland\",\"United Kingdom\",\"Montenegro\",\"North Macedonia\",\"Albania\",\"Serbia\",\"Turkey\"],\"ids\":[\"EU\",\"Belgium\",\"Bulgaria\",\"Czech Republic\",\"Denmark\",\"Germany\",\"Estonia\",\"Ireland\",\"Greece\",\"Spain\",\"France\",\"Croatia\",\"Italy\",\"Cyprus\",\"Latvia\",\"Lithuania\",\"Luxembourg\",\"Hungary\",\"Malta\",\"Netherlands\",\"Austria\",\"Poland\",\"Portugal\",\"Romania\",\"Slovenia\",\"Slovakia\",\"Finland\",\"Sweden\",\"Iceland\",\"Liechtenstein\",\"Norway\",\"Switzerland\",\"United Kingdom\",\"Montenegro\",\"North Macedonia\",\"Albania\",\"Serbia\",\"Turkey\"],\"locations\":[null,\"BEL\",\"BGR\",\"CZE\",\"DNK\",\"DEU\",\"EST\",\"IRL\",\"GRC\",\"ESP\",\"FRA\",\"HRV\",\"ITA\",\"CYP\",\"LVA\",\"LTU\",\"LUX\",\"HUN\",\"MLT\",\"NLD\",\"AUT\",\"POL\",\"PRT\",\"ROU\",\"SVN\",\"SVK\",\"FIN\",\"SWE\",\"ISL\",\"LIE\",\"NOR\",\"CHE\",\"GBR\",\"MNE\",\"MKD\",\"ALB\",\"SRB\",\"TUR\"],\"name\":\"\",\"z\":[95.4,93.8,88.7,101.5,98.2,91.1,100.2,90.5,100.9,93.6,94.6,86.1,102.9,90.1,98.9,106.9,99.6,99.3,83.8,97.0,87.5,94.4,104.8,99.1,91.4,95.4,94.0,82.2,109.2,0.0,98.7,97.5,104.3,105.2,93.0,0.0,93.5,102.9],\"type\":\"choropleth\"}],\"name\":\"2019\"},{\"data\":[{\"coloraxis\":\"coloraxis\",\"geo\":\"geo\",\"hovertemplate\":\"<b>%{hovertext}</b><br><br>year=2020<br>iso_alpha=%{location}<br>index=%{z}<extra></extra>\",\"hovertext\":[\"EU\",\"Belgium\",\"Bulgaria\",\"Czech Republic\",\"Denmark\",\"Germany\",\"Estonia\",\"Ireland\",\"Greece\",\"Spain\",\"France\",\"Croatia\",\"Italy\",\"Cyprus\",\"Latvia\",\"Lithuania\",\"Luxembourg\",\"Hungary\",\"Malta\",\"Netherlands\",\"Austria\",\"Poland\",\"Portugal\",\"Romania\",\"Slovenia\",\"Slovakia\",\"Finland\",\"Sweden\",\"Iceland\",\"Liechtenstein\",\"Norway\",\"Switzerland\",\"United Kingdom\",\"Montenegro\",\"North Macedonia\",\"Albania\",\"Serbia\",\"Turkey\"],\"ids\":[\"EU\",\"Belgium\",\"Bulgaria\",\"Czech Republic\",\"Denmark\",\"Germany\",\"Estonia\",\"Ireland\",\"Greece\",\"Spain\",\"France\",\"Croatia\",\"Italy\",\"Cyprus\",\"Latvia\",\"Lithuania\",\"Luxembourg\",\"Hungary\",\"Malta\",\"Netherlands\",\"Austria\",\"Poland\",\"Portugal\",\"Romania\",\"Slovenia\",\"Slovakia\",\"Finland\",\"Sweden\",\"Iceland\",\"Liechtenstein\",\"Norway\",\"Switzerland\",\"United Kingdom\",\"Montenegro\",\"North Macedonia\",\"Albania\",\"Serbia\",\"Turkey\"],\"locations\":[null,\"BEL\",\"BGR\",\"CZE\",\"DNK\",\"DEU\",\"EST\",\"IRL\",\"GRC\",\"ESP\",\"FRA\",\"HRV\",\"ITA\",\"CYP\",\"LVA\",\"LTU\",\"LUX\",\"HUN\",\"MLT\",\"NLD\",\"AUT\",\"POL\",\"PRT\",\"ROU\",\"SVN\",\"SVK\",\"FIN\",\"SWE\",\"ISL\",\"LIE\",\"NOR\",\"CHE\",\"GBR\",\"MNE\",\"MKD\",\"ALB\",\"SRB\",\"TUR\"],\"name\":\"\",\"z\":[79.2,80.9,75.4,83.8,88.4,79.9,79.1,70.1,91.6,77.5,79.2,71.1,71.9,75.5,91.1,93.5,84.6,91.9,76.1,68.4,78.6,84.9,95.3,88.2,77.5,78.2,89.2,74.9,101.1,0.0,89.3,86.0,0.0,99.9,103.8,0.0,80.5,85.0],\"type\":\"choropleth\"}],\"name\":\"2020\"},{\"data\":[{\"coloraxis\":\"coloraxis\",\"geo\":\"geo\",\"hovertemplate\":\"<b>%{hovertext}</b><br><br>year=2021<br>iso_alpha=%{location}<br>index=%{z}<extra></extra>\",\"hovertext\":[\"EU\",\"Belgium\",\"Bulgaria\",\"Czech Republic\",\"Denmark\",\"Germany\",\"Estonia\",\"Ireland\",\"Greece\",\"Spain\",\"France\",\"Croatia\",\"Italy\",\"Cyprus\",\"Latvia\",\"Lithuania\",\"Luxembourg\",\"Hungary\",\"Malta\",\"Netherlands\",\"Austria\",\"Poland\",\"Portugal\",\"Romania\",\"Slovenia\",\"Slovakia\",\"Finland\",\"Sweden\",\"Iceland\",\"Liechtenstein\",\"Norway\",\"Switzerland\",\"United Kingdom\",\"Montenegro\",\"North Macedonia\",\"Albania\",\"Serbia\",\"Turkey\"],\"ids\":[\"EU\",\"Belgium\",\"Bulgaria\",\"Czech Republic\",\"Denmark\",\"Germany\",\"Estonia\",\"Ireland\",\"Greece\",\"Spain\",\"France\",\"Croatia\",\"Italy\",\"Cyprus\",\"Latvia\",\"Lithuania\",\"Luxembourg\",\"Hungary\",\"Malta\",\"Netherlands\",\"Austria\",\"Poland\",\"Portugal\",\"Romania\",\"Slovenia\",\"Slovakia\",\"Finland\",\"Sweden\",\"Iceland\",\"Liechtenstein\",\"Norway\",\"Switzerland\",\"United Kingdom\",\"Montenegro\",\"North Macedonia\",\"Albania\",\"Serbia\",\"Turkey\"],\"locations\":[null,\"BEL\",\"BGR\",\"CZE\",\"DNK\",\"DEU\",\"EST\",\"IRL\",\"GRC\",\"ESP\",\"FRA\",\"HRV\",\"ITA\",\"CYP\",\"LVA\",\"LTU\",\"LUX\",\"HUN\",\"MLT\",\"NLD\",\"AUT\",\"POL\",\"PRT\",\"ROU\",\"SVN\",\"SVK\",\"FIN\",\"SWE\",\"ISL\",\"LIE\",\"NOR\",\"CHE\",\"GBR\",\"MNE\",\"MKD\",\"ALB\",\"SRB\",\"TUR\"],\"name\":\"\",\"z\":[80.2,79.9,72.3,99.2,85.9,76.1,77.7,65.7,90.3,79.7,85.8,72.1,74.1,76.3,78.7,94.9,86.3,89.8,72.9,72.4,80.0,83.3,97.9,91.2,77.5,77.3,85.0,70.0,109.6,0.0,89.3,86.7,0.0,97.9,110.3,0.0,81.8,82.8],\"type\":\"choropleth\"}],\"name\":\"2021\"}]);\n                        }).then(function(){\n                            \nvar gd = document.getElementById('a8c978d6-b84e-4220-a42e-8aad39c3caa5');\nvar x = new MutationObserver(function (mutations, observer) {{\n        var display = window.getComputedStyle(gd).display;\n        if (!display || display === 'none') {{\n            console.log([gd, 'removed!']);\n            Plotly.purge(gd);\n            observer.disconnect();\n        }}\n}});\n\n// Listen for the removal of the full notebook cells\nvar notebookContainer = gd.closest('#notebook-container');\nif (notebookContainer) {{\n    x.observe(notebookContainer, {childList: true});\n}}\n\n// Listen for the clearing of the current output cell\nvar outputEl = gd.closest('.output');\nif (outputEl) {{\n    x.observe(outputEl, {childList: true});\n}}\n\n                        })                };                });            </script>        </div>"
     },
     "metadata": {},
     "output_type": "display_data"
    }
   ],
   "source": [
    "# Read in prepared data set, rename a column and extract the different years\n",
    "df = pd.read_csv(\"Data/pg_GDP_map.csv\")\n",
    "df = df.rename(columns={\"pg_GDP\": \"index\"})\n",
    "years = df.year.unique()\n",
    "\n",
    "# Calculate max value for continuous colour range\n",
    "max_pg_gdp = df['index'].max()\n",
    "\n",
    "# Get year from user and apply to dataset\n",
    "given_year = input(\"Give a year between 2010 and 2021: \")\n",
    "df_new = df.query('year=='+str(given_year))\n",
    "customdata = df_new['country']\n",
    "\n",
    "# Create choropleth figure\n",
    "fig = px.choropleth(df_new, \n",
    "                    locations=\"iso_alpha\",  # Iso-alpha-3 codes to signify which country\n",
    "                    color=\"index\",\n",
    "                    hover_name=\"country\",\n",
    "                    color_continuous_scale=[[0, 'gray'], [0.01, 'gray'], [0.01, 'blue'], [1, 'red']],  # Gray represents countries with no available data.\n",
    "                    projection='miller',\n",
    "                    range_color=(0,max_pg_gdp),\n",
    "                    scope='europe'\n",
    "                    )\n",
    "\n",
    "# Sets hover data\n",
    "fig.update_traces(customdata=customdata, \n",
    "                  hovertemplate= np.select([df_new[\"index\"] == 0], [\"<b>Country: </b> %{customdata}<br><br>No data available\"], \"<b>Country: </b>%{customdata}<br><br><b>Index value: </b>%{z}\"))\n",
    "\n",
    "# Gets value for the entire EU\n",
    "numb = df_new.query('country==\"EU\"')[\"index\"]\n",
    "\n",
    "# Set title and EU index and legend position\n",
    "fig.update_layout(title=\"<b>Volume of passengers relative to GDP in \" + given_year + \" (2015 base year)</b><br>EU index: \" + str(numb.tolist()[0]),\n",
    "                   coloraxis_colorbar=dict(x=0,\n",
    "                                           y=0.5)\n",
    "                  )\n",
    "\n",
    "# Set figure size\n",
    "fig.update_layout(width=1000, \n",
    "                  height=600)\n",
    "\n",
    "fig.show()"
   ],
   "metadata": {
    "collapsed": false,
    "ExecuteTime": {
     "end_time": "2023-10-20T10:27:49.729533700Z",
     "start_time": "2023-10-20T10:27:49.655108800Z"
    }
   },
   "id": "7df3be8663b980e9"
  }
 ],
 "metadata": {
  "kernelspec": {
   "display_name": "Python 3",
   "language": "python",
   "name": "python3"
  },
  "language_info": {
   "codemirror_mode": {
    "name": "ipython",
    "version": 2
   },
   "file_extension": ".py",
   "mimetype": "text/x-python",
   "name": "python",
   "nbconvert_exporter": "python",
   "pygments_lexer": "ipython2",
   "version": "2.7.6"
  }
 },
 "nbformat": 4,
 "nbformat_minor": 5
}
