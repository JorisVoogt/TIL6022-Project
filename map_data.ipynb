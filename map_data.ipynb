{
 "cells": [
  {
   "cell_type": "code",
   "execution_count": 28,
   "id": "initial_id",
   "metadata": {
    "collapsed": true,
    "ExecuteTime": {
     "end_time": "2023-10-18T18:24:21.238166600Z",
     "start_time": "2023-10-18T18:24:21.233462Z"
    }
   },
   "outputs": [],
   "source": [
    "# Required imports:\n",
    "import pandas as pd\n",
    "import plotly.express as px\n",
    "import numpy as np"
   ]
  },
  {
   "cell_type": "markdown",
   "source": [
    "# Eurostat to Map data\n",
    "This next block of code transforms the volume of passengers relative to GDP data\n",
    "to a dataframe which can be used in a choropleth map.\n",
    "Parts of this can be reused for other eurostat data sets."
   ],
   "metadata": {
    "collapsed": false
   },
   "id": "fd708d1119a8b8ab"
  },
  {
   "cell_type": "code",
   "execution_count": 37,
   "outputs": [],
   "source": [
    "# Loads in European countries and their iso-alpha-3 codes as a dictionary\n",
    "df_alpha = pd.read_csv(\"Data/countries_iso.csv\")\n",
    "dic_alpha = df_alpha.set_index(\"country\").T.to_dict(\"list\")\n",
    "\n",
    "# Transposes data and removes empty/unnecessary columns\n",
    "df = pd.read_csv(\"Data/pg_GDP.csv\")\n",
    "df.set_index(df.columns[0], inplace=True)\n",
    "df = df.T\n",
    "remove_rows = np.r_[np.r_[0:6, 7, 9:11, 49:57]]\n",
    "df.drop(df.columns[remove_rows], axis=1, inplace=True)\n",
    "\n",
    "# Rename some countries for consistency with the iso-alpha-3 dictionary\n",
    "df.rename(columns={\"European Union - 27 countries (from 2020)\": \"EU\", \"Czechia\": \"Czech Republic\", \"Türkiye\": \"Turkey\"}, inplace=True)\n",
    "\n",
    "# Create a new dataframe usable by choropleth using the transposed data\n",
    "df_processed = pd.DataFrame(columns=[\"country\", \"iso_alpha\", \"year\", \"pg_GDP\", \"flag\"])\n",
    "for row in range(0, len(df.index), 2):\n",
    "    for col in range(1, len(df.columns)):\n",
    "        if df.columns[col] == \"EU\":\n",
    "            iso_alpha = None\n",
    "        else:\n",
    "            iso_alpha = dic_alpha[df.columns[col]][0]\n",
    "        df_processed.loc[len(df_processed)] = [df.columns[col],\n",
    "                                                             iso_alpha,\n",
    "                                                             df.iloc[row, 0],\n",
    "                                                             df.iloc[row, col],\n",
    "                                                             df.iloc[row+1, col]]\n",
    "\n",
    "# Replace NaN with 0 and save dataframe\n",
    "df_processed = df_processed.replace(\":\", 0)\n",
    "df_processed.to_csv(\"Data/pg_GDP_map.csv\")"
   ],
   "metadata": {
    "collapsed": false,
    "ExecuteTime": {
     "end_time": "2023-10-18T18:53:12.949456300Z",
     "start_time": "2023-10-18T18:53:12.167764500Z"
    }
   },
   "id": "5e9125e51d72045e"
  },
  {
   "cell_type": "markdown",
   "source": [
    "# Choropleth Map using Plotly\n",
    "This next block of code creates a map of Europe using plotly's choropleth.\n",
    "In this particular instance, it plots transport volumes relative to GDP.\n",
    "Most of this code can be reused for plotting other data sets using choropleth."
   ],
   "metadata": {
    "collapsed": false
   },
   "id": "31ce7fdab095a682"
  },
  {
   "cell_type": "code",
   "execution_count": 56,
   "outputs": [
    {
     "data": {
      "application/vnd.plotly.v1+json": {
       "data": [
        {
         "coloraxis": "coloraxis",
         "geo": "geo",
         "hovertemplate": [
          "<b>Country: </b>%{customdata}<br><br><b>Index value: </b>%{z}",
          "<b>Country: </b>%{customdata}<br><br><b>Index value: </b>%{z}",
          "<b>Country: </b>%{customdata}<br><br><b>Index value: </b>%{z}",
          "<b>Country: </b>%{customdata}<br><br><b>Index value: </b>%{z}",
          "<b>Country: </b>%{customdata}<br><br><b>Index value: </b>%{z}",
          "<b>Country: </b>%{customdata}<br><br><b>Index value: </b>%{z}",
          "<b>Country: </b>%{customdata}<br><br><b>Index value: </b>%{z}",
          "<b>Country: </b>%{customdata}<br><br><b>Index value: </b>%{z}",
          "<b>Country: </b>%{customdata}<br><br><b>Index value: </b>%{z}",
          "<b>Country: </b>%{customdata}<br><br><b>Index value: </b>%{z}",
          "<b>Country: </b>%{customdata}<br><br><b>Index value: </b>%{z}",
          "<b>Country: </b>%{customdata}<br><br><b>Index value: </b>%{z}",
          "<b>Country: </b>%{customdata}<br><br><b>Index value: </b>%{z}",
          "<b>Country: </b>%{customdata}<br><br><b>Index value: </b>%{z}",
          "<b>Country: </b>%{customdata}<br><br><b>Index value: </b>%{z}",
          "<b>Country: </b>%{customdata}<br><br><b>Index value: </b>%{z}",
          "<b>Country: </b>%{customdata}<br><br><b>Index value: </b>%{z}",
          "<b>Country: </b>%{customdata}<br><br><b>Index value: </b>%{z}",
          "<b>Country: </b>%{customdata}<br><br><b>Index value: </b>%{z}",
          "<b>Country: </b>%{customdata}<br><br><b>Index value: </b>%{z}",
          "<b>Country: </b>%{customdata}<br><br><b>Index value: </b>%{z}",
          "<b>Country: </b>%{customdata}<br><br><b>Index value: </b>%{z}",
          "<b>Country: </b>%{customdata}<br><br><b>Index value: </b>%{z}",
          "<b>Country: </b>%{customdata}<br><br><b>Index value: </b>%{z}",
          "<b>Country: </b>%{customdata}<br><br><b>Index value: </b>%{z}",
          "<b>Country: </b>%{customdata}<br><br><b>Index value: </b>%{z}",
          "<b>Country: </b>%{customdata}<br><br><b>Index value: </b>%{z}",
          "<b>Country: </b>%{customdata}<br><br><b>Index value: </b>%{z}",
          "<b>Country: </b>%{customdata}<br><br><b>Index value: </b>%{z}",
          "<b>Country: </b> %{customdata}<br><br>No data available",
          "<b>Country: </b>%{customdata}<br><br><b>Index value: </b>%{z}",
          "<b>Country: </b>%{customdata}<br><br><b>Index value: </b>%{z}",
          "<b>Country: </b>%{customdata}<br><br><b>Index value: </b>%{z}",
          "<b>Country: </b>%{customdata}<br><br><b>Index value: </b>%{z}",
          "<b>Country: </b>%{customdata}<br><br><b>Index value: </b>%{z}",
          "<b>Country: </b> %{customdata}<br><br>No data available",
          "<b>Country: </b>%{customdata}<br><br><b>Index value: </b>%{z}",
          "<b>Country: </b>%{customdata}<br><br><b>Index value: </b>%{z}"
         ],
         "hovertext": [
          "EU",
          "Belgium",
          "Bulgaria",
          "Czech Republic",
          "Denmark",
          "Germany",
          "Estonia",
          "Ireland",
          "Greece",
          "Spain",
          "France",
          "Croatia",
          "Italy",
          "Cyprus",
          "Latvia",
          "Lithuania",
          "Luxembourg",
          "Hungary",
          "Malta",
          "Netherlands",
          "Austria",
          "Poland",
          "Portugal",
          "Romania",
          "Slovenia",
          "Slovakia",
          "Finland",
          "Sweden",
          "Iceland",
          "Liechtenstein",
          "Norway",
          "Switzerland",
          "United Kingdom",
          "Montenegro",
          "North Macedonia",
          "Albania",
          "Serbia",
          "Turkey"
         ],
         "locations": [
          null,
          "BEL",
          "BGR",
          "CZE",
          "DNK",
          "DEU",
          "EST",
          "IRL",
          "GRC",
          "ESP",
          "FRA",
          "HRV",
          "ITA",
          "CYP",
          "LVA",
          "LTU",
          "LUX",
          "HUN",
          "MLT",
          "NLD",
          "AUT",
          "POL",
          "PRT",
          "ROU",
          "SVN",
          "SVK",
          "FIN",
          "SWE",
          "ISL",
          "LIE",
          "NOR",
          "CHE",
          "GBR",
          "MNE",
          "MKD",
          "ALB",
          "SRB",
          "TUR"
         ],
         "name": "",
         "z": [
          100.9,
          114.0,
          91.9,
          99.6,
          98.7,
          101.1,
          91.9,
          123.4,
          96.3,
          105.9,
          106.6,
          100.9,
          87.3,
          91.1,
          96.5,
          146.0,
          99.4,
          107.3,
          111.0,
          106.8,
          96.1,
          104.9,
          98.3,
          92.0,
          100.5,
          103.6,
          97.9,
          104.7,
          96.1,
          0.0,
          98.1,
          102.9,
          106.1,
          105.8,
          77.7,
          0.0,
          96.8,
          107.7
         ],
         "type": "choropleth",
         "customdata": [
          "EU",
          "Belgium",
          "Bulgaria",
          "Czech Republic",
          "Denmark",
          "Germany",
          "Estonia",
          "Ireland",
          "Greece",
          "Spain",
          "France",
          "Croatia",
          "Italy",
          "Cyprus",
          "Latvia",
          "Lithuania",
          "Luxembourg",
          "Hungary",
          "Malta",
          "Netherlands",
          "Austria",
          "Poland",
          "Portugal",
          "Romania",
          "Slovenia",
          "Slovakia",
          "Finland",
          "Sweden",
          "Iceland",
          "Liechtenstein",
          "Norway",
          "Switzerland",
          "United Kingdom",
          "Montenegro",
          "North Macedonia",
          "Albania",
          "Serbia",
          "Turkey"
         ]
        }
       ],
       "layout": {
        "template": {
         "data": {
          "histogram2dcontour": [
           {
            "type": "histogram2dcontour",
            "colorbar": {
             "outlinewidth": 0,
             "ticks": ""
            },
            "colorscale": [
             [
              0.0,
              "#0d0887"
             ],
             [
              0.1111111111111111,
              "#46039f"
             ],
             [
              0.2222222222222222,
              "#7201a8"
             ],
             [
              0.3333333333333333,
              "#9c179e"
             ],
             [
              0.4444444444444444,
              "#bd3786"
             ],
             [
              0.5555555555555556,
              "#d8576b"
             ],
             [
              0.6666666666666666,
              "#ed7953"
             ],
             [
              0.7777777777777778,
              "#fb9f3a"
             ],
             [
              0.8888888888888888,
              "#fdca26"
             ],
             [
              1.0,
              "#f0f921"
             ]
            ]
           }
          ],
          "choropleth": [
           {
            "type": "choropleth",
            "colorbar": {
             "outlinewidth": 0,
             "ticks": ""
            }
           }
          ],
          "histogram2d": [
           {
            "type": "histogram2d",
            "colorbar": {
             "outlinewidth": 0,
             "ticks": ""
            },
            "colorscale": [
             [
              0.0,
              "#0d0887"
             ],
             [
              0.1111111111111111,
              "#46039f"
             ],
             [
              0.2222222222222222,
              "#7201a8"
             ],
             [
              0.3333333333333333,
              "#9c179e"
             ],
             [
              0.4444444444444444,
              "#bd3786"
             ],
             [
              0.5555555555555556,
              "#d8576b"
             ],
             [
              0.6666666666666666,
              "#ed7953"
             ],
             [
              0.7777777777777778,
              "#fb9f3a"
             ],
             [
              0.8888888888888888,
              "#fdca26"
             ],
             [
              1.0,
              "#f0f921"
             ]
            ]
           }
          ],
          "heatmap": [
           {
            "type": "heatmap",
            "colorbar": {
             "outlinewidth": 0,
             "ticks": ""
            },
            "colorscale": [
             [
              0.0,
              "#0d0887"
             ],
             [
              0.1111111111111111,
              "#46039f"
             ],
             [
              0.2222222222222222,
              "#7201a8"
             ],
             [
              0.3333333333333333,
              "#9c179e"
             ],
             [
              0.4444444444444444,
              "#bd3786"
             ],
             [
              0.5555555555555556,
              "#d8576b"
             ],
             [
              0.6666666666666666,
              "#ed7953"
             ],
             [
              0.7777777777777778,
              "#fb9f3a"
             ],
             [
              0.8888888888888888,
              "#fdca26"
             ],
             [
              1.0,
              "#f0f921"
             ]
            ]
           }
          ],
          "heatmapgl": [
           {
            "type": "heatmapgl",
            "colorbar": {
             "outlinewidth": 0,
             "ticks": ""
            },
            "colorscale": [
             [
              0.0,
              "#0d0887"
             ],
             [
              0.1111111111111111,
              "#46039f"
             ],
             [
              0.2222222222222222,
              "#7201a8"
             ],
             [
              0.3333333333333333,
              "#9c179e"
             ],
             [
              0.4444444444444444,
              "#bd3786"
             ],
             [
              0.5555555555555556,
              "#d8576b"
             ],
             [
              0.6666666666666666,
              "#ed7953"
             ],
             [
              0.7777777777777778,
              "#fb9f3a"
             ],
             [
              0.8888888888888888,
              "#fdca26"
             ],
             [
              1.0,
              "#f0f921"
             ]
            ]
           }
          ],
          "contourcarpet": [
           {
            "type": "contourcarpet",
            "colorbar": {
             "outlinewidth": 0,
             "ticks": ""
            }
           }
          ],
          "contour": [
           {
            "type": "contour",
            "colorbar": {
             "outlinewidth": 0,
             "ticks": ""
            },
            "colorscale": [
             [
              0.0,
              "#0d0887"
             ],
             [
              0.1111111111111111,
              "#46039f"
             ],
             [
              0.2222222222222222,
              "#7201a8"
             ],
             [
              0.3333333333333333,
              "#9c179e"
             ],
             [
              0.4444444444444444,
              "#bd3786"
             ],
             [
              0.5555555555555556,
              "#d8576b"
             ],
             [
              0.6666666666666666,
              "#ed7953"
             ],
             [
              0.7777777777777778,
              "#fb9f3a"
             ],
             [
              0.8888888888888888,
              "#fdca26"
             ],
             [
              1.0,
              "#f0f921"
             ]
            ]
           }
          ],
          "surface": [
           {
            "type": "surface",
            "colorbar": {
             "outlinewidth": 0,
             "ticks": ""
            },
            "colorscale": [
             [
              0.0,
              "#0d0887"
             ],
             [
              0.1111111111111111,
              "#46039f"
             ],
             [
              0.2222222222222222,
              "#7201a8"
             ],
             [
              0.3333333333333333,
              "#9c179e"
             ],
             [
              0.4444444444444444,
              "#bd3786"
             ],
             [
              0.5555555555555556,
              "#d8576b"
             ],
             [
              0.6666666666666666,
              "#ed7953"
             ],
             [
              0.7777777777777778,
              "#fb9f3a"
             ],
             [
              0.8888888888888888,
              "#fdca26"
             ],
             [
              1.0,
              "#f0f921"
             ]
            ]
           }
          ],
          "mesh3d": [
           {
            "type": "mesh3d",
            "colorbar": {
             "outlinewidth": 0,
             "ticks": ""
            }
           }
          ],
          "scatter": [
           {
            "marker": {
             "line": {
              "color": "#283442"
             }
            },
            "type": "scatter"
           }
          ],
          "parcoords": [
           {
            "type": "parcoords",
            "line": {
             "colorbar": {
              "outlinewidth": 0,
              "ticks": ""
             }
            }
           }
          ],
          "scatterpolargl": [
           {
            "type": "scatterpolargl",
            "marker": {
             "colorbar": {
              "outlinewidth": 0,
              "ticks": ""
             }
            }
           }
          ],
          "bar": [
           {
            "error_x": {
             "color": "#f2f5fa"
            },
            "error_y": {
             "color": "#f2f5fa"
            },
            "marker": {
             "line": {
              "color": "rgb(17,17,17)",
              "width": 0.5
             },
             "pattern": {
              "fillmode": "overlay",
              "size": 10,
              "solidity": 0.2
             }
            },
            "type": "bar"
           }
          ],
          "scattergeo": [
           {
            "type": "scattergeo",
            "marker": {
             "colorbar": {
              "outlinewidth": 0,
              "ticks": ""
             }
            }
           }
          ],
          "scatterpolar": [
           {
            "type": "scatterpolar",
            "marker": {
             "colorbar": {
              "outlinewidth": 0,
              "ticks": ""
             }
            }
           }
          ],
          "histogram": [
           {
            "marker": {
             "pattern": {
              "fillmode": "overlay",
              "size": 10,
              "solidity": 0.2
             }
            },
            "type": "histogram"
           }
          ],
          "scattergl": [
           {
            "marker": {
             "line": {
              "color": "#283442"
             }
            },
            "type": "scattergl"
           }
          ],
          "scatter3d": [
           {
            "type": "scatter3d",
            "line": {
             "colorbar": {
              "outlinewidth": 0,
              "ticks": ""
             }
            },
            "marker": {
             "colorbar": {
              "outlinewidth": 0,
              "ticks": ""
             }
            }
           }
          ],
          "scattermapbox": [
           {
            "type": "scattermapbox",
            "marker": {
             "colorbar": {
              "outlinewidth": 0,
              "ticks": ""
             }
            }
           }
          ],
          "scatterternary": [
           {
            "type": "scatterternary",
            "marker": {
             "colorbar": {
              "outlinewidth": 0,
              "ticks": ""
             }
            }
           }
          ],
          "scattercarpet": [
           {
            "type": "scattercarpet",
            "marker": {
             "colorbar": {
              "outlinewidth": 0,
              "ticks": ""
             }
            }
           }
          ],
          "carpet": [
           {
            "aaxis": {
             "endlinecolor": "#A2B1C6",
             "gridcolor": "#506784",
             "linecolor": "#506784",
             "minorgridcolor": "#506784",
             "startlinecolor": "#A2B1C6"
            },
            "baxis": {
             "endlinecolor": "#A2B1C6",
             "gridcolor": "#506784",
             "linecolor": "#506784",
             "minorgridcolor": "#506784",
             "startlinecolor": "#A2B1C6"
            },
            "type": "carpet"
           }
          ],
          "table": [
           {
            "cells": {
             "fill": {
              "color": "#506784"
             },
             "line": {
              "color": "rgb(17,17,17)"
             }
            },
            "header": {
             "fill": {
              "color": "#2a3f5f"
             },
             "line": {
              "color": "rgb(17,17,17)"
             }
            },
            "type": "table"
           }
          ],
          "barpolar": [
           {
            "marker": {
             "line": {
              "color": "rgb(17,17,17)",
              "width": 0.5
             },
             "pattern": {
              "fillmode": "overlay",
              "size": 10,
              "solidity": 0.2
             }
            },
            "type": "barpolar"
           }
          ],
          "pie": [
           {
            "automargin": true,
            "type": "pie"
           }
          ]
         },
         "layout": {
          "autotypenumbers": "strict",
          "colorway": [
           "#636efa",
           "#EF553B",
           "#00cc96",
           "#ab63fa",
           "#FFA15A",
           "#19d3f3",
           "#FF6692",
           "#B6E880",
           "#FF97FF",
           "#FECB52"
          ],
          "font": {
           "color": "#f2f5fa"
          },
          "hovermode": "closest",
          "hoverlabel": {
           "align": "left"
          },
          "paper_bgcolor": "rgb(17,17,17)",
          "plot_bgcolor": "rgb(17,17,17)",
          "polar": {
           "bgcolor": "rgb(17,17,17)",
           "angularaxis": {
            "gridcolor": "#506784",
            "linecolor": "#506784",
            "ticks": ""
           },
           "radialaxis": {
            "gridcolor": "#506784",
            "linecolor": "#506784",
            "ticks": ""
           }
          },
          "ternary": {
           "bgcolor": "rgb(17,17,17)",
           "aaxis": {
            "gridcolor": "#506784",
            "linecolor": "#506784",
            "ticks": ""
           },
           "baxis": {
            "gridcolor": "#506784",
            "linecolor": "#506784",
            "ticks": ""
           },
           "caxis": {
            "gridcolor": "#506784",
            "linecolor": "#506784",
            "ticks": ""
           }
          },
          "coloraxis": {
           "colorbar": {
            "outlinewidth": 0,
            "ticks": ""
           }
          },
          "colorscale": {
           "sequential": [
            [
             0.0,
             "#0d0887"
            ],
            [
             0.1111111111111111,
             "#46039f"
            ],
            [
             0.2222222222222222,
             "#7201a8"
            ],
            [
             0.3333333333333333,
             "#9c179e"
            ],
            [
             0.4444444444444444,
             "#bd3786"
            ],
            [
             0.5555555555555556,
             "#d8576b"
            ],
            [
             0.6666666666666666,
             "#ed7953"
            ],
            [
             0.7777777777777778,
             "#fb9f3a"
            ],
            [
             0.8888888888888888,
             "#fdca26"
            ],
            [
             1.0,
             "#f0f921"
            ]
           ],
           "sequentialminus": [
            [
             0.0,
             "#0d0887"
            ],
            [
             0.1111111111111111,
             "#46039f"
            ],
            [
             0.2222222222222222,
             "#7201a8"
            ],
            [
             0.3333333333333333,
             "#9c179e"
            ],
            [
             0.4444444444444444,
             "#bd3786"
            ],
            [
             0.5555555555555556,
             "#d8576b"
            ],
            [
             0.6666666666666666,
             "#ed7953"
            ],
            [
             0.7777777777777778,
             "#fb9f3a"
            ],
            [
             0.8888888888888888,
             "#fdca26"
            ],
            [
             1.0,
             "#f0f921"
            ]
           ],
           "diverging": [
            [
             0,
             "#8e0152"
            ],
            [
             0.1,
             "#c51b7d"
            ],
            [
             0.2,
             "#de77ae"
            ],
            [
             0.3,
             "#f1b6da"
            ],
            [
             0.4,
             "#fde0ef"
            ],
            [
             0.5,
             "#f7f7f7"
            ],
            [
             0.6,
             "#e6f5d0"
            ],
            [
             0.7,
             "#b8e186"
            ],
            [
             0.8,
             "#7fbc41"
            ],
            [
             0.9,
             "#4d9221"
            ],
            [
             1,
             "#276419"
            ]
           ]
          },
          "xaxis": {
           "gridcolor": "#283442",
           "linecolor": "#506784",
           "ticks": "",
           "title": {
            "standoff": 15
           },
           "zerolinecolor": "#283442",
           "automargin": true,
           "zerolinewidth": 2
          },
          "yaxis": {
           "gridcolor": "#283442",
           "linecolor": "#506784",
           "ticks": "",
           "title": {
            "standoff": 15
           },
           "zerolinecolor": "#283442",
           "automargin": true,
           "zerolinewidth": 2
          },
          "scene": {
           "xaxis": {
            "backgroundcolor": "rgb(17,17,17)",
            "gridcolor": "#506784",
            "linecolor": "#506784",
            "showbackground": true,
            "ticks": "",
            "zerolinecolor": "#C8D4E3",
            "gridwidth": 2
           },
           "yaxis": {
            "backgroundcolor": "rgb(17,17,17)",
            "gridcolor": "#506784",
            "linecolor": "#506784",
            "showbackground": true,
            "ticks": "",
            "zerolinecolor": "#C8D4E3",
            "gridwidth": 2
           },
           "zaxis": {
            "backgroundcolor": "rgb(17,17,17)",
            "gridcolor": "#506784",
            "linecolor": "#506784",
            "showbackground": true,
            "ticks": "",
            "zerolinecolor": "#C8D4E3",
            "gridwidth": 2
           }
          },
          "shapedefaults": {
           "line": {
            "color": "#f2f5fa"
           }
          },
          "annotationdefaults": {
           "arrowcolor": "#f2f5fa",
           "arrowhead": 0,
           "arrowwidth": 1
          },
          "geo": {
           "bgcolor": "rgb(17,17,17)",
           "landcolor": "rgb(17,17,17)",
           "subunitcolor": "#506784",
           "showland": true,
           "showlakes": true,
           "lakecolor": "rgb(17,17,17)"
          },
          "title": {
           "x": 0.05
          },
          "updatemenudefaults": {
           "bgcolor": "#506784",
           "borderwidth": 0
          },
          "sliderdefaults": {
           "bgcolor": "#C8D4E3",
           "borderwidth": 1,
           "bordercolor": "rgb(17,17,17)",
           "tickwidth": 0
          },
          "mapbox": {
           "style": "dark"
          }
         }
        },
        "geo": {
         "domain": {
          "x": [
           0.0,
           1.0
          ],
          "y": [
           0.0,
           1.0
          ]
         },
         "projection": {
          "type": "miller"
         },
         "center": {},
         "scope": "europe"
        },
        "coloraxis": {
         "colorbar": {
          "title": {
           "text": "index"
          },
          "x": 0,
          "y": 0.5
         },
         "colorscale": [
          [
           0,
           "gray"
          ],
          [
           0.01,
           "gray"
          ],
          [
           0.01,
           "blue"
          ],
          [
           1,
           "red"
          ]
         ],
         "cmin": 0,
         "cmax": 153.4
        },
        "legend": {
         "tracegroupgap": 0
        },
        "margin": {
         "t": 60
        },
        "title": {
         "text": "<b>Volume of passengers relative to GDP in 2012 (2015 base year)</b><br>EU index: 100.9"
        },
        "width": 1000,
        "height": 600
       },
       "config": {
        "plotlyServerURL": "https://plot.ly"
       }
      },
      "text/html": "<div>                            <div id=\"797230d6-239a-4b5b-b96d-3b5bdeaef14a\" class=\"plotly-graph-div\" style=\"height:600px; width:1000px;\"></div>            <script type=\"text/javascript\">                require([\"plotly\"], function(Plotly) {                    window.PLOTLYENV=window.PLOTLYENV || {};                                    if (document.getElementById(\"797230d6-239a-4b5b-b96d-3b5bdeaef14a\")) {                    Plotly.newPlot(                        \"797230d6-239a-4b5b-b96d-3b5bdeaef14a\",                        [{\"coloraxis\":\"coloraxis\",\"geo\":\"geo\",\"hovertemplate\":[\"<b>Country: </b>%{customdata}<br><br><b>Index value: </b>%{z}\",\"<b>Country: </b>%{customdata}<br><br><b>Index value: </b>%{z}\",\"<b>Country: </b>%{customdata}<br><br><b>Index value: </b>%{z}\",\"<b>Country: </b>%{customdata}<br><br><b>Index value: </b>%{z}\",\"<b>Country: </b>%{customdata}<br><br><b>Index value: </b>%{z}\",\"<b>Country: </b>%{customdata}<br><br><b>Index value: </b>%{z}\",\"<b>Country: </b>%{customdata}<br><br><b>Index value: </b>%{z}\",\"<b>Country: </b>%{customdata}<br><br><b>Index value: </b>%{z}\",\"<b>Country: </b>%{customdata}<br><br><b>Index value: </b>%{z}\",\"<b>Country: </b>%{customdata}<br><br><b>Index value: </b>%{z}\",\"<b>Country: </b>%{customdata}<br><br><b>Index value: </b>%{z}\",\"<b>Country: </b>%{customdata}<br><br><b>Index value: </b>%{z}\",\"<b>Country: </b>%{customdata}<br><br><b>Index value: </b>%{z}\",\"<b>Country: </b>%{customdata}<br><br><b>Index value: </b>%{z}\",\"<b>Country: </b>%{customdata}<br><br><b>Index value: </b>%{z}\",\"<b>Country: </b>%{customdata}<br><br><b>Index value: </b>%{z}\",\"<b>Country: </b>%{customdata}<br><br><b>Index value: </b>%{z}\",\"<b>Country: </b>%{customdata}<br><br><b>Index value: </b>%{z}\",\"<b>Country: </b>%{customdata}<br><br><b>Index value: </b>%{z}\",\"<b>Country: </b>%{customdata}<br><br><b>Index value: </b>%{z}\",\"<b>Country: </b>%{customdata}<br><br><b>Index value: </b>%{z}\",\"<b>Country: </b>%{customdata}<br><br><b>Index value: </b>%{z}\",\"<b>Country: </b>%{customdata}<br><br><b>Index value: </b>%{z}\",\"<b>Country: </b>%{customdata}<br><br><b>Index value: </b>%{z}\",\"<b>Country: </b>%{customdata}<br><br><b>Index value: </b>%{z}\",\"<b>Country: </b>%{customdata}<br><br><b>Index value: </b>%{z}\",\"<b>Country: </b>%{customdata}<br><br><b>Index value: </b>%{z}\",\"<b>Country: </b>%{customdata}<br><br><b>Index value: </b>%{z}\",\"<b>Country: </b>%{customdata}<br><br><b>Index value: </b>%{z}\",\"<b>Country: </b> %{customdata}<br><br>No data available\",\"<b>Country: </b>%{customdata}<br><br><b>Index value: </b>%{z}\",\"<b>Country: </b>%{customdata}<br><br><b>Index value: </b>%{z}\",\"<b>Country: </b>%{customdata}<br><br><b>Index value: </b>%{z}\",\"<b>Country: </b>%{customdata}<br><br><b>Index value: </b>%{z}\",\"<b>Country: </b>%{customdata}<br><br><b>Index value: </b>%{z}\",\"<b>Country: </b> %{customdata}<br><br>No data available\",\"<b>Country: </b>%{customdata}<br><br><b>Index value: </b>%{z}\",\"<b>Country: </b>%{customdata}<br><br><b>Index value: </b>%{z}\"],\"hovertext\":[\"EU\",\"Belgium\",\"Bulgaria\",\"Czech Republic\",\"Denmark\",\"Germany\",\"Estonia\",\"Ireland\",\"Greece\",\"Spain\",\"France\",\"Croatia\",\"Italy\",\"Cyprus\",\"Latvia\",\"Lithuania\",\"Luxembourg\",\"Hungary\",\"Malta\",\"Netherlands\",\"Austria\",\"Poland\",\"Portugal\",\"Romania\",\"Slovenia\",\"Slovakia\",\"Finland\",\"Sweden\",\"Iceland\",\"Liechtenstein\",\"Norway\",\"Switzerland\",\"United Kingdom\",\"Montenegro\",\"North Macedonia\",\"Albania\",\"Serbia\",\"Turkey\"],\"locations\":[null,\"BEL\",\"BGR\",\"CZE\",\"DNK\",\"DEU\",\"EST\",\"IRL\",\"GRC\",\"ESP\",\"FRA\",\"HRV\",\"ITA\",\"CYP\",\"LVA\",\"LTU\",\"LUX\",\"HUN\",\"MLT\",\"NLD\",\"AUT\",\"POL\",\"PRT\",\"ROU\",\"SVN\",\"SVK\",\"FIN\",\"SWE\",\"ISL\",\"LIE\",\"NOR\",\"CHE\",\"GBR\",\"MNE\",\"MKD\",\"ALB\",\"SRB\",\"TUR\"],\"name\":\"\",\"z\":[100.9,114.0,91.9,99.6,98.7,101.1,91.9,123.4,96.3,105.9,106.6,100.9,87.3,91.1,96.5,146.0,99.4,107.3,111.0,106.8,96.1,104.9,98.3,92.0,100.5,103.6,97.9,104.7,96.1,0.0,98.1,102.9,106.1,105.8,77.7,0.0,96.8,107.7],\"type\":\"choropleth\",\"customdata\":[\"EU\",\"Belgium\",\"Bulgaria\",\"Czech Republic\",\"Denmark\",\"Germany\",\"Estonia\",\"Ireland\",\"Greece\",\"Spain\",\"France\",\"Croatia\",\"Italy\",\"Cyprus\",\"Latvia\",\"Lithuania\",\"Luxembourg\",\"Hungary\",\"Malta\",\"Netherlands\",\"Austria\",\"Poland\",\"Portugal\",\"Romania\",\"Slovenia\",\"Slovakia\",\"Finland\",\"Sweden\",\"Iceland\",\"Liechtenstein\",\"Norway\",\"Switzerland\",\"United Kingdom\",\"Montenegro\",\"North Macedonia\",\"Albania\",\"Serbia\",\"Turkey\"]}],                        {\"template\":{\"data\":{\"histogram2dcontour\":[{\"type\":\"histogram2dcontour\",\"colorbar\":{\"outlinewidth\":0,\"ticks\":\"\"},\"colorscale\":[[0.0,\"#0d0887\"],[0.1111111111111111,\"#46039f\"],[0.2222222222222222,\"#7201a8\"],[0.3333333333333333,\"#9c179e\"],[0.4444444444444444,\"#bd3786\"],[0.5555555555555556,\"#d8576b\"],[0.6666666666666666,\"#ed7953\"],[0.7777777777777778,\"#fb9f3a\"],[0.8888888888888888,\"#fdca26\"],[1.0,\"#f0f921\"]]}],\"choropleth\":[{\"type\":\"choropleth\",\"colorbar\":{\"outlinewidth\":0,\"ticks\":\"\"}}],\"histogram2d\":[{\"type\":\"histogram2d\",\"colorbar\":{\"outlinewidth\":0,\"ticks\":\"\"},\"colorscale\":[[0.0,\"#0d0887\"],[0.1111111111111111,\"#46039f\"],[0.2222222222222222,\"#7201a8\"],[0.3333333333333333,\"#9c179e\"],[0.4444444444444444,\"#bd3786\"],[0.5555555555555556,\"#d8576b\"],[0.6666666666666666,\"#ed7953\"],[0.7777777777777778,\"#fb9f3a\"],[0.8888888888888888,\"#fdca26\"],[1.0,\"#f0f921\"]]}],\"heatmap\":[{\"type\":\"heatmap\",\"colorbar\":{\"outlinewidth\":0,\"ticks\":\"\"},\"colorscale\":[[0.0,\"#0d0887\"],[0.1111111111111111,\"#46039f\"],[0.2222222222222222,\"#7201a8\"],[0.3333333333333333,\"#9c179e\"],[0.4444444444444444,\"#bd3786\"],[0.5555555555555556,\"#d8576b\"],[0.6666666666666666,\"#ed7953\"],[0.7777777777777778,\"#fb9f3a\"],[0.8888888888888888,\"#fdca26\"],[1.0,\"#f0f921\"]]}],\"heatmapgl\":[{\"type\":\"heatmapgl\",\"colorbar\":{\"outlinewidth\":0,\"ticks\":\"\"},\"colorscale\":[[0.0,\"#0d0887\"],[0.1111111111111111,\"#46039f\"],[0.2222222222222222,\"#7201a8\"],[0.3333333333333333,\"#9c179e\"],[0.4444444444444444,\"#bd3786\"],[0.5555555555555556,\"#d8576b\"],[0.6666666666666666,\"#ed7953\"],[0.7777777777777778,\"#fb9f3a\"],[0.8888888888888888,\"#fdca26\"],[1.0,\"#f0f921\"]]}],\"contourcarpet\":[{\"type\":\"contourcarpet\",\"colorbar\":{\"outlinewidth\":0,\"ticks\":\"\"}}],\"contour\":[{\"type\":\"contour\",\"colorbar\":{\"outlinewidth\":0,\"ticks\":\"\"},\"colorscale\":[[0.0,\"#0d0887\"],[0.1111111111111111,\"#46039f\"],[0.2222222222222222,\"#7201a8\"],[0.3333333333333333,\"#9c179e\"],[0.4444444444444444,\"#bd3786\"],[0.5555555555555556,\"#d8576b\"],[0.6666666666666666,\"#ed7953\"],[0.7777777777777778,\"#fb9f3a\"],[0.8888888888888888,\"#fdca26\"],[1.0,\"#f0f921\"]]}],\"surface\":[{\"type\":\"surface\",\"colorbar\":{\"outlinewidth\":0,\"ticks\":\"\"},\"colorscale\":[[0.0,\"#0d0887\"],[0.1111111111111111,\"#46039f\"],[0.2222222222222222,\"#7201a8\"],[0.3333333333333333,\"#9c179e\"],[0.4444444444444444,\"#bd3786\"],[0.5555555555555556,\"#d8576b\"],[0.6666666666666666,\"#ed7953\"],[0.7777777777777778,\"#fb9f3a\"],[0.8888888888888888,\"#fdca26\"],[1.0,\"#f0f921\"]]}],\"mesh3d\":[{\"type\":\"mesh3d\",\"colorbar\":{\"outlinewidth\":0,\"ticks\":\"\"}}],\"scatter\":[{\"marker\":{\"line\":{\"color\":\"#283442\"}},\"type\":\"scatter\"}],\"parcoords\":[{\"type\":\"parcoords\",\"line\":{\"colorbar\":{\"outlinewidth\":0,\"ticks\":\"\"}}}],\"scatterpolargl\":[{\"type\":\"scatterpolargl\",\"marker\":{\"colorbar\":{\"outlinewidth\":0,\"ticks\":\"\"}}}],\"bar\":[{\"error_x\":{\"color\":\"#f2f5fa\"},\"error_y\":{\"color\":\"#f2f5fa\"},\"marker\":{\"line\":{\"color\":\"rgb(17,17,17)\",\"width\":0.5},\"pattern\":{\"fillmode\":\"overlay\",\"size\":10,\"solidity\":0.2}},\"type\":\"bar\"}],\"scattergeo\":[{\"type\":\"scattergeo\",\"marker\":{\"colorbar\":{\"outlinewidth\":0,\"ticks\":\"\"}}}],\"scatterpolar\":[{\"type\":\"scatterpolar\",\"marker\":{\"colorbar\":{\"outlinewidth\":0,\"ticks\":\"\"}}}],\"histogram\":[{\"marker\":{\"pattern\":{\"fillmode\":\"overlay\",\"size\":10,\"solidity\":0.2}},\"type\":\"histogram\"}],\"scattergl\":[{\"marker\":{\"line\":{\"color\":\"#283442\"}},\"type\":\"scattergl\"}],\"scatter3d\":[{\"type\":\"scatter3d\",\"line\":{\"colorbar\":{\"outlinewidth\":0,\"ticks\":\"\"}},\"marker\":{\"colorbar\":{\"outlinewidth\":0,\"ticks\":\"\"}}}],\"scattermapbox\":[{\"type\":\"scattermapbox\",\"marker\":{\"colorbar\":{\"outlinewidth\":0,\"ticks\":\"\"}}}],\"scatterternary\":[{\"type\":\"scatterternary\",\"marker\":{\"colorbar\":{\"outlinewidth\":0,\"ticks\":\"\"}}}],\"scattercarpet\":[{\"type\":\"scattercarpet\",\"marker\":{\"colorbar\":{\"outlinewidth\":0,\"ticks\":\"\"}}}],\"carpet\":[{\"aaxis\":{\"endlinecolor\":\"#A2B1C6\",\"gridcolor\":\"#506784\",\"linecolor\":\"#506784\",\"minorgridcolor\":\"#506784\",\"startlinecolor\":\"#A2B1C6\"},\"baxis\":{\"endlinecolor\":\"#A2B1C6\",\"gridcolor\":\"#506784\",\"linecolor\":\"#506784\",\"minorgridcolor\":\"#506784\",\"startlinecolor\":\"#A2B1C6\"},\"type\":\"carpet\"}],\"table\":[{\"cells\":{\"fill\":{\"color\":\"#506784\"},\"line\":{\"color\":\"rgb(17,17,17)\"}},\"header\":{\"fill\":{\"color\":\"#2a3f5f\"},\"line\":{\"color\":\"rgb(17,17,17)\"}},\"type\":\"table\"}],\"barpolar\":[{\"marker\":{\"line\":{\"color\":\"rgb(17,17,17)\",\"width\":0.5},\"pattern\":{\"fillmode\":\"overlay\",\"size\":10,\"solidity\":0.2}},\"type\":\"barpolar\"}],\"pie\":[{\"automargin\":true,\"type\":\"pie\"}]},\"layout\":{\"autotypenumbers\":\"strict\",\"colorway\":[\"#636efa\",\"#EF553B\",\"#00cc96\",\"#ab63fa\",\"#FFA15A\",\"#19d3f3\",\"#FF6692\",\"#B6E880\",\"#FF97FF\",\"#FECB52\"],\"font\":{\"color\":\"#f2f5fa\"},\"hovermode\":\"closest\",\"hoverlabel\":{\"align\":\"left\"},\"paper_bgcolor\":\"rgb(17,17,17)\",\"plot_bgcolor\":\"rgb(17,17,17)\",\"polar\":{\"bgcolor\":\"rgb(17,17,17)\",\"angularaxis\":{\"gridcolor\":\"#506784\",\"linecolor\":\"#506784\",\"ticks\":\"\"},\"radialaxis\":{\"gridcolor\":\"#506784\",\"linecolor\":\"#506784\",\"ticks\":\"\"}},\"ternary\":{\"bgcolor\":\"rgb(17,17,17)\",\"aaxis\":{\"gridcolor\":\"#506784\",\"linecolor\":\"#506784\",\"ticks\":\"\"},\"baxis\":{\"gridcolor\":\"#506784\",\"linecolor\":\"#506784\",\"ticks\":\"\"},\"caxis\":{\"gridcolor\":\"#506784\",\"linecolor\":\"#506784\",\"ticks\":\"\"}},\"coloraxis\":{\"colorbar\":{\"outlinewidth\":0,\"ticks\":\"\"}},\"colorscale\":{\"sequential\":[[0.0,\"#0d0887\"],[0.1111111111111111,\"#46039f\"],[0.2222222222222222,\"#7201a8\"],[0.3333333333333333,\"#9c179e\"],[0.4444444444444444,\"#bd3786\"],[0.5555555555555556,\"#d8576b\"],[0.6666666666666666,\"#ed7953\"],[0.7777777777777778,\"#fb9f3a\"],[0.8888888888888888,\"#fdca26\"],[1.0,\"#f0f921\"]],\"sequentialminus\":[[0.0,\"#0d0887\"],[0.1111111111111111,\"#46039f\"],[0.2222222222222222,\"#7201a8\"],[0.3333333333333333,\"#9c179e\"],[0.4444444444444444,\"#bd3786\"],[0.5555555555555556,\"#d8576b\"],[0.6666666666666666,\"#ed7953\"],[0.7777777777777778,\"#fb9f3a\"],[0.8888888888888888,\"#fdca26\"],[1.0,\"#f0f921\"]],\"diverging\":[[0,\"#8e0152\"],[0.1,\"#c51b7d\"],[0.2,\"#de77ae\"],[0.3,\"#f1b6da\"],[0.4,\"#fde0ef\"],[0.5,\"#f7f7f7\"],[0.6,\"#e6f5d0\"],[0.7,\"#b8e186\"],[0.8,\"#7fbc41\"],[0.9,\"#4d9221\"],[1,\"#276419\"]]},\"xaxis\":{\"gridcolor\":\"#283442\",\"linecolor\":\"#506784\",\"ticks\":\"\",\"title\":{\"standoff\":15},\"zerolinecolor\":\"#283442\",\"automargin\":true,\"zerolinewidth\":2},\"yaxis\":{\"gridcolor\":\"#283442\",\"linecolor\":\"#506784\",\"ticks\":\"\",\"title\":{\"standoff\":15},\"zerolinecolor\":\"#283442\",\"automargin\":true,\"zerolinewidth\":2},\"scene\":{\"xaxis\":{\"backgroundcolor\":\"rgb(17,17,17)\",\"gridcolor\":\"#506784\",\"linecolor\":\"#506784\",\"showbackground\":true,\"ticks\":\"\",\"zerolinecolor\":\"#C8D4E3\",\"gridwidth\":2},\"yaxis\":{\"backgroundcolor\":\"rgb(17,17,17)\",\"gridcolor\":\"#506784\",\"linecolor\":\"#506784\",\"showbackground\":true,\"ticks\":\"\",\"zerolinecolor\":\"#C8D4E3\",\"gridwidth\":2},\"zaxis\":{\"backgroundcolor\":\"rgb(17,17,17)\",\"gridcolor\":\"#506784\",\"linecolor\":\"#506784\",\"showbackground\":true,\"ticks\":\"\",\"zerolinecolor\":\"#C8D4E3\",\"gridwidth\":2}},\"shapedefaults\":{\"line\":{\"color\":\"#f2f5fa\"}},\"annotationdefaults\":{\"arrowcolor\":\"#f2f5fa\",\"arrowhead\":0,\"arrowwidth\":1},\"geo\":{\"bgcolor\":\"rgb(17,17,17)\",\"landcolor\":\"rgb(17,17,17)\",\"subunitcolor\":\"#506784\",\"showland\":true,\"showlakes\":true,\"lakecolor\":\"rgb(17,17,17)\"},\"title\":{\"x\":0.05},\"updatemenudefaults\":{\"bgcolor\":\"#506784\",\"borderwidth\":0},\"sliderdefaults\":{\"bgcolor\":\"#C8D4E3\",\"borderwidth\":1,\"bordercolor\":\"rgb(17,17,17)\",\"tickwidth\":0},\"mapbox\":{\"style\":\"dark\"}}},\"geo\":{\"domain\":{\"x\":[0.0,1.0],\"y\":[0.0,1.0]},\"projection\":{\"type\":\"miller\"},\"center\":{},\"scope\":\"europe\"},\"coloraxis\":{\"colorbar\":{\"title\":{\"text\":\"index\"},\"x\":0,\"y\":0.5},\"colorscale\":[[0,\"gray\"],[0.01,\"gray\"],[0.01,\"blue\"],[1,\"red\"]],\"cmin\":0,\"cmax\":153.4},\"legend\":{\"tracegroupgap\":0},\"margin\":{\"t\":60},\"title\":{\"text\":\"<b>Volume of passengers relative to GDP in 2012 (2015 base year)</b><br>EU index: 100.9\"},\"width\":1000,\"height\":600},                        {\"responsive\": true}                    ).then(function(){\n                            \nvar gd = document.getElementById('797230d6-239a-4b5b-b96d-3b5bdeaef14a');\nvar x = new MutationObserver(function (mutations, observer) {{\n        var display = window.getComputedStyle(gd).display;\n        if (!display || display === 'none') {{\n            console.log([gd, 'removed!']);\n            Plotly.purge(gd);\n            observer.disconnect();\n        }}\n}});\n\n// Listen for the removal of the full notebook cells\nvar notebookContainer = gd.closest('#notebook-container');\nif (notebookContainer) {{\n    x.observe(notebookContainer, {childList: true});\n}}\n\n// Listen for the clearing of the current output cell\nvar outputEl = gd.closest('.output');\nif (outputEl) {{\n    x.observe(outputEl, {childList: true});\n}}\n\n                        })                };                });            </script>        </div>"
     },
     "metadata": {},
     "output_type": "display_data"
    }
   ],
   "source": [
    "# Read in prepared data set, rename a column and extract the different years\n",
    "df = pd.read_csv(\"Data/pg_GDP_map.csv\")\n",
    "df = df.rename(columns={\"pg_GDP\": \"index\"})\n",
    "years = df.year.unique()\n",
    "\n",
    "# Calculate max value for continuous colour range\n",
    "max_pg_gdp = df['index'].max()\n",
    "\n",
    "# Get year from user and apply to dataset\n",
    "given_year = input(\"Give a year between 2010 and 2021: \")\n",
    "df_new = df.query('year=='+str(given_year))\n",
    "customdata = df_new['country']\n",
    "\n",
    "# Create choropleth figure\n",
    "fig = px.choropleth(df_new, \n",
    "                    locations=\"iso_alpha\",  # Iso-alpha-3 codes to signify which country\n",
    "                    color=\"index\",\n",
    "                    hover_name=\"country\",\n",
    "                    color_continuous_scale=[[0, 'gray'], [0.01, 'gray'], [0.01, 'blue'], [1, 'red']],  # Gray represents countries with no available data.\n",
    "                    projection='miller',\n",
    "                    range_color=(0,max_pg_gdp),\n",
    "                    scope='europe'\n",
    "                    )\n",
    "\n",
    "# Sets hover data\n",
    "fig.update_traces(customdata=customdata, \n",
    "                  hovertemplate= np.select([df_new[\"index\"] == 0], [\"<b>Country: </b> %{customdata}<br><br>No data available\"], \"<b>Country: </b>%{customdata}<br><br><b>Index value: </b>%{z}\"))\n",
    "\n",
    "# Gets value for the entire EU\n",
    "numb = df_new.query('country==\"EU\"')[\"index\"]\n",
    "\n",
    "# Set title and EU index and legend position\n",
    "fig.update_layout(title=\"<b>Volume of passengers relative to GDP in \" + given_year + \" (2015 base year)</b><br>EU index: \" + str(numb.tolist()[0]),\n",
    "                   coloraxis_colorbar=dict(x=0,\n",
    "                                           y=0.5)\n",
    "                  )\n",
    "\n",
    "# Set figure size\n",
    "fig.update_layout(width=1000, \n",
    "                  height=600)\n",
    "\n",
    "fig.show()"
   ],
   "metadata": {
    "collapsed": false,
    "ExecuteTime": {
     "end_time": "2023-10-18T19:04:09.270708400Z",
     "start_time": "2023-10-18T19:04:08.327920200Z"
    }
   },
   "id": "7df3be8663b980e9"
  }
 ],
 "metadata": {
  "kernelspec": {
   "display_name": "Python 3",
   "language": "python",
   "name": "python3"
  },
  "language_info": {
   "codemirror_mode": {
    "name": "ipython",
    "version": 2
   },
   "file_extension": ".py",
   "mimetype": "text/x-python",
   "name": "python",
   "nbconvert_exporter": "python",
   "pygments_lexer": "ipython2",
   "version": "2.7.6"
  }
 },
 "nbformat": 4,
 "nbformat_minor": 5
}
