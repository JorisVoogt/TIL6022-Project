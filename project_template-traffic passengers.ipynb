{
 "cells": [
  {
   "cell_type": "markdown",
   "metadata": {},
   "source": [
    "# Project Group - \n",
    "\n",
    "Members: \n",
    "\n",
    "Student numbers: "
   ]
  },
  {
   "cell_type": "markdown",
   "metadata": {},
   "source": [
    "# Research Objective\n",
    "\n",
    "*Requires data modeling and quantitative research in Transport, Infrastructure & Logistics*"
   ]
  },
  {
   "cell_type": "markdown",
   "metadata": {},
   "source": [
    " 1. Create an interactive map of Europe with standard colors for each country based on The Volume of passenger transport relative to GDP, with color variations representing different levels of the Volume of passenger transport relative to GDP. A gradient color spectrum can be used so that countries with high ratios are shown in darker colors and countries with low ratios are shown in lighter colors. Add a timeline at the bottom or side of the map to represent the time range. Users can drag the timeline or click on different years to see the Volume of passenger transport relative to GDP for each country at different points in time.\n",
    " 2. create grouped bar charts/scatter plots to horizontally compare land passenger transport and train passenger transport for each country in the same year, to understand the preference of different countries between these two modes of transportation and the relative efficiency of the transportation system.\n",
    " 3. create line/stacked-area charts to compare longitudinally the trends in each country's land passenger and train passenger traffic and the Volume of passenger transport relative to GDP over the past few years, and to explore whether there is some correlation between the development of one mode of transportation and the state of the economy.\n",
    " 4. to derive insights into different countries' transport mode choices and transport-economy relationships based on 2 and 3, and to further understand the characteristics and evolutionary trends of land-based passenger transport systems in European countries."
   ]
  },
  {
   "cell_type": "markdown",
   "metadata": {},
   "source": [
    "# Contribution Statement\n",
    "\n",
    "*Be specific. Some of the tasks can be coding (expect everyone to do this), background research, conceptualisation, visualisation, data analysis, data modelling*"
   ]
  },
  {
   "cell_type": "markdown",
   "metadata": {},
   "source": [
    "**Author 1**:\n",
    "\n",
    "**Author 2**:\n",
    "\n",
    "**Author 3**:"
   ]
  },
  {
   "cell_type": "markdown",
   "metadata": {},
   "source": [
    "# Data Used"
   ]
  },
  {
   "cell_type": "markdown",
   "metadata": {},
   "source": [
    "1. Volume of passenger transport relative to GDP：\n",
    " https://ec.europa.eu/eurostat/databrowser/view/TTR00001/default/table?lang=en\n",
    "2. Rail transport of passengers:\n",
    " https://ec.europa.eu/eurostat/databrowser/product/view/TTR00015\n",
    "3. Road transport of passengers：\n",
    " https://ec.europa.eu/eurostat/databrowser/view/ROAD_PA_BUSCOA/default/table?lang=en\n"
   ]
  },
  {
   "cell_type": "markdown",
   "metadata": {},
   "source": [
    "# Data Pipeline"
   ]
  },
  {
   "cell_type": "markdown",
   "metadata": {},
   "source": []
  }
 ],
 "metadata": {
  "kernelspec": {
   "display_name": "Python 3",
   "language": "python",
   "name": "python3"
  },
  "language_info": {
   "name": "python",
   "version": "3.8.2"
  },
  "orig_nbformat": 4,
  "vscode": {
   "interpreter": {
    "hash": "31f2aee4e71d21fbe5cf8b01ff0e069b9275f58929596ceb00d14d90e3e16cd6"
   }
  }
 },
 "nbformat": 4,
 "nbformat_minor": 2
}
